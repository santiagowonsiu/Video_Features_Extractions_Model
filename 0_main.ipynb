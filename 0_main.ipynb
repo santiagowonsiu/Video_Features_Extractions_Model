{
 "cells": [
  {
   "cell_type": "code",
   "execution_count": null,
   "metadata": {},
   "outputs": [],
   "source": [
    "# Run this code to analyse the whole database of videos and process it"
   ]
  },
  {
   "cell_type": "code",
   "execution_count": 1,
   "metadata": {},
   "outputs": [
    {
     "name": "stderr",
     "output_type": "stream",
     "text": [
      "INFO:root:Processing video: Bananas_in_pyjamas.mp4\n",
      "ERROR:pyscenedetect:VideoManager is deprecated and will be removed.\n",
      "INFO:pyscenedetect:Loaded 1 video, framerate: 25.000 FPS, resolution: 640 x 360\n",
      "INFO:pyscenedetect:Downscale factor set to 2, effective resolution: 320 x 180\n",
      "INFO:pyscenedetect:Detecting scenes...\n",
      "INFO:root:Detected 159 scenes:\n",
      "INFO:root:Scene 1: Start 00:00:00.000 / Frame 0, End 00:00:08.360 / Frame 209\n",
      "INFO:root:Scene 2: Start 00:00:08.360 / Frame 209, End 00:00:19.320 / Frame 483\n",
      "INFO:root:Scene 3: Start 00:00:19.320 / Frame 483, End 00:00:24.040 / Frame 601\n",
      "INFO:root:Scene 4: Start 00:00:24.040 / Frame 601, End 00:00:24.800 / Frame 620\n",
      "INFO:root:Scene 5: Start 00:00:24.800 / Frame 620, End 00:00:26.600 / Frame 665\n",
      "INFO:root:Scene 6: Start 00:00:26.600 / Frame 665, End 00:00:28.600 / Frame 715\n",
      "INFO:root:Scene 7: Start 00:00:28.600 / Frame 715, End 00:00:29.960 / Frame 749\n",
      "INFO:root:Scene 8: Start 00:00:29.960 / Frame 749, End 00:00:31.880 / Frame 797\n",
      "INFO:root:Scene 9: Start 00:00:31.880 / Frame 797, End 00:00:35.240 / Frame 881\n",
      "INFO:root:Scene 10: Start 00:00:35.240 / Frame 881, End 00:00:37.920 / Frame 948\n",
      "INFO:root:Scene 11: Start 00:00:37.920 / Frame 948, End 00:00:42.320 / Frame 1058\n",
      "INFO:root:Scene 12: Start 00:00:42.320 / Frame 1058, End 00:00:42.960 / Frame 1074\n",
      "INFO:root:Scene 13: Start 00:00:42.960 / Frame 1074, End 00:00:50.040 / Frame 1251\n",
      "INFO:root:Scene 14: Start 00:00:50.040 / Frame 1251, End 00:00:54.480 / Frame 1362\n",
      "INFO:root:Scene 15: Start 00:00:54.480 / Frame 1362, End 00:00:58.400 / Frame 1460\n",
      "INFO:root:Scene 16: Start 00:00:58.400 / Frame 1460, End 00:01:08.560 / Frame 1714\n",
      "INFO:root:Scene 17: Start 00:01:08.560 / Frame 1714, End 00:01:10.480 / Frame 1762\n",
      "INFO:root:Scene 18: Start 00:01:10.480 / Frame 1762, End 00:01:14.520 / Frame 1863\n",
      "INFO:root:Scene 19: Start 00:01:14.520 / Frame 1863, End 00:01:18.040 / Frame 1951\n",
      "INFO:root:Scene 20: Start 00:01:18.040 / Frame 1951, End 00:01:21.960 / Frame 2049\n",
      "INFO:root:Scene 21: Start 00:01:21.960 / Frame 2049, End 00:01:28.400 / Frame 2210\n",
      "INFO:root:Scene 22: Start 00:01:28.400 / Frame 2210, End 00:01:34.480 / Frame 2362\n",
      "INFO:root:Scene 23: Start 00:01:34.480 / Frame 2362, End 00:01:39.880 / Frame 2497\n",
      "INFO:root:Scene 24: Start 00:01:39.880 / Frame 2497, End 00:01:41.520 / Frame 2538\n",
      "INFO:root:Scene 25: Start 00:01:41.520 / Frame 2538, End 00:01:48.280 / Frame 2707\n",
      "INFO:root:Scene 26: Start 00:01:48.280 / Frame 2707, End 00:01:51.480 / Frame 2787\n",
      "INFO:root:Scene 27: Start 00:01:51.480 / Frame 2787, End 00:01:58.000 / Frame 2950\n",
      "INFO:root:Scene 28: Start 00:01:58.000 / Frame 2950, End 00:02:01.640 / Frame 3041\n",
      "INFO:root:Scene 29: Start 00:02:01.640 / Frame 3041, End 00:02:08.440 / Frame 3211\n",
      "INFO:root:Scene 30: Start 00:02:08.440 / Frame 3211, End 00:02:10.560 / Frame 3264\n",
      "INFO:root:Scene 31: Start 00:02:10.560 / Frame 3264, End 00:02:16.840 / Frame 3421\n",
      "INFO:root:Scene 32: Start 00:02:16.840 / Frame 3421, End 00:02:20.360 / Frame 3509\n",
      "INFO:root:Scene 33: Start 00:02:20.360 / Frame 3509, End 00:02:23.520 / Frame 3588\n",
      "INFO:root:Scene 34: Start 00:02:23.520 / Frame 3588, End 00:02:28.280 / Frame 3707\n",
      "INFO:root:Scene 35: Start 00:02:28.280 / Frame 3707, End 00:02:34.120 / Frame 3853\n",
      "INFO:root:Scene 36: Start 00:02:34.120 / Frame 3853, End 00:02:37.640 / Frame 3941\n",
      "INFO:root:Scene 37: Start 00:02:37.640 / Frame 3941, End 00:02:40.280 / Frame 4007\n",
      "INFO:root:Scene 38: Start 00:02:40.280 / Frame 4007, End 00:02:47.560 / Frame 4189\n",
      "INFO:root:Scene 39: Start 00:02:47.560 / Frame 4189, End 00:02:50.080 / Frame 4252\n",
      "INFO:root:Scene 40: Start 00:02:50.080 / Frame 4252, End 00:02:55.240 / Frame 4381\n",
      "INFO:root:Scene 41: Start 00:02:55.240 / Frame 4381, End 00:02:59.200 / Frame 4480\n",
      "INFO:root:Scene 42: Start 00:02:59.200 / Frame 4480, End 00:03:01.080 / Frame 4527\n",
      "INFO:root:Scene 43: Start 00:03:01.080 / Frame 4527, End 00:03:03.680 / Frame 4592\n",
      "INFO:root:Scene 44: Start 00:03:03.680 / Frame 4592, End 00:03:05.360 / Frame 4634\n",
      "INFO:root:Scene 45: Start 00:03:05.360 / Frame 4634, End 00:03:06.800 / Frame 4670\n",
      "INFO:root:Scene 46: Start 00:03:06.800 / Frame 4670, End 00:03:09.760 / Frame 4744\n",
      "INFO:root:Scene 47: Start 00:03:09.760 / Frame 4744, End 00:03:11.280 / Frame 4782\n",
      "INFO:root:Scene 48: Start 00:03:11.280 / Frame 4782, End 00:03:12.880 / Frame 4822\n",
      "INFO:root:Scene 49: Start 00:03:12.880 / Frame 4822, End 00:03:14.640 / Frame 4866\n",
      "INFO:root:Scene 50: Start 00:03:14.640 / Frame 4866, End 00:03:18.520 / Frame 4963\n",
      "INFO:root:Scene 51: Start 00:03:18.520 / Frame 4963, End 00:03:29.560 / Frame 5239\n",
      "INFO:root:Scene 52: Start 00:03:29.560 / Frame 5239, End 00:03:31.640 / Frame 5291\n",
      "INFO:root:Scene 53: Start 00:03:31.640 / Frame 5291, End 00:03:33.760 / Frame 5344\n",
      "INFO:root:Scene 54: Start 00:03:33.760 / Frame 5344, End 00:03:35.360 / Frame 5384\n",
      "INFO:root:Scene 55: Start 00:03:35.360 / Frame 5384, End 00:03:41.440 / Frame 5536\n",
      "INFO:root:Scene 56: Start 00:03:41.440 / Frame 5536, End 00:03:42.840 / Frame 5571\n",
      "INFO:root:Scene 57: Start 00:03:42.840 / Frame 5571, End 00:03:44.880 / Frame 5622\n",
      "INFO:root:Scene 58: Start 00:03:44.880 / Frame 5622, End 00:03:50.080 / Frame 5752\n",
      "INFO:root:Scene 59: Start 00:03:50.080 / Frame 5752, End 00:03:52.080 / Frame 5802\n",
      "INFO:root:Scene 60: Start 00:03:52.080 / Frame 5802, End 00:03:57.000 / Frame 5925\n",
      "INFO:root:Scene 61: Start 00:03:57.000 / Frame 5925, End 00:04:04.120 / Frame 6103\n",
      "INFO:root:Scene 62: Start 00:04:04.120 / Frame 6103, End 00:04:06.880 / Frame 6172\n",
      "INFO:root:Scene 63: Start 00:04:06.880 / Frame 6172, End 00:04:08.840 / Frame 6221\n",
      "INFO:root:Scene 64: Start 00:04:08.840 / Frame 6221, End 00:04:12.880 / Frame 6322\n",
      "INFO:root:Scene 65: Start 00:04:12.880 / Frame 6322, End 00:04:16.360 / Frame 6409\n",
      "INFO:root:Scene 66: Start 00:04:16.360 / Frame 6409, End 00:04:19.000 / Frame 6475\n",
      "INFO:root:Scene 67: Start 00:04:19.000 / Frame 6475, End 00:04:23.040 / Frame 6576\n",
      "INFO:root:Scene 68: Start 00:04:23.040 / Frame 6576, End 00:04:25.440 / Frame 6636\n",
      "INFO:root:Scene 69: Start 00:04:25.440 / Frame 6636, End 00:04:31.120 / Frame 6778\n",
      "INFO:root:Scene 70: Start 00:04:31.120 / Frame 6778, End 00:04:37.880 / Frame 6947\n",
      "INFO:root:Scene 71: Start 00:04:37.880 / Frame 6947, End 00:04:41.880 / Frame 7047\n",
      "INFO:root:Scene 72: Start 00:04:41.880 / Frame 7047, End 00:04:45.240 / Frame 7131\n",
      "INFO:root:Scene 73: Start 00:04:45.240 / Frame 7131, End 00:04:49.640 / Frame 7241\n",
      "INFO:root:Scene 74: Start 00:04:49.640 / Frame 7241, End 00:04:54.840 / Frame 7371\n",
      "INFO:root:Scene 75: Start 00:04:54.840 / Frame 7371, End 00:04:58.240 / Frame 7456\n",
      "INFO:root:Scene 76: Start 00:04:58.240 / Frame 7456, End 00:05:00.600 / Frame 7515\n",
      "INFO:root:Scene 77: Start 00:05:00.600 / Frame 7515, End 00:05:16.600 / Frame 7915\n",
      "INFO:root:Scene 78: Start 00:05:16.600 / Frame 7915, End 00:05:24.520 / Frame 8113\n",
      "INFO:root:Scene 79: Start 00:05:24.520 / Frame 8113, End 00:05:26.360 / Frame 8159\n",
      "INFO:root:Scene 80: Start 00:05:26.360 / Frame 8159, End 00:05:34.880 / Frame 8372\n",
      "INFO:root:Scene 81: Start 00:05:34.880 / Frame 8372, End 00:05:44.920 / Frame 8623\n",
      "INFO:root:Scene 82: Start 00:05:44.920 / Frame 8623, End 00:05:46.040 / Frame 8651\n",
      "INFO:root:Scene 83: Start 00:05:46.040 / Frame 8651, End 00:05:47.800 / Frame 8695\n",
      "INFO:root:Scene 84: Start 00:05:47.800 / Frame 8695, End 00:05:51.840 / Frame 8796\n",
      "INFO:root:Scene 85: Start 00:05:51.840 / Frame 8796, End 00:05:53.880 / Frame 8847\n",
      "INFO:root:Scene 86: Start 00:05:53.880 / Frame 8847, End 00:05:57.000 / Frame 8925\n",
      "INFO:root:Scene 87: Start 00:05:57.000 / Frame 8925, End 00:05:59.200 / Frame 8980\n",
      "INFO:root:Scene 88: Start 00:05:59.200 / Frame 8980, End 00:06:01.880 / Frame 9047\n",
      "INFO:root:Scene 89: Start 00:06:01.880 / Frame 9047, End 00:06:10.520 / Frame 9263\n",
      "INFO:root:Scene 90: Start 00:06:10.520 / Frame 9263, End 00:06:11.680 / Frame 9292\n",
      "INFO:root:Scene 91: Start 00:06:11.680 / Frame 9292, End 00:06:19.600 / Frame 9490\n",
      "INFO:root:Scene 92: Start 00:06:19.600 / Frame 9490, End 00:06:22.760 / Frame 9569\n",
      "INFO:root:Scene 93: Start 00:06:22.760 / Frame 9569, End 00:06:28.000 / Frame 9700\n",
      "INFO:root:Scene 94: Start 00:06:28.000 / Frame 9700, End 00:06:30.640 / Frame 9766\n",
      "INFO:root:Scene 95: Start 00:06:30.640 / Frame 9766, End 00:06:40.280 / Frame 10007\n",
      "INFO:root:Scene 96: Start 00:06:40.280 / Frame 10007, End 00:06:43.400 / Frame 10085\n",
      "INFO:root:Scene 97: Start 00:06:43.400 / Frame 10085, End 00:06:52.440 / Frame 10311\n",
      "INFO:root:Scene 98: Start 00:06:52.440 / Frame 10311, End 00:06:55.560 / Frame 10389\n",
      "INFO:root:Scene 99: Start 00:06:55.560 / Frame 10389, End 00:06:56.360 / Frame 10409\n",
      "INFO:root:Scene 100: Start 00:06:56.360 / Frame 10409, End 00:06:58.680 / Frame 10467\n",
      "INFO:root:Scene 101: Start 00:06:58.680 / Frame 10467, End 00:07:00.720 / Frame 10518\n",
      "INFO:root:Scene 102: Start 00:07:00.720 / Frame 10518, End 00:07:02.240 / Frame 10556\n",
      "INFO:root:Scene 103: Start 00:07:02.240 / Frame 10556, End 00:07:07.040 / Frame 10676\n",
      "INFO:root:Scene 104: Start 00:07:07.040 / Frame 10676, End 00:07:09.720 / Frame 10743\n",
      "INFO:root:Scene 105: Start 00:07:09.720 / Frame 10743, End 00:07:12.040 / Frame 10801\n",
      "INFO:root:Scene 106: Start 00:07:12.040 / Frame 10801, End 00:07:21.680 / Frame 11042\n",
      "INFO:root:Scene 107: Start 00:07:21.680 / Frame 11042, End 00:07:25.080 / Frame 11127\n",
      "INFO:root:Scene 108: Start 00:07:25.080 / Frame 11127, End 00:07:29.200 / Frame 11230\n",
      "INFO:root:Scene 109: Start 00:07:29.200 / Frame 11230, End 00:07:36.840 / Frame 11421\n",
      "INFO:root:Scene 110: Start 00:07:36.840 / Frame 11421, End 00:07:39.840 / Frame 11496\n",
      "INFO:root:Scene 111: Start 00:07:39.840 / Frame 11496, End 00:07:46.720 / Frame 11668\n",
      "INFO:root:Scene 112: Start 00:07:46.720 / Frame 11668, End 00:07:49.480 / Frame 11737\n",
      "INFO:root:Scene 113: Start 00:07:49.480 / Frame 11737, End 00:07:55.400 / Frame 11885\n",
      "INFO:root:Scene 114: Start 00:07:55.400 / Frame 11885, End 00:08:13.640 / Frame 12341\n",
      "INFO:root:Scene 115: Start 00:08:13.640 / Frame 12341, End 00:08:16.960 / Frame 12424\n",
      "INFO:root:Scene 116: Start 00:08:16.960 / Frame 12424, End 00:08:21.880 / Frame 12547\n",
      "INFO:root:Scene 117: Start 00:08:21.880 / Frame 12547, End 00:08:24.840 / Frame 12621\n",
      "INFO:root:Scene 118: Start 00:08:24.840 / Frame 12621, End 00:08:36.600 / Frame 12915\n",
      "INFO:root:Scene 119: Start 00:08:36.600 / Frame 12915, End 00:08:38.240 / Frame 12956\n",
      "INFO:root:Scene 120: Start 00:08:38.240 / Frame 12956, End 00:08:41.640 / Frame 13041\n",
      "INFO:root:Scene 121: Start 00:08:41.640 / Frame 13041, End 00:08:46.240 / Frame 13156\n",
      "INFO:root:Scene 122: Start 00:08:46.240 / Frame 13156, End 00:08:52.960 / Frame 13324\n",
      "INFO:root:Scene 123: Start 00:08:52.960 / Frame 13324, End 00:08:58.840 / Frame 13471\n",
      "INFO:root:Scene 124: Start 00:08:58.840 / Frame 13471, End 00:09:03.960 / Frame 13599\n",
      "INFO:root:Scene 125: Start 00:09:03.960 / Frame 13599, End 00:09:05.000 / Frame 13625\n",
      "INFO:root:Scene 126: Start 00:09:05.000 / Frame 13625, End 00:09:08.240 / Frame 13706\n",
      "INFO:root:Scene 127: Start 00:09:08.240 / Frame 13706, End 00:09:11.520 / Frame 13788\n",
      "INFO:root:Scene 128: Start 00:09:11.520 / Frame 13788, End 00:09:21.000 / Frame 14025\n",
      "INFO:root:Scene 129: Start 00:09:21.000 / Frame 14025, End 00:09:23.280 / Frame 14082\n",
      "INFO:root:Scene 130: Start 00:09:23.280 / Frame 14082, End 00:09:26.440 / Frame 14161\n",
      "INFO:root:Scene 131: Start 00:09:26.440 / Frame 14161, End 00:09:27.960 / Frame 14199\n",
      "INFO:root:Scene 132: Start 00:09:27.960 / Frame 14199, End 00:09:37.160 / Frame 14429\n",
      "INFO:root:Scene 133: Start 00:09:37.160 / Frame 14429, End 00:09:40.680 / Frame 14517\n",
      "INFO:root:Scene 134: Start 00:09:40.680 / Frame 14517, End 00:09:43.400 / Frame 14585\n",
      "INFO:root:Scene 135: Start 00:09:43.400 / Frame 14585, End 00:09:48.840 / Frame 14721\n",
      "INFO:root:Scene 136: Start 00:09:48.840 / Frame 14721, End 00:09:49.800 / Frame 14745\n",
      "INFO:root:Scene 137: Start 00:09:49.800 / Frame 14745, End 00:09:56.920 / Frame 14923\n",
      "INFO:root:Scene 138: Start 00:09:56.920 / Frame 14923, End 00:09:58.840 / Frame 14971\n",
      "INFO:root:Scene 139: Start 00:09:58.840 / Frame 14971, End 00:10:01.880 / Frame 15047\n",
      "INFO:root:Scene 140: Start 00:10:01.880 / Frame 15047, End 00:10:03.120 / Frame 15078\n",
      "INFO:root:Scene 141: Start 00:10:03.120 / Frame 15078, End 00:10:05.240 / Frame 15131\n",
      "INFO:root:Scene 142: Start 00:10:05.240 / Frame 15131, End 00:10:09.760 / Frame 15244\n",
      "INFO:root:Scene 143: Start 00:10:09.760 / Frame 15244, End 00:10:15.600 / Frame 15390\n",
      "INFO:root:Scene 144: Start 00:10:15.600 / Frame 15390, End 00:10:22.240 / Frame 15556\n",
      "INFO:root:Scene 145: Start 00:10:22.240 / Frame 15556, End 00:10:30.800 / Frame 15770\n",
      "INFO:root:Scene 146: Start 00:10:30.800 / Frame 15770, End 00:10:33.840 / Frame 15846\n",
      "INFO:root:Scene 147: Start 00:10:33.840 / Frame 15846, End 00:10:42.600 / Frame 16065\n",
      "INFO:root:Scene 148: Start 00:10:42.600 / Frame 16065, End 00:10:44.240 / Frame 16106\n",
      "INFO:root:Scene 149: Start 00:10:44.240 / Frame 16106, End 00:10:46.440 / Frame 16161\n",
      "INFO:root:Scene 150: Start 00:10:46.440 / Frame 16161, End 00:10:47.160 / Frame 16179\n",
      "INFO:root:Scene 151: Start 00:10:47.160 / Frame 16179, End 00:10:52.320 / Frame 16308\n",
      "INFO:root:Scene 152: Start 00:10:52.320 / Frame 16308, End 00:10:53.600 / Frame 16340\n",
      "INFO:root:Scene 153: Start 00:10:53.600 / Frame 16340, End 00:10:54.960 / Frame 16374\n",
      "INFO:root:Scene 154: Start 00:10:54.960 / Frame 16374, End 00:10:56.240 / Frame 16406\n",
      "INFO:root:Scene 155: Start 00:10:56.240 / Frame 16406, End 00:11:02.360 / Frame 16559\n",
      "INFO:root:Scene 156: Start 00:11:02.360 / Frame 16559, End 00:11:06.960 / Frame 16674\n",
      "INFO:root:Scene 157: Start 00:11:06.960 / Frame 16674, End 00:11:08.800 / Frame 16720\n",
      "INFO:root:Scene 158: Start 00:11:08.800 / Frame 16720, End 00:11:20.000 / Frame 17000\n",
      "INFO:root:Scene 159: Start 00:11:20.000 / Frame 17000, End 00:11:20.360 / Frame 17009\n",
      "ERROR:root:Failed to extract frame 104: generator already executing\n",
      "ERROR:root:Failed to extract frame 209: generator already executing\n",
      "ERROR:root:Failed to extract frame 346: generator already executing\n",
      "ERROR:root:Failed to extract frame 483: generator already executing\n",
      "ERROR:root:Failed to extract frame 542: generator already executing\n",
      "ERROR:root:Failed to extract frame 601: generator already executing\n",
      "ERROR:root:Failed to extract frame 610: generator already executing\n",
      "ERROR:root:Failed to extract frame 620: generator already executing\n",
      "ERROR:root:Failed to extract frame 642: generator already executing\n",
      "ERROR:root:Failed to extract frame 665: generator already executing\n",
      "ERROR:root:Failed to extract frame 690: generator already executing\n",
      "ERROR:root:Failed to extract frame 715: generator already executing\n",
      "ERROR:root:Failed to extract frame 732: generator already executing\n",
      "ERROR:root:Failed to extract frame 749: generator already executing\n",
      "ERROR:root:Failed to extract frame 773: generator already executing\n",
      "ERROR:root:Failed to extract frame 797: generator already executing\n",
      "ERROR:root:Failed to extract frame 839: generator already executing\n",
      "ERROR:root:Failed to extract frame 881: generator already executing\n",
      "ERROR:root:Failed to extract frame 914: generator already executing\n",
      "ERROR:root:Failed to extract frame 948: generator already executing\n",
      "ERROR:root:Failed to extract frame 1003: generator already executing\n",
      "ERROR:root:Failed to extract frame 1058: generator already executing\n",
      "ERROR:root:Failed to extract frame 1066: generator already executing\n",
      "ERROR:root:Failed to extract frame 1074: generator already executing\n",
      "ERROR:root:Failed to extract frame 1162: generator already executing\n",
      "ERROR:root:Failed to extract frame 1251: generator already executing\n",
      "ERROR:root:Failed to extract frame 1306: generator already executing\n",
      "ERROR:root:Failed to extract frame 1362: generator already executing\n",
      "ERROR:root:Failed to extract frame 1411: generator already executing\n",
      "ERROR:root:Failed to extract frame 1460: generator already executing\n",
      "ERROR:root:Failed to extract frame 1587: generator already executing\n",
      "ERROR:root:Failed to extract frame 1714: generator already executing\n",
      "ERROR:root:Failed to extract frame 1738: generator already executing\n",
      "ERROR:root:Failed to extract frame 1762: generator already executing\n",
      "ERROR:root:Failed to extract frame 1812: generator already executing\n",
      "ERROR:root:Failed to extract frame 1863: generator already executing\n",
      "ERROR:root:Failed to extract frame 1907: generator already executing\n",
      "ERROR:root:Failed to extract frame 1951: generator already executing\n",
      "ERROR:root:Failed to extract frame 2000: generator already executing\n",
      "ERROR:root:Failed to extract frame 2049: generator already executing\n",
      "ERROR:root:Failed to extract frame 2129: generator already executing\n",
      "ERROR:root:Failed to extract frame 2210: generator already executing\n",
      "ERROR:root:Failed to extract frame 2286: generator already executing\n",
      "ERROR:root:Failed to extract frame 2362: generator already executing\n",
      "ERROR:root:Failed to extract frame 2429: generator already executing\n",
      "ERROR:root:Failed to extract frame 2497: generator already executing\n",
      "ERROR:root:Failed to extract frame 2517: generator already executing\n",
      "ERROR:root:Failed to extract frame 2538: generator already executing\n",
      "ERROR:root:Failed to extract frame 2622: generator already executing\n",
      "ERROR:root:Failed to extract frame 2707: generator already executing\n",
      "ERROR:root:Failed to extract frame 2747: generator already executing\n",
      "ERROR:root:Failed to extract frame 2787: generator already executing\n",
      "ERROR:root:Failed to extract frame 2868: generator already executing\n",
      "ERROR:root:Failed to extract frame 2950: generator already executing\n",
      "ERROR:root:Failed to extract frame 2995: generator already executing\n",
      "ERROR:root:Failed to extract frame 3041: generator already executing\n",
      "ERROR:root:Failed to extract frame 3126: generator already executing\n",
      "ERROR:root:Failed to extract frame 3211: generator already executing\n",
      "ERROR:root:Failed to extract frame 3237: generator already executing\n",
      "ERROR:root:Failed to extract frame 3264: generator already executing\n",
      "ERROR:root:Failed to extract frame 3342: generator already executing\n",
      "ERROR:root:Failed to extract frame 3421: generator already executing\n",
      "ERROR:root:Failed to extract frame 3465: generator already executing\n",
      "ERROR:root:Failed to extract frame 3509: generator already executing\n",
      "ERROR:root:Failed to extract frame 3548: generator already executing\n",
      "ERROR:root:Failed to extract frame 3588: generator already executing\n",
      "ERROR:root:Failed to extract frame 3647: generator already executing\n",
      "ERROR:root:Failed to extract frame 3707: generator already executing\n",
      "ERROR:root:Failed to extract frame 3780: generator already executing\n",
      "ERROR:root:Failed to extract frame 3853: generator already executing\n",
      "ERROR:root:Failed to extract frame 3897: generator already executing\n",
      "ERROR:root:Failed to extract frame 3941: generator already executing\n",
      "ERROR:root:Failed to extract frame 3974: generator already executing\n",
      "ERROR:root:Failed to extract frame 4007: generator already executing\n",
      "ERROR:root:Failed to extract frame 4098: generator already executing\n",
      "ERROR:root:Failed to extract frame 4189: generator already executing\n",
      "ERROR:root:Failed to extract frame 4220: generator already executing\n",
      "ERROR:root:Failed to extract frame 4252: generator already executing\n",
      "ERROR:root:Failed to extract frame 4316: generator already executing\n",
      "ERROR:root:Failed to extract frame 4381: generator already executing\n",
      "ERROR:root:Failed to extract frame 4430: generator already executing\n",
      "ERROR:root:Failed to extract frame 4480: generator already executing\n",
      "ERROR:root:Failed to extract frame 4503: generator already executing\n",
      "ERROR:root:Failed to extract frame 4527: generator already executing\n",
      "ERROR:root:Failed to extract frame 4559: generator already executing\n",
      "ERROR:root:Failed to extract frame 4592: generator already executing\n",
      "ERROR:root:Failed to extract frame 4613: generator already executing\n",
      "ERROR:root:Failed to extract frame 4634: generator already executing\n",
      "ERROR:root:Failed to extract frame 4652: generator already executing\n",
      "ERROR:root:Failed to extract frame 4670: generator already executing\n",
      "ERROR:root:Failed to extract frame 4707: generator already executing\n",
      "ERROR:root:Failed to extract frame 4744: generator already executing\n",
      "ERROR:root:Failed to extract frame 4763: generator already executing\n",
      "ERROR:root:Failed to extract frame 4782: generator already executing\n",
      "ERROR:root:Failed to extract frame 4802: generator already executing\n",
      "ERROR:root:Failed to extract frame 4822: generator already executing\n",
      "ERROR:root:Failed to extract frame 4844: generator already executing\n",
      "ERROR:root:Failed to extract frame 4866: generator already executing\n",
      "ERROR:root:Failed to extract frame 4914: generator already executing\n",
      "ERROR:root:Failed to extract frame 4963: generator already executing\n",
      "ERROR:root:Failed to extract frame 5101: generator already executing\n",
      "ERROR:root:Failed to extract frame 5239: generator already executing\n",
      "ERROR:root:Failed to extract frame 5265: generator already executing\n",
      "ERROR:root:Failed to extract frame 5291: generator already executing\n",
      "ERROR:root:Failed to extract frame 5317: generator already executing\n",
      "ERROR:root:Failed to extract frame 5344: generator already executing\n",
      "ERROR:root:Failed to extract frame 5364: generator already executing\n",
      "ERROR:root:Failed to extract frame 5384: generator already executing\n",
      "ERROR:root:Failed to extract frame 5460: generator already executing\n",
      "ERROR:root:Failed to extract frame 5536: generator already executing\n",
      "ERROR:root:Failed to extract frame 5553: generator already executing\n",
      "ERROR:root:Failed to extract frame 5571: generator already executing\n",
      "ERROR:root:Failed to extract frame 5596: generator already executing\n",
      "ERROR:root:Failed to extract frame 5622: generator already executing\n",
      "ERROR:root:Failed to extract frame 5687: generator already executing\n",
      "ERROR:root:Failed to extract frame 5752: generator already executing\n",
      "ERROR:root:Failed to extract frame 5777: generator already executing\n",
      "ERROR:root:Failed to extract frame 5802: generator already executing\n",
      "ERROR:root:Failed to extract frame 5863: generator already executing\n",
      "ERROR:root:Failed to extract frame 5925: generator already executing\n",
      "ERROR:root:Failed to extract frame 6014: generator already executing\n",
      "ERROR:root:Failed to extract frame 6103: generator already executing\n",
      "ERROR:root:Failed to extract frame 6137: generator already executing\n",
      "ERROR:root:Failed to extract frame 6172: generator already executing\n",
      "ERROR:root:Failed to extract frame 6196: generator already executing\n",
      "ERROR:root:Failed to extract frame 6221: generator already executing\n",
      "ERROR:root:Failed to extract frame 6271: generator already executing\n",
      "ERROR:root:Failed to extract frame 6322: generator already executing\n",
      "ERROR:root:Failed to extract frame 6365: generator already executing\n",
      "ERROR:root:Failed to extract frame 6409: generator already executing\n",
      "ERROR:root:Failed to extract frame 6442: generator already executing\n",
      "ERROR:root:Failed to extract frame 6475: generator already executing\n",
      "ERROR:root:Failed to extract frame 6525: generator already executing\n",
      "ERROR:root:Failed to extract frame 6576: generator already executing\n",
      "ERROR:root:Failed to extract frame 6606: generator already executing\n",
      "ERROR:root:Failed to extract frame 6636: generator already executing\n",
      "ERROR:root:Failed to extract frame 6707: generator already executing\n",
      "ERROR:root:Failed to extract frame 6778: generator already executing\n",
      "ERROR:root:Failed to extract frame 6862: generator already executing\n",
      "ERROR:root:Failed to extract frame 6947: generator already executing\n",
      "ERROR:root:Failed to extract frame 6997: generator already executing\n",
      "ERROR:root:Failed to extract frame 7047: generator already executing\n",
      "ERROR:root:Failed to extract frame 7089: generator already executing\n",
      "ERROR:root:Failed to extract frame 7131: generator already executing\n",
      "ERROR:root:Failed to extract frame 7186: generator already executing\n",
      "ERROR:root:Failed to extract frame 7241: generator already executing\n",
      "ERROR:root:Failed to extract frame 7306: generator already executing\n",
      "ERROR:root:Failed to extract frame 7371: generator already executing\n",
      "ERROR:root:Failed to extract frame 7413: generator already executing\n",
      "ERROR:root:Failed to extract frame 7456: generator already executing\n",
      "ERROR:root:Failed to extract frame 7485: generator already executing\n",
      "ERROR:root:Failed to extract frame 7515: generator already executing\n",
      "ERROR:root:Failed to extract frame 7715: generator already executing\n",
      "ERROR:root:Failed to extract frame 7915: generator already executing\n",
      "ERROR:root:Failed to extract frame 8014: generator already executing\n",
      "ERROR:root:Failed to extract frame 8113: generator already executing\n",
      "ERROR:root:Failed to extract frame 8136: generator already executing\n",
      "ERROR:root:Failed to extract frame 8159: generator already executing\n",
      "ERROR:root:Failed to extract frame 8265: generator already executing\n",
      "ERROR:root:Failed to extract frame 8372: generator already executing\n",
      "ERROR:root:Failed to extract frame 8497: generator already executing\n",
      "ERROR:root:Failed to extract frame 8623: generator already executing\n",
      "ERROR:root:Failed to extract frame 8637: generator already executing\n",
      "ERROR:root:Failed to extract frame 8651: generator already executing\n",
      "ERROR:root:Failed to extract frame 8673: generator already executing\n",
      "ERROR:root:Failed to extract frame 8695: generator already executing\n",
      "ERROR:root:Failed to extract frame 8745: generator already executing\n",
      "ERROR:root:Failed to extract frame 8796: generator already executing\n",
      "ERROR:root:Failed to extract frame 8821: generator already executing\n",
      "ERROR:root:Failed to extract frame 8847: generator already executing\n",
      "ERROR:root:Failed to extract frame 8886: generator already executing\n",
      "ERROR:root:Failed to extract frame 8925: generator already executing\n",
      "ERROR:root:Failed to extract frame 8952: generator already executing\n",
      "ERROR:root:Failed to extract frame 8980: generator already executing\n",
      "ERROR:root:Failed to extract frame 9013: generator already executing\n",
      "ERROR:root:Failed to extract frame 9047: generator already executing\n",
      "ERROR:root:Failed to extract frame 9155: generator already executing\n",
      "ERROR:root:Failed to extract frame 9263: generator already executing\n",
      "ERROR:root:Failed to extract frame 9277: generator already executing\n",
      "ERROR:root:Failed to extract frame 9292: generator already executing\n",
      "ERROR:root:Failed to extract frame 9391: generator already executing\n",
      "ERROR:root:Failed to extract frame 9490: generator already executing\n",
      "ERROR:root:Failed to extract frame 9529: generator already executing\n",
      "ERROR:root:Failed to extract frame 9569: generator already executing\n",
      "ERROR:root:Failed to extract frame 9634: generator already executing\n",
      "ERROR:root:Failed to extract frame 9700: generator already executing\n",
      "ERROR:root:Failed to extract frame 9733: generator already executing\n",
      "ERROR:root:Failed to extract frame 9766: generator already executing\n",
      "ERROR:root:Failed to extract frame 9886: generator already executing\n",
      "ERROR:root:Failed to extract frame 10007: generator already executing\n",
      "ERROR:root:Failed to extract frame 10046: generator already executing\n",
      "ERROR:root:Failed to extract frame 10085: generator already executing\n",
      "ERROR:root:Failed to extract frame 10198: generator already executing\n",
      "ERROR:root:Failed to extract frame 10311: generator already executing\n",
      "ERROR:root:Failed to extract frame 10350: generator already executing\n",
      "ERROR:root:Failed to extract frame 10389: generator already executing\n",
      "ERROR:root:Failed to extract frame 10399: generator already executing\n",
      "ERROR:root:Failed to extract frame 10409: generator already executing\n",
      "ERROR:root:Failed to extract frame 10438: generator already executing\n",
      "ERROR:root:Failed to extract frame 10467: generator already executing\n",
      "ERROR:root:Failed to extract frame 10492: generator already executing\n",
      "ERROR:root:Failed to extract frame 10518: generator already executing\n",
      "ERROR:root:Failed to extract frame 10537: generator already executing\n",
      "ERROR:root:Failed to extract frame 10556: generator already executing\n",
      "ERROR:root:Failed to extract frame 10616: generator already executing\n",
      "ERROR:root:Failed to extract frame 10676: generator already executing\n",
      "ERROR:root:Failed to extract frame 10709: generator already executing\n",
      "ERROR:root:Failed to extract frame 10743: generator already executing\n",
      "ERROR:root:Failed to extract frame 10772: generator already executing\n",
      "ERROR:root:Failed to extract frame 10801: generator already executing\n",
      "ERROR:root:Failed to extract frame 10921: generator already executing\n",
      "ERROR:root:Failed to extract frame 11042: generator already executing\n",
      "ERROR:root:Failed to extract frame 11084: generator already executing\n",
      "ERROR:root:Failed to extract frame 11127: generator already executing\n",
      "ERROR:root:Failed to extract frame 11178: generator already executing\n",
      "ERROR:root:Failed to extract frame 11230: generator already executing\n",
      "ERROR:root:Failed to extract frame 11325: generator already executing\n",
      "ERROR:root:Failed to extract frame 11421: generator already executing\n",
      "ERROR:root:Failed to extract frame 11458: generator already executing\n",
      "ERROR:root:Failed to extract frame 11496: generator already executing\n",
      "ERROR:root:Failed to extract frame 11582: generator already executing\n",
      "ERROR:root:Failed to extract frame 11668: generator already executing\n",
      "ERROR:root:Failed to extract frame 11702: generator already executing\n",
      "ERROR:root:Failed to extract frame 11737: generator already executing\n",
      "ERROR:root:Failed to extract frame 11811: generator already executing\n",
      "ERROR:root:Failed to extract frame 11885: generator already executing\n",
      "ERROR:root:Failed to extract frame 12113: generator already executing\n",
      "ERROR:root:Failed to extract frame 12341: generator already executing\n",
      "ERROR:root:Failed to extract frame 12382: generator already executing\n",
      "ERROR:root:Failed to extract frame 12424: generator already executing\n",
      "ERROR:root:Failed to extract frame 12485: generator already executing\n",
      "ERROR:root:Failed to extract frame 12547: generator already executing\n",
      "ERROR:root:Failed to extract frame 12584: generator already executing\n",
      "ERROR:root:Failed to extract frame 12621: generator already executing\n",
      "ERROR:root:Failed to extract frame 12768: generator already executing\n",
      "ERROR:root:Failed to extract frame 12915: generator already executing\n",
      "ERROR:root:Failed to extract frame 12935: generator already executing\n",
      "ERROR:root:Failed to extract frame 12956: generator already executing\n",
      "ERROR:root:Failed to extract frame 12998: generator already executing\n",
      "ERROR:root:Failed to extract frame 13041: generator already executing\n",
      "ERROR:root:Failed to extract frame 13098: generator already executing\n",
      "ERROR:root:Failed to extract frame 13156: generator already executing\n",
      "ERROR:root:Failed to extract frame 13240: generator already executing\n",
      "ERROR:root:Failed to extract frame 13324: generator already executing\n",
      "ERROR:root:Failed to extract frame 13397: generator already executing\n",
      "ERROR:root:Failed to extract frame 13471: generator already executing\n",
      "ERROR:root:Failed to extract frame 13535: generator already executing\n",
      "ERROR:root:Failed to extract frame 13599: generator already executing\n",
      "ERROR:root:Failed to extract frame 13612: generator already executing\n",
      "ERROR:root:Failed to extract frame 13625: generator already executing\n",
      "ERROR:root:Failed to extract frame 13665: generator already executing\n",
      "ERROR:root:Failed to extract frame 13706: generator already executing\n",
      "ERROR:root:Failed to extract frame 13747: generator already executing\n",
      "ERROR:root:Failed to extract frame 13788: generator already executing\n",
      "ERROR:root:Failed to extract frame 13906: generator already executing\n",
      "ERROR:root:Failed to extract frame 14025: generator already executing\n",
      "ERROR:root:Failed to extract frame 14053: generator already executing\n",
      "ERROR:root:Failed to extract frame 14082: generator already executing\n",
      "ERROR:root:Failed to extract frame 14121: generator already executing\n",
      "ERROR:root:Failed to extract frame 14161: generator already executing\n",
      "ERROR:root:Failed to extract frame 14180: generator already executing\n",
      "ERROR:root:Failed to extract frame 14199: generator already executing\n",
      "ERROR:root:Failed to extract frame 14314: generator already executing\n",
      "ERROR:root:Failed to extract frame 14429: generator already executing\n",
      "ERROR:root:Failed to extract frame 14473: generator already executing\n",
      "ERROR:root:Failed to extract frame 14517: generator already executing\n",
      "ERROR:root:Failed to extract frame 14551: generator already executing\n",
      "ERROR:root:Failed to extract frame 14585: generator already executing\n",
      "ERROR:root:Failed to extract frame 14653: generator already executing\n",
      "ERROR:root:Failed to extract frame 14721: generator already executing\n",
      "ERROR:root:Failed to extract frame 14733: generator already executing\n",
      "ERROR:root:Failed to extract frame 14745: generator already executing\n",
      "ERROR:root:Failed to extract frame 14834: generator already executing\n",
      "ERROR:root:Failed to extract frame 14923: generator already executing\n",
      "ERROR:root:Failed to extract frame 14947: generator already executing\n",
      "ERROR:root:Failed to extract frame 14971: generator already executing\n",
      "ERROR:root:Failed to extract frame 15009: generator already executing\n",
      "ERROR:root:Failed to extract frame 15047: generator already executing\n",
      "ERROR:root:Failed to extract frame 15062: generator already executing\n",
      "ERROR:root:Failed to extract frame 15078: generator already executing\n",
      "ERROR:root:Failed to extract frame 15104: generator already executing\n",
      "ERROR:root:Failed to extract frame 15131: generator already executing\n",
      "ERROR:root:Failed to extract frame 15187: generator already executing\n",
      "ERROR:root:Failed to extract frame 15244: generator already executing\n",
      "ERROR:root:Failed to extract frame 15317: generator already executing\n",
      "ERROR:root:Failed to extract frame 15390: generator already executing\n",
      "ERROR:root:Failed to extract frame 15473: generator already executing\n",
      "ERROR:root:Failed to extract frame 15556: generator already executing\n",
      "ERROR:root:Failed to extract frame 15663: generator already executing\n",
      "ERROR:root:Failed to extract frame 15770: generator already executing\n",
      "ERROR:root:Failed to extract frame 15808: generator already executing\n",
      "ERROR:root:Failed to extract frame 15846: generator already executing\n",
      "ERROR:root:Failed to extract frame 15955: generator already executing\n",
      "ERROR:root:Failed to extract frame 16065: generator already executing\n",
      "ERROR:root:Failed to extract frame 16085: generator already executing\n",
      "ERROR:root:Failed to extract frame 16106: generator already executing\n",
      "ERROR:root:Failed to extract frame 16133: generator already executing\n",
      "ERROR:root:Failed to extract frame 16161: generator already executing\n",
      "ERROR:root:Failed to extract frame 16170: generator already executing\n",
      "ERROR:root:Failed to extract frame 16179: generator already executing\n",
      "ERROR:root:Failed to extract frame 16243: generator already executing\n",
      "ERROR:root:Failed to extract frame 16308: generator already executing\n",
      "ERROR:root:Failed to extract frame 16324: generator already executing\n",
      "ERROR:root:Failed to extract frame 16340: generator already executing\n",
      "ERROR:root:Failed to extract frame 16357: generator already executing\n",
      "ERROR:root:Failed to extract frame 16374: generator already executing\n",
      "ERROR:root:Failed to extract frame 16390: generator already executing\n",
      "ERROR:root:Failed to extract frame 16406: generator already executing\n",
      "ERROR:root:Failed to extract frame 16482: generator already executing\n",
      "ERROR:root:Failed to extract frame 16559: generator already executing\n",
      "ERROR:root:Failed to extract frame 16616: generator already executing\n",
      "ERROR:root:Failed to extract frame 16674: generator already executing\n",
      "ERROR:root:Failed to extract frame 16697: generator already executing\n",
      "ERROR:root:Failed to extract frame 16720: generator already executing\n",
      "ERROR:root:Failed to extract frame 16860: generator already executing\n",
      "ERROR:root:Failed to extract frame 17000: generator already executing\n",
      "ERROR:root:Failed to extract frame 17004: generator already executing\n",
      "ERROR:root:Failed to extract frame 17009: generator already executing\n",
      "INFO:root:Finished processing video: Bananas_in_pyjamas.mp4\n",
      "INFO:root:Extracted 159 key frames.\n"
     ]
    }
   ],
   "source": [
    "# import os\n",
    "# import base64\n",
    "# import imageio\n",
    "# import logging\n",
    "# from dotenv import load_dotenv\n",
    "# from scenedetect import VideoManager, SceneManager\n",
    "# from scenedetect.detectors import ContentDetector\n",
    "# from concurrent.futures import ThreadPoolExecutor\n",
    "\n",
    "# # Configure logging\n",
    "# logging.basicConfig(level=logging.INFO)\n",
    "\n",
    "# # Load OpenAI API key from .env file\n",
    "# load_dotenv()\n",
    "# api_key = os.getenv(\"OPENAI_API_KEY\")\n",
    "\n",
    "# def analyze_video(video_path, threshold=27.0):\n",
    "#     if not os.path.exists(video_path):\n",
    "#         raise FileNotFoundError(f\"The video file {video_path} does not exist.\")\n",
    "    \n",
    "#     video_manager = VideoManager([video_path])\n",
    "#     scene_manager = SceneManager()\n",
    "#     scene_manager.add_detector(ContentDetector(threshold=threshold))\n",
    "\n",
    "#     video_manager.set_downscale_factor()\n",
    "#     video_manager.start()\n",
    "\n",
    "#     scene_manager.detect_scenes(frame_source=video_manager)\n",
    "#     scene_list = scene_manager.get_scene_list()\n",
    "\n",
    "#     video_manager.release()\n",
    "\n",
    "#     logging.info(f'Detected {len(scene_list)} scenes:')\n",
    "#     for i, scene in enumerate(scene_list):\n",
    "#         logging.info(f'Scene {i + 1}: Start {scene[0].get_timecode()} / Frame {scene[0].get_frames()}, '\n",
    "#               f'End {scene[1].get_timecode()} / Frame {scene[1].get_frames()}')\n",
    "\n",
    "#     return scene_list\n",
    "\n",
    "# def process_frame(reader, frame_idx, output_path):\n",
    "#     try:\n",
    "#         frame = reader.get_data(frame_idx)\n",
    "#         imageio.imwrite(output_path, frame)\n",
    "#         with open(output_path, \"rb\") as image_file:\n",
    "#             return base64.b64encode(image_file.read()).decode('utf-8')\n",
    "#     except Exception as e:\n",
    "#         logging.error(f\"Failed to extract frame {frame_idx}: {e}\")\n",
    "#         return None\n",
    "\n",
    "# def extract_frames_imageio(video_path, scenes, output_dir):\n",
    "#     os.makedirs(output_dir, exist_ok=True)\n",
    "#     reader = imageio.get_reader(video_path, 'ffmpeg')\n",
    "#     key_frames_base64 = []\n",
    "\n",
    "#     with ThreadPoolExecutor() as executor:\n",
    "#         for i, scene in enumerate(scenes):\n",
    "#             start_frame, end_frame = scene[0].get_frames(), scene[1].get_frames()\n",
    "#             key_frame_indices = [start_frame, (start_frame + end_frame) // 2, end_frame]\n",
    "\n",
    "#             futures = [\n",
    "#                 executor.submit(process_frame, reader, frame_idx, os.path.join(output_dir, f'scene_{i + 1}_frame_{idx + 1}_{frame_idx}.jpg'))\n",
    "#                 for idx, frame_idx in enumerate(key_frame_indices)\n",
    "#             ]\n",
    "\n",
    "#             for future in futures:\n",
    "#                 result = future.result()\n",
    "#                 if result:\n",
    "#                     key_frames_base64.append(result)\n",
    "\n",
    "#     return key_frames_base64\n",
    "\n",
    "# def process_videos_in_directory(directory_path, output_base_dir, threshold=27.0):\n",
    "#     # Get all video files in the directory\n",
    "#     video_files = [f for f in os.listdir(directory_path) if f.endswith(('.mp4', '.avi', '.mkv'))]\n",
    "\n",
    "#     if not video_files:\n",
    "#         logging.info(\"No video files found in the directory.\")\n",
    "#         return\n",
    "\n",
    "#     for video_file in video_files:\n",
    "#         video_path = os.path.join(directory_path, video_file)\n",
    "#         video_name = os.path.splitext(video_file)[0]\n",
    "        \n",
    "#         # Create a folder named after the video inside the output_base_dir\n",
    "#         video_output_dir = os.path.join(output_base_dir, video_name)\n",
    "#         scenes_output_dir = os.path.join(video_output_dir, 'scenes_output')\n",
    "\n",
    "#         os.makedirs(scenes_output_dir, exist_ok=True)\n",
    "\n",
    "#         logging.info(f\"Processing video: {video_file}\")\n",
    "        \n",
    "#         # Analyze the video\n",
    "#         scenes = analyze_video(video_path, threshold)\n",
    "\n",
    "#         # Extract key frames using imageio and encode in Base64\n",
    "#         key_frames_base64 = extract_frames_imageio(video_path, scenes, scenes_output_dir)\n",
    "\n",
    "#         logging.info(f\"Finished processing video: {video_file}\")\n",
    "#         logging.info(f\"Extracted {len(key_frames_base64)} key frames.\")\n",
    "\n",
    "\n",
    "# # Main script execution\n",
    "# video_directory = '/Users/santiagowon/Dropbox/Santiago/01. Maestria/Tesis/02_Video_DB'\n",
    "# output_base_directory = '/Users/santiagowon/Dropbox/Santiago/01. Maestria/Tesis/11_Project_Analysed_DB'\n",
    "\n",
    "# # Process all videos in the directory\n",
    "# process_videos_in_directory(video_directory, output_base_directory)\n"
   ]
  },
  {
   "cell_type": "code",
   "execution_count": 2,
   "metadata": {},
   "outputs": [
    {
     "name": "stderr",
     "output_type": "stream",
     "text": [
      "INFO:root:Processing video: Bananas_in_pyjamas.mp4\n",
      "ERROR:pyscenedetect:VideoManager is deprecated and will be removed.\n",
      "INFO:pyscenedetect:Loaded 1 video, framerate: 25.000 FPS, resolution: 640 x 360\n",
      "INFO:pyscenedetect:Downscale factor set to 2, effective resolution: 320 x 180\n",
      "INFO:pyscenedetect:Detecting scenes...\n",
      "INFO:root:Detected 159 scenes:\n",
      "INFO:root:Scene 1: Start 00:00:00.000 / Frame 0, End 00:00:08.360 / Frame 209\n",
      "INFO:root:Scene 2: Start 00:00:08.360 / Frame 209, End 00:00:19.320 / Frame 483\n",
      "INFO:root:Scene 3: Start 00:00:19.320 / Frame 483, End 00:00:24.040 / Frame 601\n",
      "INFO:root:Scene 4: Start 00:00:24.040 / Frame 601, End 00:00:24.800 / Frame 620\n",
      "INFO:root:Scene 5: Start 00:00:24.800 / Frame 620, End 00:00:26.600 / Frame 665\n",
      "INFO:root:Scene 6: Start 00:00:26.600 / Frame 665, End 00:00:28.600 / Frame 715\n",
      "INFO:root:Scene 7: Start 00:00:28.600 / Frame 715, End 00:00:29.960 / Frame 749\n",
      "INFO:root:Scene 8: Start 00:00:29.960 / Frame 749, End 00:00:31.880 / Frame 797\n",
      "INFO:root:Scene 9: Start 00:00:31.880 / Frame 797, End 00:00:35.240 / Frame 881\n",
      "INFO:root:Scene 10: Start 00:00:35.240 / Frame 881, End 00:00:37.920 / Frame 948\n",
      "INFO:root:Scene 11: Start 00:00:37.920 / Frame 948, End 00:00:42.320 / Frame 1058\n",
      "INFO:root:Scene 12: Start 00:00:42.320 / Frame 1058, End 00:00:42.960 / Frame 1074\n",
      "INFO:root:Scene 13: Start 00:00:42.960 / Frame 1074, End 00:00:50.040 / Frame 1251\n",
      "INFO:root:Scene 14: Start 00:00:50.040 / Frame 1251, End 00:00:54.480 / Frame 1362\n",
      "INFO:root:Scene 15: Start 00:00:54.480 / Frame 1362, End 00:00:58.400 / Frame 1460\n",
      "INFO:root:Scene 16: Start 00:00:58.400 / Frame 1460, End 00:01:08.560 / Frame 1714\n",
      "INFO:root:Scene 17: Start 00:01:08.560 / Frame 1714, End 00:01:10.480 / Frame 1762\n",
      "INFO:root:Scene 18: Start 00:01:10.480 / Frame 1762, End 00:01:14.520 / Frame 1863\n",
      "INFO:root:Scene 19: Start 00:01:14.520 / Frame 1863, End 00:01:18.040 / Frame 1951\n",
      "INFO:root:Scene 20: Start 00:01:18.040 / Frame 1951, End 00:01:21.960 / Frame 2049\n",
      "INFO:root:Scene 21: Start 00:01:21.960 / Frame 2049, End 00:01:28.400 / Frame 2210\n",
      "INFO:root:Scene 22: Start 00:01:28.400 / Frame 2210, End 00:01:34.480 / Frame 2362\n",
      "INFO:root:Scene 23: Start 00:01:34.480 / Frame 2362, End 00:01:39.880 / Frame 2497\n",
      "INFO:root:Scene 24: Start 00:01:39.880 / Frame 2497, End 00:01:41.520 / Frame 2538\n",
      "INFO:root:Scene 25: Start 00:01:41.520 / Frame 2538, End 00:01:48.280 / Frame 2707\n",
      "INFO:root:Scene 26: Start 00:01:48.280 / Frame 2707, End 00:01:51.480 / Frame 2787\n",
      "INFO:root:Scene 27: Start 00:01:51.480 / Frame 2787, End 00:01:58.000 / Frame 2950\n",
      "INFO:root:Scene 28: Start 00:01:58.000 / Frame 2950, End 00:02:01.640 / Frame 3041\n",
      "INFO:root:Scene 29: Start 00:02:01.640 / Frame 3041, End 00:02:08.440 / Frame 3211\n",
      "INFO:root:Scene 30: Start 00:02:08.440 / Frame 3211, End 00:02:10.560 / Frame 3264\n",
      "INFO:root:Scene 31: Start 00:02:10.560 / Frame 3264, End 00:02:16.840 / Frame 3421\n",
      "INFO:root:Scene 32: Start 00:02:16.840 / Frame 3421, End 00:02:20.360 / Frame 3509\n",
      "INFO:root:Scene 33: Start 00:02:20.360 / Frame 3509, End 00:02:23.520 / Frame 3588\n",
      "INFO:root:Scene 34: Start 00:02:23.520 / Frame 3588, End 00:02:28.280 / Frame 3707\n",
      "INFO:root:Scene 35: Start 00:02:28.280 / Frame 3707, End 00:02:34.120 / Frame 3853\n",
      "INFO:root:Scene 36: Start 00:02:34.120 / Frame 3853, End 00:02:37.640 / Frame 3941\n",
      "INFO:root:Scene 37: Start 00:02:37.640 / Frame 3941, End 00:02:40.280 / Frame 4007\n",
      "INFO:root:Scene 38: Start 00:02:40.280 / Frame 4007, End 00:02:47.560 / Frame 4189\n",
      "INFO:root:Scene 39: Start 00:02:47.560 / Frame 4189, End 00:02:50.080 / Frame 4252\n",
      "INFO:root:Scene 40: Start 00:02:50.080 / Frame 4252, End 00:02:55.240 / Frame 4381\n",
      "INFO:root:Scene 41: Start 00:02:55.240 / Frame 4381, End 00:02:59.200 / Frame 4480\n",
      "INFO:root:Scene 42: Start 00:02:59.200 / Frame 4480, End 00:03:01.080 / Frame 4527\n",
      "INFO:root:Scene 43: Start 00:03:01.080 / Frame 4527, End 00:03:03.680 / Frame 4592\n",
      "INFO:root:Scene 44: Start 00:03:03.680 / Frame 4592, End 00:03:05.360 / Frame 4634\n",
      "INFO:root:Scene 45: Start 00:03:05.360 / Frame 4634, End 00:03:06.800 / Frame 4670\n",
      "INFO:root:Scene 46: Start 00:03:06.800 / Frame 4670, End 00:03:09.760 / Frame 4744\n",
      "INFO:root:Scene 47: Start 00:03:09.760 / Frame 4744, End 00:03:11.280 / Frame 4782\n",
      "INFO:root:Scene 48: Start 00:03:11.280 / Frame 4782, End 00:03:12.880 / Frame 4822\n",
      "INFO:root:Scene 49: Start 00:03:12.880 / Frame 4822, End 00:03:14.640 / Frame 4866\n",
      "INFO:root:Scene 50: Start 00:03:14.640 / Frame 4866, End 00:03:18.520 / Frame 4963\n",
      "INFO:root:Scene 51: Start 00:03:18.520 / Frame 4963, End 00:03:29.560 / Frame 5239\n",
      "INFO:root:Scene 52: Start 00:03:29.560 / Frame 5239, End 00:03:31.640 / Frame 5291\n",
      "INFO:root:Scene 53: Start 00:03:31.640 / Frame 5291, End 00:03:33.760 / Frame 5344\n",
      "INFO:root:Scene 54: Start 00:03:33.760 / Frame 5344, End 00:03:35.360 / Frame 5384\n",
      "INFO:root:Scene 55: Start 00:03:35.360 / Frame 5384, End 00:03:41.440 / Frame 5536\n",
      "INFO:root:Scene 56: Start 00:03:41.440 / Frame 5536, End 00:03:42.840 / Frame 5571\n",
      "INFO:root:Scene 57: Start 00:03:42.840 / Frame 5571, End 00:03:44.880 / Frame 5622\n",
      "INFO:root:Scene 58: Start 00:03:44.880 / Frame 5622, End 00:03:50.080 / Frame 5752\n",
      "INFO:root:Scene 59: Start 00:03:50.080 / Frame 5752, End 00:03:52.080 / Frame 5802\n",
      "INFO:root:Scene 60: Start 00:03:52.080 / Frame 5802, End 00:03:57.000 / Frame 5925\n",
      "INFO:root:Scene 61: Start 00:03:57.000 / Frame 5925, End 00:04:04.120 / Frame 6103\n",
      "INFO:root:Scene 62: Start 00:04:04.120 / Frame 6103, End 00:04:06.880 / Frame 6172\n",
      "INFO:root:Scene 63: Start 00:04:06.880 / Frame 6172, End 00:04:08.840 / Frame 6221\n",
      "INFO:root:Scene 64: Start 00:04:08.840 / Frame 6221, End 00:04:12.880 / Frame 6322\n",
      "INFO:root:Scene 65: Start 00:04:12.880 / Frame 6322, End 00:04:16.360 / Frame 6409\n",
      "INFO:root:Scene 66: Start 00:04:16.360 / Frame 6409, End 00:04:19.000 / Frame 6475\n",
      "INFO:root:Scene 67: Start 00:04:19.000 / Frame 6475, End 00:04:23.040 / Frame 6576\n",
      "INFO:root:Scene 68: Start 00:04:23.040 / Frame 6576, End 00:04:25.440 / Frame 6636\n",
      "INFO:root:Scene 69: Start 00:04:25.440 / Frame 6636, End 00:04:31.120 / Frame 6778\n",
      "INFO:root:Scene 70: Start 00:04:31.120 / Frame 6778, End 00:04:37.880 / Frame 6947\n",
      "INFO:root:Scene 71: Start 00:04:37.880 / Frame 6947, End 00:04:41.880 / Frame 7047\n",
      "INFO:root:Scene 72: Start 00:04:41.880 / Frame 7047, End 00:04:45.240 / Frame 7131\n",
      "INFO:root:Scene 73: Start 00:04:45.240 / Frame 7131, End 00:04:49.640 / Frame 7241\n",
      "INFO:root:Scene 74: Start 00:04:49.640 / Frame 7241, End 00:04:54.840 / Frame 7371\n",
      "INFO:root:Scene 75: Start 00:04:54.840 / Frame 7371, End 00:04:58.240 / Frame 7456\n",
      "INFO:root:Scene 76: Start 00:04:58.240 / Frame 7456, End 00:05:00.600 / Frame 7515\n",
      "INFO:root:Scene 77: Start 00:05:00.600 / Frame 7515, End 00:05:16.600 / Frame 7915\n",
      "INFO:root:Scene 78: Start 00:05:16.600 / Frame 7915, End 00:05:24.520 / Frame 8113\n",
      "INFO:root:Scene 79: Start 00:05:24.520 / Frame 8113, End 00:05:26.360 / Frame 8159\n",
      "INFO:root:Scene 80: Start 00:05:26.360 / Frame 8159, End 00:05:34.880 / Frame 8372\n",
      "INFO:root:Scene 81: Start 00:05:34.880 / Frame 8372, End 00:05:44.920 / Frame 8623\n",
      "INFO:root:Scene 82: Start 00:05:44.920 / Frame 8623, End 00:05:46.040 / Frame 8651\n",
      "INFO:root:Scene 83: Start 00:05:46.040 / Frame 8651, End 00:05:47.800 / Frame 8695\n",
      "INFO:root:Scene 84: Start 00:05:47.800 / Frame 8695, End 00:05:51.840 / Frame 8796\n",
      "INFO:root:Scene 85: Start 00:05:51.840 / Frame 8796, End 00:05:53.880 / Frame 8847\n",
      "INFO:root:Scene 86: Start 00:05:53.880 / Frame 8847, End 00:05:57.000 / Frame 8925\n",
      "INFO:root:Scene 87: Start 00:05:57.000 / Frame 8925, End 00:05:59.200 / Frame 8980\n",
      "INFO:root:Scene 88: Start 00:05:59.200 / Frame 8980, End 00:06:01.880 / Frame 9047\n",
      "INFO:root:Scene 89: Start 00:06:01.880 / Frame 9047, End 00:06:10.520 / Frame 9263\n",
      "INFO:root:Scene 90: Start 00:06:10.520 / Frame 9263, End 00:06:11.680 / Frame 9292\n",
      "INFO:root:Scene 91: Start 00:06:11.680 / Frame 9292, End 00:06:19.600 / Frame 9490\n",
      "INFO:root:Scene 92: Start 00:06:19.600 / Frame 9490, End 00:06:22.760 / Frame 9569\n",
      "INFO:root:Scene 93: Start 00:06:22.760 / Frame 9569, End 00:06:28.000 / Frame 9700\n",
      "INFO:root:Scene 94: Start 00:06:28.000 / Frame 9700, End 00:06:30.640 / Frame 9766\n",
      "INFO:root:Scene 95: Start 00:06:30.640 / Frame 9766, End 00:06:40.280 / Frame 10007\n",
      "INFO:root:Scene 96: Start 00:06:40.280 / Frame 10007, End 00:06:43.400 / Frame 10085\n",
      "INFO:root:Scene 97: Start 00:06:43.400 / Frame 10085, End 00:06:52.440 / Frame 10311\n",
      "INFO:root:Scene 98: Start 00:06:52.440 / Frame 10311, End 00:06:55.560 / Frame 10389\n",
      "INFO:root:Scene 99: Start 00:06:55.560 / Frame 10389, End 00:06:56.360 / Frame 10409\n",
      "INFO:root:Scene 100: Start 00:06:56.360 / Frame 10409, End 00:06:58.680 / Frame 10467\n",
      "INFO:root:Scene 101: Start 00:06:58.680 / Frame 10467, End 00:07:00.720 / Frame 10518\n",
      "INFO:root:Scene 102: Start 00:07:00.720 / Frame 10518, End 00:07:02.240 / Frame 10556\n",
      "INFO:root:Scene 103: Start 00:07:02.240 / Frame 10556, End 00:07:07.040 / Frame 10676\n",
      "INFO:root:Scene 104: Start 00:07:07.040 / Frame 10676, End 00:07:09.720 / Frame 10743\n",
      "INFO:root:Scene 105: Start 00:07:09.720 / Frame 10743, End 00:07:12.040 / Frame 10801\n",
      "INFO:root:Scene 106: Start 00:07:12.040 / Frame 10801, End 00:07:21.680 / Frame 11042\n",
      "INFO:root:Scene 107: Start 00:07:21.680 / Frame 11042, End 00:07:25.080 / Frame 11127\n",
      "INFO:root:Scene 108: Start 00:07:25.080 / Frame 11127, End 00:07:29.200 / Frame 11230\n",
      "INFO:root:Scene 109: Start 00:07:29.200 / Frame 11230, End 00:07:36.840 / Frame 11421\n",
      "INFO:root:Scene 110: Start 00:07:36.840 / Frame 11421, End 00:07:39.840 / Frame 11496\n",
      "INFO:root:Scene 111: Start 00:07:39.840 / Frame 11496, End 00:07:46.720 / Frame 11668\n",
      "INFO:root:Scene 112: Start 00:07:46.720 / Frame 11668, End 00:07:49.480 / Frame 11737\n",
      "INFO:root:Scene 113: Start 00:07:49.480 / Frame 11737, End 00:07:55.400 / Frame 11885\n",
      "INFO:root:Scene 114: Start 00:07:55.400 / Frame 11885, End 00:08:13.640 / Frame 12341\n",
      "INFO:root:Scene 115: Start 00:08:13.640 / Frame 12341, End 00:08:16.960 / Frame 12424\n",
      "INFO:root:Scene 116: Start 00:08:16.960 / Frame 12424, End 00:08:21.880 / Frame 12547\n",
      "INFO:root:Scene 117: Start 00:08:21.880 / Frame 12547, End 00:08:24.840 / Frame 12621\n",
      "INFO:root:Scene 118: Start 00:08:24.840 / Frame 12621, End 00:08:36.600 / Frame 12915\n",
      "INFO:root:Scene 119: Start 00:08:36.600 / Frame 12915, End 00:08:38.240 / Frame 12956\n",
      "INFO:root:Scene 120: Start 00:08:38.240 / Frame 12956, End 00:08:41.640 / Frame 13041\n",
      "INFO:root:Scene 121: Start 00:08:41.640 / Frame 13041, End 00:08:46.240 / Frame 13156\n",
      "INFO:root:Scene 122: Start 00:08:46.240 / Frame 13156, End 00:08:52.960 / Frame 13324\n",
      "INFO:root:Scene 123: Start 00:08:52.960 / Frame 13324, End 00:08:58.840 / Frame 13471\n",
      "INFO:root:Scene 124: Start 00:08:58.840 / Frame 13471, End 00:09:03.960 / Frame 13599\n",
      "INFO:root:Scene 125: Start 00:09:03.960 / Frame 13599, End 00:09:05.000 / Frame 13625\n",
      "INFO:root:Scene 126: Start 00:09:05.000 / Frame 13625, End 00:09:08.240 / Frame 13706\n",
      "INFO:root:Scene 127: Start 00:09:08.240 / Frame 13706, End 00:09:11.520 / Frame 13788\n",
      "INFO:root:Scene 128: Start 00:09:11.520 / Frame 13788, End 00:09:21.000 / Frame 14025\n",
      "INFO:root:Scene 129: Start 00:09:21.000 / Frame 14025, End 00:09:23.280 / Frame 14082\n",
      "INFO:root:Scene 130: Start 00:09:23.280 / Frame 14082, End 00:09:26.440 / Frame 14161\n",
      "INFO:root:Scene 131: Start 00:09:26.440 / Frame 14161, End 00:09:27.960 / Frame 14199\n",
      "INFO:root:Scene 132: Start 00:09:27.960 / Frame 14199, End 00:09:37.160 / Frame 14429\n",
      "INFO:root:Scene 133: Start 00:09:37.160 / Frame 14429, End 00:09:40.680 / Frame 14517\n",
      "INFO:root:Scene 134: Start 00:09:40.680 / Frame 14517, End 00:09:43.400 / Frame 14585\n",
      "INFO:root:Scene 135: Start 00:09:43.400 / Frame 14585, End 00:09:48.840 / Frame 14721\n",
      "INFO:root:Scene 136: Start 00:09:48.840 / Frame 14721, End 00:09:49.800 / Frame 14745\n",
      "INFO:root:Scene 137: Start 00:09:49.800 / Frame 14745, End 00:09:56.920 / Frame 14923\n",
      "INFO:root:Scene 138: Start 00:09:56.920 / Frame 14923, End 00:09:58.840 / Frame 14971\n",
      "INFO:root:Scene 139: Start 00:09:58.840 / Frame 14971, End 00:10:01.880 / Frame 15047\n",
      "INFO:root:Scene 140: Start 00:10:01.880 / Frame 15047, End 00:10:03.120 / Frame 15078\n",
      "INFO:root:Scene 141: Start 00:10:03.120 / Frame 15078, End 00:10:05.240 / Frame 15131\n",
      "INFO:root:Scene 142: Start 00:10:05.240 / Frame 15131, End 00:10:09.760 / Frame 15244\n",
      "INFO:root:Scene 143: Start 00:10:09.760 / Frame 15244, End 00:10:15.600 / Frame 15390\n",
      "INFO:root:Scene 144: Start 00:10:15.600 / Frame 15390, End 00:10:22.240 / Frame 15556\n",
      "INFO:root:Scene 145: Start 00:10:22.240 / Frame 15556, End 00:10:30.800 / Frame 15770\n",
      "INFO:root:Scene 146: Start 00:10:30.800 / Frame 15770, End 00:10:33.840 / Frame 15846\n",
      "INFO:root:Scene 147: Start 00:10:33.840 / Frame 15846, End 00:10:42.600 / Frame 16065\n",
      "INFO:root:Scene 148: Start 00:10:42.600 / Frame 16065, End 00:10:44.240 / Frame 16106\n",
      "INFO:root:Scene 149: Start 00:10:44.240 / Frame 16106, End 00:10:46.440 / Frame 16161\n",
      "INFO:root:Scene 150: Start 00:10:46.440 / Frame 16161, End 00:10:47.160 / Frame 16179\n",
      "INFO:root:Scene 151: Start 00:10:47.160 / Frame 16179, End 00:10:52.320 / Frame 16308\n",
      "INFO:root:Scene 152: Start 00:10:52.320 / Frame 16308, End 00:10:53.600 / Frame 16340\n",
      "INFO:root:Scene 153: Start 00:10:53.600 / Frame 16340, End 00:10:54.960 / Frame 16374\n",
      "INFO:root:Scene 154: Start 00:10:54.960 / Frame 16374, End 00:10:56.240 / Frame 16406\n",
      "INFO:root:Scene 155: Start 00:10:56.240 / Frame 16406, End 00:11:02.360 / Frame 16559\n",
      "INFO:root:Scene 156: Start 00:11:02.360 / Frame 16559, End 00:11:06.960 / Frame 16674\n",
      "INFO:root:Scene 157: Start 00:11:06.960 / Frame 16674, End 00:11:08.800 / Frame 16720\n",
      "INFO:root:Scene 158: Start 00:11:08.800 / Frame 16720, End 00:11:20.000 / Frame 17000\n",
      "INFO:root:Scene 159: Start 00:11:20.000 / Frame 17000, End 00:11:20.360 / Frame 17009\n",
      "ERROR:root:Failed to extract frame 104: generator already executing\n",
      "ERROR:root:Failed to extract frame 209: generator already executing\n",
      "ERROR:root:Failed to extract frame 346: generator already executing\n",
      "ERROR:root:Failed to extract frame 483: generator already executing\n",
      "ERROR:root:Failed to extract frame 542: generator already executing\n",
      "ERROR:root:Failed to extract frame 601: generator already executing\n",
      "ERROR:root:Failed to extract frame 610: generator already executing\n",
      "ERROR:root:Failed to extract frame 620: generator already executing\n",
      "ERROR:root:Failed to extract frame 642: generator already executing\n",
      "ERROR:root:Failed to extract frame 665: generator already executing\n",
      "ERROR:root:Failed to extract frame 690: generator already executing\n",
      "ERROR:root:Failed to extract frame 715: generator already executing\n",
      "ERROR:root:Failed to extract frame 732: generator already executing\n",
      "ERROR:root:Failed to extract frame 749: generator already executing\n",
      "ERROR:root:Failed to extract frame 773: generator already executing\n",
      "ERROR:root:Failed to extract frame 797: generator already executing\n",
      "ERROR:root:Failed to extract frame 839: generator already executing\n",
      "ERROR:root:Failed to extract frame 881: generator already executing\n",
      "ERROR:root:Failed to extract frame 914: generator already executing\n",
      "ERROR:root:Failed to extract frame 948: generator already executing\n",
      "ERROR:root:Failed to extract frame 1003: generator already executing\n",
      "ERROR:root:Failed to extract frame 1058: generator already executing\n",
      "ERROR:root:Failed to extract frame 1066: generator already executing\n",
      "ERROR:root:Failed to extract frame 1074: generator already executing\n",
      "ERROR:root:Failed to extract frame 1162: generator already executing\n",
      "ERROR:root:Failed to extract frame 1251: generator already executing\n",
      "ERROR:root:Failed to extract frame 1306: generator already executing\n",
      "ERROR:root:Failed to extract frame 1362: generator already executing\n",
      "ERROR:root:Failed to extract frame 1411: generator already executing\n",
      "ERROR:root:Failed to extract frame 1460: generator already executing\n",
      "ERROR:root:Failed to extract frame 1587: generator already executing\n",
      "ERROR:root:Failed to extract frame 1714: generator already executing\n",
      "ERROR:root:Failed to extract frame 1738: generator already executing\n",
      "ERROR:root:Failed to extract frame 1762: generator already executing\n",
      "ERROR:root:Failed to extract frame 1812: generator already executing\n",
      "ERROR:root:Failed to extract frame 1863: generator already executing\n",
      "ERROR:root:Failed to extract frame 1907: generator already executing\n",
      "ERROR:root:Failed to extract frame 1951: generator already executing\n",
      "ERROR:root:Failed to extract frame 2000: generator already executing\n",
      "ERROR:root:Failed to extract frame 2049: generator already executing\n",
      "ERROR:root:Failed to extract frame 2129: generator already executing\n",
      "ERROR:root:Failed to extract frame 2210: generator already executing\n",
      "ERROR:root:Failed to extract frame 2286: generator already executing\n",
      "ERROR:root:Failed to extract frame 2362: generator already executing\n",
      "ERROR:root:Failed to extract frame 2429: generator already executing\n",
      "ERROR:root:Failed to extract frame 2497: generator already executing\n",
      "ERROR:root:Failed to extract frame 2517: generator already executing\n",
      "ERROR:root:Failed to extract frame 2538: generator already executing\n",
      "ERROR:root:Failed to extract frame 2622: generator already executing\n",
      "ERROR:root:Failed to extract frame 2707: generator already executing\n",
      "ERROR:root:Failed to extract frame 2747: generator already executing\n",
      "ERROR:root:Failed to extract frame 2787: generator already executing\n",
      "ERROR:root:Failed to extract frame 2868: generator already executing\n",
      "ERROR:root:Failed to extract frame 2950: generator already executing\n",
      "ERROR:root:Failed to extract frame 2995: generator already executing\n",
      "ERROR:root:Failed to extract frame 3041: generator already executing\n",
      "ERROR:root:Failed to extract frame 3126: generator already executing\n",
      "ERROR:root:Failed to extract frame 3211: generator already executing\n",
      "ERROR:root:Failed to extract frame 3237: generator already executing\n",
      "ERROR:root:Failed to extract frame 3264: generator already executing\n",
      "ERROR:root:Failed to extract frame 3342: generator already executing\n",
      "ERROR:root:Failed to extract frame 3421: generator already executing\n",
      "ERROR:root:Failed to extract frame 3465: generator already executing\n",
      "ERROR:root:Failed to extract frame 3509: generator already executing\n",
      "ERROR:root:Failed to extract frame 3548: generator already executing\n",
      "ERROR:root:Failed to extract frame 3588: generator already executing\n",
      "ERROR:root:Failed to extract frame 3647: generator already executing\n",
      "ERROR:root:Failed to extract frame 3707: generator already executing\n",
      "ERROR:root:Failed to extract frame 3780: generator already executing\n",
      "ERROR:root:Failed to extract frame 3853: generator already executing\n",
      "ERROR:root:Failed to extract frame 3897: generator already executing\n",
      "ERROR:root:Failed to extract frame 3941: generator already executing\n",
      "ERROR:root:Failed to extract frame 3974: generator already executing\n",
      "ERROR:root:Failed to extract frame 4007: generator already executing\n",
      "ERROR:root:Failed to extract frame 4098: generator already executing\n",
      "ERROR:root:Failed to extract frame 4189: generator already executing\n",
      "ERROR:root:Failed to extract frame 4220: generator already executing\n",
      "ERROR:root:Failed to extract frame 4252: generator already executing\n",
      "ERROR:root:Failed to extract frame 4316: generator already executing\n",
      "ERROR:root:Failed to extract frame 4381: generator already executing\n",
      "ERROR:root:Failed to extract frame 4430: generator already executing\n",
      "ERROR:root:Failed to extract frame 4480: generator already executing\n",
      "ERROR:root:Failed to extract frame 4503: generator already executing\n",
      "ERROR:root:Failed to extract frame 4527: generator already executing\n",
      "ERROR:root:Failed to extract frame 4559: generator already executing\n",
      "ERROR:root:Failed to extract frame 4592: generator already executing\n",
      "ERROR:root:Failed to extract frame 4613: generator already executing\n",
      "ERROR:root:Failed to extract frame 4634: generator already executing\n",
      "ERROR:root:Failed to extract frame 4652: generator already executing\n",
      "ERROR:root:Failed to extract frame 4670: generator already executing\n",
      "ERROR:root:Failed to extract frame 4707: generator already executing\n",
      "ERROR:root:Failed to extract frame 4744: generator already executing\n",
      "ERROR:root:Failed to extract frame 4763: generator already executing\n",
      "ERROR:root:Failed to extract frame 4782: generator already executing\n",
      "ERROR:root:Failed to extract frame 4802: generator already executing\n",
      "ERROR:root:Failed to extract frame 4822: generator already executing\n",
      "ERROR:root:Failed to extract frame 4844: generator already executing\n",
      "ERROR:root:Failed to extract frame 4866: generator already executing\n",
      "ERROR:root:Failed to extract frame 4914: generator already executing\n",
      "ERROR:root:Failed to extract frame 4963: generator already executing\n",
      "ERROR:root:Failed to extract frame 5101: generator already executing\n",
      "ERROR:root:Failed to extract frame 5239: generator already executing\n",
      "ERROR:root:Failed to extract frame 5265: generator already executing\n",
      "ERROR:root:Failed to extract frame 5291: generator already executing\n",
      "ERROR:root:Failed to extract frame 5317: generator already executing\n",
      "ERROR:root:Failed to extract frame 5344: generator already executing\n",
      "ERROR:root:Failed to extract frame 5364: generator already executing\n",
      "ERROR:root:Failed to extract frame 5384: generator already executing\n",
      "ERROR:root:Failed to extract frame 5460: generator already executing\n",
      "ERROR:root:Failed to extract frame 5536: generator already executing\n",
      "ERROR:root:Failed to extract frame 5553: generator already executing\n",
      "ERROR:root:Failed to extract frame 5571: generator already executing\n",
      "ERROR:root:Failed to extract frame 5596: generator already executing\n",
      "ERROR:root:Failed to extract frame 5622: generator already executing\n",
      "ERROR:root:Failed to extract frame 5687: generator already executing\n",
      "ERROR:root:Failed to extract frame 5752: generator already executing\n",
      "ERROR:root:Failed to extract frame 5777: generator already executing\n",
      "ERROR:root:Failed to extract frame 5802: generator already executing\n",
      "ERROR:root:Failed to extract frame 5863: generator already executing\n",
      "ERROR:root:Failed to extract frame 5925: generator already executing\n",
      "ERROR:root:Failed to extract frame 6014: generator already executing\n",
      "ERROR:root:Failed to extract frame 6103: generator already executing\n",
      "ERROR:root:Failed to extract frame 6137: generator already executing\n",
      "ERROR:root:Failed to extract frame 6172: generator already executing\n",
      "ERROR:root:Failed to extract frame 6196: generator already executing\n",
      "ERROR:root:Failed to extract frame 6221: generator already executing\n",
      "ERROR:root:Failed to extract frame 6271: generator already executing\n",
      "ERROR:root:Failed to extract frame 6322: generator already executing\n",
      "ERROR:root:Failed to extract frame 6365: generator already executing\n",
      "ERROR:root:Failed to extract frame 6409: generator already executing\n",
      "ERROR:root:Failed to extract frame 6442: generator already executing\n",
      "ERROR:root:Failed to extract frame 6475: generator already executing\n",
      "ERROR:root:Failed to extract frame 6525: generator already executing\n",
      "ERROR:root:Failed to extract frame 6576: generator already executing\n",
      "ERROR:root:Failed to extract frame 6606: generator already executing\n",
      "ERROR:root:Failed to extract frame 6636: generator already executing\n",
      "ERROR:root:Failed to extract frame 6707: generator already executing\n",
      "ERROR:root:Failed to extract frame 6778: generator already executing\n",
      "ERROR:root:Failed to extract frame 6862: generator already executing\n",
      "ERROR:root:Failed to extract frame 6947: generator already executing\n",
      "ERROR:root:Failed to extract frame 6997: generator already executing\n",
      "ERROR:root:Failed to extract frame 7047: generator already executing\n",
      "ERROR:root:Failed to extract frame 7089: generator already executing\n",
      "ERROR:root:Failed to extract frame 7131: generator already executing\n",
      "ERROR:root:Failed to extract frame 7186: generator already executing\n",
      "ERROR:root:Failed to extract frame 7241: generator already executing\n",
      "ERROR:root:Failed to extract frame 7306: generator already executing\n",
      "ERROR:root:Failed to extract frame 7371: generator already executing\n",
      "ERROR:root:Failed to extract frame 7413: generator already executing\n",
      "ERROR:root:Failed to extract frame 7456: generator already executing\n",
      "ERROR:root:Failed to extract frame 7485: generator already executing\n",
      "ERROR:root:Failed to extract frame 7515: generator already executing\n",
      "ERROR:root:Failed to extract frame 7715: generator already executing\n",
      "ERROR:root:Failed to extract frame 7915: generator already executing\n",
      "ERROR:root:Failed to extract frame 8014: generator already executing\n",
      "ERROR:root:Failed to extract frame 8113: generator already executing\n",
      "ERROR:root:Failed to extract frame 8136: generator already executing\n",
      "ERROR:root:Failed to extract frame 8159: generator already executing\n",
      "ERROR:root:Failed to extract frame 8265: generator already executing\n",
      "ERROR:root:Failed to extract frame 8372: generator already executing\n",
      "ERROR:root:Failed to extract frame 8497: generator already executing\n",
      "ERROR:root:Failed to extract frame 8623: generator already executing\n",
      "ERROR:root:Failed to extract frame 8637: generator already executing\n",
      "ERROR:root:Failed to extract frame 8651: generator already executing\n",
      "ERROR:root:Failed to extract frame 8673: generator already executing\n",
      "ERROR:root:Failed to extract frame 8695: generator already executing\n",
      "ERROR:root:Failed to extract frame 8745: generator already executing\n",
      "ERROR:root:Failed to extract frame 8796: generator already executing\n",
      "ERROR:root:Failed to extract frame 8821: generator already executing\n",
      "ERROR:root:Failed to extract frame 8847: generator already executing\n",
      "ERROR:root:Failed to extract frame 8886: generator already executing\n",
      "ERROR:root:Failed to extract frame 8925: generator already executing\n",
      "ERROR:root:Failed to extract frame 8952: generator already executing\n",
      "ERROR:root:Failed to extract frame 8980: generator already executing\n",
      "ERROR:root:Failed to extract frame 9013: generator already executing\n",
      "ERROR:root:Failed to extract frame 9047: generator already executing\n",
      "ERROR:root:Failed to extract frame 9155: generator already executing\n",
      "ERROR:root:Failed to extract frame 9263: generator already executing\n",
      "ERROR:root:Failed to extract frame 9277: generator already executing\n",
      "ERROR:root:Failed to extract frame 9292: generator already executing\n",
      "ERROR:root:Failed to extract frame 9391: generator already executing\n",
      "ERROR:root:Failed to extract frame 9490: generator already executing\n",
      "ERROR:root:Failed to extract frame 9529: generator already executing\n",
      "ERROR:root:Failed to extract frame 9569: generator already executing\n",
      "ERROR:root:Failed to extract frame 9634: generator already executing\n",
      "ERROR:root:Failed to extract frame 9700: generator already executing\n",
      "ERROR:root:Failed to extract frame 9733: generator already executing\n",
      "ERROR:root:Failed to extract frame 9766: generator already executing\n",
      "ERROR:root:Failed to extract frame 9886: generator already executing\n",
      "ERROR:root:Failed to extract frame 10007: generator already executing\n",
      "ERROR:root:Failed to extract frame 10046: generator already executing\n",
      "ERROR:root:Failed to extract frame 10085: generator already executing\n",
      "ERROR:root:Failed to extract frame 10198: generator already executing\n",
      "ERROR:root:Failed to extract frame 10311: generator already executing\n",
      "ERROR:root:Failed to extract frame 10350: generator already executing\n",
      "ERROR:root:Failed to extract frame 10389: generator already executing\n",
      "ERROR:root:Failed to extract frame 10399: generator already executing\n",
      "ERROR:root:Failed to extract frame 10409: generator already executing\n",
      "ERROR:root:Failed to extract frame 10438: generator already executing\n",
      "ERROR:root:Failed to extract frame 10467: generator already executing\n",
      "ERROR:root:Failed to extract frame 10492: generator already executing\n",
      "ERROR:root:Failed to extract frame 10518: generator already executing\n",
      "ERROR:root:Failed to extract frame 10537: generator already executing\n",
      "ERROR:root:Failed to extract frame 10556: generator already executing\n",
      "ERROR:root:Failed to extract frame 10616: generator already executing\n",
      "ERROR:root:Failed to extract frame 10676: generator already executing\n",
      "ERROR:root:Failed to extract frame 10709: generator already executing\n",
      "ERROR:root:Failed to extract frame 10743: generator already executing\n",
      "ERROR:root:Failed to extract frame 10772: generator already executing\n",
      "ERROR:root:Failed to extract frame 10801: generator already executing\n",
      "ERROR:root:Failed to extract frame 10921: generator already executing\n",
      "ERROR:root:Failed to extract frame 11042: generator already executing\n",
      "ERROR:root:Failed to extract frame 11084: generator already executing\n",
      "ERROR:root:Failed to extract frame 11127: generator already executing\n",
      "ERROR:root:Failed to extract frame 11178: generator already executing\n",
      "ERROR:root:Failed to extract frame 11230: generator already executing\n",
      "ERROR:root:Failed to extract frame 11325: generator already executing\n",
      "ERROR:root:Failed to extract frame 11421: generator already executing\n",
      "ERROR:root:Failed to extract frame 11458: generator already executing\n",
      "ERROR:root:Failed to extract frame 11496: generator already executing\n",
      "ERROR:root:Failed to extract frame 11582: generator already executing\n",
      "ERROR:root:Failed to extract frame 11668: generator already executing\n",
      "ERROR:root:Failed to extract frame 11702: generator already executing\n",
      "ERROR:root:Failed to extract frame 11737: generator already executing\n",
      "ERROR:root:Failed to extract frame 11811: generator already executing\n",
      "ERROR:root:Failed to extract frame 11885: generator already executing\n",
      "ERROR:root:Failed to extract frame 12113: generator already executing\n",
      "ERROR:root:Failed to extract frame 12341: generator already executing\n",
      "ERROR:root:Failed to extract frame 12382: generator already executing\n",
      "ERROR:root:Failed to extract frame 12424: generator already executing\n",
      "ERROR:root:Failed to extract frame 12485: generator already executing\n",
      "ERROR:root:Failed to extract frame 12547: generator already executing\n",
      "ERROR:root:Failed to extract frame 12584: generator already executing\n",
      "ERROR:root:Failed to extract frame 12621: generator already executing\n",
      "ERROR:root:Failed to extract frame 12768: generator already executing\n",
      "ERROR:root:Failed to extract frame 12915: generator already executing\n",
      "ERROR:root:Failed to extract frame 12935: generator already executing\n",
      "ERROR:root:Failed to extract frame 12956: generator already executing\n",
      "ERROR:root:Failed to extract frame 12998: generator already executing\n",
      "ERROR:root:Failed to extract frame 13041: generator already executing\n",
      "ERROR:root:Failed to extract frame 13098: generator already executing\n",
      "ERROR:root:Failed to extract frame 13156: generator already executing\n",
      "ERROR:root:Failed to extract frame 13240: generator already executing\n",
      "ERROR:root:Failed to extract frame 13324: generator already executing\n",
      "ERROR:root:Failed to extract frame 13397: generator already executing\n",
      "ERROR:root:Failed to extract frame 13471: generator already executing\n",
      "ERROR:root:Failed to extract frame 13535: generator already executing\n",
      "ERROR:root:Failed to extract frame 13599: generator already executing\n",
      "ERROR:root:Failed to extract frame 13612: generator already executing\n",
      "ERROR:root:Failed to extract frame 13625: generator already executing\n",
      "ERROR:root:Failed to extract frame 13665: generator already executing\n",
      "ERROR:root:Failed to extract frame 13706: generator already executing\n",
      "ERROR:root:Failed to extract frame 13747: generator already executing\n",
      "ERROR:root:Failed to extract frame 13788: generator already executing\n",
      "ERROR:root:Failed to extract frame 13906: generator already executing\n",
      "ERROR:root:Failed to extract frame 14025: generator already executing\n",
      "ERROR:root:Failed to extract frame 14053: generator already executing\n",
      "ERROR:root:Failed to extract frame 14082: generator already executing\n",
      "ERROR:root:Failed to extract frame 14121: generator already executing\n",
      "ERROR:root:Failed to extract frame 14161: generator already executing\n",
      "ERROR:root:Failed to extract frame 14180: generator already executing\n",
      "ERROR:root:Failed to extract frame 14199: generator already executing\n",
      "ERROR:root:Failed to extract frame 14314: generator already executing\n",
      "ERROR:root:Failed to extract frame 14429: generator already executing\n",
      "ERROR:root:Failed to extract frame 14473: generator already executing\n",
      "ERROR:root:Failed to extract frame 14517: generator already executing\n",
      "ERROR:root:Failed to extract frame 14551: generator already executing\n",
      "ERROR:root:Failed to extract frame 14585: generator already executing\n",
      "ERROR:root:Failed to extract frame 14653: generator already executing\n",
      "ERROR:root:Failed to extract frame 14721: generator already executing\n",
      "ERROR:root:Failed to extract frame 14733: generator already executing\n",
      "ERROR:root:Failed to extract frame 14745: generator already executing\n",
      "ERROR:root:Failed to extract frame 14834: generator already executing\n",
      "ERROR:root:Failed to extract frame 14923: generator already executing\n",
      "ERROR:root:Failed to extract frame 14947: generator already executing\n",
      "ERROR:root:Failed to extract frame 14971: generator already executing\n",
      "ERROR:root:Failed to extract frame 15009: generator already executing\n",
      "ERROR:root:Failed to extract frame 15047: generator already executing\n",
      "ERROR:root:Failed to extract frame 15062: generator already executing\n",
      "ERROR:root:Failed to extract frame 15078: generator already executing\n",
      "ERROR:root:Failed to extract frame 15104: generator already executing\n",
      "ERROR:root:Failed to extract frame 15131: generator already executing\n",
      "ERROR:root:Failed to extract frame 15187: generator already executing\n",
      "ERROR:root:Failed to extract frame 15244: generator already executing\n",
      "ERROR:root:Failed to extract frame 15317: generator already executing\n",
      "ERROR:root:Failed to extract frame 15390: generator already executing\n",
      "ERROR:root:Failed to extract frame 15473: generator already executing\n",
      "ERROR:root:Failed to extract frame 15556: generator already executing\n",
      "ERROR:root:Failed to extract frame 15663: generator already executing\n",
      "ERROR:root:Failed to extract frame 15770: generator already executing\n",
      "ERROR:root:Failed to extract frame 15808: generator already executing\n",
      "ERROR:root:Failed to extract frame 15846: generator already executing\n",
      "ERROR:root:Failed to extract frame 15955: generator already executing\n",
      "ERROR:root:Failed to extract frame 16065: generator already executing\n",
      "ERROR:root:Failed to extract frame 16085: generator already executing\n",
      "ERROR:root:Failed to extract frame 16106: generator already executing\n",
      "ERROR:root:Failed to extract frame 16133: generator already executing\n",
      "ERROR:root:Failed to extract frame 16161: generator already executing\n",
      "ERROR:root:Failed to extract frame 16170: generator already executing\n",
      "ERROR:root:Failed to extract frame 16179: generator already executing\n",
      "ERROR:root:Failed to extract frame 16243: generator already executing\n",
      "ERROR:root:Failed to extract frame 16308: generator already executing\n",
      "ERROR:root:Failed to extract frame 16324: generator already executing\n",
      "ERROR:root:Failed to extract frame 16340: generator already executing\n",
      "ERROR:root:Failed to extract frame 16357: generator already executing\n",
      "ERROR:root:Failed to extract frame 16374: generator already executing\n",
      "ERROR:root:Failed to extract frame 16390: generator already executing\n",
      "ERROR:root:Failed to extract frame 16406: generator already executing\n",
      "ERROR:root:Failed to extract frame 16482: generator already executing\n",
      "ERROR:root:Failed to extract frame 16559: generator already executing\n",
      "ERROR:root:Failed to extract frame 16616: generator already executing\n",
      "ERROR:root:Failed to extract frame 16674: generator already executing\n",
      "ERROR:root:Failed to extract frame 16697: generator already executing\n",
      "ERROR:root:Failed to extract frame 16720: generator already executing\n",
      "ERROR:root:Failed to extract frame 16860: generator already executing\n",
      "ERROR:root:Failed to extract frame 17000: generator already executing\n",
      "ERROR:root:Failed to extract frame 17004: generator already executing\n",
      "ERROR:root:Failed to extract frame 17009: generator already executing\n",
      "INFO:root:Finished processing video: Bananas_in_pyjamas.mp4\n",
      "INFO:root:Extracted 159 key frames.\n"
     ]
    },
    {
     "name": "stdout",
     "output_type": "stream",
     "text": [
      "Request failed with status code: 429\n",
      "Skipping scene_101_frame_1_10467.jpg due to invalid OpenAI response.\n",
      "Request failed with status code: 429\n",
      "Skipping scene_49_frame_1_4822.jpg due to invalid OpenAI response.\n",
      "Request failed with status code: 429\n",
      "Skipping scene_142_frame_1_15131.jpg due to invalid OpenAI response.\n",
      "Request failed with status code: 429\n",
      "Request failed with status code: 429\n",
      "Request failed with status code: 429\n",
      "Skipping scene_119_frame_1_12915.jpg due to invalid OpenAI response.\n",
      "Skipping scene_90_frame_1_9263.jpg due to invalid OpenAI response.\n",
      "Skipping scene_24_frame_1_2497.jpg due to invalid OpenAI response.\n",
      "Request failed with status code: 429\n",
      "Request failed with status code: 429\n",
      "Skipping scene_77_frame_1_7515.jpg due to invalid OpenAI response.\n",
      "Skipping scene_50_frame_1_4866.jpg due to invalid OpenAI response.\n",
      "Request failed with status code: 429\n",
      "Request failed with status code: 429\n",
      "Skipping scene_60_frame_1_5802.jpg due to invalid OpenAI response.\n",
      "Skipping scene_63_frame_1_6172.jpg due to invalid OpenAI response.\n",
      "Request failed with status code: 429\n",
      "Skipping scene_105_frame_1_10743.jpg due to invalid OpenAI response.\n",
      "Request failed with status code: 429\n",
      "Skipping scene_104_frame_1_10676.jpg due to invalid OpenAI response.\n",
      "Request failed with status code: 429\n",
      "Skipping scene_73_frame_1_7131.jpg due to invalid OpenAI response.\n",
      "Request failed with status code: 429\n",
      "Skipping scene_51_frame_1_4963.jpg due to invalid OpenAI response.\n",
      "Request failed with status code: 429\n",
      "Skipping scene_128_frame_1_13788.jpg due to invalid OpenAI response.\n",
      "Request failed with status code: 429\n",
      "Request failed with status code: 429\n",
      "Skipping scene_107_frame_1_11042.jpg due to invalid OpenAI response.\n",
      "Skipping scene_134_frame_1_14517.jpg due to invalid OpenAI response.\n",
      "Request failed with status code: 429\n",
      "Skipping scene_139_frame_1_14971.jpg due to invalid OpenAI response.\n",
      "Request failed with status code: 429\n",
      "Request failed with status code: 429\n",
      "Request failed with status code: 429\n",
      "Request failed with status code: 429\n",
      "Request failed with status code: 429\n",
      "Request failed with status code: 429\n",
      "Request failed with status code: 429\n",
      "Skipping scene_157_frame_1_16674.jpg due to invalid OpenAI response.\n",
      "Skipping scene_116_frame_1_12424.jpg due to invalid OpenAI response.\n",
      "Skipping scene_79_frame_1_8113.jpg due to invalid OpenAI response.\n",
      "Skipping scene_127_frame_1_13706.jpg due to invalid OpenAI response.\n",
      "Skipping scene_115_frame_1_12341.jpg due to invalid OpenAI response.\n",
      "Skipping scene_144_frame_1_15390.jpg due to invalid OpenAI response.\n",
      "Skipping scene_126_frame_1_13625.jpg due to invalid OpenAI response.\n",
      "Request failed with status code: 429\n",
      "Skipping scene_148_frame_1_16065.jpg due to invalid OpenAI response.\n",
      "Request failed with status code: 429\n",
      "Skipping scene_111_frame_1_11496.jpg due to invalid OpenAI response.\n",
      "Request failed with status code: 429\n",
      "Skipping scene_132_frame_1_14199.jpg due to invalid OpenAI response.\n",
      "Request failed with status code: 429\n",
      "Request failed with status code: 429\n",
      "Skipping scene_137_frame_1_14745.jpg due to invalid OpenAI response.\n",
      "Skipping scene_122_frame_1_13156.jpg due to invalid OpenAI response.\n",
      "Analysis for scene_159_frame_1_17000.jpg saved as scene_159_analysis.json\n",
      "Analysis for scene_84_frame_1_8695.jpg saved as scene_84_analysis.json\n",
      "Analysis for scene_82_frame_1_8623.jpg saved as scene_82_analysis.json\n",
      "Analysis for scene_1_frame_1_0.jpg saved as scene_1_analysis.json\n",
      "Analysis for scene_72_frame_1_7047.jpg saved as scene_72_analysis.json\n",
      "Analysis for scene_6_frame_1_665.jpg saved as scene_6_analysis.json\n",
      "Analysis for scene_133_frame_1_14429.jpg saved as scene_133_analysis.json\n",
      "Analysis for scene_103_frame_1_10556.jpg saved as scene_103_analysis.json\n",
      "Analysis for scene_23_frame_1_2362.jpg saved as scene_23_analysis.json\n",
      "Analysis for scene_19_frame_1_1863.jpg saved as scene_19_analysis.json\n",
      "Analysis for scene_86_frame_1_8847.jpg saved as scene_86_analysis.json\n",
      "Analysis for scene_93_frame_1_9569.jpg saved as scene_93_analysis.json\n",
      "Analysis for scene_99_frame_1_10389.jpg saved as scene_99_analysis.json\n",
      "Analysis for scene_11_frame_1_948.jpg saved as scene_11_analysis.json\n",
      "Analysis for scene_39_frame_1_4189.jpg saved as scene_39_analysis.json\n",
      "Analysis for scene_28_frame_1_2950.jpg saved as scene_28_analysis.json\n",
      "Analysis for scene_110_frame_1_11421.jpg saved as scene_110_analysis.json\n",
      "Analysis for scene_68_frame_1_6576.jpg saved as scene_68_analysis.json\n",
      "Analysis for scene_121_frame_1_13041.jpg saved as scene_121_analysis.json\n",
      "Analysis for scene_131_frame_1_14161.jpg saved as scene_131_analysis.json\n",
      "Analysis for scene_62_frame_1_6103.jpg saved as scene_62_analysis.json\n",
      "Analysis for scene_42_frame_1_4480.jpg saved as scene_42_analysis.json\n",
      "Analysis for scene_59_frame_1_5752.jpg saved as scene_59_analysis.json\n",
      "Analysis for scene_2_frame_1_209.jpg saved as scene_2_analysis.json\n",
      "Analysis for scene_3_frame_1_483.jpg saved as scene_3_analysis.json\n",
      "Analysis for scene_108_frame_1_11127.jpg saved as scene_108_analysis.json\n",
      "Analysis for scene_136_frame_1_14721.jpg saved as scene_136_analysis.json\n",
      "Analysis for scene_149_frame_1_16106.jpg saved as scene_149_analysis.json\n",
      "Analysis for scene_76_frame_1_7456.jpg saved as scene_76_analysis.json\n",
      "Analysis for scene_16_frame_1_1460.jpg saved as scene_16_analysis.json\n",
      "Analysis for scene_130_frame_1_14082.jpg saved as scene_130_analysis.json\n",
      "Analysis for scene_4_frame_1_601.jpg saved as scene_4_analysis.json\n",
      "Analysis for scene_47_frame_1_4744.jpg saved as scene_47_analysis.json\n",
      "Analysis for scene_87_frame_1_8925.jpg saved as scene_87_analysis.json\n",
      "Analysis for scene_81_frame_1_8372.jpg saved as scene_81_analysis.json\n",
      "Analysis for scene_152_frame_1_16308.jpg saved as scene_152_analysis.json\n",
      "Analysis for scene_54_frame_1_5344.jpg saved as scene_54_analysis.json\n",
      "Analysis for scene_135_frame_1_14585.jpg saved as scene_135_analysis.json\n",
      "Analysis for scene_25_frame_1_2538.jpg saved as scene_25_analysis.json\n",
      "Analysis for scene_124_frame_1_13471.jpg saved as scene_124_analysis.json\n",
      "Analysis for scene_46_frame_1_4670.jpg saved as scene_46_analysis.json\n",
      "Analysis for scene_145_frame_1_15556.jpg saved as scene_145_analysis.json\n",
      "Analysis for scene_27_frame_1_2787.jpg saved as scene_27_analysis.json\n",
      "Analysis for scene_140_frame_1_15047.jpg saved as scene_140_analysis.json\n",
      "Analysis for scene_12_frame_1_1058.jpg saved as scene_12_analysis.json\n",
      "Analysis for scene_154_frame_1_16374.jpg saved as scene_154_analysis.json\n",
      "Analysis for scene_153_frame_1_16340.jpg saved as scene_153_analysis.json\n",
      "Analysis for scene_53_frame_1_5291.jpg saved as scene_53_analysis.json\n",
      "Analysis for scene_32_frame_1_3421.jpg saved as scene_32_analysis.json\n",
      "Analysis for scene_40_frame_1_4252.jpg saved as scene_40_analysis.json\n",
      "Analysis for scene_88_frame_1_8980.jpg saved as scene_88_analysis.json\n",
      "Analysis for scene_150_frame_1_16161.jpg saved as scene_150_analysis.json\n",
      "Analysis for scene_31_frame_1_3264.jpg saved as scene_31_analysis.json\n",
      "Analysis for scene_113_frame_1_11737.jpg saved as scene_113_analysis.json\n",
      "Analysis for scene_66_frame_1_6409.jpg saved as scene_66_analysis.json\n",
      "Analysis for scene_80_frame_1_8159.jpg saved as scene_80_analysis.json\n",
      "Analysis for scene_156_frame_1_16559.jpg saved as scene_156_analysis.json\n",
      "Analysis for scene_141_frame_1_15078.jpg saved as scene_141_analysis.json\n",
      "Analysis for scene_5_frame_1_620.jpg saved as scene_5_analysis.json\n",
      "Analysis for scene_96_frame_1_10007.jpg saved as scene_96_analysis.json\n",
      "Analysis for scene_9_frame_1_797.jpg saved as scene_9_analysis.json\n",
      "Analysis for scene_14_frame_1_1251.jpg saved as scene_14_analysis.json\n",
      "Analysis for scene_147_frame_1_15846.jpg saved as scene_147_analysis.json\n",
      "Analysis for scene_7_frame_1_715.jpg saved as scene_7_analysis.json\n",
      "Analysis for scene_151_frame_1_16179.jpg saved as scene_151_analysis.json\n",
      "Analysis for scene_85_frame_1_8796.jpg saved as scene_85_analysis.json\n",
      "Analysis for scene_70_frame_1_6778.jpg saved as scene_70_analysis.json\n",
      "Analysis for scene_61_frame_1_5925.jpg saved as scene_61_analysis.json\n",
      "Analysis for scene_38_frame_1_4007.jpg saved as scene_38_analysis.json\n",
      "Analysis for scene_44_frame_1_4592.jpg saved as scene_44_analysis.json\n",
      "Analysis for scene_114_frame_1_11885.jpg saved as scene_114_analysis.json\n",
      "Analysis for scene_56_frame_1_5536.jpg saved as scene_56_analysis.json\n",
      "Analysis for scene_75_frame_1_7371.jpg saved as scene_75_analysis.json\n",
      "Analysis for scene_22_frame_1_2210.jpg saved as scene_22_analysis.json\n",
      "Analysis for scene_35_frame_1_3707.jpg saved as scene_35_analysis.json\n",
      "Analysis for scene_95_frame_1_9766.jpg saved as scene_95_analysis.json\n",
      "Analysis for scene_109_frame_1_11230.jpg saved as scene_109_analysis.json\n",
      "Analysis for scene_58_frame_1_5622.jpg saved as scene_58_analysis.json\n",
      "Analysis for scene_112_frame_1_11668.jpg saved as scene_112_analysis.json\n",
      "Analysis for scene_146_frame_1_15770.jpg saved as scene_146_analysis.json\n",
      "Analysis for scene_118_frame_1_12621.jpg saved as scene_118_analysis.json\n",
      "Analysis for scene_26_frame_1_2707.jpg saved as scene_26_analysis.json\n",
      "Analysis for scene_17_frame_1_1714.jpg saved as scene_17_analysis.json\n",
      "Analysis for scene_37_frame_1_3941.jpg saved as scene_37_analysis.json\n",
      "Analysis for scene_18_frame_1_1762.jpg saved as scene_18_analysis.json\n",
      "Analysis for scene_10_frame_1_881.jpg saved as scene_10_analysis.json\n",
      "Analysis for scene_69_frame_1_6636.jpg saved as scene_69_analysis.json\n",
      "Analysis for scene_15_frame_1_1362.jpg saved as scene_15_analysis.json\n",
      "Analysis for scene_21_frame_1_2049.jpg saved as scene_21_analysis.json\n",
      "Analysis for scene_41_frame_1_4381.jpg saved as scene_41_analysis.json\n",
      "Analysis for scene_43_frame_1_4527.jpg saved as scene_43_analysis.json\n",
      "Analysis for scene_74_frame_1_7241.jpg saved as scene_74_analysis.json\n",
      "Analysis for scene_155_frame_1_16406.jpg saved as scene_155_analysis.json\n",
      "Analysis for scene_123_frame_1_13324.jpg saved as scene_123_analysis.json\n",
      "Analysis for scene_29_frame_1_3041.jpg saved as scene_29_analysis.json\n",
      "Analysis for scene_13_frame_1_1074.jpg saved as scene_13_analysis.json\n",
      "Analysis for scene_8_frame_1_749.jpg saved as scene_8_analysis.json\n",
      "Analysis for scene_129_frame_1_14025.jpg saved as scene_129_analysis.json\n",
      "Analysis for scene_120_frame_1_12956.jpg saved as scene_120_analysis.json\n",
      "Analysis for scene_97_frame_1_10085.jpg saved as scene_97_analysis.json\n",
      "Analysis for scene_143_frame_1_15244.jpg saved as scene_143_analysis.json\n",
      "Analysis for scene_34_frame_1_3588.jpg saved as scene_34_analysis.json\n",
      "Analysis for scene_158_frame_1_16720.jpg saved as scene_158_analysis.json\n",
      "Analysis for scene_20_frame_1_1951.jpg saved as scene_20_analysis.json\n",
      "Analysis for scene_45_frame_1_4634.jpg saved as scene_45_analysis.json\n",
      "Analysis for scene_102_frame_1_10518.jpg saved as scene_102_analysis.json\n",
      "Analysis for scene_78_frame_1_7915.jpg saved as scene_78_analysis.json\n",
      "Analysis for scene_125_frame_1_13599.jpg saved as scene_125_analysis.json\n",
      "Analysis for scene_55_frame_1_5384.jpg saved as scene_55_analysis.json\n",
      "Analysis for scene_64_frame_1_6221.jpg saved as scene_64_analysis.json\n",
      "Analysis for scene_71_frame_1_6947.jpg saved as scene_71_analysis.json\n",
      "Analysis for scene_57_frame_1_5571.jpg saved as scene_57_analysis.json\n",
      "Analysis for scene_106_frame_1_10801.jpg saved as scene_106_analysis.json\n",
      "Analysis for scene_100_frame_1_10409.jpg saved as scene_100_analysis.json\n",
      "Analysis for scene_48_frame_1_4782.jpg saved as scene_48_analysis.json\n",
      "Analysis for scene_91_frame_1_9292.jpg saved as scene_91_analysis.json\n",
      "Analysis for scene_65_frame_1_6322.jpg saved as scene_65_analysis.json\n",
      "Analysis for scene_117_frame_1_12547.jpg saved as scene_117_analysis.json\n",
      "Analysis for scene_92_frame_1_9490.jpg saved as scene_92_analysis.json\n",
      "Analysis for scene_30_frame_1_3211.jpg saved as scene_30_analysis.json\n",
      "Analysis for scene_89_frame_1_9047.jpg saved as scene_89_analysis.json\n",
      "Analysis for scene_83_frame_1_8651.jpg saved as scene_83_analysis.json\n",
      "Analysis for scene_36_frame_1_3853.jpg saved as scene_36_analysis.json\n",
      "Analysis for scene_52_frame_1_5239.jpg saved as scene_52_analysis.json\n",
      "Analysis for scene_67_frame_1_6475.jpg saved as scene_67_analysis.json\n",
      "Analysis for scene_98_frame_1_10311.jpg saved as scene_98_analysis.json\n",
      "Analysis for scene_138_frame_1_14923.jpg saved as scene_138_analysis.json\n",
      "Analysis for scene_94_frame_1_9700.jpg saved as scene_94_analysis.json\n",
      "Analysis for scene_33_frame_1_3509.jpg saved as scene_33_analysis.json\n"
     ]
    }
   ],
   "source": [
    "import os\n",
    "import base64\n",
    "import aiohttp\n",
    "import asyncio\n",
    "import json\n",
    "from PIL import Image\n",
    "import numpy as np\n",
    "import colorsys\n",
    "import re\n",
    "import aiofiles\n",
    "import nest_asyncio\n",
    "import imageio\n",
    "import logging\n",
    "from dotenv import load_dotenv\n",
    "from scenedetect import VideoManager, SceneManager\n",
    "from scenedetect.detectors import ContentDetector\n",
    "from concurrent.futures import ThreadPoolExecutor\n",
    "\n",
    "# Apply nest_asyncio to handle the running event loop in Jupyter\n",
    "nest_asyncio.apply()\n",
    "\n",
    "# Configure logging\n",
    "logging.basicConfig(level=logging.INFO)\n",
    "\n",
    "# Load OpenAI API key from .env file\n",
    "load_dotenv()\n",
    "api_key = os.getenv(\"OPENAI_API_KEY\")\n",
    "\n",
    "# Function to encode the image asynchronously\n",
    "async def encode_image(image_path):\n",
    "    async with aiofiles.open(image_path, \"rb\") as image_file:\n",
    "        content = await image_file.read()\n",
    "        return base64.b64encode(content).decode('utf-8')\n",
    "\n",
    "# Function to determine the specific primary or special color category\n",
    "def get_color_category(color):\n",
    "    r, g, b = [x / 255.0 for x in color]\n",
    "    h, l, s = colorsys.rgb_to_hls(r, g, b)\n",
    "\n",
    "    primary_hues = {\n",
    "        \"red\": (0.0, 0.1),  \n",
    "        \"yellow\": (0.1, 0.18),\n",
    "        \"green\": (0.25, 0.4),\n",
    "        \"blue\": (0.55, 0.75),\n",
    "    }\n",
    "\n",
    "    for color_name, hue_range in primary_hues.items():\n",
    "        if hue_range[0] <= h <= hue_range[1]:\n",
    "            return color_name\n",
    "\n",
    "    if (l >= 0.9 and s <= 0.1):\n",
    "        return \"white\"\n",
    "    if (l <= 0.1 and s <= 0.1):\n",
    "        return \"black\"\n",
    "\n",
    "    return \"non-primary\"\n",
    "\n",
    "# Function to analyze image colors\n",
    "def analyze_image_colors(image_path):\n",
    "    image = Image.open(image_path)\n",
    "    image = image.convert('RGB')\n",
    "    data = np.array(image)\n",
    "\n",
    "    unique_colors, counts = np.unique(data.reshape(-1, data.shape[2]), axis=0, return_counts=True)\n",
    "    total_pixels = int(counts.sum())\n",
    "\n",
    "    color_counts = {\n",
    "        \"Red\": 0,\n",
    "        \"Yellow\": 0,\n",
    "        \"Green\": 0,\n",
    "        \"Blue\": 0,\n",
    "        \"White\": 0,\n",
    "        \"Black\": 0,\n",
    "        \"Non-primary\": 0\n",
    "    }\n",
    "\n",
    "    for color, count in zip(unique_colors, counts):\n",
    "        category = get_color_category(tuple(color))\n",
    "        color_counts[category.capitalize()] += int(count)\n",
    "\n",
    "    color_percentages = {color: (count / total_pixels) * 100 for color, count in color_counts.items()}\n",
    "    primary_total = color_counts[\"Red\"] + color_counts[\"Yellow\"] + color_counts[\"Blue\"]\n",
    "    color_dominance = \"Primary colors\" if primary_total > color_counts[\"Non-primary\"] else \"Non-primary colors\"\n",
    "\n",
    "    color_analysis_result = {\n",
    "        \"Color Analysis\": {\n",
    "            \"Colors Found\": {\n",
    "                color: {\n",
    "                    \"Pixel Count\": count,\n",
    "                    \"Percentage\": f\"{color_percentages[color]:.2f}%\"\n",
    "                } for color, count in color_counts.items()\n",
    "            },\n",
    "            \"Dominance\": color_dominance\n",
    "        }\n",
    "    }\n",
    "    \n",
    "    return color_analysis_result\n",
    "\n",
    "# Async function to send the image to OpenAI API\n",
    "async def send_image_to_openai(image_path, base64_image):\n",
    "    api_key = os.getenv(\"OPENAI_API_KEY\")\n",
    "    headers = {\n",
    "        \"Content-Type\": \"application/json\",\n",
    "        \"Authorization\": f\"Bearer {api_key}\"\n",
    "    }\n",
    "\n",
    "    payload = {\n",
    "        \"model\": \"gpt-4o-mini\",\n",
    "        \"messages\": [\n",
    "            {\n",
    "                \"role\": \"user\",\n",
    "                \"content\": [\n",
    "                    {\n",
    "                        \"type\": \"text\",\n",
    "                        \"text\": \"\"\"\n",
    "                        Analyze the following image and provide a detailed description in the format of JSON only. Ensure the output is strictly in JSON format without any additional text or code block formatting...\n",
    "                        \"\"\"\n",
    "                    },\n",
    "                    {\n",
    "                        \"type\": \"image_url\",\n",
    "                        \"image_url\": {\n",
    "                            \"url\": f\"data:image/png;base64,{base64_image}\"\n",
    "                        }\n",
    "                    }\n",
    "                ]\n",
    "            }\n",
    "        ],\n",
    "        \"max_tokens\": 750\n",
    "    }\n",
    "\n",
    "    async with aiohttp.ClientSession() as session:\n",
    "        async with session.post(\"https://api.openai.com/v1/chat/completions\", headers=headers, json=payload) as response:\n",
    "            if response.status != 200:\n",
    "                print(f\"Request failed with status code: {response.status}\")\n",
    "                return None\n",
    "            \n",
    "            content = await response.json()\n",
    "            content_text = content.get('choices', [{}])[0].get('message', {}).get('content', '').strip()\n",
    "\n",
    "            try:\n",
    "                content_dict = json.loads(content_text)\n",
    "            except json.JSONDecodeError as e:\n",
    "                print(f\"Error decoding JSON: {e}\")\n",
    "                return None\n",
    "\n",
    "            return content_dict\n",
    "\n",
    "# Async function to process all scenes in the folder\n",
    "async def process_scenes_output(output_dir, json_output_dir):\n",
    "    os.makedirs(json_output_dir, exist_ok=True)\n",
    "\n",
    "    scenes = sorted([f for f in os.listdir(output_dir) if f.endswith('.jpg')], key=extract_scene_number)\n",
    "\n",
    "    tasks = []\n",
    "    for i, scene in enumerate(scenes):\n",
    "        tasks.append(process_single_scene(i, scene, output_dir, json_output_dir))\n",
    "\n",
    "    await asyncio.gather(*tasks)\n",
    "\n",
    "# Async function to process a single scene\n",
    "async def process_single_scene(i, scene, output_dir, json_output_dir):\n",
    "    scene_path = os.path.join(output_dir, scene)\n",
    "    base64_image = await encode_image(scene_path)\n",
    "    color_analysis_result = analyze_image_colors(scene_path)\n",
    "    openai_response = await send_image_to_openai(scene_path, base64_image)\n",
    "\n",
    "    if not openai_response:\n",
    "        print(f\"Skipping {scene} due to invalid OpenAI response.\")\n",
    "        return\n",
    "\n",
    "    final_output = {\n",
    "        \"Image File\": scene,\n",
    "        \"Image Analysis\": {\n",
    "            **color_analysis_result[\"Color Analysis\"],\n",
    "            **openai_response.get(\"Image Analysis\", {})\n",
    "        }\n",
    "    }\n",
    "\n",
    "    output_filename = f'scene_{i + 1}_analysis.json'\n",
    "    output_path = os.path.join(json_output_dir, output_filename)\n",
    "\n",
    "    async with aiofiles.open(output_path, 'w') as json_file:\n",
    "        await json_file.write(json.dumps(final_output, indent=4))\n",
    "\n",
    "    print(f\"Analysis for {scene} saved as {output_filename}\")\n",
    "\n",
    "# Helper function to extract scene numbers from filenames\n",
    "def extract_scene_number(filename):\n",
    "    match = re.search(r'\\d+', filename)\n",
    "    return int(match.group()) if match else -1\n",
    "\n",
    "# Original video processing functions\n",
    "def analyze_video(video_path, threshold=27.0):\n",
    "    if not os.path.exists(video_path):\n",
    "        raise FileNotFoundError(f\"The video file {video_path} does not exist.\")\n",
    "    \n",
    "    video_manager = VideoManager([video_path])\n",
    "    scene_manager = SceneManager()\n",
    "    scene_manager.add_detector(ContentDetector(threshold=threshold))\n",
    "\n",
    "    video_manager.set_downscale_factor()\n",
    "    video_manager.start()\n",
    "\n",
    "    scene_manager.detect_scenes(frame_source=video_manager)\n",
    "    scene_list = scene_manager.get_scene_list()\n",
    "\n",
    "    video_manager.release()\n",
    "\n",
    "    logging.info(f'Detected {len(scene_list)} scenes:')\n",
    "    for i, scene in enumerate(scene_list):\n",
    "        logging.info(f'Scene {i + 1}: Start {scene[0].get_timecode()} / Frame {scene[0].get_frames()}, '\n",
    "              f'End {scene[1].get_timecode()} / Frame {scene[1].get_frames()}')\n",
    "\n",
    "    return scene_list\n",
    "\n",
    "def process_frame(reader, frame_idx, output_path):\n",
    "    try:\n",
    "        frame = reader.get_data(frame_idx)\n",
    "        imageio.imwrite(output_path, frame)\n",
    "        with open(output_path, \"rb\") as image_file:\n",
    "            return base64.b64encode(image_file.read()).decode('utf-8')\n",
    "    except Exception as e:\n",
    "        logging.error(f\"Failed to extract frame {frame_idx}: {e}\")\n",
    "        return None\n",
    "\n",
    "def extract_frames_imageio(video_path, scenes, output_dir):\n",
    "    os.makedirs(output_dir, exist_ok=True)\n",
    "    reader = imageio.get_reader(video_path, 'ffmpeg')\n",
    "    key_frames_base64 = []\n",
    "\n",
    "    with ThreadPoolExecutor() as executor:\n",
    "        for i, scene in enumerate(scenes):\n",
    "            start_frame, end_frame = scene[0].get_frames(), scene[1].get_frames()\n",
    "            key_frame_indices = [start_frame, (start_frame + end_frame) // 2, end_frame]\n",
    "\n",
    "            futures = [\n",
    "                executor.submit(process_frame, reader, frame_idx, os.path.join(output_dir, f'scene_{i + 1}_frame_{idx + 1}_{frame_idx}.jpg'))\n",
    "                for idx, frame_idx in enumerate(key_frame_indices)\n",
    "            ]\n",
    "\n",
    "            for future in futures:\n",
    "                result = future.result()\n",
    "                if result:\n",
    "                    key_frames_base64.append(result)\n",
    "\n",
    "    return key_frames_base64\n",
    "\n",
    "# Main function to process videos and analyze images\n",
    "def process_videos_in_directory(directory_path, output_base_dir, threshold=27.0):\n",
    "    # Get all video files in the directory\n",
    "    video_files = [f for f in os.listdir(directory_path) if f.endswith(('.mp4', '.avi', '.mkv'))]\n",
    "\n",
    "    if not video_files:\n",
    "        logging.info(\"No video files found in the directory.\")\n",
    "        return\n",
    "\n",
    "    for video_file in video_files:\n",
    "        video_path = os.path.join(directory_path, video_file)\n",
    "        video_name = os.path.splitext(video_file)[0]\n",
    "        \n",
    "        # Create a folder named after the video inside the output_base_dir\n",
    "        video_output_dir = os.path.join(output_base_dir, video_name)\n",
    "        scenes_output_dir = os.path.join(video_output_dir, 'scenes_output')\n",
    "        json_output_dir = os.path.join(video_output_dir, 'json_output')\n",
    "\n",
    "        os.makedirs(scenes_output_dir, exist_ok=True)\n",
    "\n",
    "        logging.info(f\"Processing video: {video_file}\")\n",
    "        \n",
    "        # Analyze the video and extract scenes\n",
    "        scenes = analyze_video(video_path, threshold)\n",
    "        key_frames_base64 = extract_frames_imageio(video_path, scenes, scenes_output_dir)\n",
    "\n",
    "        # Analyze all scenes and save the JSON output\n",
    "        loop = asyncio.get_event_loop()\n",
    "        if loop.is_running():\n",
    "            task = loop.create_task(process_scenes_output(scenes_output_dir, json_output_dir))\n",
    "        else:\n",
    "            loop.run_until_complete(process_scenes_output(scenes_output_dir, json_output_dir))\n",
    "\n",
    "        logging.info(f\"Finished processing video: {video_file}\")\n",
    "        logging.info(f\"Extracted {len(key_frames_base64)} key frames.\")\n",
    "\n",
    "# Main script execution\n",
    "video_directory = '/Users/santiagowon/Dropbox/Santiago/01. Maestria/Tesis/02_Video_DB'\n",
    "output_base_directory = '/Users/santiagowon/Dropbox/Santiago/01. Maestria/Tesis/11_Project_Analysed_DB'\n",
    "\n",
    "# Process all videos in the directory\n",
    "process_videos_in_directory(video_directory, output_base_directory)\n"
   ]
  },
  {
   "cell_type": "code",
   "execution_count": 3,
   "metadata": {},
   "outputs": [
    {
     "name": "stdout",
     "output_type": "stream",
     "text": [
      "Requirement already satisfied: tqdm in /Users/santiagowon/anaconda3/lib/python3.11/site-packages (4.66.2)\n",
      "Note: you may need to restart the kernel to use updated packages.\n"
     ]
    }
   ],
   "source": [
    "%pip install tqdm"
   ]
  },
  {
   "cell_type": "code",
   "execution_count": 5,
   "metadata": {},
   "outputs": [
    {
     "name": "stderr",
     "output_type": "stream",
     "text": [
      "Processing Videos:   0%|          | 0/2 [00:00<?, ?video/s]ERROR:pyscenedetect:VideoManager is deprecated and will be removed.\n",
      "INFO:pyscenedetect:Loaded 1 video, framerate: 23.976 FPS, resolution: 1280 x 720\n",
      "INFO:pyscenedetect:Downscale factor set to 5, effective resolution: 256 x 144\n",
      "INFO:pyscenedetect:Detecting scenes...\n"
     ]
    },
    {
     "name": "stdout",
     "output_type": "stream",
     "text": [
      "Processing video 1/2: Duck_And_Goose.mkv\n"
     ]
    },
    {
     "name": "stderr",
     "output_type": "stream",
     "text": [
      "INFO:root:Detected 209 scenes:\n",
      "INFO:root:Scene 1: Start 00:00:00.000 / Frame 0, End 00:00:09.551 / Frame 229\n",
      "INFO:root:Scene 2: Start 00:00:09.551 / Frame 229, End 00:00:11.887 / Frame 285\n",
      "INFO:root:Scene 3: Start 00:00:11.887 / Frame 285, End 00:00:26.109 / Frame 626\n",
      "INFO:root:Scene 4: Start 00:00:26.109 / Frame 626, End 00:00:28.737 / Frame 689\n",
      "INFO:root:Scene 5: Start 00:00:28.737 / Frame 689, End 00:00:32.115 / Frame 770\n",
      "INFO:root:Scene 6: Start 00:00:32.115 / Frame 770, End 00:00:33.992 / Frame 815\n",
      "INFO:root:Scene 7: Start 00:00:33.992 / Frame 815, End 00:00:34.910 / Frame 837\n",
      "INFO:root:Scene 8: Start 00:00:34.910 / Frame 837, End 00:00:39.498 / Frame 947\n",
      "INFO:root:Scene 9: Start 00:00:39.498 / Frame 947, End 00:00:45.587 / Frame 1093\n",
      "INFO:root:Scene 10: Start 00:00:45.587 / Frame 1093, End 00:00:55.430 / Frame 1329\n",
      "INFO:root:Scene 11: Start 00:00:55.430 / Frame 1329, End 00:00:58.976 / Frame 1414\n",
      "INFO:root:Scene 12: Start 00:00:58.976 / Frame 1414, End 00:01:00.727 / Frame 1456\n",
      "INFO:root:Scene 13: Start 00:01:00.727 / Frame 1456, End 00:01:07.442 / Frame 1617\n",
      "INFO:root:Scene 14: Start 00:01:07.442 / Frame 1617, End 00:01:12.572 / Frame 1740\n",
      "INFO:root:Scene 15: Start 00:01:12.572 / Frame 1740, End 00:01:15.200 / Frame 1803\n",
      "INFO:root:Scene 16: Start 00:01:15.200 / Frame 1803, End 00:01:32.092 / Frame 2208\n",
      "INFO:root:Scene 17: Start 00:01:32.092 / Frame 2208, End 00:01:41.393 / Frame 2431\n",
      "INFO:root:Scene 18: Start 00:01:41.393 / Frame 2431, End 00:01:50.652 / Frame 2653\n",
      "INFO:root:Scene 19: Start 00:01:50.652 / Frame 2653, End 00:01:53.196 / Frame 2714\n",
      "INFO:root:Scene 20: Start 00:01:53.196 / Frame 2714, End 00:01:57.659 / Frame 2821\n",
      "INFO:root:Scene 21: Start 00:01:57.659 / Frame 2821, End 00:02:04.416 / Frame 2983\n",
      "INFO:root:Scene 22: Start 00:02:04.416 / Frame 2983, End 00:02:07.210 / Frame 3050\n",
      "INFO:root:Scene 23: Start 00:02:07.210 / Frame 3050, End 00:02:14.301 / Frame 3220\n",
      "INFO:root:Scene 24: Start 00:02:14.301 / Frame 3220, End 00:02:16.762 / Frame 3279\n",
      "INFO:root:Scene 25: Start 00:02:16.762 / Frame 3279, End 00:02:19.139 / Frame 3336\n",
      "INFO:root:Scene 26: Start 00:02:19.139 / Frame 3336, End 00:02:28.398 / Frame 3558\n",
      "INFO:root:Scene 27: Start 00:02:28.398 / Frame 3558, End 00:02:42.371 / Frame 3893\n",
      "INFO:root:Scene 28: Start 00:02:42.371 / Frame 3893, End 00:02:53.924 / Frame 4170\n",
      "INFO:root:Scene 29: Start 00:02:53.924 / Frame 4170, End 00:03:04.559 / Frame 4425\n",
      "INFO:root:Scene 30: Start 00:03:04.559 / Frame 4425, End 00:03:15.195 / Frame 4680\n",
      "INFO:root:Scene 31: Start 00:03:15.195 / Frame 4680, End 00:03:17.948 / Frame 4746\n",
      "INFO:root:Scene 32: Start 00:03:17.948 / Frame 4746, End 00:03:19.533 / Frame 4784\n",
      "INFO:root:Scene 33: Start 00:03:19.533 / Frame 4784, End 00:03:36.842 / Frame 5199\n",
      "INFO:root:Scene 34: Start 00:03:36.842 / Frame 5199, End 00:03:41.555 / Frame 5312\n",
      "INFO:root:Scene 35: Start 00:03:41.555 / Frame 5312, End 00:03:49.187 / Frame 5495\n",
      "INFO:root:Scene 36: Start 00:03:49.187 / Frame 5495, End 00:03:52.858 / Frame 5583\n",
      "INFO:root:Scene 37: Start 00:03:52.858 / Frame 5583, End 00:04:01.950 / Frame 5801\n",
      "INFO:root:Scene 38: Start 00:04:01.950 / Frame 5801, End 00:04:06.496 / Frame 5910\n",
      "INFO:root:Scene 39: Start 00:04:06.496 / Frame 5910, End 00:04:11.543 / Frame 6031\n",
      "INFO:root:Scene 40: Start 00:04:11.543 / Frame 6031, End 00:04:19.926 / Frame 6232\n",
      "INFO:root:Scene 41: Start 00:04:19.926 / Frame 6232, End 00:04:25.974 / Frame 6377\n",
      "INFO:root:Scene 42: Start 00:04:25.974 / Frame 6377, End 00:04:28.268 / Frame 6432\n",
      "INFO:root:Scene 43: Start 00:04:28.268 / Frame 6432, End 00:04:33.815 / Frame 6565\n",
      "INFO:root:Scene 44: Start 00:04:33.815 / Frame 6565, End 00:04:44.618 / Frame 6824\n",
      "INFO:root:Scene 45: Start 00:04:44.618 / Frame 6824, End 00:05:15.190 / Frame 7557\n",
      "INFO:root:Scene 46: Start 00:05:15.190 / Frame 7557, End 00:05:29.079 / Frame 7890\n",
      "INFO:root:Scene 47: Start 00:05:29.079 / Frame 7890, End 00:05:33.792 / Frame 8003\n",
      "INFO:root:Scene 48: Start 00:05:33.792 / Frame 8003, End 00:05:36.586 / Frame 8070\n",
      "INFO:root:Scene 49: Start 00:05:36.586 / Frame 8070, End 00:05:38.004 / Frame 8104\n",
      "INFO:root:Scene 50: Start 00:05:38.004 / Frame 8104, End 00:05:41.299 / Frame 8183\n",
      "INFO:root:Scene 51: Start 00:05:41.299 / Frame 8183, End 00:05:42.968 / Frame 8223\n",
      "INFO:root:Scene 52: Start 00:05:42.968 / Frame 8223, End 00:05:46.555 / Frame 8309\n",
      "INFO:root:Scene 53: Start 00:05:46.555 / Frame 8309, End 00:05:48.598 / Frame 8358\n",
      "INFO:root:Scene 54: Start 00:05:48.598 / Frame 8358, End 00:05:50.267 / Frame 8398\n",
      "INFO:root:Scene 55: Start 00:05:50.267 / Frame 8398, End 00:05:58.775 / Frame 8602\n",
      "INFO:root:Scene 56: Start 00:05:58.775 / Frame 8602, End 00:06:06.741 / Frame 8793\n",
      "INFO:root:Scene 57: Start 00:06:06.741 / Frame 8793, End 00:06:10.745 / Frame 8889\n",
      "INFO:root:Scene 58: Start 00:06:10.745 / Frame 8889, End 00:06:13.832 / Frame 8963\n",
      "INFO:root:Scene 59: Start 00:06:13.832 / Frame 8963, End 00:06:15.917 / Frame 9013\n",
      "INFO:root:Scene 60: Start 00:06:15.917 / Frame 9013, End 00:06:22.591 / Frame 9173\n",
      "INFO:root:Scene 61: Start 00:06:22.591 / Frame 9173, End 00:06:25.468 / Frame 9242\n",
      "INFO:root:Scene 62: Start 00:06:25.468 / Frame 9242, End 00:06:28.013 / Frame 9303\n",
      "INFO:root:Scene 63: Start 00:06:28.013 / Frame 9303, End 00:06:30.765 / Frame 9369\n",
      "INFO:root:Scene 64: Start 00:06:30.765 / Frame 9369, End 00:06:36.521 / Frame 9507\n",
      "INFO:root:Scene 65: Start 00:06:36.521 / Frame 9507, End 00:06:42.068 / Frame 9640\n",
      "INFO:root:Scene 66: Start 00:06:42.068 / Frame 9640, End 00:06:44.946 / Frame 9709\n",
      "INFO:root:Scene 67: Start 00:06:44.946 / Frame 9709, End 00:06:57.042 / Frame 9999\n",
      "INFO:root:Scene 68: Start 00:06:57.042 / Frame 9999, End 00:07:04.174 / Frame 10170\n",
      "INFO:root:Scene 69: Start 00:07:04.174 / Frame 10170, End 00:07:18.063 / Frame 10503\n",
      "INFO:root:Scene 70: Start 00:07:18.063 / Frame 10503, End 00:07:21.399 / Frame 10583\n",
      "INFO:root:Scene 71: Start 00:07:21.399 / Frame 10583, End 00:07:37.165 / Frame 10961\n",
      "INFO:root:Scene 72: Start 00:07:37.165 / Frame 10961, End 00:07:41.044 / Frame 11054\n",
      "INFO:root:Scene 73: Start 00:07:41.044 / Frame 11054, End 00:07:43.254 / Frame 11107\n",
      "INFO:root:Scene 74: Start 00:07:43.254 / Frame 11107, End 00:07:46.800 / Frame 11192\n",
      "INFO:root:Scene 75: Start 00:07:46.800 / Frame 11192, End 00:07:52.055 / Frame 11318\n",
      "INFO:root:Scene 76: Start 00:07:52.055 / Frame 11318, End 00:08:02.857 / Frame 11577\n",
      "INFO:root:Scene 77: Start 00:08:02.857 / Frame 11577, End 00:08:11.950 / Frame 11795\n",
      "INFO:root:Scene 78: Start 00:08:11.950 / Frame 11795, End 00:08:16.454 / Frame 11903\n",
      "INFO:root:Scene 79: Start 00:08:16.454 / Frame 11903, End 00:08:24.379 / Frame 12093\n",
      "INFO:root:Scene 80: Start 00:08:24.379 / Frame 12093, End 00:08:27.173 / Frame 12160\n",
      "INFO:root:Scene 81: Start 00:08:27.173 / Frame 12160, End 00:08:36.015 / Frame 12372\n",
      "INFO:root:Scene 82: Start 00:08:36.015 / Frame 12372, End 00:08:56.453 / Frame 12862\n",
      "INFO:root:Scene 83: Start 00:08:56.453 / Frame 12862, End 00:09:02.333 / Frame 13003\n",
      "INFO:root:Scene 84: Start 00:09:02.333 / Frame 13003, End 00:09:11.426 / Frame 13221\n",
      "INFO:root:Scene 85: Start 00:09:11.426 / Frame 13221, End 00:09:14.637 / Frame 13298\n",
      "INFO:root:Scene 86: Start 00:09:14.637 / Frame 13298, End 00:09:27.817 / Frame 13614\n",
      "INFO:root:Scene 87: Start 00:09:27.817 / Frame 13614, End 00:09:32.697 / Frame 13731\n",
      "INFO:root:Scene 88: Start 00:09:32.697 / Frame 13731, End 00:09:40.622 / Frame 13921\n",
      "INFO:root:Scene 89: Start 00:09:40.622 / Frame 13921, End 00:09:43.124 / Frame 13981\n",
      "INFO:root:Scene 90: Start 00:09:43.124 / Frame 13981, End 00:09:44.125 / Frame 14005\n",
      "INFO:root:Scene 91: Start 00:09:44.125 / Frame 14005, End 00:09:54.177 / Frame 14246\n",
      "INFO:root:Scene 92: Start 00:09:54.177 / Frame 14246, End 00:09:56.930 / Frame 14312\n",
      "INFO:root:Scene 93: Start 00:09:56.930 / Frame 14312, End 00:10:01.643 / Frame 14425\n",
      "INFO:root:Scene 94: Start 00:10:01.643 / Frame 14425, End 00:10:11.194 / Frame 14654\n",
      "INFO:root:Scene 95: Start 00:10:11.194 / Frame 14654, End 00:10:17.867 / Frame 14814\n",
      "INFO:root:Scene 96: Start 00:10:17.867 / Frame 14814, End 00:10:20.912 / Frame 14887\n",
      "INFO:root:Scene 97: Start 00:10:20.912 / Frame 14887, End 00:10:22.038 / Frame 14914\n",
      "INFO:root:Scene 98: Start 00:10:22.038 / Frame 14914, End 00:10:25.375 / Frame 14994\n",
      "INFO:root:Scene 99: Start 00:10:25.375 / Frame 14994, End 00:10:27.877 / Frame 15054\n",
      "INFO:root:Scene 100: Start 00:10:27.877 / Frame 15054, End 00:10:45.353 / Frame 15473\n",
      "INFO:root:Scene 101: Start 00:10:45.353 / Frame 15473, End 00:10:52.402 / Frame 15642\n",
      "INFO:root:Scene 102: Start 00:10:52.402 / Frame 15642, End 00:10:55.321 / Frame 15712\n",
      "INFO:root:Scene 103: Start 00:10:55.321 / Frame 15712, End 00:10:59.576 / Frame 15814\n",
      "INFO:root:Scene 104: Start 00:10:59.576 / Frame 15814, End 00:11:02.453 / Frame 15883\n",
      "INFO:root:Scene 105: Start 00:11:02.453 / Frame 15883, End 00:11:06.082 / Frame 15970\n",
      "INFO:root:Scene 106: Start 00:11:06.082 / Frame 15970, End 00:11:13.047 / Frame 16137\n",
      "INFO:root:Scene 107: Start 00:11:13.047 / Frame 16137, End 00:11:24.517 / Frame 16412\n",
      "INFO:root:Scene 108: Start 00:11:24.517 / Frame 16412, End 00:11:28.354 / Frame 16504\n",
      "INFO:root:Scene 109: Start 00:11:28.354 / Frame 16504, End 00:11:29.606 / Frame 16534\n",
      "INFO:root:Scene 110: Start 00:11:29.606 / Frame 16534, End 00:11:36.321 / Frame 16695\n",
      "INFO:root:Scene 111: Start 00:11:36.321 / Frame 16695, End 00:11:38.323 / Frame 16743\n",
      "INFO:root:Scene 112: Start 00:11:38.323 / Frame 16743, End 00:11:46.205 / Frame 16932\n",
      "INFO:root:Scene 113: Start 00:11:46.205 / Frame 16932, End 00:11:52.253 / Frame 17077\n",
      "INFO:root:Scene 114: Start 00:11:52.253 / Frame 17077, End 00:11:58.593 / Frame 17229\n",
      "INFO:root:Scene 115: Start 00:11:58.593 / Frame 17229, End 00:12:01.137 / Frame 17290\n",
      "INFO:root:Scene 116: Start 00:12:01.137 / Frame 17290, End 00:12:10.313 / Frame 17510\n",
      "INFO:root:Scene 117: Start 00:12:10.313 / Frame 17510, End 00:12:12.565 / Frame 17564\n",
      "INFO:root:Scene 118: Start 00:12:12.565 / Frame 17564, End 00:12:25.036 / Frame 17863\n",
      "INFO:root:Scene 119: Start 00:12:25.036 / Frame 17863, End 00:12:28.373 / Frame 17943\n",
      "INFO:root:Scene 120: Start 00:12:28.373 / Frame 17943, End 00:12:36.798 / Frame 18145\n",
      "INFO:root:Scene 121: Start 00:12:36.798 / Frame 18145, End 00:12:47.517 / Frame 18402\n",
      "INFO:root:Scene 122: Start 00:12:47.517 / Frame 18402, End 00:12:53.439 / Frame 18544\n",
      "INFO:root:Scene 123: Start 00:12:53.439 / Frame 18544, End 00:13:05.243 / Frame 18827\n",
      "INFO:root:Scene 124: Start 00:13:05.243 / Frame 18827, End 00:13:17.630 / Frame 19124\n",
      "INFO:root:Scene 125: Start 00:13:17.630 / Frame 19124, End 00:13:18.923 / Frame 19155\n",
      "INFO:root:Scene 126: Start 00:13:18.923 / Frame 19155, End 00:13:24.303 / Frame 19284\n",
      "INFO:root:Scene 127: Start 00:13:24.303 / Frame 19284, End 00:13:27.974 / Frame 19372\n",
      "INFO:root:Scene 128: Start 00:13:27.974 / Frame 19372, End 00:13:40.278 / Frame 19667\n",
      "INFO:root:Scene 129: Start 00:13:40.278 / Frame 19667, End 00:13:42.321 / Frame 19716\n",
      "INFO:root:Scene 130: Start 00:13:42.321 / Frame 19716, End 00:13:48.244 / Frame 19858\n",
      "INFO:root:Scene 131: Start 00:13:48.244 / Frame 19858, End 00:14:04.927 / Frame 20258\n",
      "INFO:root:Scene 132: Start 00:14:04.927 / Frame 20258, End 00:14:08.222 / Frame 20337\n",
      "INFO:root:Scene 133: Start 00:14:08.222 / Frame 20337, End 00:14:13.311 / Frame 20459\n",
      "INFO:root:Scene 134: Start 00:14:13.311 / Frame 20459, End 00:14:24.405 / Frame 20725\n",
      "INFO:root:Scene 135: Start 00:14:24.405 / Frame 20725, End 00:14:32.205 / Frame 20912\n",
      "INFO:root:Scene 136: Start 00:14:32.205 / Frame 20912, End 00:14:38.920 / Frame 21073\n",
      "INFO:root:Scene 137: Start 00:14:38.920 / Frame 21073, End 00:14:54.393 / Frame 21444\n",
      "INFO:root:Scene 138: Start 00:14:54.393 / Frame 21444, End 00:15:01.734 / Frame 21620\n",
      "INFO:root:Scene 139: Start 00:15:01.734 / Frame 21620, End 00:15:11.786 / Frame 21861\n",
      "INFO:root:Scene 140: Start 00:15:11.786 / Frame 21861, End 00:15:24.882 / Frame 22175\n",
      "INFO:root:Scene 141: Start 00:15:24.882 / Frame 22175, End 00:15:27.885 / Frame 22247\n",
      "INFO:root:Scene 142: Start 00:15:27.885 / Frame 22247, End 00:15:29.053 / Frame 22275\n",
      "INFO:root:Scene 143: Start 00:15:29.053 / Frame 22275, End 00:15:30.263 / Frame 22304\n",
      "INFO:root:Scene 144: Start 00:15:30.263 / Frame 22304, End 00:15:33.891 / Frame 22391\n",
      "INFO:root:Scene 145: Start 00:15:33.891 / Frame 22391, End 00:15:34.976 / Frame 22417\n",
      "INFO:root:Scene 146: Start 00:15:34.976 / Frame 22417, End 00:15:37.937 / Frame 22488\n",
      "INFO:root:Scene 147: Start 00:15:37.937 / Frame 22488, End 00:15:45.987 / Frame 22681\n",
      "INFO:root:Scene 148: Start 00:15:45.987 / Frame 22681, End 00:15:47.822 / Frame 22725\n",
      "INFO:root:Scene 149: Start 00:15:47.822 / Frame 22725, End 00:15:49.615 / Frame 22768\n",
      "INFO:root:Scene 150: Start 00:15:49.615 / Frame 22768, End 00:15:50.491 / Frame 22789\n",
      "INFO:root:Scene 151: Start 00:15:50.491 / Frame 22789, End 00:16:09.510 / Frame 23245\n",
      "INFO:root:Scene 152: Start 00:16:09.510 / Frame 23245, End 00:16:10.761 / Frame 23275\n",
      "INFO:root:Scene 153: Start 00:16:10.761 / Frame 23275, End 00:16:17.935 / Frame 23447\n",
      "INFO:root:Scene 154: Start 00:16:17.935 / Frame 23447, End 00:16:33.492 / Frame 23820\n",
      "INFO:root:Scene 155: Start 00:16:33.492 / Frame 23820, End 00:16:39.832 / Frame 23972\n",
      "INFO:root:Scene 156: Start 00:16:39.832 / Frame 23972, End 00:16:44.378 / Frame 24081\n",
      "INFO:root:Scene 157: Start 00:16:44.378 / Frame 24081, End 00:16:50.635 / Frame 24231\n",
      "INFO:root:Scene 158: Start 00:16:50.635 / Frame 24231, End 00:16:54.347 / Frame 24320\n",
      "INFO:root:Scene 159: Start 00:16:54.347 / Frame 24320, End 00:17:02.897 / Frame 24525\n",
      "INFO:root:Scene 160: Start 00:17:02.897 / Frame 24525, End 00:17:11.530 / Frame 24732\n",
      "INFO:root:Scene 161: Start 00:17:11.530 / Frame 24732, End 00:17:14.784 / Frame 24810\n",
      "INFO:root:Scene 162: Start 00:17:14.784 / Frame 24810, End 00:17:29.590 / Frame 25165\n",
      "INFO:root:Scene 163: Start 00:17:29.590 / Frame 25165, End 00:17:31.842 / Frame 25219\n",
      "INFO:root:Scene 164: Start 00:17:31.842 / Frame 25219, End 00:17:34.637 / Frame 25286\n",
      "INFO:root:Scene 165: Start 00:17:34.637 / Frame 25286, End 00:17:38.349 / Frame 25375\n",
      "INFO:root:Scene 166: Start 00:17:38.349 / Frame 25375, End 00:17:40.226 / Frame 25420\n",
      "INFO:root:Scene 167: Start 00:17:40.226 / Frame 25420, End 00:17:41.686 / Frame 25455\n",
      "INFO:root:Scene 168: Start 00:17:41.686 / Frame 25455, End 00:17:45.773 / Frame 25553\n",
      "INFO:root:Scene 169: Start 00:17:45.773 / Frame 25553, End 00:18:22.268 / Frame 26428\n",
      "INFO:root:Scene 170: Start 00:18:22.268 / Frame 26428, End 00:18:32.903 / Frame 26683\n",
      "INFO:root:Scene 171: Start 00:18:32.903 / Frame 26683, End 00:18:37.116 / Frame 26784\n",
      "INFO:root:Scene 172: Start 00:18:37.116 / Frame 26784, End 00:18:39.452 / Frame 26840\n",
      "INFO:root:Scene 173: Start 00:18:39.452 / Frame 26840, End 00:19:00.639 / Frame 27348\n",
      "INFO:root:Scene 174: Start 00:19:00.639 / Frame 27348, End 00:19:08.189 / Frame 27529\n",
      "INFO:root:Scene 175: Start 00:19:08.189 / Frame 27529, End 00:19:10.024 / Frame 27573\n",
      "INFO:root:Scene 176: Start 00:19:10.024 / Frame 27573, End 00:19:12.818 / Frame 27640\n",
      "INFO:root:Scene 177: Start 00:19:12.818 / Frame 27640, End 00:19:19.700 / Frame 27805\n",
      "INFO:root:Scene 178: Start 00:19:19.700 / Frame 27805, End 00:19:42.014 / Frame 28340\n",
      "INFO:root:Scene 179: Start 00:19:42.014 / Frame 28340, End 00:19:43.808 / Frame 28383\n",
      "INFO:root:Scene 180: Start 00:19:43.808 / Frame 28383, End 00:19:45.226 / Frame 28417\n",
      "INFO:root:Scene 181: Start 00:19:45.226 / Frame 28417, End 00:19:51.440 / Frame 28566\n",
      "INFO:root:Scene 182: Start 00:19:51.440 / Frame 28566, End 00:19:53.692 / Frame 28620\n",
      "INFO:root:Scene 183: Start 00:19:53.692 / Frame 28620, End 00:19:56.028 / Frame 28676\n",
      "INFO:root:Scene 184: Start 00:19:56.028 / Frame 28676, End 00:19:59.240 / Frame 28753\n",
      "INFO:root:Scene 185: Start 00:19:59.240 / Frame 28753, End 00:20:14.547 / Frame 29120\n",
      "INFO:root:Scene 186: Start 00:20:14.547 / Frame 29120, End 00:20:37.194 / Frame 29663\n",
      "INFO:root:Scene 187: Start 00:20:37.194 / Frame 29663, End 00:20:39.071 / Frame 29708\n",
      "INFO:root:Scene 188: Start 00:20:39.071 / Frame 29708, End 00:20:51.876 / Frame 30015\n",
      "INFO:root:Scene 189: Start 00:20:51.876 / Frame 30015, End 00:20:54.170 / Frame 30070\n",
      "INFO:root:Scene 190: Start 00:20:54.170 / Frame 30070, End 00:20:58.716 / Frame 30179\n",
      "INFO:root:Scene 191: Start 00:20:58.716 / Frame 30179, End 00:21:03.304 / Frame 30289\n",
      "INFO:root:Scene 192: Start 00:21:03.304 / Frame 30289, End 00:21:08.058 / Frame 30403\n",
      "INFO:root:Scene 193: Start 00:21:08.058 / Frame 30403, End 00:21:27.077 / Frame 30859\n",
      "INFO:root:Scene 194: Start 00:21:27.077 / Frame 30859, End 00:21:41.175 / Frame 31197\n",
      "INFO:root:Scene 195: Start 00:21:41.175 / Frame 31197, End 00:21:51.018 / Frame 31433\n",
      "INFO:root:Scene 196: Start 00:21:51.018 / Frame 31433, End 00:22:02.112 / Frame 31699\n",
      "INFO:root:Scene 197: Start 00:22:02.112 / Frame 31699, End 00:22:15.626 / Frame 32023\n",
      "INFO:root:Scene 198: Start 00:22:15.626 / Frame 32023, End 00:22:16.919 / Frame 32054\n",
      "INFO:root:Scene 199: Start 00:22:16.919 / Frame 32054, End 00:22:23.801 / Frame 32219\n",
      "INFO:root:Scene 200: Start 00:22:23.801 / Frame 32219, End 00:22:28.138 / Frame 32323\n",
      "INFO:root:Scene 201: Start 00:22:28.138 / Frame 32323, End 00:22:30.891 / Frame 32389\n",
      "INFO:root:Scene 202: Start 00:22:30.891 / Frame 32389, End 00:22:34.395 / Frame 32473\n",
      "INFO:root:Scene 203: Start 00:22:34.395 / Frame 32473, End 00:22:37.189 / Frame 32540\n",
      "INFO:root:Scene 204: Start 00:22:37.189 / Frame 32540, End 00:22:42.444 / Frame 32666\n",
      "INFO:root:Scene 205: Start 00:22:42.444 / Frame 32666, End 00:22:52.871 / Frame 32916\n",
      "INFO:root:Scene 206: Start 00:22:52.871 / Frame 32916, End 00:23:23.402 / Frame 33648\n",
      "INFO:root:Scene 207: Start 00:23:23.402 / Frame 33648, End 00:23:25.404 / Frame 33696\n",
      "INFO:root:Scene 208: Start 00:23:25.404 / Frame 33696, End 00:23:27.406 / Frame 33744\n",
      "INFO:root:Scene 209: Start 00:23:27.406 / Frame 33744, End 00:23:28.407 / Frame 33768\n",
      "ERROR:root:Failed to extract frame 114: generator already executing\n",
      "ERROR:root:Failed to extract frame 229: generator already executing\n",
      "ERROR:root:Failed to extract frame 257: generator already executing\n",
      "ERROR:root:Failed to extract frame 285: generator already executing\n",
      "ERROR:root:Failed to extract frame 455: generator already executing\n",
      "ERROR:root:Failed to extract frame 626: generator already executing\n",
      "ERROR:root:Failed to extract frame 657: generator already executing\n",
      "ERROR:root:Failed to extract frame 689: generator already executing\n",
      "ERROR:root:Failed to extract frame 729: generator already executing\n",
      "ERROR:root:Failed to extract frame 770: generator already executing\n",
      "ERROR:root:Failed to extract frame 792: generator already executing\n",
      "ERROR:root:Failed to extract frame 815: generator already executing\n",
      "ERROR:root:Failed to extract frame 826: generator already executing\n",
      "ERROR:root:Failed to extract frame 837: generator already executing\n",
      "ERROR:root:Failed to extract frame 892: generator already executing\n",
      "ERROR:root:Failed to extract frame 947: generator already executing\n",
      "ERROR:root:Failed to extract frame 1020: generator already executing\n",
      "ERROR:root:Failed to extract frame 1093: generator already executing\n",
      "ERROR:root:Failed to extract frame 1211: generator already executing\n",
      "ERROR:root:Failed to extract frame 1329: generator already executing\n",
      "ERROR:root:Failed to extract frame 1371: generator already executing\n",
      "ERROR:root:Failed to extract frame 1414: generator already executing\n",
      "ERROR:root:Failed to extract frame 1435: generator already executing\n",
      "ERROR:root:Failed to extract frame 1456: generator already executing\n",
      "ERROR:root:Failed to extract frame 1536: generator already executing\n",
      "ERROR:root:Failed to extract frame 1617: generator already executing\n",
      "ERROR:root:Failed to extract frame 1678: generator already executing\n",
      "ERROR:root:Failed to extract frame 1740: generator already executing\n",
      "ERROR:root:Failed to extract frame 1771: generator already executing\n",
      "ERROR:root:Failed to extract frame 1803: generator already executing\n",
      "ERROR:root:Failed to extract frame 2005: generator already executing\n",
      "ERROR:root:Failed to extract frame 2208: generator already executing\n",
      "ERROR:root:Failed to extract frame 2319: generator already executing\n",
      "ERROR:root:Failed to extract frame 2431: generator already executing\n",
      "ERROR:root:Failed to extract frame 2542: generator already executing\n",
      "ERROR:root:Failed to extract frame 2653: generator already executing\n",
      "ERROR:root:Failed to extract frame 2683: generator already executing\n",
      "ERROR:root:Failed to extract frame 2714: generator already executing\n",
      "ERROR:root:Failed to extract frame 2767: generator already executing\n",
      "ERROR:root:Failed to extract frame 2821: generator already executing\n",
      "ERROR:root:Failed to extract frame 2902: generator already executing\n",
      "ERROR:root:Failed to extract frame 2983: generator already executing\n",
      "ERROR:root:Failed to extract frame 3016: generator already executing\n",
      "ERROR:root:Failed to extract frame 3050: generator already executing\n",
      "ERROR:root:Failed to extract frame 3135: generator already executing\n",
      "ERROR:root:Failed to extract frame 3220: generator already executing\n",
      "ERROR:root:Failed to extract frame 3249: generator already executing\n",
      "ERROR:root:Failed to extract frame 3279: generator already executing\n",
      "ERROR:root:Failed to extract frame 3307: generator already executing\n",
      "ERROR:root:Failed to extract frame 3336: generator already executing\n",
      "ERROR:root:Failed to extract frame 3447: generator already executing\n",
      "ERROR:root:Failed to extract frame 3558: generator already executing\n",
      "ERROR:root:Failed to extract frame 3725: generator already executing\n",
      "ERROR:root:Failed to extract frame 3893: generator already executing\n",
      "ERROR:root:Failed to extract frame 4031: generator already executing\n",
      "ERROR:root:Failed to extract frame 4170: generator already executing\n",
      "ERROR:root:Failed to extract frame 4297: generator already executing\n",
      "ERROR:root:Failed to extract frame 4425: generator already executing\n",
      "ERROR:root:Failed to extract frame 4552: generator already executing\n",
      "ERROR:root:Failed to extract frame 4680: generator already executing\n",
      "ERROR:root:Failed to extract frame 4713: generator already executing\n",
      "ERROR:root:Failed to extract frame 4746: generator already executing\n",
      "ERROR:root:Failed to extract frame 4765: generator already executing\n",
      "ERROR:root:Failed to extract frame 4784: generator already executing\n",
      "ERROR:root:Failed to extract frame 4991: generator already executing\n",
      "ERROR:root:Failed to extract frame 5199: generator already executing\n",
      "ERROR:root:Failed to extract frame 5255: generator already executing\n",
      "ERROR:root:Failed to extract frame 5312: generator already executing\n",
      "ERROR:root:Failed to extract frame 5403: generator already executing\n",
      "ERROR:root:Failed to extract frame 5495: generator already executing\n",
      "ERROR:root:Failed to extract frame 5539: generator already executing\n",
      "ERROR:root:Failed to extract frame 5583: generator already executing\n",
      "ERROR:root:Failed to extract frame 5692: generator already executing\n",
      "ERROR:root:Failed to extract frame 5801: generator already executing\n",
      "ERROR:root:Failed to extract frame 5855: generator already executing\n",
      "ERROR:root:Failed to extract frame 5910: generator already executing\n",
      "ERROR:root:Failed to extract frame 5970: generator already executing\n",
      "ERROR:root:Failed to extract frame 6031: generator already executing\n",
      "ERROR:root:Failed to extract frame 6131: generator already executing\n",
      "ERROR:root:Failed to extract frame 6232: generator already executing\n",
      "ERROR:root:Failed to extract frame 6304: generator already executing\n",
      "ERROR:root:Failed to extract frame 6377: generator already executing\n",
      "ERROR:root:Failed to extract frame 6404: generator already executing\n",
      "ERROR:root:Failed to extract frame 6432: generator already executing\n",
      "ERROR:root:Failed to extract frame 6498: generator already executing\n",
      "ERROR:root:Failed to extract frame 6565: generator already executing\n",
      "ERROR:root:Failed to extract frame 6694: generator already executing\n",
      "ERROR:root:Failed to extract frame 6824: generator already executing\n",
      "ERROR:root:Failed to extract frame 7190: generator already executing\n",
      "ERROR:root:Failed to extract frame 7557: generator already executing\n",
      "ERROR:root:Failed to extract frame 7723: generator already executing\n",
      "ERROR:root:Failed to extract frame 7890: generator already executing\n",
      "ERROR:root:Failed to extract frame 7946: generator already executing\n",
      "ERROR:root:Failed to extract frame 8003: generator already executing\n",
      "ERROR:root:Failed to extract frame 8036: generator already executing\n",
      "ERROR:root:Failed to extract frame 8070: generator already executing\n",
      "ERROR:root:Failed to extract frame 8087: generator already executing\n",
      "ERROR:root:Failed to extract frame 8104: generator already executing\n",
      "ERROR:root:Failed to extract frame 8143: generator already executing\n",
      "ERROR:root:Failed to extract frame 8183: generator already executing\n",
      "ERROR:root:Failed to extract frame 8203: generator already executing\n",
      "ERROR:root:Failed to extract frame 8223: generator already executing\n",
      "ERROR:root:Failed to extract frame 8266: generator already executing\n",
      "ERROR:root:Failed to extract frame 8309: generator already executing\n",
      "ERROR:root:Failed to extract frame 8333: generator already executing\n",
      "ERROR:root:Failed to extract frame 8358: generator already executing\n",
      "ERROR:root:Failed to extract frame 8378: generator already executing\n",
      "ERROR:root:Failed to extract frame 8398: generator already executing\n",
      "ERROR:root:Failed to extract frame 8500: generator already executing\n",
      "ERROR:root:Failed to extract frame 8602: generator already executing\n",
      "ERROR:root:Failed to extract frame 8697: generator already executing\n",
      "ERROR:root:Failed to extract frame 8793: generator already executing\n",
      "ERROR:root:Failed to extract frame 8841: generator already executing\n",
      "ERROR:root:Failed to extract frame 8889: generator already executing\n",
      "ERROR:root:Failed to extract frame 8926: generator already executing\n",
      "ERROR:root:Failed to extract frame 8963: generator already executing\n",
      "ERROR:root:Failed to extract frame 8988: generator already executing\n",
      "ERROR:root:Failed to extract frame 9013: generator already executing\n",
      "ERROR:root:Failed to extract frame 9093: generator already executing\n",
      "ERROR:root:Failed to extract frame 9173: generator already executing\n",
      "ERROR:root:Failed to extract frame 9207: generator already executing\n",
      "ERROR:root:Failed to extract frame 9242: generator already executing\n",
      "ERROR:root:Failed to extract frame 9272: generator already executing\n",
      "ERROR:root:Failed to extract frame 9303: generator already executing\n",
      "ERROR:root:Failed to extract frame 9336: generator already executing\n",
      "ERROR:root:Failed to extract frame 9369: generator already executing\n",
      "ERROR:root:Failed to extract frame 9438: generator already executing\n",
      "ERROR:root:Failed to extract frame 9507: generator already executing\n",
      "ERROR:root:Failed to extract frame 9573: generator already executing\n",
      "ERROR:root:Failed to extract frame 9640: generator already executing\n",
      "ERROR:root:Failed to extract frame 9674: generator already executing\n",
      "ERROR:root:Failed to extract frame 9709: generator already executing\n",
      "ERROR:root:Failed to extract frame 9854: generator already executing\n",
      "ERROR:root:Failed to extract frame 9999: generator already executing\n",
      "ERROR:root:Failed to extract frame 10084: generator already executing\n",
      "ERROR:root:Failed to extract frame 10170: generator already executing\n",
      "ERROR:root:Failed to extract frame 10336: generator already executing\n",
      "ERROR:root:Failed to extract frame 10503: generator already executing\n",
      "ERROR:root:Failed to extract frame 10543: generator already executing\n",
      "ERROR:root:Failed to extract frame 10583: generator already executing\n",
      "ERROR:root:Failed to extract frame 10772: generator already executing\n",
      "ERROR:root:Failed to extract frame 10961: generator already executing\n",
      "ERROR:root:Failed to extract frame 11007: generator already executing\n",
      "ERROR:root:Failed to extract frame 11054: generator already executing\n",
      "ERROR:root:Failed to extract frame 11080: generator already executing\n",
      "ERROR:root:Failed to extract frame 11107: generator already executing\n",
      "ERROR:root:Failed to extract frame 11149: generator already executing\n",
      "ERROR:root:Failed to extract frame 11192: generator already executing\n",
      "ERROR:root:Failed to extract frame 11255: generator already executing\n",
      "ERROR:root:Failed to extract frame 11318: generator already executing\n",
      "ERROR:root:Failed to extract frame 11447: generator already executing\n",
      "ERROR:root:Failed to extract frame 11577: generator already executing\n",
      "ERROR:root:Failed to extract frame 11686: generator already executing\n",
      "ERROR:root:Failed to extract frame 11795: generator already executing\n",
      "ERROR:root:Failed to extract frame 11849: generator already executing\n",
      "ERROR:root:Failed to extract frame 11903: generator already executing\n",
      "ERROR:root:Failed to extract frame 11998: generator already executing\n",
      "ERROR:root:Failed to extract frame 12093: generator already executing\n",
      "ERROR:root:Failed to extract frame 12126: generator already executing\n",
      "ERROR:root:Failed to extract frame 12160: generator already executing\n",
      "ERROR:root:Failed to extract frame 12266: generator already executing\n",
      "ERROR:root:Failed to extract frame 12372: generator already executing\n",
      "ERROR:root:Failed to extract frame 12617: generator already executing\n",
      "ERROR:root:Failed to extract frame 12862: generator already executing\n",
      "ERROR:root:Failed to extract frame 12932: generator already executing\n",
      "ERROR:root:Failed to extract frame 13003: generator already executing\n",
      "ERROR:root:Failed to extract frame 13112: generator already executing\n",
      "ERROR:root:Failed to extract frame 13221: generator already executing\n",
      "ERROR:root:Failed to extract frame 13259: generator already executing\n",
      "ERROR:root:Failed to extract frame 13298: generator already executing\n",
      "ERROR:root:Failed to extract frame 13456: generator already executing\n",
      "ERROR:root:Failed to extract frame 13614: generator already executing\n",
      "ERROR:root:Failed to extract frame 13672: generator already executing\n",
      "ERROR:root:Failed to extract frame 13731: generator already executing\n",
      "ERROR:root:Failed to extract frame 13826: generator already executing\n",
      "ERROR:root:Failed to extract frame 13921: generator already executing\n",
      "ERROR:root:Failed to extract frame 13951: generator already executing\n",
      "ERROR:root:Failed to extract frame 13981: generator already executing\n",
      "ERROR:root:Failed to extract frame 13993: generator already executing\n",
      "ERROR:root:Failed to extract frame 14005: generator already executing\n",
      "ERROR:root:Failed to extract frame 14125: generator already executing\n",
      "ERROR:root:Failed to extract frame 14246: generator already executing\n",
      "ERROR:root:Failed to extract frame 14279: generator already executing\n",
      "ERROR:root:Failed to extract frame 14312: generator already executing\n",
      "ERROR:root:Failed to extract frame 14368: generator already executing\n",
      "ERROR:root:Failed to extract frame 14425: generator already executing\n",
      "ERROR:root:Failed to extract frame 14539: generator already executing\n",
      "ERROR:root:Failed to extract frame 14654: generator already executing\n",
      "ERROR:root:Failed to extract frame 14734: generator already executing\n",
      "ERROR:root:Failed to extract frame 14814: generator already executing\n",
      "ERROR:root:Failed to extract frame 14850: generator already executing\n",
      "ERROR:root:Failed to extract frame 14887: generator already executing\n",
      "ERROR:root:Failed to extract frame 14900: generator already executing\n",
      "ERROR:root:Failed to extract frame 14914: generator already executing\n",
      "ERROR:root:Failed to extract frame 14954: generator already executing\n",
      "ERROR:root:Failed to extract frame 14994: generator already executing\n",
      "ERROR:root:Failed to extract frame 15024: generator already executing\n",
      "ERROR:root:Failed to extract frame 15054: generator already executing\n",
      "ERROR:root:Failed to extract frame 15263: generator already executing\n",
      "ERROR:root:Failed to extract frame 15473: generator already executing\n",
      "ERROR:root:Failed to extract frame 15557: generator already executing\n",
      "ERROR:root:Failed to extract frame 15642: generator already executing\n",
      "ERROR:root:Failed to extract frame 15677: generator already executing\n",
      "ERROR:root:Failed to extract frame 15712: generator already executing\n",
      "ERROR:root:Failed to extract frame 15763: generator already executing\n",
      "ERROR:root:Failed to extract frame 15814: generator already executing\n",
      "ERROR:root:Failed to extract frame 15848: generator already executing\n",
      "ERROR:root:Failed to extract frame 15883: generator already executing\n",
      "ERROR:root:Failed to extract frame 15926: generator already executing\n",
      "ERROR:root:Failed to extract frame 15970: generator already executing\n",
      "ERROR:root:Failed to extract frame 16053: generator already executing\n",
      "ERROR:root:Failed to extract frame 16137: generator already executing\n",
      "ERROR:root:Failed to extract frame 16274: generator already executing\n",
      "ERROR:root:Failed to extract frame 16412: generator already executing\n",
      "ERROR:root:Failed to extract frame 16458: generator already executing\n",
      "ERROR:root:Failed to extract frame 16504: generator already executing\n",
      "ERROR:root:Failed to extract frame 16519: generator already executing\n",
      "ERROR:root:Failed to extract frame 16534: generator already executing\n",
      "ERROR:root:Failed to extract frame 16614: generator already executing\n",
      "ERROR:root:Failed to extract frame 16695: generator already executing\n",
      "ERROR:root:Failed to extract frame 16719: generator already executing\n",
      "ERROR:root:Failed to extract frame 16743: generator already executing\n",
      "ERROR:root:Failed to extract frame 16837: generator already executing\n",
      "ERROR:root:Failed to extract frame 16932: generator already executing\n",
      "ERROR:root:Failed to extract frame 17004: generator already executing\n",
      "ERROR:root:Failed to extract frame 17077: generator already executing\n",
      "ERROR:root:Failed to extract frame 17153: generator already executing\n",
      "ERROR:root:Failed to extract frame 17229: generator already executing\n",
      "ERROR:root:Failed to extract frame 17259: generator already executing\n",
      "ERROR:root:Failed to extract frame 17290: generator already executing\n",
      "ERROR:root:Failed to extract frame 17400: generator already executing\n",
      "ERROR:root:Failed to extract frame 17510: generator already executing\n",
      "ERROR:root:Failed to extract frame 17537: generator already executing\n",
      "ERROR:root:Failed to extract frame 17564: generator already executing\n",
      "ERROR:root:Failed to extract frame 17713: generator already executing\n",
      "ERROR:root:Failed to extract frame 17863: generator already executing\n",
      "ERROR:root:Failed to extract frame 17903: generator already executing\n",
      "ERROR:root:Failed to extract frame 17943: generator already executing\n",
      "ERROR:root:Failed to extract frame 18044: generator already executing\n",
      "ERROR:root:Failed to extract frame 18145: generator already executing\n",
      "ERROR:root:Failed to extract frame 18273: generator already executing\n",
      "ERROR:root:Failed to extract frame 18402: generator already executing\n",
      "ERROR:root:Failed to extract frame 18473: generator already executing\n",
      "ERROR:root:Failed to extract frame 18544: generator already executing\n",
      "ERROR:root:Failed to extract frame 18685: generator already executing\n",
      "ERROR:root:Failed to extract frame 18827: generator already executing\n",
      "ERROR:root:Failed to extract frame 18975: generator already executing\n",
      "ERROR:root:Failed to extract frame 19124: generator already executing\n",
      "ERROR:root:Failed to extract frame 19139: generator already executing\n",
      "ERROR:root:Failed to extract frame 19155: generator already executing\n",
      "ERROR:root:Failed to extract frame 19219: generator already executing\n",
      "ERROR:root:Failed to extract frame 19284: generator already executing\n",
      "ERROR:root:Failed to extract frame 19328: generator already executing\n",
      "ERROR:root:Failed to extract frame 19372: generator already executing\n",
      "ERROR:root:Failed to extract frame 19519: generator already executing\n",
      "ERROR:root:Failed to extract frame 19667: generator already executing\n",
      "ERROR:root:Failed to extract frame 19691: generator already executing\n",
      "ERROR:root:Failed to extract frame 19716: generator already executing\n",
      "ERROR:root:Failed to extract frame 19787: generator already executing\n",
      "ERROR:root:Failed to extract frame 19858: generator already executing\n",
      "ERROR:root:Failed to extract frame 20058: generator already executing\n",
      "ERROR:root:Failed to extract frame 20258: generator already executing\n",
      "ERROR:root:Failed to extract frame 20297: generator already executing\n",
      "ERROR:root:Failed to extract frame 20337: generator already executing\n",
      "ERROR:root:Failed to extract frame 20398: generator already executing\n",
      "ERROR:root:Failed to extract frame 20459: generator already executing\n",
      "ERROR:root:Failed to extract frame 20592: generator already executing\n",
      "ERROR:root:Failed to extract frame 20725: generator already executing\n",
      "ERROR:root:Failed to extract frame 20818: generator already executing\n",
      "ERROR:root:Failed to extract frame 20912: generator already executing\n",
      "ERROR:root:Failed to extract frame 20992: generator already executing\n",
      "ERROR:root:Failed to extract frame 21073: generator already executing\n",
      "ERROR:root:Failed to extract frame 21258: generator already executing\n",
      "ERROR:root:Failed to extract frame 21444: generator already executing\n",
      "ERROR:root:Failed to extract frame 21532: generator already executing\n",
      "ERROR:root:Failed to extract frame 21620: generator already executing\n",
      "ERROR:root:Failed to extract frame 21740: generator already executing\n",
      "ERROR:root:Failed to extract frame 21861: generator already executing\n",
      "ERROR:root:Failed to extract frame 22018: generator already executing\n",
      "ERROR:root:Failed to extract frame 22175: generator already executing\n",
      "ERROR:root:Failed to extract frame 22211: generator already executing\n",
      "ERROR:root:Failed to extract frame 22247: generator already executing\n",
      "ERROR:root:Failed to extract frame 22261: generator already executing\n",
      "ERROR:root:Failed to extract frame 22275: generator already executing\n",
      "ERROR:root:Failed to extract frame 22289: generator already executing\n",
      "ERROR:root:Failed to extract frame 22304: generator already executing\n",
      "ERROR:root:Failed to extract frame 22347: generator already executing\n",
      "ERROR:root:Failed to extract frame 22391: generator already executing\n",
      "ERROR:root:Failed to extract frame 22404: generator already executing\n",
      "ERROR:root:Failed to extract frame 22417: generator already executing\n",
      "ERROR:root:Failed to extract frame 22452: generator already executing\n",
      "ERROR:root:Failed to extract frame 22488: generator already executing\n",
      "ERROR:root:Failed to extract frame 22584: generator already executing\n",
      "ERROR:root:Failed to extract frame 22681: generator already executing\n",
      "ERROR:root:Failed to extract frame 22703: generator already executing\n",
      "ERROR:root:Failed to extract frame 22725: generator already executing\n",
      "ERROR:root:Failed to extract frame 22746: generator already executing\n",
      "ERROR:root:Failed to extract frame 22768: generator already executing\n",
      "ERROR:root:Failed to extract frame 22778: generator already executing\n",
      "ERROR:root:Failed to extract frame 22789: generator already executing\n",
      "ERROR:root:Failed to extract frame 23017: generator already executing\n",
      "ERROR:root:Failed to extract frame 23245: generator already executing\n",
      "ERROR:root:Failed to extract frame 23260: generator already executing\n",
      "ERROR:root:Failed to extract frame 23275: generator already executing\n",
      "ERROR:root:Failed to extract frame 23361: generator already executing\n",
      "ERROR:root:Failed to extract frame 23447: generator already executing\n",
      "ERROR:root:Failed to extract frame 23633: generator already executing\n",
      "ERROR:root:Failed to extract frame 23820: generator already executing\n",
      "ERROR:root:Failed to extract frame 23896: generator already executing\n",
      "ERROR:root:Failed to extract frame 23972: generator already executing\n",
      "ERROR:root:Failed to extract frame 24026: generator already executing\n",
      "ERROR:root:Failed to extract frame 24081: generator already executing\n",
      "ERROR:root:Failed to extract frame 24156: generator already executing\n",
      "ERROR:root:Failed to extract frame 24231: generator already executing\n",
      "ERROR:root:Failed to extract frame 24275: generator already executing\n",
      "ERROR:root:Failed to extract frame 24320: generator already executing\n",
      "ERROR:root:Failed to extract frame 24422: generator already executing\n",
      "ERROR:root:Failed to extract frame 24525: generator already executing\n",
      "ERROR:root:Failed to extract frame 24628: generator already executing\n",
      "ERROR:root:Failed to extract frame 24732: generator already executing\n",
      "ERROR:root:Failed to extract frame 24771: generator already executing\n",
      "ERROR:root:Failed to extract frame 24810: generator already executing\n",
      "ERROR:root:Failed to extract frame 24987: generator already executing\n",
      "ERROR:root:Failed to extract frame 25165: generator already executing\n",
      "ERROR:root:Failed to extract frame 25192: generator already executing\n",
      "ERROR:root:Failed to extract frame 25219: generator already executing\n",
      "ERROR:root:Failed to extract frame 25252: generator already executing\n",
      "ERROR:root:Failed to extract frame 25286: generator already executing\n",
      "ERROR:root:Failed to extract frame 25330: generator already executing\n",
      "ERROR:root:Failed to extract frame 25375: generator already executing\n",
      "ERROR:root:Failed to extract frame 25397: generator already executing\n",
      "ERROR:root:Failed to extract frame 25420: generator already executing\n",
      "ERROR:root:Failed to extract frame 25437: generator already executing\n",
      "ERROR:root:Failed to extract frame 25455: generator already executing\n",
      "ERROR:root:Failed to extract frame 25504: generator already executing\n",
      "ERROR:root:Failed to extract frame 25553: generator already executing\n",
      "ERROR:root:Failed to extract frame 25990: generator already executing\n",
      "ERROR:root:Failed to extract frame 26428: generator already executing\n",
      "ERROR:root:Failed to extract frame 26555: generator already executing\n",
      "ERROR:root:Failed to extract frame 26683: generator already executing\n",
      "ERROR:root:Failed to extract frame 26733: generator already executing\n",
      "ERROR:root:Failed to extract frame 26784: generator already executing\n",
      "ERROR:root:Failed to extract frame 26812: generator already executing\n",
      "ERROR:root:Failed to extract frame 26840: generator already executing\n",
      "ERROR:root:Failed to extract frame 27094: generator already executing\n",
      "ERROR:root:Failed to extract frame 27348: generator already executing\n",
      "ERROR:root:Failed to extract frame 27438: generator already executing\n",
      "ERROR:root:Failed to extract frame 27529: generator already executing\n",
      "ERROR:root:Failed to extract frame 27551: generator already executing\n",
      "ERROR:root:Failed to extract frame 27573: generator already executing\n",
      "ERROR:root:Failed to extract frame 27606: generator already executing\n",
      "ERROR:root:Failed to extract frame 27640: generator already executing\n",
      "ERROR:root:Failed to extract frame 27722: generator already executing\n",
      "ERROR:root:Failed to extract frame 27805: generator already executing\n",
      "ERROR:root:Failed to extract frame 28072: generator already executing\n",
      "ERROR:root:Failed to extract frame 28340: generator already executing\n",
      "ERROR:root:Failed to extract frame 28361: generator already executing\n",
      "ERROR:root:Failed to extract frame 28383: generator already executing\n",
      "ERROR:root:Failed to extract frame 28400: generator already executing\n",
      "ERROR:root:Failed to extract frame 28417: generator already executing\n",
      "ERROR:root:Failed to extract frame 28491: generator already executing\n",
      "ERROR:root:Failed to extract frame 28566: generator already executing\n",
      "ERROR:root:Failed to extract frame 28593: generator already executing\n",
      "ERROR:root:Failed to extract frame 28620: generator already executing\n",
      "ERROR:root:Failed to extract frame 28648: generator already executing\n",
      "ERROR:root:Failed to extract frame 28676: generator already executing\n",
      "ERROR:root:Failed to extract frame 28714: generator already executing\n",
      "ERROR:root:Failed to extract frame 28753: generator already executing\n",
      "ERROR:root:Failed to extract frame 28936: generator already executing\n",
      "ERROR:root:Failed to extract frame 29120: generator already executing\n",
      "ERROR:root:Failed to extract frame 29391: generator already executing\n",
      "ERROR:root:Failed to extract frame 29663: generator already executing\n",
      "ERROR:root:Failed to extract frame 29685: generator already executing\n",
      "ERROR:root:Failed to extract frame 29708: generator already executing\n",
      "ERROR:root:Failed to extract frame 29861: generator already executing\n",
      "ERROR:root:Failed to extract frame 30015: generator already executing\n",
      "ERROR:root:Failed to extract frame 30042: generator already executing\n",
      "ERROR:root:Failed to extract frame 30070: generator already executing\n",
      "ERROR:root:Failed to extract frame 30124: generator already executing\n",
      "ERROR:root:Failed to extract frame 30179: generator already executing\n",
      "ERROR:root:Failed to extract frame 30234: generator already executing\n",
      "ERROR:root:Failed to extract frame 30289: generator already executing\n",
      "ERROR:root:Failed to extract frame 30346: generator already executing\n",
      "ERROR:root:Failed to extract frame 30403: generator already executing\n",
      "ERROR:root:Failed to extract frame 30631: generator already executing\n",
      "ERROR:root:Failed to extract frame 30859: generator already executing\n",
      "ERROR:root:Failed to extract frame 31028: generator already executing\n",
      "ERROR:root:Failed to extract frame 31197: generator already executing\n",
      "ERROR:root:Failed to extract frame 31315: generator already executing\n",
      "ERROR:root:Failed to extract frame 31433: generator already executing\n",
      "ERROR:root:Failed to extract frame 31566: generator already executing\n",
      "ERROR:root:Failed to extract frame 31699: generator already executing\n",
      "ERROR:root:Failed to extract frame 31861: generator already executing\n",
      "ERROR:root:Failed to extract frame 32023: generator already executing\n",
      "ERROR:root:Failed to extract frame 32038: generator already executing\n",
      "ERROR:root:Failed to extract frame 32054: generator already executing\n",
      "ERROR:root:Failed to extract frame 32136: generator already executing\n",
      "ERROR:root:Failed to extract frame 32219: generator already executing\n",
      "ERROR:root:Failed to extract frame 32271: generator already executing\n",
      "ERROR:root:Failed to extract frame 32323: generator already executing\n",
      "ERROR:root:Failed to extract frame 32356: generator already executing\n",
      "ERROR:root:Failed to extract frame 32389: generator already executing\n",
      "ERROR:root:Failed to extract frame 32431: generator already executing\n",
      "ERROR:root:Failed to extract frame 32473: generator already executing\n",
      "ERROR:root:Failed to extract frame 32506: generator already executing\n",
      "ERROR:root:Failed to extract frame 32540: generator already executing\n",
      "ERROR:root:Failed to extract frame 32603: generator already executing\n",
      "ERROR:root:Failed to extract frame 32666: generator already executing\n",
      "ERROR:root:Failed to extract frame 32791: generator already executing\n",
      "ERROR:root:Failed to extract frame 32916: generator already executing\n",
      "ERROR:root:Failed to extract frame 33282: generator already executing\n",
      "ERROR:root:Failed to extract frame 33648: generator already executing\n",
      "ERROR:root:Failed to extract frame 33672: generator already executing\n",
      "ERROR:root:Failed to extract frame 33696: generator already executing\n",
      "ERROR:root:Failed to extract frame 33720: generator already executing\n",
      "ERROR:root:Failed to extract frame 33744: generator already executing\n",
      "ERROR:root:Failed to extract frame 33756: generator already executing\n",
      "ERROR:root:Failed to extract frame 33768: generator already executing\n",
      "Processing Scenes:   0%|          | 0/209 [06:30<?, ?scene/s]\n",
      "Processing Videos:   0%|          | 0/2 [08:30<?, ?video/s]\n"
     ]
    },
    {
     "ename": "TimeoutError",
     "evalue": "",
     "output_type": "error",
     "traceback": [
      "\u001b[0;31m---------------------------------------------------------------------------\u001b[0m",
      "\u001b[0;31mTimeoutError\u001b[0m                              Traceback (most recent call last)",
      "Cell \u001b[0;32mIn[5], line 269\u001b[0m\n\u001b[1;32m    266\u001b[0m output_base_directory \u001b[38;5;241m=\u001b[39m \u001b[38;5;124m'\u001b[39m\u001b[38;5;124m/Users/santiagowon/Dropbox/Santiago/01. Maestria/Tesis/11_Project_Analysed_DB\u001b[39m\u001b[38;5;124m'\u001b[39m\n\u001b[1;32m    268\u001b[0m \u001b[38;5;66;03m# Process all videos in the directory\u001b[39;00m\n\u001b[0;32m--> 269\u001b[0m process_videos_in_directory(video_directory, output_base_directory)\n",
      "Cell \u001b[0;32mIn[5], line 259\u001b[0m, in \u001b[0;36mprocess_videos_in_directory\u001b[0;34m(directory_path, output_base_dir)\u001b[0m\n\u001b[1;32m    256\u001b[0m extract_frames_imageio(video_path, scenes, scenes_output_dir)\n\u001b[1;32m    258\u001b[0m \u001b[38;5;66;03m# Analyze all scenes and save the JSON output\u001b[39;00m\n\u001b[0;32m--> 259\u001b[0m asyncio\u001b[38;5;241m.\u001b[39mrun(process_scenes_output(scenes_output_dir, json_output_dir))\n\u001b[1;32m    261\u001b[0m \u001b[38;5;28mprint\u001b[39m(\u001b[38;5;124mf\u001b[39m\u001b[38;5;124m\"\u001b[39m\u001b[38;5;124mFinished processing video: \u001b[39m\u001b[38;5;132;01m{\u001b[39;00mvideo_file\u001b[38;5;132;01m}\u001b[39;00m\u001b[38;5;124m\"\u001b[39m)\n\u001b[1;32m    262\u001b[0m pbar\u001b[38;5;241m.\u001b[39mupdate(\u001b[38;5;241m1\u001b[39m)\n",
      "File \u001b[0;32m~/anaconda3/lib/python3.11/site-packages/nest_asyncio.py:30\u001b[0m, in \u001b[0;36m_patch_asyncio.<locals>.run\u001b[0;34m(main, debug)\u001b[0m\n\u001b[1;32m     28\u001b[0m task \u001b[38;5;241m=\u001b[39m asyncio\u001b[38;5;241m.\u001b[39mensure_future(main)\n\u001b[1;32m     29\u001b[0m \u001b[38;5;28;01mtry\u001b[39;00m:\n\u001b[0;32m---> 30\u001b[0m     \u001b[38;5;28;01mreturn\u001b[39;00m loop\u001b[38;5;241m.\u001b[39mrun_until_complete(task)\n\u001b[1;32m     31\u001b[0m \u001b[38;5;28;01mfinally\u001b[39;00m:\n\u001b[1;32m     32\u001b[0m     \u001b[38;5;28;01mif\u001b[39;00m \u001b[38;5;129;01mnot\u001b[39;00m task\u001b[38;5;241m.\u001b[39mdone():\n",
      "File \u001b[0;32m~/anaconda3/lib/python3.11/site-packages/nest_asyncio.py:98\u001b[0m, in \u001b[0;36m_patch_loop.<locals>.run_until_complete\u001b[0;34m(self, future)\u001b[0m\n\u001b[1;32m     95\u001b[0m \u001b[38;5;28;01mif\u001b[39;00m \u001b[38;5;129;01mnot\u001b[39;00m f\u001b[38;5;241m.\u001b[39mdone():\n\u001b[1;32m     96\u001b[0m     \u001b[38;5;28;01mraise\u001b[39;00m \u001b[38;5;167;01mRuntimeError\u001b[39;00m(\n\u001b[1;32m     97\u001b[0m         \u001b[38;5;124m'\u001b[39m\u001b[38;5;124mEvent loop stopped before Future completed.\u001b[39m\u001b[38;5;124m'\u001b[39m)\n\u001b[0;32m---> 98\u001b[0m \u001b[38;5;28;01mreturn\u001b[39;00m f\u001b[38;5;241m.\u001b[39mresult()\n",
      "File \u001b[0;32m~/anaconda3/lib/python3.11/asyncio/futures.py:203\u001b[0m, in \u001b[0;36mFuture.result\u001b[0;34m(self)\u001b[0m\n\u001b[1;32m    201\u001b[0m \u001b[38;5;28mself\u001b[39m\u001b[38;5;241m.\u001b[39m__log_traceback \u001b[38;5;241m=\u001b[39m \u001b[38;5;28;01mFalse\u001b[39;00m\n\u001b[1;32m    202\u001b[0m \u001b[38;5;28;01mif\u001b[39;00m \u001b[38;5;28mself\u001b[39m\u001b[38;5;241m.\u001b[39m_exception \u001b[38;5;129;01mis\u001b[39;00m \u001b[38;5;129;01mnot\u001b[39;00m \u001b[38;5;28;01mNone\u001b[39;00m:\n\u001b[0;32m--> 203\u001b[0m     \u001b[38;5;28;01mraise\u001b[39;00m \u001b[38;5;28mself\u001b[39m\u001b[38;5;241m.\u001b[39m_exception\u001b[38;5;241m.\u001b[39mwith_traceback(\u001b[38;5;28mself\u001b[39m\u001b[38;5;241m.\u001b[39m_exception_tb)\n\u001b[1;32m    204\u001b[0m \u001b[38;5;28;01mreturn\u001b[39;00m \u001b[38;5;28mself\u001b[39m\u001b[38;5;241m.\u001b[39m_result\n",
      "File \u001b[0;32m~/anaconda3/lib/python3.11/asyncio/tasks.py:269\u001b[0m, in \u001b[0;36mTask.__step\u001b[0;34m(***failed resolving arguments***)\u001b[0m\n\u001b[1;32m    267\u001b[0m         result \u001b[38;5;241m=\u001b[39m coro\u001b[38;5;241m.\u001b[39msend(\u001b[38;5;28;01mNone\u001b[39;00m)\n\u001b[1;32m    268\u001b[0m     \u001b[38;5;28;01melse\u001b[39;00m:\n\u001b[0;32m--> 269\u001b[0m         result \u001b[38;5;241m=\u001b[39m coro\u001b[38;5;241m.\u001b[39mthrow(exc)\n\u001b[1;32m    270\u001b[0m \u001b[38;5;28;01mexcept\u001b[39;00m \u001b[38;5;167;01mStopIteration\u001b[39;00m \u001b[38;5;28;01mas\u001b[39;00m exc:\n\u001b[1;32m    271\u001b[0m     \u001b[38;5;28;01mif\u001b[39;00m \u001b[38;5;28mself\u001b[39m\u001b[38;5;241m.\u001b[39m_must_cancel:\n\u001b[1;32m    272\u001b[0m         \u001b[38;5;66;03m# Task is cancelled right before coro stops.\u001b[39;00m\n",
      "Cell \u001b[0;32mIn[5], line 185\u001b[0m, in \u001b[0;36mprocess_scenes_output\u001b[0;34m(output_dir, json_output_dir)\u001b[0m\n\u001b[1;32m    182\u001b[0m     tasks\u001b[38;5;241m.\u001b[39mappend(process_single_scene(i, scene, output_dir, json_output_dir, pbar))\n\u001b[1;32m    184\u001b[0m \u001b[38;5;66;03m# Run all tasks concurrently\u001b[39;00m\n\u001b[0;32m--> 185\u001b[0m \u001b[38;5;28;01mawait\u001b[39;00m asyncio\u001b[38;5;241m.\u001b[39mgather(\u001b[38;5;241m*\u001b[39mtasks)\n",
      "File \u001b[0;32m~/anaconda3/lib/python3.11/asyncio/tasks.py:339\u001b[0m, in \u001b[0;36mTask.__wakeup\u001b[0;34m(self, future)\u001b[0m\n\u001b[1;32m    337\u001b[0m \u001b[38;5;28;01mdef\u001b[39;00m \u001b[38;5;21m__wakeup\u001b[39m(\u001b[38;5;28mself\u001b[39m, future):\n\u001b[1;32m    338\u001b[0m     \u001b[38;5;28;01mtry\u001b[39;00m:\n\u001b[0;32m--> 339\u001b[0m         future\u001b[38;5;241m.\u001b[39mresult()\n\u001b[1;32m    340\u001b[0m     \u001b[38;5;28;01mexcept\u001b[39;00m \u001b[38;5;167;01mBaseException\u001b[39;00m \u001b[38;5;28;01mas\u001b[39;00m exc:\n\u001b[1;32m    341\u001b[0m         \u001b[38;5;66;03m# This may also be a cancellation.\u001b[39;00m\n\u001b[1;32m    342\u001b[0m         \u001b[38;5;28mself\u001b[39m\u001b[38;5;241m.\u001b[39m__step(exc)\n",
      "File \u001b[0;32m~/anaconda3/lib/python3.11/asyncio/tasks.py:267\u001b[0m, in \u001b[0;36mTask.__step\u001b[0;34m(***failed resolving arguments***)\u001b[0m\n\u001b[1;32m    263\u001b[0m \u001b[38;5;28;01mtry\u001b[39;00m:\n\u001b[1;32m    264\u001b[0m     \u001b[38;5;28;01mif\u001b[39;00m exc \u001b[38;5;129;01mis\u001b[39;00m \u001b[38;5;28;01mNone\u001b[39;00m:\n\u001b[1;32m    265\u001b[0m         \u001b[38;5;66;03m# We use the `send` method directly, because coroutines\u001b[39;00m\n\u001b[1;32m    266\u001b[0m         \u001b[38;5;66;03m# don't have `__iter__` and `__next__` methods.\u001b[39;00m\n\u001b[0;32m--> 267\u001b[0m         result \u001b[38;5;241m=\u001b[39m coro\u001b[38;5;241m.\u001b[39msend(\u001b[38;5;28;01mNone\u001b[39;00m)\n\u001b[1;32m    268\u001b[0m     \u001b[38;5;28;01melse\u001b[39;00m:\n\u001b[1;32m    269\u001b[0m         result \u001b[38;5;241m=\u001b[39m coro\u001b[38;5;241m.\u001b[39mthrow(exc)\n",
      "Cell \u001b[0;32mIn[5], line 198\u001b[0m, in \u001b[0;36mprocess_single_scene\u001b[0;34m(i, scene, output_dir, json_output_dir, pbar)\u001b[0m\n\u001b[1;32m    195\u001b[0m color_analysis_result \u001b[38;5;241m=\u001b[39m analyze_image_colors(scene_path)\n\u001b[1;32m    197\u001b[0m \u001b[38;5;66;03m# Send image to OpenAI for further analysis\u001b[39;00m\n\u001b[0;32m--> 198\u001b[0m openai_response \u001b[38;5;241m=\u001b[39m \u001b[38;5;28;01mawait\u001b[39;00m send_image_to_openai(scene_path, base64_image)\n\u001b[1;32m    200\u001b[0m \u001b[38;5;66;03m# Check if openai_response is valid (not None or empty)\u001b[39;00m\n\u001b[1;32m    201\u001b[0m \u001b[38;5;28;01mif\u001b[39;00m \u001b[38;5;129;01mnot\u001b[39;00m openai_response:\n",
      "Cell \u001b[0;32mIn[5], line 154\u001b[0m, in \u001b[0;36msend_image_to_openai\u001b[0;34m(image_path, base64_image)\u001b[0m\n\u001b[1;32m     94\u001b[0m payload \u001b[38;5;241m=\u001b[39m {\n\u001b[1;32m     95\u001b[0m     \u001b[38;5;124m\"\u001b[39m\u001b[38;5;124mmodel\u001b[39m\u001b[38;5;124m\"\u001b[39m: \u001b[38;5;124m\"\u001b[39m\u001b[38;5;124mgpt-4o-mini\u001b[39m\u001b[38;5;124m\"\u001b[39m,\n\u001b[1;32m     96\u001b[0m     \u001b[38;5;124m\"\u001b[39m\u001b[38;5;124mmessages\u001b[39m\u001b[38;5;124m\"\u001b[39m: [\n\u001b[0;32m   (...)\u001b[0m\n\u001b[1;32m    150\u001b[0m     \u001b[38;5;124m\"\u001b[39m\u001b[38;5;124mmax_tokens\u001b[39m\u001b[38;5;124m\"\u001b[39m: \u001b[38;5;241m750\u001b[39m\n\u001b[1;32m    151\u001b[0m }\n\u001b[1;32m    153\u001b[0m \u001b[38;5;28;01masync\u001b[39;00m \u001b[38;5;28;01mwith\u001b[39;00m aiohttp\u001b[38;5;241m.\u001b[39mClientSession() \u001b[38;5;28;01mas\u001b[39;00m session:\n\u001b[0;32m--> 154\u001b[0m     \u001b[38;5;28;01masync\u001b[39;00m \u001b[38;5;28;01mwith\u001b[39;00m session\u001b[38;5;241m.\u001b[39mpost(\u001b[38;5;124m\"\u001b[39m\u001b[38;5;124mhttps://api.openai.com/v1/chat/completions\u001b[39m\u001b[38;5;124m\"\u001b[39m, headers\u001b[38;5;241m=\u001b[39mheaders, json\u001b[38;5;241m=\u001b[39mpayload) \u001b[38;5;28;01mas\u001b[39;00m response:\n\u001b[1;32m    155\u001b[0m         \u001b[38;5;28;01mif\u001b[39;00m response\u001b[38;5;241m.\u001b[39mstatus \u001b[38;5;241m!=\u001b[39m \u001b[38;5;241m200\u001b[39m:\n\u001b[1;32m    156\u001b[0m             \u001b[38;5;28mprint\u001b[39m(\u001b[38;5;124mf\u001b[39m\u001b[38;5;124m\"\u001b[39m\u001b[38;5;124mRequest failed with status code: \u001b[39m\u001b[38;5;132;01m{\u001b[39;00mresponse\u001b[38;5;241m.\u001b[39mstatus\u001b[38;5;132;01m}\u001b[39;00m\u001b[38;5;124m\"\u001b[39m)\n",
      "File \u001b[0;32m~/anaconda3/lib/python3.11/site-packages/aiohttp/client.py:1194\u001b[0m, in \u001b[0;36m_BaseRequestContextManager.__aenter__\u001b[0;34m(self)\u001b[0m\n\u001b[1;32m   1193\u001b[0m \u001b[38;5;28;01masync\u001b[39;00m \u001b[38;5;28;01mdef\u001b[39;00m \u001b[38;5;21m__aenter__\u001b[39m(\u001b[38;5;28mself\u001b[39m) \u001b[38;5;241m-\u001b[39m\u001b[38;5;241m>\u001b[39m _RetType:\n\u001b[0;32m-> 1194\u001b[0m     \u001b[38;5;28mself\u001b[39m\u001b[38;5;241m.\u001b[39m_resp \u001b[38;5;241m=\u001b[39m \u001b[38;5;28;01mawait\u001b[39;00m \u001b[38;5;28mself\u001b[39m\u001b[38;5;241m.\u001b[39m_coro\n\u001b[1;32m   1195\u001b[0m     \u001b[38;5;28;01mreturn\u001b[39;00m \u001b[38;5;28mself\u001b[39m\u001b[38;5;241m.\u001b[39m_resp\n",
      "File \u001b[0;32m~/anaconda3/lib/python3.11/site-packages/aiohttp/client.py:504\u001b[0m, in \u001b[0;36mClientSession._request\u001b[0;34m(self, method, str_or_url, params, data, json, cookies, headers, skip_auto_headers, auth, allow_redirects, max_redirects, compress, chunked, expect100, raise_for_status, read_until_eof, proxy, proxy_auth, timeout, verify_ssl, fingerprint, ssl_context, ssl, server_hostname, proxy_headers, trace_request_ctx, read_bufsize, auto_decompress, max_line_size, max_field_size)\u001b[0m\n\u001b[1;32m    502\u001b[0m timer \u001b[38;5;241m=\u001b[39m tm\u001b[38;5;241m.\u001b[39mtimer()\n\u001b[1;32m    503\u001b[0m \u001b[38;5;28;01mtry\u001b[39;00m:\n\u001b[0;32m--> 504\u001b[0m     \u001b[38;5;28;01mwith\u001b[39;00m timer:\n\u001b[1;32m    505\u001b[0m         \u001b[38;5;28;01mwhile\u001b[39;00m \u001b[38;5;28;01mTrue\u001b[39;00m:\n\u001b[1;32m    506\u001b[0m             url, auth_from_url \u001b[38;5;241m=\u001b[39m strip_auth_from_url(url)\n",
      "File \u001b[0;32m~/anaconda3/lib/python3.11/site-packages/aiohttp/helpers.py:735\u001b[0m, in \u001b[0;36mTimerContext.__exit__\u001b[0;34m(self, exc_type, exc_val, exc_tb)\u001b[0m\n\u001b[1;32m    732\u001b[0m     \u001b[38;5;28mself\u001b[39m\u001b[38;5;241m.\u001b[39m_tasks\u001b[38;5;241m.\u001b[39mpop()\n\u001b[1;32m    734\u001b[0m \u001b[38;5;28;01mif\u001b[39;00m exc_type \u001b[38;5;129;01mis\u001b[39;00m asyncio\u001b[38;5;241m.\u001b[39mCancelledError \u001b[38;5;129;01mand\u001b[39;00m \u001b[38;5;28mself\u001b[39m\u001b[38;5;241m.\u001b[39m_cancelled:\n\u001b[0;32m--> 735\u001b[0m     \u001b[38;5;28;01mraise\u001b[39;00m asyncio\u001b[38;5;241m.\u001b[39mTimeoutError \u001b[38;5;28;01mfrom\u001b[39;00m \u001b[38;5;28;01mNone\u001b[39;00m\n\u001b[1;32m    736\u001b[0m \u001b[38;5;28;01mreturn\u001b[39;00m \u001b[38;5;28;01mNone\u001b[39;00m\n",
      "\u001b[0;31mTimeoutError\u001b[0m: "
     ]
    },
    {
     "name": "stdout",
     "output_type": "stream",
     "text": [
      "Request failed with status code: 429\n",
      "Skipping scene_90_frame_1_13981.jpg due to invalid OpenAI response.\n",
      "Request failed with status code: 429\n",
      "Request failed with status code: 429\n",
      "Request failed with status code: 429\n",
      "Request failed with status code: 429\n",
      "Request failed with status code: 429\n",
      "Skipping scene_199_frame_1_32054.jpg due to invalid OpenAI response.\n",
      "Skipping scene_145_frame_1_22391.jpg due to invalid OpenAI response.\n",
      "Skipping scene_195_frame_1_31197.jpg due to invalid OpenAI response.\n",
      "Skipping scene_130_frame_1_19716.jpg due to invalid OpenAI response.\n",
      "Skipping scene_126_frame_1_19155.jpg due to invalid OpenAI response.\n",
      "Request failed with status code: 429\n",
      "Skipping scene_207_frame_1_33648.jpg due to invalid OpenAI response.\n",
      "Request failed with status code: 429\n",
      "Request failed with status code: 429\n",
      "Skipping scene_185_frame_1_28753.jpg due to invalid OpenAI response.\n",
      "Skipping scene_105_frame_1_15883.jpg due to invalid OpenAI response.\n",
      "Request failed with status code: 429\n",
      "Skipping scene_148_frame_1_22681.jpg due to invalid OpenAI response.\n",
      "Request failed with status code: 429\n",
      "Request failed with status code: 429\n",
      "Request failed with status code: 429\n",
      "Request failed with status code: 429\n",
      "Skipping scene_106_frame_1_15970.jpg due to invalid OpenAI response.\n",
      "Skipping scene_171_frame_1_26683.jpg due to invalid OpenAI response.\n",
      "Skipping scene_196_frame_1_31433.jpg due to invalid OpenAI response.\n",
      "Skipping scene_100_frame_1_15054.jpg due to invalid OpenAI response.\n",
      "Request failed with status code: 429\n",
      "Skipping scene_150_frame_1_22768.jpg due to invalid OpenAI response.\n",
      "Request failed with status code: 429\n",
      "Skipping scene_109_frame_1_16504.jpg due to invalid OpenAI response.\n",
      "Request failed with status code: 429\n",
      "Request failed with status code: 429\n",
      "Skipping scene_198_frame_1_32023.jpg due to invalid OpenAI response.\n",
      "Skipping scene_156_frame_1_23972.jpg due to invalid OpenAI response.\n",
      "Request failed with status code: 429\n",
      "Request failed with status code: 429\n",
      "Request failed with status code: 429\n",
      "Skipping scene_155_frame_1_23820.jpg due to invalid OpenAI response.\n",
      "Skipping scene_175_frame_1_27529.jpg due to invalid OpenAI response.\n",
      "Skipping scene_179_frame_1_28340.jpg due to invalid OpenAI response.\n",
      "Request failed with status code: 429\n",
      "Skipping scene_138_frame_1_21444.jpg due to invalid OpenAI response.\n",
      "Request failed with status code: 429\n",
      "Skipping scene_182_frame_1_28566.jpg due to invalid OpenAI response.\n",
      "Request failed with status code: 429\n",
      "Skipping scene_158_frame_1_24231.jpg due to invalid OpenAI response.\n",
      "Request failed with status code: 429\n",
      "Skipping scene_124_frame_1_18827.jpg due to invalid OpenAI response.\n",
      "Request failed with status code: 429\n",
      "Skipping scene_132_frame_1_20258.jpg due to invalid OpenAI response.\n",
      "Request failed with status code: 429\n",
      "Skipping scene_111_frame_1_16695.jpg due to invalid OpenAI response.\n",
      "Request failed with status code: 429\n",
      "Skipping scene_143_frame_1_22275.jpg due to invalid OpenAI response.\n",
      "Request failed with status code: 429\n",
      "Skipping scene_128_frame_1_19372.jpg due to invalid OpenAI response.\n",
      "Request failed with status code: 429\n",
      "Skipping scene_101_frame_1_15473.jpg due to invalid OpenAI response.\n",
      "Request failed with status code: 429\n",
      "Skipping scene_74_frame_1_11107.jpg due to invalid OpenAI response.\n",
      "Request failed with status code: 429\n",
      "Request failed with status code: 429\n",
      "Request failed with status code: 429\n",
      "Skipping scene_93_frame_1_14312.jpg due to invalid OpenAI response.\n",
      "Skipping scene_166_frame_1_25375.jpg due to invalid OpenAI response.\n",
      "Skipping scene_96_frame_1_14814.jpg due to invalid OpenAI response.\n",
      "Request failed with status code: 429\n",
      "Request failed with status code: 429\n",
      "Request failed with status code: 429\n",
      "Request failed with status code: 429\n",
      "Request failed with status code: 429\n",
      "Request failed with status code: 429\n",
      "Request failed with status code: 429\n",
      "Request failed with status code: 429\n",
      "Request failed with status code: 429\n",
      "Request failed with status code: 429\n",
      "Request failed with status code: 429\n",
      "Skipping scene_118_frame_1_17564.jpg due to invalid OpenAI response.\n",
      "Skipping scene_153_frame_1_23275.jpg due to invalid OpenAI response.\n",
      "Skipping scene_169_frame_1_25553.jpg due to invalid OpenAI response.\n",
      "Skipping scene_112_frame_1_16743.jpg due to invalid OpenAI response.\n",
      "Skipping scene_87_frame_1_13614.jpg due to invalid OpenAI response.\n",
      "Skipping scene_131_frame_1_19858.jpg due to invalid OpenAI response.\n",
      "Skipping scene_142_frame_1_22247.jpg due to invalid OpenAI response.\n",
      "Skipping scene_146_frame_1_22417.jpg due to invalid OpenAI response.\n",
      "Skipping scene_187_frame_1_29663.jpg due to invalid OpenAI response.\n",
      "Skipping scene_139_frame_1_21620.jpg due to invalid OpenAI response.\n",
      "Skipping scene_115_frame_1_17229.jpg due to invalid OpenAI response.\n",
      "Request failed with status code: 429\n",
      "Request failed with status code: 429\n",
      "Request failed with status code: 429\n",
      "Request failed with status code: 429\n",
      "Request failed with status code: 429\n",
      "Request failed with status code: 429\n",
      "Request failed with status code: 429\n",
      "Request failed with status code: 429\n",
      "Skipping scene_181_frame_1_28417.jpg due to invalid OpenAI response.\n",
      "Skipping scene_202_frame_1_32389.jpg due to invalid OpenAI response.\n",
      "Skipping scene_104_frame_1_15814.jpg due to invalid OpenAI response.\n",
      "Skipping scene_164_frame_1_25219.jpg due to invalid OpenAI response.\n",
      "Skipping scene_209_frame_1_33744.jpg due to invalid OpenAI response.\n",
      "Skipping scene_141_frame_1_22175.jpg due to invalid OpenAI response.\n",
      "Skipping scene_78_frame_1_11795.jpg due to invalid OpenAI response.\n",
      "Skipping scene_161_frame_1_24732.jpg due to invalid OpenAI response.\n",
      "Request failed with status code: 429\n",
      "Skipping scene_154_frame_1_23447.jpg due to invalid OpenAI response.\n",
      "Request failed with status code: 429\n",
      "Skipping scene_149_frame_1_22725.jpg due to invalid OpenAI response.\n",
      "Request failed with status code: 429\n",
      "Skipping scene_203_frame_1_32473.jpg due to invalid OpenAI response.\n",
      "Request failed with status code: 429\n",
      "Skipping scene_72_frame_1_10961.jpg due to invalid OpenAI response.\n",
      "Request failed with status code: 429\n",
      "Skipping scene_160_frame_1_24525.jpg due to invalid OpenAI response.\n",
      "Request failed with status code: 429\n",
      "Skipping scene_152_frame_1_23245.jpg due to invalid OpenAI response.\n",
      "Request failed with status code: 429\n",
      "Skipping scene_73_frame_1_11054.jpg due to invalid OpenAI response.\n",
      "Request failed with status code: 429\n",
      "Skipping scene_121_frame_1_18145.jpg due to invalid OpenAI response.\n",
      "Request failed with status code: 429\n",
      "Request failed with status code: 429\n",
      "Skipping scene_99_frame_1_14994.jpg due to invalid OpenAI response.\n",
      "Skipping scene_125_frame_1_19124.jpg due to invalid OpenAI response.\n",
      "Request failed with status code: 429\n",
      "Skipping scene_95_frame_1_14654.jpg due to invalid OpenAI response.\n",
      "Request failed with status code: 429\n",
      "Skipping scene_151_frame_1_22789.jpg due to invalid OpenAI response.\n",
      "Request failed with status code: 429\n",
      "Skipping scene_127_frame_1_19284.jpg due to invalid OpenAI response.\n",
      "Analysis for scene_114_frame_1_17077.jpg saved as scene_114_analysis.json\n",
      "Analysis for scene_55_frame_1_8398.jpg saved as scene_55_analysis.json\n",
      "Analysis for scene_208_frame_1_33696.jpg saved as scene_208_analysis.json\n",
      "Analysis for scene_84_frame_1_13003.jpg saved as scene_84_analysis.json\n",
      "Analysis for scene_119_frame_1_17863.jpg saved as scene_119_analysis.json\n",
      "Analysis for scene_180_frame_1_28383.jpg saved as scene_180_analysis.json\n",
      "Analysis for scene_88_frame_1_13731.jpg saved as scene_88_analysis.json\n",
      "Analysis for scene_173_frame_1_26840.jpg saved as scene_173_analysis.json\n",
      "Analysis for scene_133_frame_1_20337.jpg saved as scene_133_analysis.json\n",
      "Analysis for scene_191_frame_1_30179.jpg saved as scene_191_analysis.json\n",
      "Analysis for scene_75_frame_1_11192.jpg saved as scene_75_analysis.json\n",
      "Analysis for scene_205_frame_1_32666.jpg saved as scene_205_analysis.json\n",
      "Analysis for scene_69_frame_1_10170.jpg saved as scene_69_analysis.json\n",
      "Analysis for scene_159_frame_1_24320.jpg saved as scene_159_analysis.json\n",
      "Analysis for scene_168_frame_1_25455.jpg saved as scene_168_analysis.json\n",
      "Analysis for scene_71_frame_1_10583.jpg saved as scene_71_analysis.json\n",
      "Analysis for scene_147_frame_1_22488.jpg saved as scene_147_analysis.json\n",
      "Analysis for scene_54_frame_1_8358.jpg saved as scene_54_analysis.json\n",
      "Analysis for scene_86_frame_1_13298.jpg saved as scene_86_analysis.json\n",
      "Analysis for scene_46_frame_1_7557.jpg saved as scene_46_analysis.json\n",
      "Analysis for scene_59_frame_1_8963.jpg saved as scene_59_analysis.json\n",
      "Analysis for scene_103_frame_1_15712.jpg saved as scene_103_analysis.json\n",
      "Analysis for scene_70_frame_1_10503.jpg saved as scene_70_analysis.json\n",
      "Analysis for scene_134_frame_1_20459.jpg saved as scene_134_analysis.json\n",
      "Analysis for scene_94_frame_1_14425.jpg saved as scene_94_analysis.json\n",
      "Analysis for scene_56_frame_1_8602.jpg saved as scene_56_analysis.json\n",
      "Analysis for scene_165_frame_1_25286.jpg saved as scene_165_analysis.json\n",
      "Analysis for scene_81_frame_1_12160.jpg saved as scene_81_analysis.json\n",
      "Analysis for scene_110_frame_1_16534.jpg saved as scene_110_analysis.json\n",
      "Analysis for scene_200_frame_1_32219.jpg saved as scene_200_analysis.json\n",
      "Analysis for scene_120_frame_1_17943.jpg saved as scene_120_analysis.json\n",
      "Analysis for scene_67_frame_1_9709.jpg saved as scene_67_analysis.json\n",
      "Analysis for scene_98_frame_1_14914.jpg saved as scene_98_analysis.json\n",
      "Analysis for scene_123_frame_1_18544.jpg saved as scene_123_analysis.json\n",
      "Analysis for scene_190_frame_1_30070.jpg saved as scene_190_analysis.json\n",
      "Analysis for scene_137_frame_1_21073.jpg saved as scene_137_analysis.json\n",
      "Analysis for scene_89_frame_1_13921.jpg saved as scene_89_analysis.json\n",
      "Analysis for scene_144_frame_1_22304.jpg saved as scene_144_analysis.json\n",
      "Analysis for scene_170_frame_1_26428.jpg saved as scene_170_analysis.json\n",
      "Analysis for scene_79_frame_1_11903.jpg saved as scene_79_analysis.json\n",
      "Analysis for scene_116_frame_1_17290.jpg saved as scene_116_analysis.json\n",
      "Analysis for scene_167_frame_1_25420.jpg saved as scene_167_analysis.json\n",
      "Analysis for scene_177_frame_1_27640.jpg saved as scene_177_analysis.json\n",
      "Analysis for scene_172_frame_1_26784.jpg saved as scene_172_analysis.json\n",
      "Analysis for scene_92_frame_1_14246.jpg saved as scene_92_analysis.json\n",
      "Analysis for scene_162_frame_1_24810.jpg saved as scene_162_analysis.json\n",
      "Analysis for scene_91_frame_1_14005.jpg saved as scene_91_analysis.json\n",
      "Analysis for scene_188_frame_1_29708.jpg saved as scene_188_analysis.json\n",
      "Analysis for scene_113_frame_1_16932.jpg saved as scene_113_analysis.json\n",
      "Analysis for scene_102_frame_1_15642.jpg saved as scene_102_analysis.json\n",
      "Analysis for scene_189_frame_1_30015.jpg saved as scene_189_analysis.json\n",
      "Analysis for scene_178_frame_1_27805.jpg saved as scene_178_analysis.json\n",
      "Analysis for scene_192_frame_1_30289.jpg saved as scene_192_analysis.json\n",
      "Analysis for scene_62_frame_1_9242.jpg saved as scene_62_analysis.json\n",
      "Analysis for scene_107_frame_1_16137.jpg saved as scene_107_analysis.json\n",
      "Analysis for scene_163_frame_1_25165.jpg saved as scene_163_analysis.json\n",
      "Analysis for scene_83_frame_1_12862.jpg saved as scene_83_analysis.json\n",
      "Analysis for scene_184_frame_1_28676.jpg saved as scene_184_analysis.json\n",
      "Analysis for scene_176_frame_1_27573.jpg saved as scene_176_analysis.json\n",
      "Analysis for scene_85_frame_1_13221.jpg saved as scene_85_analysis.json\n",
      "Analysis for scene_140_frame_1_21861.jpg saved as scene_140_analysis.json\n",
      "Analysis for scene_108_frame_1_16412.jpg saved as scene_108_analysis.json\n",
      "Analysis for scene_201_frame_1_32323.jpg saved as scene_201_analysis.json\n",
      "Analysis for scene_97_frame_1_14887.jpg saved as scene_97_analysis.json\n",
      "Analysis for scene_183_frame_1_28620.jpg saved as scene_183_analysis.json\n",
      "Analysis for scene_66_frame_1_9640.jpg saved as scene_66_analysis.json\n",
      "Analysis for scene_194_frame_1_30859.jpg saved as scene_194_analysis.json\n",
      "Analysis for scene_82_frame_1_12372.jpg saved as scene_82_analysis.json\n",
      "Analysis for scene_117_frame_1_17510.jpg saved as scene_117_analysis.json\n",
      "Error decoding JSON: Expecting value: line 85 column 63 (char 2963)\n",
      "Skipping scene_193_frame_1_30403.jpg due to invalid OpenAI response.\n",
      "Analysis for scene_80_frame_1_12093.jpg saved as scene_80_analysis.json\n",
      "Analysis for scene_186_frame_1_29120.jpg saved as scene_186_analysis.json\n",
      "Analysis for scene_136_frame_1_20912.jpg saved as scene_136_analysis.json\n",
      "Error decoding JSON: Unterminated string starting at: line 91 column 26 (char 2849)\n",
      "Skipping scene_204_frame_1_32540.jpg due to invalid OpenAI response.\n",
      "Analysis for scene_122_frame_1_18402.jpg saved as scene_122_analysis.json\n",
      "Analysis for scene_135_frame_1_20725.jpg saved as scene_135_analysis.json\n",
      "Analysis for scene_174_frame_1_27348.jpg saved as scene_174_analysis.json\n",
      "Analysis for scene_129_frame_1_19667.jpg saved as scene_129_analysis.json\n",
      "Error decoding JSON: Unterminated string starting at: line 86 column 26 (char 2890)\n",
      "Skipping scene_197_frame_1_31699.jpg due to invalid OpenAI response.\n",
      "Analysis for scene_77_frame_1_11577.jpg saved as scene_77_analysis.json\n",
      "Analysis for scene_157_frame_1_24081.jpg saved as scene_157_analysis.json\n",
      "Error decoding JSON: Expecting property name enclosed in double quotes: line 87 column 108 (char 3059)\n",
      "Skipping scene_206_frame_1_32916.jpg due to invalid OpenAI response.\n"
     ]
    }
   ],
   "source": [
    "import os\n",
    "import base64\n",
    "import aiohttp\n",
    "import asyncio\n",
    "import json\n",
    "from PIL import Image\n",
    "import numpy as np\n",
    "import colorsys\n",
    "import aiofiles\n",
    "import nest_asyncio\n",
    "from tqdm.asyncio import tqdm\n",
    "\n",
    "# Apply nest_asyncio to handle the running event loop\n",
    "nest_asyncio.apply()\n",
    "\n",
    "# Function to encode the image asynchronously\n",
    "async def encode_image(image_path):\n",
    "    async with aiofiles.open(image_path, \"rb\") as image_file:\n",
    "        content = await image_file.read()\n",
    "        return base64.b64encode(content).decode('utf-8')\n",
    "\n",
    "# Function to determine the specific primary or special color category\n",
    "def get_color_category(color):\n",
    "    r, g, b = [x / 255.0 for x in color]\n",
    "    h, l, s = colorsys.rgb_to_hls(r, g, b)\n",
    "\n",
    "    primary_hues = {\n",
    "        \"red\": (0.0, 0.1),  \n",
    "        \"yellow\": (0.1, 0.18),\n",
    "        \"green\": (0.25, 0.4),\n",
    "        \"blue\": (0.55, 0.75),\n",
    "    }\n",
    "\n",
    "    for color_name, hue_range in primary_hues.items():\n",
    "        if hue_range[0] <= h <= hue_range[1]:\n",
    "            return color_name\n",
    "\n",
    "    if (l >= 0.9 and s <= 0.1):\n",
    "        return \"white\"\n",
    "    if (l <= 0.1 and s <= 0.1):\n",
    "        return \"black\"\n",
    "\n",
    "    return \"non-primary\"\n",
    "\n",
    "# Function to analyze image colors and return as a dictionary\n",
    "def analyze_image_colors(image_path):\n",
    "    image = Image.open(image_path)\n",
    "    image = image.convert('RGB')\n",
    "    data = np.array(image)\n",
    "\n",
    "    unique_colors, counts = np.unique(data.reshape(-1, data.shape[2]), axis=0, return_counts=True)\n",
    "    total_pixels = int(counts.sum())\n",
    "\n",
    "    color_counts = {\n",
    "        \"Red\": 0,\n",
    "        \"Yellow\": 0,\n",
    "        \"Green\": 0,\n",
    "        \"Blue\": 0,\n",
    "        \"White\": 0,\n",
    "        \"Black\": 0,\n",
    "        \"Non-primary\": 0\n",
    "    }\n",
    "\n",
    "    for color, count in zip(unique_colors, counts):\n",
    "        category = get_color_category(tuple(color))\n",
    "        color_counts[category.capitalize()] += int(count)\n",
    "\n",
    "    color_percentages = {color: (count / total_pixels) * 100 for color, count in color_counts.items()}\n",
    "    primary_total = color_counts[\"Red\"] + color_counts[\"Yellow\"] + color_counts[\"Blue\"]\n",
    "    color_dominance = \"Primary colors\" if primary_total > color_counts[\"Non-primary\"] else \"Non-primary colors\"\n",
    "\n",
    "    color_analysis_result = {\n",
    "        \"Color Analysis\": {\n",
    "            \"Colors Found\": {\n",
    "                color: {\n",
    "                    \"Pixel Count\": count,\n",
    "                    \"Percentage\": f\"{color_percentages[color]:.2f}%\"\n",
    "                } for color, count in color_counts.items()\n",
    "            },\n",
    "            \"Dominance\": color_dominance\n",
    "        }\n",
    "    }\n",
    "    \n",
    "    return color_analysis_result\n",
    "\n",
    "# Asynchronous function to send the image to OpenAI API\n",
    "async def send_image_to_openai(image_path, base64_image):\n",
    "    api_key = os.getenv(\"OPENAI_API_KEY\")\n",
    "    headers = {\n",
    "        \"Content-Type\": \"application/json\",\n",
    "        \"Authorization\": f\"Bearer {api_key}\"\n",
    "    }\n",
    "\n",
    "    payload = {\n",
    "        \"model\": \"gpt-4o-mini\",\n",
    "        \"messages\": [\n",
    "            {\n",
    "                \"role\": \"user\",\n",
    "                \"content\": [\n",
    "                    {\n",
    "                        \"type\": \"text\",\n",
    "                        \"text\": \"\"\"\n",
    "                        Analyze the following image and provide a detailed description in the format of JSON only. Ensure the output is strictly in JSON format without any additional text or code block formatting. The JSON should include the following standardized labels:\n",
    "\n",
    "                        1. **Image Analysis**: The root dictionary containing all analysis data.\n",
    "                        \n",
    "                        2. **Suitability**:\n",
    "                            - \"Nudity\": Boolean indicating the presence of nudity.\n",
    "                            - \"Obscene Gestures\": Boolean indicating the presence of obscene gestures.\n",
    "                            - \"Alcohol\": Boolean indicating the presence of alcohol.\n",
    "                            - \"Drugs\": Boolean indicating the presence of drugs.\n",
    "                            - \"Addictions\": Boolean indicating the presence of addictions.\n",
    "\n",
    "                        3. **Objects**:\n",
    "                            - \"Total Objects Identified\": Integer representing the total number of objects identified.\n",
    "                            - \"Average Features Per Object\": Float representing the average number of features per object.\n",
    "                            - \"Objects Details\": Dictionary containing details of each object, where each object is labeled as \"Object_1\", \"Object_2\", etc., with the following structure:\n",
    "                                - \"Name\": The name of the object.\n",
    "                                - \"Color\": The color of the object.\n",
    "                                - \"Features\": List of features of the object.\n",
    "                                - \"Total Features\": Integer representing the number of features for the object.\n",
    "\n",
    "                        4. **Place**:\n",
    "                            - \"Certainty\": String indicating the certainty level of the identified place.\n",
    "                            - \"Fantasy/Adventurous Place\": Boolean (0-1) indicating whether the place is classified as a fantasy/adventurous place or not.\n",
    "                            - \"Explanation\": Detailed explanation of why the place is classified as fantasy/adventurous or not. Fantasy places are those that do not exist in reality, and adventurous places are defined as those involving clear statements of traveling to space or another country.\n",
    "\n",
    "                        5. **Characters**:\n",
    "                        - \"Total Characters Identified\": Integer representing the total number of characters identified.\n",
    "                        - \"Average Features Per Character\": Float representing the average number of features per character.\n",
    "                        - \"Character Details\": Dictionary containing details of each character, where each character is labeled as \"Character_1\", \"Character_2\", etc., with the following structure:\n",
    "                            - \"Name\": The name of the character, if identifiable, or \"Unknown\" otherwise.\n",
    "                            - \"Human or Non-Human\": 0-1 output indicating if the character appears human (1) or non-human (0). Anthropomorphized characters are not considered humans.\n",
    "                            - \"Physical Features\": List of physical features of the character.\n",
    "                            - \"Explanation\": Explanation for why the character is classified as human or non-human, and why these physical features are inferred.\n",
    "                            - \"Age\": Expected age range of the character (a single number).\n",
    "\n",
    "                        Ensure that the structure of the JSON output strictly adheres to these standardized labels.\n",
    "                        \"\"\"\n",
    "                    },\n",
    "                    {\n",
    "                        \"type\": \"image_url\",\n",
    "                        \"image_url\": {\n",
    "                            \"url\": f\"data:image/png;base64,{base64_image}\"\n",
    "                        }\n",
    "                    }\n",
    "                ]\n",
    "            }\n",
    "        ],\n",
    "        \"max_tokens\": 750\n",
    "    }\n",
    "\n",
    "    async with aiohttp.ClientSession() as session:\n",
    "        async with session.post(\"https://api.openai.com/v1/chat/completions\", headers=headers, json=payload) as response:\n",
    "            if response.status != 200:\n",
    "                print(f\"Request failed with status code: {response.status}\")\n",
    "                return None\n",
    "            \n",
    "            content = await response.json()\n",
    "            content_text = content.get('choices', [{}])[0].get('message', {}).get('content', '').strip()\n",
    "\n",
    "            try:\n",
    "                content_dict = json.loads(content_text)\n",
    "            except json.JSONDecodeError as e:\n",
    "                print(f\"Error decoding JSON: {e}\")\n",
    "                return None\n",
    "\n",
    "            return content_dict\n",
    "\n",
    "# Asynchronous function to process scenes from the folder with progress bar\n",
    "async def process_scenes_output(output_dir, json_output_dir):\n",
    "    # Create the output directory for JSON files if it doesn't exist\n",
    "    os.makedirs(json_output_dir, exist_ok=True)\n",
    "\n",
    "    # List all the files in the output directory that end with '.jpg'\n",
    "    scenes = sorted([f for f in os.listdir(output_dir) if f.endswith('.jpg')], key=extract_scene_number)\n",
    "\n",
    "    # Progress bar for scenes\n",
    "    with tqdm(total=len(scenes), desc=\"Processing Scenes\", unit=\"scene\") as pbar:\n",
    "        tasks = []\n",
    "        for i, scene in enumerate(scenes):\n",
    "            tasks.append(process_single_scene(i, scene, output_dir, json_output_dir, pbar))\n",
    "\n",
    "        # Run all tasks concurrently\n",
    "        await asyncio.gather(*tasks)\n",
    "\n",
    "# Asynchronous function to process a single scene\n",
    "async def process_single_scene(i, scene, output_dir, json_output_dir, pbar):\n",
    "    scene_path = os.path.join(output_dir, scene)\n",
    "    \n",
    "    # Encode image in base64\n",
    "    base64_image = await encode_image(scene_path)\n",
    "\n",
    "    # Perform color analysis\n",
    "    color_analysis_result = analyze_image_colors(scene_path)\n",
    "\n",
    "    # Send image to OpenAI for further analysis\n",
    "    openai_response = await send_image_to_openai(scene_path, base64_image)\n",
    "\n",
    "    # Check if openai_response is valid (not None or empty)\n",
    "    if not openai_response:\n",
    "        print(f\"Skipping {scene} due to invalid OpenAI response.\")\n",
    "        pbar.update(1)\n",
    "        return\n",
    "\n",
    "    # Combine both results, and include the reference to the image file\n",
    "    final_output = {\n",
    "        \"Image File\": scene,\n",
    "        \"Image Analysis\": {\n",
    "            **color_analysis_result[\"Color Analysis\"],\n",
    "            **openai_response.get(\"Image Analysis\", {})\n",
    "        }\n",
    "    }\n",
    "\n",
    "    # Save the final output to a JSON file in the specified folder\n",
    "    output_filename = f'scene_{i + 1}_analysis.json'\n",
    "    output_path = os.path.join(json_output_dir, output_filename)\n",
    "\n",
    "    async with aiofiles.open(output_path, 'w') as json_file:\n",
    "        await json_file.write(json.dumps(final_output, indent=4))\n",
    "\n",
    "    pbar.update(1)\n",
    "    print(f\"Analysis for {scene} saved as {output_filename}\")\n",
    "\n",
    "# Helper function to extract scene numbers from filenames\n",
    "def extract_scene_number(filename):\n",
    "    match = re.search(r'\\d+', filename)\n",
    "    return int(match.group()) if match else -1\n",
    "\n",
    "# Main function to process videos and analyze images with progress bar\n",
    "def process_videos_in_directory(directory_path, output_base_dir):\n",
    "    # Get all video files in the directory\n",
    "    video_files = [f for f in os.listdir(directory_path) if f.endswith(('.mp4', '.avi', '.mkv'))]\n",
    "\n",
    "    if not video_files:\n",
    "        print(\"No video files found in the directory.\")\n",
    "        return\n",
    "\n",
    "    # Progress bar for videos\n",
    "    with tqdm(total=len(video_files), desc=\"Processing Videos\", unit=\"video\") as pbar:\n",
    "        for i, video_file in enumerate(video_files):\n",
    "            video_path = os.path.join(directory_path, video_file)\n",
    "            video_name = os.path.splitext(video_file)[0]\n",
    "            \n",
    "            # Create a folder named after the video inside the output_base_dir\n",
    "            video_output_dir = os.path.join(output_base_dir, video_name)\n",
    "            scenes_output_dir = os.path.join(video_output_dir, 'scenes_output')\n",
    "            json_output_dir = os.path.join(video_output_dir, 'json_output')\n",
    "\n",
    "            os.makedirs(scenes_output_dir, exist_ok=True)\n",
    "\n",
    "            print(f\"Processing video {i + 1}/{len(video_files)}: {video_file}\")\n",
    "            \n",
    "            # Analyze the video and extract scenes\n",
    "            scenes = analyze_video(video_path)\n",
    "            extract_frames_imageio(video_path, scenes, scenes_output_dir)\n",
    "\n",
    "            # Analyze all scenes and save the JSON output\n",
    "            asyncio.run(process_scenes_output(scenes_output_dir, json_output_dir))\n",
    "\n",
    "            print(f\"Finished processing video: {video_file}\")\n",
    "            pbar.update(1)\n",
    "\n",
    "# Main script execution\n",
    "video_directory = '/Users/santiagowon/Dropbox/Santiago/01. Maestria/Tesis/02_Video_DB'\n",
    "output_base_directory = '/Users/santiagowon/Dropbox/Santiago/01. Maestria/Tesis/11_Project_Analysed_DB'\n",
    "\n",
    "# Process all videos in the directory\n",
    "process_videos_in_directory(video_directory, output_base_directory)\n"
   ]
  },
  {
   "cell_type": "code",
   "execution_count": 6,
   "metadata": {},
   "outputs": [],
   "source": [
    "# 20-Ago a las 12:08"
   ]
  },
  {
   "cell_type": "code",
   "execution_count": 8,
   "metadata": {},
   "outputs": [
    {
     "name": "stderr",
     "output_type": "stream",
     "text": [
      "Processing Videos:   0%|          | 0/2 [00:00<?, ?video/s]ERROR:pyscenedetect:VideoManager is deprecated and will be removed.\n",
      "INFO:pyscenedetect:Loaded 1 video, framerate: 23.976 FPS, resolution: 1280 x 720\n",
      "INFO:pyscenedetect:Downscale factor set to 5, effective resolution: 256 x 144\n",
      "INFO:pyscenedetect:Detecting scenes...\n"
     ]
    },
    {
     "name": "stdout",
     "output_type": "stream",
     "text": [
      "Processing video 1/2: Duck_And_Goose.mkv\n"
     ]
    },
    {
     "name": "stderr",
     "output_type": "stream",
     "text": [
      "INFO:root:Detected 209 scenes:\n",
      "INFO:root:Scene 1: Start 00:00:00.000 / Frame 0, End 00:00:09.551 / Frame 229\n",
      "INFO:root:Scene 2: Start 00:00:09.551 / Frame 229, End 00:00:11.887 / Frame 285\n",
      "INFO:root:Scene 3: Start 00:00:11.887 / Frame 285, End 00:00:26.109 / Frame 626\n",
      "INFO:root:Scene 4: Start 00:00:26.109 / Frame 626, End 00:00:28.737 / Frame 689\n",
      "INFO:root:Scene 5: Start 00:00:28.737 / Frame 689, End 00:00:32.115 / Frame 770\n",
      "INFO:root:Scene 6: Start 00:00:32.115 / Frame 770, End 00:00:33.992 / Frame 815\n",
      "INFO:root:Scene 7: Start 00:00:33.992 / Frame 815, End 00:00:34.910 / Frame 837\n",
      "INFO:root:Scene 8: Start 00:00:34.910 / Frame 837, End 00:00:39.498 / Frame 947\n",
      "INFO:root:Scene 9: Start 00:00:39.498 / Frame 947, End 00:00:45.587 / Frame 1093\n",
      "INFO:root:Scene 10: Start 00:00:45.587 / Frame 1093, End 00:00:55.430 / Frame 1329\n",
      "INFO:root:Scene 11: Start 00:00:55.430 / Frame 1329, End 00:00:58.976 / Frame 1414\n",
      "INFO:root:Scene 12: Start 00:00:58.976 / Frame 1414, End 00:01:00.727 / Frame 1456\n",
      "INFO:root:Scene 13: Start 00:01:00.727 / Frame 1456, End 00:01:07.442 / Frame 1617\n",
      "INFO:root:Scene 14: Start 00:01:07.442 / Frame 1617, End 00:01:12.572 / Frame 1740\n",
      "INFO:root:Scene 15: Start 00:01:12.572 / Frame 1740, End 00:01:15.200 / Frame 1803\n",
      "INFO:root:Scene 16: Start 00:01:15.200 / Frame 1803, End 00:01:32.092 / Frame 2208\n",
      "INFO:root:Scene 17: Start 00:01:32.092 / Frame 2208, End 00:01:41.393 / Frame 2431\n",
      "INFO:root:Scene 18: Start 00:01:41.393 / Frame 2431, End 00:01:50.652 / Frame 2653\n",
      "INFO:root:Scene 19: Start 00:01:50.652 / Frame 2653, End 00:01:53.196 / Frame 2714\n",
      "INFO:root:Scene 20: Start 00:01:53.196 / Frame 2714, End 00:01:57.659 / Frame 2821\n",
      "INFO:root:Scene 21: Start 00:01:57.659 / Frame 2821, End 00:02:04.416 / Frame 2983\n",
      "INFO:root:Scene 22: Start 00:02:04.416 / Frame 2983, End 00:02:07.210 / Frame 3050\n",
      "INFO:root:Scene 23: Start 00:02:07.210 / Frame 3050, End 00:02:14.301 / Frame 3220\n",
      "INFO:root:Scene 24: Start 00:02:14.301 / Frame 3220, End 00:02:16.762 / Frame 3279\n",
      "INFO:root:Scene 25: Start 00:02:16.762 / Frame 3279, End 00:02:19.139 / Frame 3336\n",
      "INFO:root:Scene 26: Start 00:02:19.139 / Frame 3336, End 00:02:28.398 / Frame 3558\n",
      "INFO:root:Scene 27: Start 00:02:28.398 / Frame 3558, End 00:02:42.371 / Frame 3893\n",
      "INFO:root:Scene 28: Start 00:02:42.371 / Frame 3893, End 00:02:53.924 / Frame 4170\n",
      "INFO:root:Scene 29: Start 00:02:53.924 / Frame 4170, End 00:03:04.559 / Frame 4425\n",
      "INFO:root:Scene 30: Start 00:03:04.559 / Frame 4425, End 00:03:15.195 / Frame 4680\n",
      "INFO:root:Scene 31: Start 00:03:15.195 / Frame 4680, End 00:03:17.948 / Frame 4746\n",
      "INFO:root:Scene 32: Start 00:03:17.948 / Frame 4746, End 00:03:19.533 / Frame 4784\n",
      "INFO:root:Scene 33: Start 00:03:19.533 / Frame 4784, End 00:03:36.842 / Frame 5199\n",
      "INFO:root:Scene 34: Start 00:03:36.842 / Frame 5199, End 00:03:41.555 / Frame 5312\n",
      "INFO:root:Scene 35: Start 00:03:41.555 / Frame 5312, End 00:03:49.187 / Frame 5495\n",
      "INFO:root:Scene 36: Start 00:03:49.187 / Frame 5495, End 00:03:52.858 / Frame 5583\n",
      "INFO:root:Scene 37: Start 00:03:52.858 / Frame 5583, End 00:04:01.950 / Frame 5801\n",
      "INFO:root:Scene 38: Start 00:04:01.950 / Frame 5801, End 00:04:06.496 / Frame 5910\n",
      "INFO:root:Scene 39: Start 00:04:06.496 / Frame 5910, End 00:04:11.543 / Frame 6031\n",
      "INFO:root:Scene 40: Start 00:04:11.543 / Frame 6031, End 00:04:19.926 / Frame 6232\n",
      "INFO:root:Scene 41: Start 00:04:19.926 / Frame 6232, End 00:04:25.974 / Frame 6377\n",
      "INFO:root:Scene 42: Start 00:04:25.974 / Frame 6377, End 00:04:28.268 / Frame 6432\n",
      "INFO:root:Scene 43: Start 00:04:28.268 / Frame 6432, End 00:04:33.815 / Frame 6565\n",
      "INFO:root:Scene 44: Start 00:04:33.815 / Frame 6565, End 00:04:44.618 / Frame 6824\n",
      "INFO:root:Scene 45: Start 00:04:44.618 / Frame 6824, End 00:05:15.190 / Frame 7557\n",
      "INFO:root:Scene 46: Start 00:05:15.190 / Frame 7557, End 00:05:29.079 / Frame 7890\n",
      "INFO:root:Scene 47: Start 00:05:29.079 / Frame 7890, End 00:05:33.792 / Frame 8003\n",
      "INFO:root:Scene 48: Start 00:05:33.792 / Frame 8003, End 00:05:36.586 / Frame 8070\n",
      "INFO:root:Scene 49: Start 00:05:36.586 / Frame 8070, End 00:05:38.004 / Frame 8104\n",
      "INFO:root:Scene 50: Start 00:05:38.004 / Frame 8104, End 00:05:41.299 / Frame 8183\n",
      "INFO:root:Scene 51: Start 00:05:41.299 / Frame 8183, End 00:05:42.968 / Frame 8223\n",
      "INFO:root:Scene 52: Start 00:05:42.968 / Frame 8223, End 00:05:46.555 / Frame 8309\n",
      "INFO:root:Scene 53: Start 00:05:46.555 / Frame 8309, End 00:05:48.598 / Frame 8358\n",
      "INFO:root:Scene 54: Start 00:05:48.598 / Frame 8358, End 00:05:50.267 / Frame 8398\n",
      "INFO:root:Scene 55: Start 00:05:50.267 / Frame 8398, End 00:05:58.775 / Frame 8602\n",
      "INFO:root:Scene 56: Start 00:05:58.775 / Frame 8602, End 00:06:06.741 / Frame 8793\n",
      "INFO:root:Scene 57: Start 00:06:06.741 / Frame 8793, End 00:06:10.745 / Frame 8889\n",
      "INFO:root:Scene 58: Start 00:06:10.745 / Frame 8889, End 00:06:13.832 / Frame 8963\n",
      "INFO:root:Scene 59: Start 00:06:13.832 / Frame 8963, End 00:06:15.917 / Frame 9013\n",
      "INFO:root:Scene 60: Start 00:06:15.917 / Frame 9013, End 00:06:22.591 / Frame 9173\n",
      "INFO:root:Scene 61: Start 00:06:22.591 / Frame 9173, End 00:06:25.468 / Frame 9242\n",
      "INFO:root:Scene 62: Start 00:06:25.468 / Frame 9242, End 00:06:28.013 / Frame 9303\n",
      "INFO:root:Scene 63: Start 00:06:28.013 / Frame 9303, End 00:06:30.765 / Frame 9369\n",
      "INFO:root:Scene 64: Start 00:06:30.765 / Frame 9369, End 00:06:36.521 / Frame 9507\n",
      "INFO:root:Scene 65: Start 00:06:36.521 / Frame 9507, End 00:06:42.068 / Frame 9640\n",
      "INFO:root:Scene 66: Start 00:06:42.068 / Frame 9640, End 00:06:44.946 / Frame 9709\n",
      "INFO:root:Scene 67: Start 00:06:44.946 / Frame 9709, End 00:06:57.042 / Frame 9999\n",
      "INFO:root:Scene 68: Start 00:06:57.042 / Frame 9999, End 00:07:04.174 / Frame 10170\n",
      "INFO:root:Scene 69: Start 00:07:04.174 / Frame 10170, End 00:07:18.063 / Frame 10503\n",
      "INFO:root:Scene 70: Start 00:07:18.063 / Frame 10503, End 00:07:21.399 / Frame 10583\n",
      "INFO:root:Scene 71: Start 00:07:21.399 / Frame 10583, End 00:07:37.165 / Frame 10961\n",
      "INFO:root:Scene 72: Start 00:07:37.165 / Frame 10961, End 00:07:41.044 / Frame 11054\n",
      "INFO:root:Scene 73: Start 00:07:41.044 / Frame 11054, End 00:07:43.254 / Frame 11107\n",
      "INFO:root:Scene 74: Start 00:07:43.254 / Frame 11107, End 00:07:46.800 / Frame 11192\n",
      "INFO:root:Scene 75: Start 00:07:46.800 / Frame 11192, End 00:07:52.055 / Frame 11318\n",
      "INFO:root:Scene 76: Start 00:07:52.055 / Frame 11318, End 00:08:02.857 / Frame 11577\n",
      "INFO:root:Scene 77: Start 00:08:02.857 / Frame 11577, End 00:08:11.950 / Frame 11795\n",
      "INFO:root:Scene 78: Start 00:08:11.950 / Frame 11795, End 00:08:16.454 / Frame 11903\n",
      "INFO:root:Scene 79: Start 00:08:16.454 / Frame 11903, End 00:08:24.379 / Frame 12093\n",
      "INFO:root:Scene 80: Start 00:08:24.379 / Frame 12093, End 00:08:27.173 / Frame 12160\n",
      "INFO:root:Scene 81: Start 00:08:27.173 / Frame 12160, End 00:08:36.015 / Frame 12372\n",
      "INFO:root:Scene 82: Start 00:08:36.015 / Frame 12372, End 00:08:56.453 / Frame 12862\n",
      "INFO:root:Scene 83: Start 00:08:56.453 / Frame 12862, End 00:09:02.333 / Frame 13003\n",
      "INFO:root:Scene 84: Start 00:09:02.333 / Frame 13003, End 00:09:11.426 / Frame 13221\n",
      "INFO:root:Scene 85: Start 00:09:11.426 / Frame 13221, End 00:09:14.637 / Frame 13298\n",
      "INFO:root:Scene 86: Start 00:09:14.637 / Frame 13298, End 00:09:27.817 / Frame 13614\n",
      "INFO:root:Scene 87: Start 00:09:27.817 / Frame 13614, End 00:09:32.697 / Frame 13731\n",
      "INFO:root:Scene 88: Start 00:09:32.697 / Frame 13731, End 00:09:40.622 / Frame 13921\n",
      "INFO:root:Scene 89: Start 00:09:40.622 / Frame 13921, End 00:09:43.124 / Frame 13981\n",
      "INFO:root:Scene 90: Start 00:09:43.124 / Frame 13981, End 00:09:44.125 / Frame 14005\n",
      "INFO:root:Scene 91: Start 00:09:44.125 / Frame 14005, End 00:09:54.177 / Frame 14246\n",
      "INFO:root:Scene 92: Start 00:09:54.177 / Frame 14246, End 00:09:56.930 / Frame 14312\n",
      "INFO:root:Scene 93: Start 00:09:56.930 / Frame 14312, End 00:10:01.643 / Frame 14425\n",
      "INFO:root:Scene 94: Start 00:10:01.643 / Frame 14425, End 00:10:11.194 / Frame 14654\n",
      "INFO:root:Scene 95: Start 00:10:11.194 / Frame 14654, End 00:10:17.867 / Frame 14814\n",
      "INFO:root:Scene 96: Start 00:10:17.867 / Frame 14814, End 00:10:20.912 / Frame 14887\n",
      "INFO:root:Scene 97: Start 00:10:20.912 / Frame 14887, End 00:10:22.038 / Frame 14914\n",
      "INFO:root:Scene 98: Start 00:10:22.038 / Frame 14914, End 00:10:25.375 / Frame 14994\n",
      "INFO:root:Scene 99: Start 00:10:25.375 / Frame 14994, End 00:10:27.877 / Frame 15054\n",
      "INFO:root:Scene 100: Start 00:10:27.877 / Frame 15054, End 00:10:45.353 / Frame 15473\n",
      "INFO:root:Scene 101: Start 00:10:45.353 / Frame 15473, End 00:10:52.402 / Frame 15642\n",
      "INFO:root:Scene 102: Start 00:10:52.402 / Frame 15642, End 00:10:55.321 / Frame 15712\n",
      "INFO:root:Scene 103: Start 00:10:55.321 / Frame 15712, End 00:10:59.576 / Frame 15814\n",
      "INFO:root:Scene 104: Start 00:10:59.576 / Frame 15814, End 00:11:02.453 / Frame 15883\n",
      "INFO:root:Scene 105: Start 00:11:02.453 / Frame 15883, End 00:11:06.082 / Frame 15970\n",
      "INFO:root:Scene 106: Start 00:11:06.082 / Frame 15970, End 00:11:13.047 / Frame 16137\n",
      "INFO:root:Scene 107: Start 00:11:13.047 / Frame 16137, End 00:11:24.517 / Frame 16412\n",
      "INFO:root:Scene 108: Start 00:11:24.517 / Frame 16412, End 00:11:28.354 / Frame 16504\n",
      "INFO:root:Scene 109: Start 00:11:28.354 / Frame 16504, End 00:11:29.606 / Frame 16534\n",
      "INFO:root:Scene 110: Start 00:11:29.606 / Frame 16534, End 00:11:36.321 / Frame 16695\n",
      "INFO:root:Scene 111: Start 00:11:36.321 / Frame 16695, End 00:11:38.323 / Frame 16743\n",
      "INFO:root:Scene 112: Start 00:11:38.323 / Frame 16743, End 00:11:46.205 / Frame 16932\n",
      "INFO:root:Scene 113: Start 00:11:46.205 / Frame 16932, End 00:11:52.253 / Frame 17077\n",
      "INFO:root:Scene 114: Start 00:11:52.253 / Frame 17077, End 00:11:58.593 / Frame 17229\n",
      "INFO:root:Scene 115: Start 00:11:58.593 / Frame 17229, End 00:12:01.137 / Frame 17290\n",
      "INFO:root:Scene 116: Start 00:12:01.137 / Frame 17290, End 00:12:10.313 / Frame 17510\n",
      "INFO:root:Scene 117: Start 00:12:10.313 / Frame 17510, End 00:12:12.565 / Frame 17564\n",
      "INFO:root:Scene 118: Start 00:12:12.565 / Frame 17564, End 00:12:25.036 / Frame 17863\n",
      "INFO:root:Scene 119: Start 00:12:25.036 / Frame 17863, End 00:12:28.373 / Frame 17943\n",
      "INFO:root:Scene 120: Start 00:12:28.373 / Frame 17943, End 00:12:36.798 / Frame 18145\n",
      "INFO:root:Scene 121: Start 00:12:36.798 / Frame 18145, End 00:12:47.517 / Frame 18402\n",
      "INFO:root:Scene 122: Start 00:12:47.517 / Frame 18402, End 00:12:53.439 / Frame 18544\n",
      "INFO:root:Scene 123: Start 00:12:53.439 / Frame 18544, End 00:13:05.243 / Frame 18827\n",
      "INFO:root:Scene 124: Start 00:13:05.243 / Frame 18827, End 00:13:17.630 / Frame 19124\n",
      "INFO:root:Scene 125: Start 00:13:17.630 / Frame 19124, End 00:13:18.923 / Frame 19155\n",
      "INFO:root:Scene 126: Start 00:13:18.923 / Frame 19155, End 00:13:24.303 / Frame 19284\n",
      "INFO:root:Scene 127: Start 00:13:24.303 / Frame 19284, End 00:13:27.974 / Frame 19372\n",
      "INFO:root:Scene 128: Start 00:13:27.974 / Frame 19372, End 00:13:40.278 / Frame 19667\n",
      "INFO:root:Scene 129: Start 00:13:40.278 / Frame 19667, End 00:13:42.321 / Frame 19716\n",
      "INFO:root:Scene 130: Start 00:13:42.321 / Frame 19716, End 00:13:48.244 / Frame 19858\n",
      "INFO:root:Scene 131: Start 00:13:48.244 / Frame 19858, End 00:14:04.927 / Frame 20258\n",
      "INFO:root:Scene 132: Start 00:14:04.927 / Frame 20258, End 00:14:08.222 / Frame 20337\n",
      "INFO:root:Scene 133: Start 00:14:08.222 / Frame 20337, End 00:14:13.311 / Frame 20459\n",
      "INFO:root:Scene 134: Start 00:14:13.311 / Frame 20459, End 00:14:24.405 / Frame 20725\n",
      "INFO:root:Scene 135: Start 00:14:24.405 / Frame 20725, End 00:14:32.205 / Frame 20912\n",
      "INFO:root:Scene 136: Start 00:14:32.205 / Frame 20912, End 00:14:38.920 / Frame 21073\n",
      "INFO:root:Scene 137: Start 00:14:38.920 / Frame 21073, End 00:14:54.393 / Frame 21444\n",
      "INFO:root:Scene 138: Start 00:14:54.393 / Frame 21444, End 00:15:01.734 / Frame 21620\n",
      "INFO:root:Scene 139: Start 00:15:01.734 / Frame 21620, End 00:15:11.786 / Frame 21861\n",
      "INFO:root:Scene 140: Start 00:15:11.786 / Frame 21861, End 00:15:24.882 / Frame 22175\n",
      "INFO:root:Scene 141: Start 00:15:24.882 / Frame 22175, End 00:15:27.885 / Frame 22247\n",
      "INFO:root:Scene 142: Start 00:15:27.885 / Frame 22247, End 00:15:29.053 / Frame 22275\n",
      "INFO:root:Scene 143: Start 00:15:29.053 / Frame 22275, End 00:15:30.263 / Frame 22304\n",
      "INFO:root:Scene 144: Start 00:15:30.263 / Frame 22304, End 00:15:33.891 / Frame 22391\n",
      "INFO:root:Scene 145: Start 00:15:33.891 / Frame 22391, End 00:15:34.976 / Frame 22417\n",
      "INFO:root:Scene 146: Start 00:15:34.976 / Frame 22417, End 00:15:37.937 / Frame 22488\n",
      "INFO:root:Scene 147: Start 00:15:37.937 / Frame 22488, End 00:15:45.987 / Frame 22681\n",
      "INFO:root:Scene 148: Start 00:15:45.987 / Frame 22681, End 00:15:47.822 / Frame 22725\n",
      "INFO:root:Scene 149: Start 00:15:47.822 / Frame 22725, End 00:15:49.615 / Frame 22768\n",
      "INFO:root:Scene 150: Start 00:15:49.615 / Frame 22768, End 00:15:50.491 / Frame 22789\n",
      "INFO:root:Scene 151: Start 00:15:50.491 / Frame 22789, End 00:16:09.510 / Frame 23245\n",
      "INFO:root:Scene 152: Start 00:16:09.510 / Frame 23245, End 00:16:10.761 / Frame 23275\n",
      "INFO:root:Scene 153: Start 00:16:10.761 / Frame 23275, End 00:16:17.935 / Frame 23447\n",
      "INFO:root:Scene 154: Start 00:16:17.935 / Frame 23447, End 00:16:33.492 / Frame 23820\n",
      "INFO:root:Scene 155: Start 00:16:33.492 / Frame 23820, End 00:16:39.832 / Frame 23972\n",
      "INFO:root:Scene 156: Start 00:16:39.832 / Frame 23972, End 00:16:44.378 / Frame 24081\n",
      "INFO:root:Scene 157: Start 00:16:44.378 / Frame 24081, End 00:16:50.635 / Frame 24231\n",
      "INFO:root:Scene 158: Start 00:16:50.635 / Frame 24231, End 00:16:54.347 / Frame 24320\n",
      "INFO:root:Scene 159: Start 00:16:54.347 / Frame 24320, End 00:17:02.897 / Frame 24525\n",
      "INFO:root:Scene 160: Start 00:17:02.897 / Frame 24525, End 00:17:11.530 / Frame 24732\n",
      "INFO:root:Scene 161: Start 00:17:11.530 / Frame 24732, End 00:17:14.784 / Frame 24810\n",
      "INFO:root:Scene 162: Start 00:17:14.784 / Frame 24810, End 00:17:29.590 / Frame 25165\n",
      "INFO:root:Scene 163: Start 00:17:29.590 / Frame 25165, End 00:17:31.842 / Frame 25219\n",
      "INFO:root:Scene 164: Start 00:17:31.842 / Frame 25219, End 00:17:34.637 / Frame 25286\n",
      "INFO:root:Scene 165: Start 00:17:34.637 / Frame 25286, End 00:17:38.349 / Frame 25375\n",
      "INFO:root:Scene 166: Start 00:17:38.349 / Frame 25375, End 00:17:40.226 / Frame 25420\n",
      "INFO:root:Scene 167: Start 00:17:40.226 / Frame 25420, End 00:17:41.686 / Frame 25455\n",
      "INFO:root:Scene 168: Start 00:17:41.686 / Frame 25455, End 00:17:45.773 / Frame 25553\n",
      "INFO:root:Scene 169: Start 00:17:45.773 / Frame 25553, End 00:18:22.268 / Frame 26428\n",
      "INFO:root:Scene 170: Start 00:18:22.268 / Frame 26428, End 00:18:32.903 / Frame 26683\n",
      "INFO:root:Scene 171: Start 00:18:32.903 / Frame 26683, End 00:18:37.116 / Frame 26784\n",
      "INFO:root:Scene 172: Start 00:18:37.116 / Frame 26784, End 00:18:39.452 / Frame 26840\n",
      "INFO:root:Scene 173: Start 00:18:39.452 / Frame 26840, End 00:19:00.639 / Frame 27348\n",
      "INFO:root:Scene 174: Start 00:19:00.639 / Frame 27348, End 00:19:08.189 / Frame 27529\n",
      "INFO:root:Scene 175: Start 00:19:08.189 / Frame 27529, End 00:19:10.024 / Frame 27573\n",
      "INFO:root:Scene 176: Start 00:19:10.024 / Frame 27573, End 00:19:12.818 / Frame 27640\n",
      "INFO:root:Scene 177: Start 00:19:12.818 / Frame 27640, End 00:19:19.700 / Frame 27805\n",
      "INFO:root:Scene 178: Start 00:19:19.700 / Frame 27805, End 00:19:42.014 / Frame 28340\n",
      "INFO:root:Scene 179: Start 00:19:42.014 / Frame 28340, End 00:19:43.808 / Frame 28383\n",
      "INFO:root:Scene 180: Start 00:19:43.808 / Frame 28383, End 00:19:45.226 / Frame 28417\n",
      "INFO:root:Scene 181: Start 00:19:45.226 / Frame 28417, End 00:19:51.440 / Frame 28566\n",
      "INFO:root:Scene 182: Start 00:19:51.440 / Frame 28566, End 00:19:53.692 / Frame 28620\n",
      "INFO:root:Scene 183: Start 00:19:53.692 / Frame 28620, End 00:19:56.028 / Frame 28676\n",
      "INFO:root:Scene 184: Start 00:19:56.028 / Frame 28676, End 00:19:59.240 / Frame 28753\n",
      "INFO:root:Scene 185: Start 00:19:59.240 / Frame 28753, End 00:20:14.547 / Frame 29120\n",
      "INFO:root:Scene 186: Start 00:20:14.547 / Frame 29120, End 00:20:37.194 / Frame 29663\n",
      "INFO:root:Scene 187: Start 00:20:37.194 / Frame 29663, End 00:20:39.071 / Frame 29708\n",
      "INFO:root:Scene 188: Start 00:20:39.071 / Frame 29708, End 00:20:51.876 / Frame 30015\n",
      "INFO:root:Scene 189: Start 00:20:51.876 / Frame 30015, End 00:20:54.170 / Frame 30070\n",
      "INFO:root:Scene 190: Start 00:20:54.170 / Frame 30070, End 00:20:58.716 / Frame 30179\n",
      "INFO:root:Scene 191: Start 00:20:58.716 / Frame 30179, End 00:21:03.304 / Frame 30289\n",
      "INFO:root:Scene 192: Start 00:21:03.304 / Frame 30289, End 00:21:08.058 / Frame 30403\n",
      "INFO:root:Scene 193: Start 00:21:08.058 / Frame 30403, End 00:21:27.077 / Frame 30859\n",
      "INFO:root:Scene 194: Start 00:21:27.077 / Frame 30859, End 00:21:41.175 / Frame 31197\n",
      "INFO:root:Scene 195: Start 00:21:41.175 / Frame 31197, End 00:21:51.018 / Frame 31433\n",
      "INFO:root:Scene 196: Start 00:21:51.018 / Frame 31433, End 00:22:02.112 / Frame 31699\n",
      "INFO:root:Scene 197: Start 00:22:02.112 / Frame 31699, End 00:22:15.626 / Frame 32023\n",
      "INFO:root:Scene 198: Start 00:22:15.626 / Frame 32023, End 00:22:16.919 / Frame 32054\n",
      "INFO:root:Scene 199: Start 00:22:16.919 / Frame 32054, End 00:22:23.801 / Frame 32219\n",
      "INFO:root:Scene 200: Start 00:22:23.801 / Frame 32219, End 00:22:28.138 / Frame 32323\n",
      "INFO:root:Scene 201: Start 00:22:28.138 / Frame 32323, End 00:22:30.891 / Frame 32389\n",
      "INFO:root:Scene 202: Start 00:22:30.891 / Frame 32389, End 00:22:34.395 / Frame 32473\n",
      "INFO:root:Scene 203: Start 00:22:34.395 / Frame 32473, End 00:22:37.189 / Frame 32540\n",
      "INFO:root:Scene 204: Start 00:22:37.189 / Frame 32540, End 00:22:42.444 / Frame 32666\n",
      "INFO:root:Scene 205: Start 00:22:42.444 / Frame 32666, End 00:22:52.871 / Frame 32916\n",
      "INFO:root:Scene 206: Start 00:22:52.871 / Frame 32916, End 00:23:23.402 / Frame 33648\n",
      "INFO:root:Scene 207: Start 00:23:23.402 / Frame 33648, End 00:23:25.404 / Frame 33696\n",
      "INFO:root:Scene 208: Start 00:23:25.404 / Frame 33696, End 00:23:27.406 / Frame 33744\n",
      "INFO:root:Scene 209: Start 00:23:27.406 / Frame 33744, End 00:23:28.407 / Frame 33768\n",
      "ERROR:root:Failed to extract frame 114: generator already executing\n",
      "ERROR:root:Failed to extract frame 229: generator already executing\n",
      "ERROR:root:Failed to extract frame 257: generator already executing\n",
      "ERROR:root:Failed to extract frame 285: generator already executing\n",
      "ERROR:root:Failed to extract frame 455: generator already executing\n",
      "ERROR:root:Failed to extract frame 626: generator already executing\n",
      "ERROR:root:Failed to extract frame 657: generator already executing\n",
      "ERROR:root:Failed to extract frame 689: generator already executing\n",
      "ERROR:root:Failed to extract frame 729: generator already executing\n",
      "ERROR:root:Failed to extract frame 770: generator already executing\n",
      "ERROR:root:Failed to extract frame 792: generator already executing\n",
      "ERROR:root:Failed to extract frame 815: generator already executing\n",
      "ERROR:root:Failed to extract frame 826: generator already executing\n",
      "ERROR:root:Failed to extract frame 837: generator already executing\n",
      "ERROR:root:Failed to extract frame 892: generator already executing\n",
      "ERROR:root:Failed to extract frame 947: generator already executing\n",
      "ERROR:root:Failed to extract frame 1020: generator already executing\n",
      "ERROR:root:Failed to extract frame 1093: generator already executing\n",
      "ERROR:root:Failed to extract frame 1211: generator already executing\n",
      "ERROR:root:Failed to extract frame 1329: generator already executing\n",
      "ERROR:root:Failed to extract frame 1371: generator already executing\n",
      "ERROR:root:Failed to extract frame 1414: generator already executing\n",
      "ERROR:root:Failed to extract frame 1435: generator already executing\n",
      "ERROR:root:Failed to extract frame 1456: generator already executing\n",
      "ERROR:root:Failed to extract frame 1536: generator already executing\n",
      "ERROR:root:Failed to extract frame 1617: generator already executing\n",
      "ERROR:root:Failed to extract frame 1678: generator already executing\n",
      "ERROR:root:Failed to extract frame 1740: generator already executing\n",
      "ERROR:root:Failed to extract frame 1771: generator already executing\n",
      "ERROR:root:Failed to extract frame 1803: generator already executing\n",
      "ERROR:root:Failed to extract frame 2005: generator already executing\n",
      "ERROR:root:Failed to extract frame 2208: generator already executing\n",
      "ERROR:root:Failed to extract frame 2319: generator already executing\n",
      "ERROR:root:Failed to extract frame 2431: generator already executing\n",
      "ERROR:root:Failed to extract frame 2542: generator already executing\n",
      "ERROR:root:Failed to extract frame 2653: generator already executing\n",
      "ERROR:root:Failed to extract frame 2683: generator already executing\n",
      "ERROR:root:Failed to extract frame 2714: generator already executing\n",
      "ERROR:root:Failed to extract frame 2767: generator already executing\n",
      "ERROR:root:Failed to extract frame 2821: generator already executing\n",
      "ERROR:root:Failed to extract frame 2902: generator already executing\n",
      "ERROR:root:Failed to extract frame 2983: generator already executing\n",
      "ERROR:root:Failed to extract frame 3016: generator already executing\n",
      "ERROR:root:Failed to extract frame 3050: generator already executing\n",
      "ERROR:root:Failed to extract frame 3135: generator already executing\n",
      "ERROR:root:Failed to extract frame 3220: generator already executing\n",
      "ERROR:root:Failed to extract frame 3249: generator already executing\n",
      "ERROR:root:Failed to extract frame 3279: generator already executing\n",
      "ERROR:root:Failed to extract frame 3307: generator already executing\n",
      "ERROR:root:Failed to extract frame 3336: generator already executing\n",
      "ERROR:root:Failed to extract frame 3447: generator already executing\n",
      "ERROR:root:Failed to extract frame 3558: generator already executing\n",
      "ERROR:root:Failed to extract frame 3725: generator already executing\n",
      "ERROR:root:Failed to extract frame 3893: generator already executing\n",
      "ERROR:root:Failed to extract frame 4031: generator already executing\n",
      "ERROR:root:Failed to extract frame 4170: generator already executing\n",
      "ERROR:root:Failed to extract frame 4297: generator already executing\n",
      "ERROR:root:Failed to extract frame 4425: generator already executing\n",
      "ERROR:root:Failed to extract frame 4552: generator already executing\n",
      "ERROR:root:Failed to extract frame 4680: generator already executing\n",
      "ERROR:root:Failed to extract frame 4713: generator already executing\n",
      "ERROR:root:Failed to extract frame 4746: generator already executing\n",
      "ERROR:root:Failed to extract frame 4765: generator already executing\n",
      "ERROR:root:Failed to extract frame 4784: generator already executing\n",
      "ERROR:root:Failed to extract frame 4991: generator already executing\n",
      "ERROR:root:Failed to extract frame 5199: generator already executing\n",
      "ERROR:root:Failed to extract frame 5255: generator already executing\n",
      "ERROR:root:Failed to extract frame 5312: generator already executing\n",
      "ERROR:root:Failed to extract frame 5403: generator already executing\n",
      "ERROR:root:Failed to extract frame 5495: generator already executing\n",
      "ERROR:root:Failed to extract frame 5539: generator already executing\n",
      "ERROR:root:Failed to extract frame 5583: generator already executing\n",
      "ERROR:root:Failed to extract frame 5692: generator already executing\n",
      "ERROR:root:Failed to extract frame 5801: generator already executing\n",
      "ERROR:root:Failed to extract frame 5855: generator already executing\n",
      "ERROR:root:Failed to extract frame 5910: generator already executing\n",
      "ERROR:root:Failed to extract frame 5970: generator already executing\n",
      "ERROR:root:Failed to extract frame 6031: generator already executing\n",
      "ERROR:root:Failed to extract frame 6131: generator already executing\n",
      "ERROR:root:Failed to extract frame 6232: generator already executing\n",
      "ERROR:root:Failed to extract frame 6304: generator already executing\n",
      "ERROR:root:Failed to extract frame 6377: generator already executing\n",
      "ERROR:root:Failed to extract frame 6404: generator already executing\n",
      "ERROR:root:Failed to extract frame 6432: generator already executing\n",
      "ERROR:root:Failed to extract frame 6498: generator already executing\n",
      "ERROR:root:Failed to extract frame 6565: generator already executing\n",
      "ERROR:root:Failed to extract frame 6694: generator already executing\n",
      "ERROR:root:Failed to extract frame 6824: generator already executing\n",
      "ERROR:root:Failed to extract frame 7190: generator already executing\n",
      "ERROR:root:Failed to extract frame 7557: generator already executing\n",
      "ERROR:root:Failed to extract frame 7723: generator already executing\n",
      "ERROR:root:Failed to extract frame 7890: generator already executing\n",
      "ERROR:root:Failed to extract frame 7946: generator already executing\n",
      "ERROR:root:Failed to extract frame 8003: generator already executing\n",
      "ERROR:root:Failed to extract frame 8036: generator already executing\n",
      "ERROR:root:Failed to extract frame 8070: generator already executing\n",
      "ERROR:root:Failed to extract frame 8087: generator already executing\n",
      "ERROR:root:Failed to extract frame 8104: generator already executing\n",
      "ERROR:root:Failed to extract frame 8143: generator already executing\n",
      "ERROR:root:Failed to extract frame 8183: generator already executing\n",
      "ERROR:root:Failed to extract frame 8203: generator already executing\n",
      "ERROR:root:Failed to extract frame 8223: generator already executing\n",
      "ERROR:root:Failed to extract frame 8266: generator already executing\n",
      "ERROR:root:Failed to extract frame 8309: generator already executing\n",
      "ERROR:root:Failed to extract frame 8333: generator already executing\n",
      "ERROR:root:Failed to extract frame 8358: generator already executing\n",
      "ERROR:root:Failed to extract frame 8378: generator already executing\n",
      "ERROR:root:Failed to extract frame 8398: generator already executing\n",
      "ERROR:root:Failed to extract frame 8500: generator already executing\n",
      "ERROR:root:Failed to extract frame 8602: generator already executing\n",
      "ERROR:root:Failed to extract frame 8697: generator already executing\n",
      "ERROR:root:Failed to extract frame 8793: generator already executing\n",
      "ERROR:root:Failed to extract frame 8841: generator already executing\n",
      "ERROR:root:Failed to extract frame 8889: generator already executing\n",
      "ERROR:root:Failed to extract frame 8926: generator already executing\n",
      "ERROR:root:Failed to extract frame 8963: generator already executing\n",
      "ERROR:root:Failed to extract frame 8988: generator already executing\n",
      "ERROR:root:Failed to extract frame 9013: generator already executing\n",
      "ERROR:root:Failed to extract frame 9093: generator already executing\n",
      "ERROR:root:Failed to extract frame 9173: generator already executing\n",
      "ERROR:root:Failed to extract frame 9207: generator already executing\n",
      "ERROR:root:Failed to extract frame 9242: generator already executing\n",
      "ERROR:root:Failed to extract frame 9272: generator already executing\n",
      "ERROR:root:Failed to extract frame 9303: generator already executing\n",
      "ERROR:root:Failed to extract frame 9336: generator already executing\n",
      "ERROR:root:Failed to extract frame 9369: generator already executing\n",
      "ERROR:root:Failed to extract frame 9438: generator already executing\n",
      "ERROR:root:Failed to extract frame 9507: generator already executing\n",
      "ERROR:root:Failed to extract frame 9573: generator already executing\n",
      "ERROR:root:Failed to extract frame 9640: generator already executing\n",
      "ERROR:root:Failed to extract frame 9674: generator already executing\n",
      "ERROR:root:Failed to extract frame 9709: generator already executing\n",
      "ERROR:root:Failed to extract frame 9854: generator already executing\n",
      "ERROR:root:Failed to extract frame 9999: generator already executing\n",
      "ERROR:root:Failed to extract frame 10084: generator already executing\n",
      "ERROR:root:Failed to extract frame 10170: generator already executing\n",
      "ERROR:root:Failed to extract frame 10336: generator already executing\n",
      "ERROR:root:Failed to extract frame 10503: generator already executing\n",
      "ERROR:root:Failed to extract frame 10543: generator already executing\n",
      "ERROR:root:Failed to extract frame 10583: generator already executing\n",
      "ERROR:root:Failed to extract frame 10772: generator already executing\n",
      "ERROR:root:Failed to extract frame 10961: generator already executing\n",
      "ERROR:root:Failed to extract frame 11007: generator already executing\n",
      "ERROR:root:Failed to extract frame 11054: generator already executing\n",
      "ERROR:root:Failed to extract frame 11080: generator already executing\n",
      "ERROR:root:Failed to extract frame 11107: generator already executing\n",
      "ERROR:root:Failed to extract frame 11149: generator already executing\n",
      "ERROR:root:Failed to extract frame 11192: generator already executing\n",
      "ERROR:root:Failed to extract frame 11255: generator already executing\n",
      "ERROR:root:Failed to extract frame 11318: generator already executing\n",
      "ERROR:root:Failed to extract frame 11447: generator already executing\n",
      "ERROR:root:Failed to extract frame 11577: generator already executing\n",
      "ERROR:root:Failed to extract frame 11686: generator already executing\n",
      "ERROR:root:Failed to extract frame 11795: generator already executing\n",
      "ERROR:root:Failed to extract frame 11849: generator already executing\n",
      "ERROR:root:Failed to extract frame 11903: generator already executing\n",
      "ERROR:root:Failed to extract frame 11998: generator already executing\n",
      "ERROR:root:Failed to extract frame 12093: generator already executing\n",
      "ERROR:root:Failed to extract frame 12126: generator already executing\n",
      "ERROR:root:Failed to extract frame 12160: generator already executing\n",
      "ERROR:root:Failed to extract frame 12266: generator already executing\n",
      "ERROR:root:Failed to extract frame 12372: generator already executing\n",
      "ERROR:root:Failed to extract frame 12617: generator already executing\n",
      "ERROR:root:Failed to extract frame 12862: generator already executing\n",
      "ERROR:root:Failed to extract frame 12932: generator already executing\n",
      "ERROR:root:Failed to extract frame 13003: generator already executing\n",
      "ERROR:root:Failed to extract frame 13112: generator already executing\n",
      "ERROR:root:Failed to extract frame 13221: generator already executing\n",
      "ERROR:root:Failed to extract frame 13259: generator already executing\n",
      "ERROR:root:Failed to extract frame 13298: generator already executing\n",
      "ERROR:root:Failed to extract frame 13456: generator already executing\n",
      "ERROR:root:Failed to extract frame 13614: generator already executing\n",
      "ERROR:root:Failed to extract frame 13672: generator already executing\n",
      "ERROR:root:Failed to extract frame 13731: generator already executing\n",
      "ERROR:root:Failed to extract frame 13826: generator already executing\n",
      "ERROR:root:Failed to extract frame 13921: generator already executing\n",
      "ERROR:root:Failed to extract frame 13951: generator already executing\n",
      "ERROR:root:Failed to extract frame 13981: generator already executing\n",
      "ERROR:root:Failed to extract frame 13993: generator already executing\n",
      "ERROR:root:Failed to extract frame 14005: generator already executing\n",
      "ERROR:root:Failed to extract frame 14125: generator already executing\n",
      "ERROR:root:Failed to extract frame 14246: generator already executing\n",
      "ERROR:root:Failed to extract frame 14279: generator already executing\n",
      "ERROR:root:Failed to extract frame 14312: generator already executing\n",
      "ERROR:root:Failed to extract frame 14368: generator already executing\n",
      "ERROR:root:Failed to extract frame 14425: generator already executing\n",
      "ERROR:root:Failed to extract frame 14539: generator already executing\n",
      "ERROR:root:Failed to extract frame 14654: generator already executing\n",
      "ERROR:root:Failed to extract frame 14734: generator already executing\n",
      "ERROR:root:Failed to extract frame 14814: generator already executing\n",
      "ERROR:root:Failed to extract frame 14850: generator already executing\n",
      "ERROR:root:Failed to extract frame 14887: generator already executing\n",
      "ERROR:root:Failed to extract frame 14900: generator already executing\n",
      "ERROR:root:Failed to extract frame 14914: generator already executing\n",
      "ERROR:root:Failed to extract frame 14954: generator already executing\n",
      "ERROR:root:Failed to extract frame 14994: generator already executing\n",
      "ERROR:root:Failed to extract frame 15024: generator already executing\n",
      "ERROR:root:Failed to extract frame 15054: generator already executing\n",
      "ERROR:root:Failed to extract frame 15263: generator already executing\n",
      "ERROR:root:Failed to extract frame 15473: generator already executing\n",
      "ERROR:root:Failed to extract frame 15557: generator already executing\n",
      "ERROR:root:Failed to extract frame 15642: generator already executing\n",
      "ERROR:root:Failed to extract frame 15677: generator already executing\n",
      "ERROR:root:Failed to extract frame 15712: generator already executing\n",
      "ERROR:root:Failed to extract frame 15763: generator already executing\n",
      "ERROR:root:Failed to extract frame 15814: generator already executing\n",
      "ERROR:root:Failed to extract frame 15848: generator already executing\n",
      "ERROR:root:Failed to extract frame 15883: generator already executing\n",
      "ERROR:root:Failed to extract frame 15926: generator already executing\n",
      "ERROR:root:Failed to extract frame 15970: generator already executing\n",
      "ERROR:root:Failed to extract frame 16053: generator already executing\n",
      "ERROR:root:Failed to extract frame 16137: generator already executing\n",
      "ERROR:root:Failed to extract frame 16274: generator already executing\n",
      "ERROR:root:Failed to extract frame 16412: generator already executing\n",
      "ERROR:root:Failed to extract frame 16458: generator already executing\n",
      "ERROR:root:Failed to extract frame 16504: generator already executing\n",
      "ERROR:root:Failed to extract frame 16519: generator already executing\n",
      "ERROR:root:Failed to extract frame 16534: generator already executing\n",
      "ERROR:root:Failed to extract frame 16614: generator already executing\n",
      "ERROR:root:Failed to extract frame 16695: generator already executing\n",
      "ERROR:root:Failed to extract frame 16719: generator already executing\n",
      "ERROR:root:Failed to extract frame 16743: generator already executing\n",
      "ERROR:root:Failed to extract frame 16837: generator already executing\n",
      "ERROR:root:Failed to extract frame 16932: generator already executing\n",
      "ERROR:root:Failed to extract frame 17004: generator already executing\n",
      "ERROR:root:Failed to extract frame 17077: generator already executing\n",
      "ERROR:root:Failed to extract frame 17153: generator already executing\n",
      "ERROR:root:Failed to extract frame 17229: generator already executing\n",
      "ERROR:root:Failed to extract frame 17259: generator already executing\n",
      "ERROR:root:Failed to extract frame 17290: generator already executing\n",
      "ERROR:root:Failed to extract frame 17400: generator already executing\n",
      "ERROR:root:Failed to extract frame 17510: generator already executing\n",
      "ERROR:root:Failed to extract frame 17537: generator already executing\n",
      "ERROR:root:Failed to extract frame 17564: generator already executing\n",
      "ERROR:root:Failed to extract frame 17713: generator already executing\n",
      "ERROR:root:Failed to extract frame 17863: generator already executing\n",
      "ERROR:root:Failed to extract frame 17903: generator already executing\n",
      "ERROR:root:Failed to extract frame 17943: generator already executing\n",
      "ERROR:root:Failed to extract frame 18044: generator already executing\n",
      "ERROR:root:Failed to extract frame 18145: generator already executing\n",
      "ERROR:root:Failed to extract frame 18273: generator already executing\n",
      "ERROR:root:Failed to extract frame 18402: generator already executing\n",
      "ERROR:root:Failed to extract frame 18473: generator already executing\n",
      "ERROR:root:Failed to extract frame 18544: generator already executing\n",
      "ERROR:root:Failed to extract frame 18685: generator already executing\n",
      "ERROR:root:Failed to extract frame 18827: generator already executing\n",
      "ERROR:root:Failed to extract frame 18975: generator already executing\n",
      "ERROR:root:Failed to extract frame 19124: generator already executing\n",
      "ERROR:root:Failed to extract frame 19139: generator already executing\n",
      "ERROR:root:Failed to extract frame 19155: generator already executing\n",
      "ERROR:root:Failed to extract frame 19219: generator already executing\n",
      "ERROR:root:Failed to extract frame 19284: generator already executing\n",
      "ERROR:root:Failed to extract frame 19328: generator already executing\n",
      "ERROR:root:Failed to extract frame 19372: generator already executing\n",
      "ERROR:root:Failed to extract frame 19519: generator already executing\n",
      "ERROR:root:Failed to extract frame 19667: generator already executing\n",
      "ERROR:root:Failed to extract frame 19691: generator already executing\n",
      "ERROR:root:Failed to extract frame 19716: generator already executing\n",
      "ERROR:root:Failed to extract frame 19787: generator already executing\n",
      "ERROR:root:Failed to extract frame 19858: generator already executing\n",
      "ERROR:root:Failed to extract frame 20058: generator already executing\n",
      "ERROR:root:Failed to extract frame 20258: generator already executing\n",
      "ERROR:root:Failed to extract frame 20297: generator already executing\n",
      "ERROR:root:Failed to extract frame 20337: generator already executing\n",
      "ERROR:root:Failed to extract frame 20398: generator already executing\n",
      "ERROR:root:Failed to extract frame 20459: generator already executing\n",
      "ERROR:root:Failed to extract frame 20592: generator already executing\n",
      "ERROR:root:Failed to extract frame 20725: generator already executing\n",
      "ERROR:root:Failed to extract frame 20818: generator already executing\n",
      "ERROR:root:Failed to extract frame 20912: generator already executing\n",
      "ERROR:root:Failed to extract frame 20992: generator already executing\n",
      "ERROR:root:Failed to extract frame 21073: generator already executing\n",
      "ERROR:root:Failed to extract frame 21258: generator already executing\n",
      "ERROR:root:Failed to extract frame 21444: generator already executing\n",
      "ERROR:root:Failed to extract frame 21532: generator already executing\n",
      "ERROR:root:Failed to extract frame 21620: generator already executing\n",
      "ERROR:root:Failed to extract frame 21740: generator already executing\n",
      "ERROR:root:Failed to extract frame 21861: generator already executing\n",
      "ERROR:root:Failed to extract frame 22018: generator already executing\n",
      "ERROR:root:Failed to extract frame 22175: generator already executing\n",
      "ERROR:root:Failed to extract frame 22211: generator already executing\n",
      "ERROR:root:Failed to extract frame 22247: generator already executing\n",
      "ERROR:root:Failed to extract frame 22261: generator already executing\n",
      "ERROR:root:Failed to extract frame 22275: generator already executing\n",
      "ERROR:root:Failed to extract frame 22289: generator already executing\n",
      "ERROR:root:Failed to extract frame 22304: generator already executing\n",
      "ERROR:root:Failed to extract frame 22347: generator already executing\n",
      "ERROR:root:Failed to extract frame 22391: generator already executing\n",
      "ERROR:root:Failed to extract frame 22404: generator already executing\n",
      "ERROR:root:Failed to extract frame 22417: generator already executing\n",
      "ERROR:root:Failed to extract frame 22452: generator already executing\n",
      "ERROR:root:Failed to extract frame 22488: generator already executing\n",
      "ERROR:root:Failed to extract frame 22584: generator already executing\n",
      "ERROR:root:Failed to extract frame 22681: generator already executing\n",
      "ERROR:root:Failed to extract frame 22703: generator already executing\n",
      "ERROR:root:Failed to extract frame 22725: generator already executing\n",
      "ERROR:root:Failed to extract frame 22746: generator already executing\n",
      "ERROR:root:Failed to extract frame 22768: generator already executing\n",
      "ERROR:root:Failed to extract frame 22778: generator already executing\n",
      "ERROR:root:Failed to extract frame 22789: generator already executing\n",
      "ERROR:root:Failed to extract frame 23017: generator already executing\n",
      "ERROR:root:Failed to extract frame 23245: generator already executing\n",
      "ERROR:root:Failed to extract frame 23260: generator already executing\n",
      "ERROR:root:Failed to extract frame 23275: generator already executing\n",
      "ERROR:root:Failed to extract frame 23361: generator already executing\n",
      "ERROR:root:Failed to extract frame 23447: generator already executing\n",
      "ERROR:root:Failed to extract frame 23633: generator already executing\n",
      "ERROR:root:Failed to extract frame 23820: generator already executing\n",
      "ERROR:root:Failed to extract frame 23896: generator already executing\n",
      "ERROR:root:Failed to extract frame 23972: generator already executing\n",
      "ERROR:root:Failed to extract frame 24026: generator already executing\n",
      "ERROR:root:Failed to extract frame 24081: generator already executing\n",
      "ERROR:root:Failed to extract frame 24156: generator already executing\n",
      "ERROR:root:Failed to extract frame 24231: generator already executing\n",
      "ERROR:root:Failed to extract frame 24275: generator already executing\n",
      "ERROR:root:Failed to extract frame 24320: generator already executing\n",
      "ERROR:root:Failed to extract frame 24422: generator already executing\n",
      "ERROR:root:Failed to extract frame 24525: generator already executing\n",
      "ERROR:root:Failed to extract frame 24628: generator already executing\n",
      "ERROR:root:Failed to extract frame 24732: generator already executing\n",
      "ERROR:root:Failed to extract frame 24771: generator already executing\n",
      "ERROR:root:Failed to extract frame 24810: generator already executing\n",
      "ERROR:root:Failed to extract frame 24987: generator already executing\n",
      "ERROR:root:Failed to extract frame 25165: generator already executing\n",
      "ERROR:root:Failed to extract frame 25192: generator already executing\n",
      "ERROR:root:Failed to extract frame 25219: generator already executing\n",
      "ERROR:root:Failed to extract frame 25252: generator already executing\n",
      "ERROR:root:Failed to extract frame 25286: generator already executing\n",
      "ERROR:root:Failed to extract frame 25330: generator already executing\n",
      "ERROR:root:Failed to extract frame 25375: generator already executing\n",
      "ERROR:root:Failed to extract frame 25397: generator already executing\n",
      "ERROR:root:Failed to extract frame 25420: generator already executing\n",
      "ERROR:root:Failed to extract frame 25437: generator already executing\n",
      "ERROR:root:Failed to extract frame 25455: generator already executing\n",
      "ERROR:root:Failed to extract frame 25504: generator already executing\n",
      "ERROR:root:Failed to extract frame 25553: generator already executing\n",
      "ERROR:root:Failed to extract frame 25990: generator already executing\n",
      "ERROR:root:Failed to extract frame 26428: generator already executing\n",
      "ERROR:root:Failed to extract frame 26555: generator already executing\n",
      "ERROR:root:Failed to extract frame 26683: generator already executing\n",
      "ERROR:root:Failed to extract frame 26733: generator already executing\n",
      "ERROR:root:Failed to extract frame 26784: generator already executing\n",
      "ERROR:root:Failed to extract frame 26812: generator already executing\n",
      "ERROR:root:Failed to extract frame 26840: generator already executing\n",
      "ERROR:root:Failed to extract frame 27094: generator already executing\n",
      "ERROR:root:Failed to extract frame 27348: generator already executing\n",
      "ERROR:root:Failed to extract frame 27438: generator already executing\n",
      "ERROR:root:Failed to extract frame 27529: generator already executing\n",
      "ERROR:root:Failed to extract frame 27551: generator already executing\n",
      "ERROR:root:Failed to extract frame 27573: generator already executing\n",
      "ERROR:root:Failed to extract frame 27606: generator already executing\n",
      "ERROR:root:Failed to extract frame 27640: generator already executing\n",
      "ERROR:root:Failed to extract frame 27722: generator already executing\n",
      "ERROR:root:Failed to extract frame 27805: generator already executing\n",
      "ERROR:root:Failed to extract frame 28072: generator already executing\n",
      "ERROR:root:Failed to extract frame 28340: generator already executing\n",
      "ERROR:root:Failed to extract frame 28361: generator already executing\n",
      "ERROR:root:Failed to extract frame 28383: generator already executing\n",
      "ERROR:root:Failed to extract frame 28400: generator already executing\n",
      "ERROR:root:Failed to extract frame 28417: generator already executing\n",
      "ERROR:root:Failed to extract frame 28491: generator already executing\n",
      "ERROR:root:Failed to extract frame 28566: generator already executing\n",
      "ERROR:root:Failed to extract frame 28593: generator already executing\n",
      "ERROR:root:Failed to extract frame 28620: generator already executing\n",
      "ERROR:root:Failed to extract frame 28648: generator already executing\n",
      "ERROR:root:Failed to extract frame 28676: generator already executing\n",
      "ERROR:root:Failed to extract frame 28714: generator already executing\n",
      "ERROR:root:Failed to extract frame 28753: generator already executing\n",
      "ERROR:root:Failed to extract frame 28936: generator already executing\n",
      "ERROR:root:Failed to extract frame 29120: generator already executing\n",
      "ERROR:root:Failed to extract frame 29391: generator already executing\n",
      "ERROR:root:Failed to extract frame 29663: generator already executing\n",
      "ERROR:root:Failed to extract frame 29685: generator already executing\n",
      "ERROR:root:Failed to extract frame 29708: generator already executing\n",
      "ERROR:root:Failed to extract frame 29861: generator already executing\n",
      "ERROR:root:Failed to extract frame 30015: generator already executing\n",
      "ERROR:root:Failed to extract frame 30042: generator already executing\n",
      "ERROR:root:Failed to extract frame 30070: generator already executing\n",
      "ERROR:root:Failed to extract frame 30124: generator already executing\n",
      "ERROR:root:Failed to extract frame 30179: generator already executing\n",
      "ERROR:root:Failed to extract frame 30234: generator already executing\n",
      "ERROR:root:Failed to extract frame 30289: generator already executing\n",
      "ERROR:root:Failed to extract frame 30346: generator already executing\n",
      "ERROR:root:Failed to extract frame 30403: generator already executing\n",
      "ERROR:root:Failed to extract frame 30631: generator already executing\n",
      "ERROR:root:Failed to extract frame 30859: generator already executing\n",
      "ERROR:root:Failed to extract frame 31028: generator already executing\n",
      "ERROR:root:Failed to extract frame 31197: generator already executing\n",
      "ERROR:root:Failed to extract frame 31315: generator already executing\n",
      "ERROR:root:Failed to extract frame 31433: generator already executing\n",
      "ERROR:root:Failed to extract frame 31566: generator already executing\n",
      "ERROR:root:Failed to extract frame 31699: generator already executing\n",
      "ERROR:root:Failed to extract frame 31861: generator already executing\n",
      "ERROR:root:Failed to extract frame 32023: generator already executing\n",
      "ERROR:root:Failed to extract frame 32038: generator already executing\n",
      "ERROR:root:Failed to extract frame 32054: generator already executing\n",
      "ERROR:root:Failed to extract frame 32136: generator already executing\n",
      "ERROR:root:Failed to extract frame 32219: generator already executing\n",
      "ERROR:root:Failed to extract frame 32271: generator already executing\n",
      "ERROR:root:Failed to extract frame 32323: generator already executing\n",
      "ERROR:root:Failed to extract frame 32356: generator already executing\n",
      "ERROR:root:Failed to extract frame 32389: generator already executing\n",
      "ERROR:root:Failed to extract frame 32431: generator already executing\n",
      "ERROR:root:Failed to extract frame 32473: generator already executing\n",
      "ERROR:root:Failed to extract frame 32506: generator already executing\n",
      "ERROR:root:Failed to extract frame 32540: generator already executing\n",
      "ERROR:root:Failed to extract frame 32603: generator already executing\n",
      "ERROR:root:Failed to extract frame 32666: generator already executing\n",
      "ERROR:root:Failed to extract frame 32791: generator already executing\n",
      "ERROR:root:Failed to extract frame 32916: generator already executing\n",
      "ERROR:root:Failed to extract frame 33282: generator already executing\n",
      "ERROR:root:Failed to extract frame 33648: generator already executing\n",
      "ERROR:root:Failed to extract frame 33672: generator already executing\n",
      "ERROR:root:Failed to extract frame 33696: generator already executing\n",
      "ERROR:root:Failed to extract frame 33720: generator already executing\n",
      "ERROR:root:Failed to extract frame 33744: generator already executing\n",
      "ERROR:root:Failed to extract frame 33756: generator already executing\n",
      "ERROR:root:Failed to extract frame 33768: generator already executing\n"
     ]
    },
    {
     "name": "stdout",
     "output_type": "stream",
     "text": [
      "Analysis for scene_1_frame_1_0.jpg saved as scene_1_analysis.json\n"
     ]
    },
    {
     "name": "stderr",
     "output_type": "stream",
     "text": []
    },
    {
     "name": "stdout",
     "output_type": "stream",
     "text": [
      "Analysis for scene_2_frame_1_229.jpg saved as scene_2_analysis.json\n"
     ]
    },
    {
     "name": "stderr",
     "output_type": "stream",
     "text": []
    },
    {
     "name": "stdout",
     "output_type": "stream",
     "text": [
      "Analysis for scene_3_frame_1_285.jpg saved as scene_3_analysis.json\n",
      "Analysis for scene_5_frame_1_689.jpg saved as scene_5_analysis.json\n"
     ]
    },
    {
     "name": "stderr",
     "output_type": "stream",
     "text": []
    },
    {
     "name": "stdout",
     "output_type": "stream",
     "text": [
      "Analysis for scene_4_frame_1_626.jpg saved as scene_4_analysis.json\n"
     ]
    },
    {
     "name": "stderr",
     "output_type": "stream",
     "text": []
    },
    {
     "name": "stdout",
     "output_type": "stream",
     "text": [
      "Analysis for scene_10_frame_1_1093.jpg saved as scene_10_analysis.json\n"
     ]
    },
    {
     "name": "stderr",
     "output_type": "stream",
     "text": []
    },
    {
     "name": "stdout",
     "output_type": "stream",
     "text": [
      "Analysis for scene_9_frame_1_947.jpg saved as scene_9_analysis.json\n"
     ]
    },
    {
     "name": "stderr",
     "output_type": "stream",
     "text": []
    },
    {
     "name": "stdout",
     "output_type": "stream",
     "text": [
      "Analysis for scene_6_frame_1_770.jpg saved as scene_6_analysis.json\n"
     ]
    },
    {
     "name": "stderr",
     "output_type": "stream",
     "text": []
    },
    {
     "name": "stdout",
     "output_type": "stream",
     "text": [
      "Analysis for scene_7_frame_1_815.jpg saved as scene_7_analysis.json\n",
      "Analysis for scene_8_frame_1_837.jpg saved as scene_8_analysis.json\n"
     ]
    },
    {
     "name": "stderr",
     "output_type": "stream",
     "text": []
    },
    {
     "name": "stdout",
     "output_type": "stream",
     "text": [
      "Analysis for scene_11_frame_1_1329.jpg saved as scene_11_analysis.json\n"
     ]
    },
    {
     "name": "stderr",
     "output_type": "stream",
     "text": []
    },
    {
     "name": "stdout",
     "output_type": "stream",
     "text": [
      "Analysis for scene_12_frame_1_1414.jpg saved as scene_12_analysis.json\n"
     ]
    },
    {
     "name": "stderr",
     "output_type": "stream",
     "text": []
    },
    {
     "name": "stdout",
     "output_type": "stream",
     "text": [
      "Analysis for scene_13_frame_1_1456.jpg saved as scene_13_analysis.json\n",
      "Analysis for scene_15_frame_1_1740.jpg saved as scene_15_analysis.json\n",
      "Analysis for scene_14_frame_1_1617.jpg saved as scene_14_analysis.json\n"
     ]
    },
    {
     "name": "stderr",
     "output_type": "stream",
     "text": []
    },
    {
     "name": "stdout",
     "output_type": "stream",
     "text": [
      "Analysis for scene_20_frame_1_2714.jpg saved as scene_20_analysis.json\n"
     ]
    },
    {
     "name": "stderr",
     "output_type": "stream",
     "text": []
    },
    {
     "name": "stdout",
     "output_type": "stream",
     "text": [
      "Analysis for scene_16_frame_1_1803.jpg saved as scene_16_analysis.json\n"
     ]
    },
    {
     "name": "stderr",
     "output_type": "stream",
     "text": []
    },
    {
     "name": "stdout",
     "output_type": "stream",
     "text": [
      "Analysis for scene_18_frame_1_2431.jpg saved as scene_18_analysis.json\n"
     ]
    },
    {
     "name": "stderr",
     "output_type": "stream",
     "text": []
    },
    {
     "name": "stdout",
     "output_type": "stream",
     "text": [
      "Request failed with status code: 500\n",
      "Skipping scene_23_frame_1_3050.jpg due to invalid OpenAI response.\n"
     ]
    },
    {
     "name": "stderr",
     "output_type": "stream",
     "text": []
    },
    {
     "name": "stdout",
     "output_type": "stream",
     "text": [
      "Analysis for scene_19_frame_1_2653.jpg saved as scene_19_analysis.json\n"
     ]
    },
    {
     "name": "stderr",
     "output_type": "stream",
     "text": []
    },
    {
     "name": "stdout",
     "output_type": "stream",
     "text": [
      "Analysis for scene_17_frame_1_2208.jpg saved as scene_17_analysis.json\n"
     ]
    },
    {
     "name": "stderr",
     "output_type": "stream",
     "text": []
    },
    {
     "name": "stdout",
     "output_type": "stream",
     "text": [
      "Analysis for scene_24_frame_1_3220.jpg saved as scene_24_analysis.json\n"
     ]
    },
    {
     "name": "stderr",
     "output_type": "stream",
     "text": []
    },
    {
     "name": "stdout",
     "output_type": "stream",
     "text": [
      "Analysis for scene_22_frame_1_2983.jpg saved as scene_22_analysis.json\n"
     ]
    },
    {
     "name": "stderr",
     "output_type": "stream",
     "text": []
    },
    {
     "name": "stdout",
     "output_type": "stream",
     "text": [
      "Analysis for scene_21_frame_1_2821.jpg saved as scene_21_analysis.json\n"
     ]
    },
    {
     "name": "stderr",
     "output_type": "stream",
     "text": []
    },
    {
     "name": "stdout",
     "output_type": "stream",
     "text": [
      "Analysis for scene_25_frame_1_3279.jpg saved as scene_25_analysis.json\n"
     ]
    },
    {
     "name": "stderr",
     "output_type": "stream",
     "text": []
    },
    {
     "name": "stdout",
     "output_type": "stream",
     "text": [
      "Analysis for scene_26_frame_1_3336.jpg saved as scene_26_analysis.json\n"
     ]
    },
    {
     "name": "stderr",
     "output_type": "stream",
     "text": []
    },
    {
     "name": "stdout",
     "output_type": "stream",
     "text": [
      "Analysis for scene_28_frame_1_3893.jpg saved as scene_28_analysis.json\n"
     ]
    },
    {
     "name": "stderr",
     "output_type": "stream",
     "text": []
    },
    {
     "name": "stdout",
     "output_type": "stream",
     "text": [
      "Analysis for scene_27_frame_1_3558.jpg saved as scene_27_analysis.json\n"
     ]
    },
    {
     "name": "stderr",
     "output_type": "stream",
     "text": []
    },
    {
     "name": "stdout",
     "output_type": "stream",
     "text": [
      "Analysis for scene_29_frame_1_4170.jpg saved as scene_29_analysis.json\n"
     ]
    },
    {
     "name": "stderr",
     "output_type": "stream",
     "text": []
    },
    {
     "name": "stdout",
     "output_type": "stream",
     "text": [
      "Analysis for scene_30_frame_1_4425.jpg saved as scene_30_analysis.json\n"
     ]
    },
    {
     "name": "stderr",
     "output_type": "stream",
     "text": []
    },
    {
     "name": "stdout",
     "output_type": "stream",
     "text": [
      "Analysis for scene_32_frame_1_4746.jpg saved as scene_32_analysis.json\n"
     ]
    },
    {
     "name": "stderr",
     "output_type": "stream",
     "text": []
    },
    {
     "name": "stdout",
     "output_type": "stream",
     "text": [
      "Analysis for scene_31_frame_1_4680.jpg saved as scene_31_analysis.json\n"
     ]
    },
    {
     "name": "stderr",
     "output_type": "stream",
     "text": []
    },
    {
     "name": "stdout",
     "output_type": "stream",
     "text": [
      "Analysis for scene_33_frame_1_4784.jpg saved as scene_33_analysis.json\n"
     ]
    },
    {
     "name": "stderr",
     "output_type": "stream",
     "text": []
    },
    {
     "name": "stdout",
     "output_type": "stream",
     "text": [
      "Analysis for scene_35_frame_1_5312.jpg saved as scene_35_analysis.json\n"
     ]
    },
    {
     "name": "stderr",
     "output_type": "stream",
     "text": []
    },
    {
     "name": "stdout",
     "output_type": "stream",
     "text": [
      "Analysis for scene_34_frame_1_5199.jpg saved as scene_34_analysis.json\n"
     ]
    },
    {
     "name": "stderr",
     "output_type": "stream",
     "text": []
    },
    {
     "name": "stdout",
     "output_type": "stream",
     "text": [
      "Analysis for scene_38_frame_1_5801.jpg saved as scene_38_analysis.json\n"
     ]
    },
    {
     "name": "stderr",
     "output_type": "stream",
     "text": []
    },
    {
     "name": "stdout",
     "output_type": "stream",
     "text": [
      "Analysis for scene_37_frame_1_5583.jpg saved as scene_37_analysis.json\n",
      "Analysis for scene_36_frame_1_5495.jpg saved as scene_36_analysis.json\n"
     ]
    },
    {
     "name": "stderr",
     "output_type": "stream",
     "text": []
    },
    {
     "name": "stdout",
     "output_type": "stream",
     "text": [
      "Analysis for scene_39_frame_1_5910.jpg saved as scene_39_analysis.json\n"
     ]
    },
    {
     "name": "stderr",
     "output_type": "stream",
     "text": []
    },
    {
     "name": "stdout",
     "output_type": "stream",
     "text": [
      "Analysis for scene_43_frame_1_6432.jpg saved as scene_43_analysis.json\n"
     ]
    },
    {
     "name": "stderr",
     "output_type": "stream",
     "text": []
    },
    {
     "name": "stdout",
     "output_type": "stream",
     "text": [
      "Analysis for scene_41_frame_1_6232.jpg saved as scene_41_analysis.json\n",
      "Analysis for scene_40_frame_1_6031.jpg saved as scene_40_analysis.json\n",
      "Analysis for scene_42_frame_1_6377.jpg saved as scene_42_analysis.json\n"
     ]
    },
    {
     "name": "stderr",
     "output_type": "stream",
     "text": []
    },
    {
     "name": "stdout",
     "output_type": "stream",
     "text": [
      "Analysis for scene_44_frame_1_6565.jpg saved as scene_44_analysis.json\n"
     ]
    },
    {
     "name": "stderr",
     "output_type": "stream",
     "text": []
    },
    {
     "name": "stdout",
     "output_type": "stream",
     "text": [
      "Analysis for scene_45_frame_1_6824.jpg saved as scene_45_analysis.json\n"
     ]
    },
    {
     "name": "stderr",
     "output_type": "stream",
     "text": []
    },
    {
     "name": "stdout",
     "output_type": "stream",
     "text": [
      "Analysis for scene_46_frame_1_7557.jpg saved as scene_46_analysis.json\n"
     ]
    },
    {
     "name": "stderr",
     "output_type": "stream",
     "text": []
    },
    {
     "name": "stdout",
     "output_type": "stream",
     "text": [
      "Analysis for scene_47_frame_1_7890.jpg saved as scene_47_analysis.json\n",
      "Analysis for scene_48_frame_1_8003.jpg saved as scene_48_analysis.json\n"
     ]
    },
    {
     "name": "stderr",
     "output_type": "stream",
     "text": []
    },
    {
     "name": "stdout",
     "output_type": "stream",
     "text": [
      "Analysis for scene_49_frame_1_8070.jpg saved as scene_49_analysis.json\n"
     ]
    },
    {
     "name": "stderr",
     "output_type": "stream",
     "text": []
    },
    {
     "name": "stdout",
     "output_type": "stream",
     "text": [
      "Analysis for scene_50_frame_1_8104.jpg saved as scene_50_analysis.json\n"
     ]
    },
    {
     "name": "stderr",
     "output_type": "stream",
     "text": []
    },
    {
     "name": "stdout",
     "output_type": "stream",
     "text": [
      "Analysis for scene_55_frame_1_8398.jpg saved as scene_55_analysis.json\n"
     ]
    },
    {
     "name": "stderr",
     "output_type": "stream",
     "text": []
    },
    {
     "name": "stdout",
     "output_type": "stream",
     "text": [
      "Analysis for scene_51_frame_1_8183.jpg saved as scene_51_analysis.json\n"
     ]
    },
    {
     "name": "stderr",
     "output_type": "stream",
     "text": []
    },
    {
     "name": "stdout",
     "output_type": "stream",
     "text": [
      "Analysis for scene_53_frame_1_8309.jpg saved as scene_53_analysis.json\n",
      "Analysis for scene_54_frame_1_8358.jpg saved as scene_54_analysis.json\n",
      "Analysis for scene_52_frame_1_8223.jpg saved as scene_52_analysis.json\n"
     ]
    },
    {
     "name": "stderr",
     "output_type": "stream",
     "text": []
    },
    {
     "name": "stdout",
     "output_type": "stream",
     "text": [
      "Analysis for scene_59_frame_1_8963.jpg saved as scene_59_analysis.json\n"
     ]
    },
    {
     "name": "stderr",
     "output_type": "stream",
     "text": []
    },
    {
     "name": "stdout",
     "output_type": "stream",
     "text": [
      "Analysis for scene_58_frame_1_8889.jpg saved as scene_58_analysis.json\n",
      "Analysis for scene_57_frame_1_8793.jpg saved as scene_57_analysis.json\n"
     ]
    },
    {
     "name": "stderr",
     "output_type": "stream",
     "text": []
    },
    {
     "name": "stdout",
     "output_type": "stream",
     "text": [
      "Analysis for scene_60_frame_1_9013.jpg saved as scene_60_analysis.json\n",
      "Analysis for scene_56_frame_1_8602.jpg saved as scene_56_analysis.json\n"
     ]
    },
    {
     "name": "stderr",
     "output_type": "stream",
     "text": []
    },
    {
     "name": "stdout",
     "output_type": "stream",
     "text": [
      "Analysis for scene_64_frame_1_9369.jpg saved as scene_64_analysis.json\n"
     ]
    },
    {
     "name": "stderr",
     "output_type": "stream",
     "text": []
    },
    {
     "name": "stdout",
     "output_type": "stream",
     "text": [
      "Analysis for scene_62_frame_1_9242.jpg saved as scene_62_analysis.json\n",
      "Analysis for scene_65_frame_1_9507.jpg saved as scene_65_analysis.json\n",
      "Analysis for scene_61_frame_1_9173.jpg saved as scene_61_analysis.json\n"
     ]
    },
    {
     "name": "stderr",
     "output_type": "stream",
     "text": []
    },
    {
     "name": "stdout",
     "output_type": "stream",
     "text": [
      "Analysis for scene_67_frame_1_9709.jpg saved as scene_67_analysis.json\n"
     ]
    },
    {
     "name": "stderr",
     "output_type": "stream",
     "text": []
    },
    {
     "name": "stdout",
     "output_type": "stream",
     "text": [
      "Analysis for scene_69_frame_1_10170.jpg saved as scene_69_analysis.json\n",
      "Analysis for scene_68_frame_1_9999.jpg saved as scene_68_analysis.json\n"
     ]
    },
    {
     "name": "stderr",
     "output_type": "stream",
     "text": []
    },
    {
     "name": "stdout",
     "output_type": "stream",
     "text": [
      "Analysis for scene_66_frame_1_9640.jpg saved as scene_66_analysis.json\n"
     ]
    },
    {
     "name": "stderr",
     "output_type": "stream",
     "text": []
    },
    {
     "name": "stdout",
     "output_type": "stream",
     "text": [
      "Analysis for scene_70_frame_1_10503.jpg saved as scene_70_analysis.json\n"
     ]
    },
    {
     "name": "stderr",
     "output_type": "stream",
     "text": []
    },
    {
     "name": "stdout",
     "output_type": "stream",
     "text": [
      "Analysis for scene_71_frame_1_10583.jpg saved as scene_71_analysis.json\n"
     ]
    },
    {
     "name": "stderr",
     "output_type": "stream",
     "text": []
    },
    {
     "name": "stdout",
     "output_type": "stream",
     "text": [
      "Analysis for scene_72_frame_1_10961.jpg saved as scene_72_analysis.json\n",
      "Analysis for scene_73_frame_1_11054.jpg saved as scene_73_analysis.json\n"
     ]
    },
    {
     "name": "stderr",
     "output_type": "stream",
     "text": []
    },
    {
     "name": "stdout",
     "output_type": "stream",
     "text": [
      "Analysis for scene_75_frame_1_11192.jpg saved as scene_75_analysis.json\n"
     ]
    },
    {
     "name": "stderr",
     "output_type": "stream",
     "text": []
    },
    {
     "name": "stdout",
     "output_type": "stream",
     "text": [
      "Analysis for scene_77_frame_1_11577.jpg saved as scene_77_analysis.json\n",
      "Analysis for scene_76_frame_1_11318.jpg saved as scene_76_analysis.json\n",
      "Analysis for scene_74_frame_1_11107.jpg saved as scene_74_analysis.json\n"
     ]
    },
    {
     "name": "stderr",
     "output_type": "stream",
     "text": []
    },
    {
     "name": "stdout",
     "output_type": "stream",
     "text": [
      "Analysis for scene_63_frame_1_9303.jpg saved as scene_63_analysis.json\n"
     ]
    },
    {
     "name": "stderr",
     "output_type": "stream",
     "text": []
    },
    {
     "name": "stdout",
     "output_type": "stream",
     "text": [
      "Analysis for scene_81_frame_1_12160.jpg saved as scene_81_analysis.json\n"
     ]
    },
    {
     "name": "stderr",
     "output_type": "stream",
     "text": []
    },
    {
     "name": "stdout",
     "output_type": "stream",
     "text": [
      "Analysis for scene_79_frame_1_11903.jpg saved as scene_79_analysis.json\n"
     ]
    },
    {
     "name": "stderr",
     "output_type": "stream",
     "text": []
    },
    {
     "name": "stdout",
     "output_type": "stream",
     "text": [
      "Analysis for scene_80_frame_1_12093.jpg saved as scene_80_analysis.json\n",
      "Analysis for scene_82_frame_1_12372.jpg saved as scene_82_analysis.json\n",
      "Analysis for scene_78_frame_1_11795.jpg saved as scene_78_analysis.json\n"
     ]
    },
    {
     "name": "stderr",
     "output_type": "stream",
     "text": []
    },
    {
     "name": "stdout",
     "output_type": "stream",
     "text": [
      "Analysis for scene_83_frame_1_12862.jpg saved as scene_83_analysis.json\n"
     ]
    },
    {
     "name": "stderr",
     "output_type": "stream",
     "text": []
    },
    {
     "name": "stdout",
     "output_type": "stream",
     "text": [
      "Analysis for scene_84_frame_1_13003.jpg saved as scene_84_analysis.json\n"
     ]
    },
    {
     "name": "stderr",
     "output_type": "stream",
     "text": []
    },
    {
     "name": "stdout",
     "output_type": "stream",
     "text": [
      "Analysis for scene_86_frame_1_13298.jpg saved as scene_86_analysis.json\n"
     ]
    },
    {
     "name": "stderr",
     "output_type": "stream",
     "text": []
    },
    {
     "name": "stdout",
     "output_type": "stream",
     "text": [
      "Analysis for scene_87_frame_1_13614.jpg saved as scene_87_analysis.json\n"
     ]
    },
    {
     "name": "stderr",
     "output_type": "stream",
     "text": []
    },
    {
     "name": "stdout",
     "output_type": "stream",
     "text": [
      "Analysis for scene_85_frame_1_13221.jpg saved as scene_85_analysis.json\n",
      "Analysis for scene_88_frame_1_13731.jpg saved as scene_88_analysis.json\n"
     ]
    },
    {
     "name": "stderr",
     "output_type": "stream",
     "text": []
    },
    {
     "name": "stdout",
     "output_type": "stream",
     "text": [
      "Analysis for scene_89_frame_1_13921.jpg saved as scene_89_analysis.json\n"
     ]
    },
    {
     "name": "stderr",
     "output_type": "stream",
     "text": []
    },
    {
     "name": "stdout",
     "output_type": "stream",
     "text": [
      "Analysis for scene_90_frame_1_13981.jpg saved as scene_90_analysis.json\n",
      "Analysis for scene_91_frame_1_14005.jpg saved as scene_91_analysis.json\n"
     ]
    },
    {
     "name": "stderr",
     "output_type": "stream",
     "text": []
    },
    {
     "name": "stdout",
     "output_type": "stream",
     "text": [
      "Analysis for scene_92_frame_1_14246.jpg saved as scene_92_analysis.json\n",
      "Analysis for scene_93_frame_1_14312.jpg saved as scene_93_analysis.json\n"
     ]
    },
    {
     "name": "stderr",
     "output_type": "stream",
     "text": []
    },
    {
     "name": "stdout",
     "output_type": "stream",
     "text": [
      "Analysis for scene_97_frame_1_14887.jpg saved as scene_97_analysis.json\n"
     ]
    },
    {
     "name": "stderr",
     "output_type": "stream",
     "text": []
    },
    {
     "name": "stdout",
     "output_type": "stream",
     "text": [
      "Analysis for scene_98_frame_1_14914.jpg saved as scene_98_analysis.json\n"
     ]
    },
    {
     "name": "stderr",
     "output_type": "stream",
     "text": []
    },
    {
     "name": "stdout",
     "output_type": "stream",
     "text": [
      "Analysis for scene_94_frame_1_14425.jpg saved as scene_94_analysis.json\n",
      "Analysis for scene_96_frame_1_14814.jpg saved as scene_96_analysis.json\n",
      "Analysis for scene_95_frame_1_14654.jpg saved as scene_95_analysis.json\n"
     ]
    },
    {
     "name": "stderr",
     "output_type": "stream",
     "text": []
    },
    {
     "name": "stdout",
     "output_type": "stream",
     "text": [
      "Analysis for scene_99_frame_1_14994.jpg saved as scene_99_analysis.json\n"
     ]
    },
    {
     "name": "stderr",
     "output_type": "stream",
     "text": []
    },
    {
     "name": "stdout",
     "output_type": "stream",
     "text": [
      "Analysis for scene_100_frame_1_15054.jpg saved as scene_100_analysis.json\n"
     ]
    },
    {
     "name": "stderr",
     "output_type": "stream",
     "text": []
    },
    {
     "name": "stdout",
     "output_type": "stream",
     "text": [
      "Analysis for scene_103_frame_1_15712.jpg saved as scene_103_analysis.json\n"
     ]
    },
    {
     "name": "stderr",
     "output_type": "stream",
     "text": []
    },
    {
     "name": "stdout",
     "output_type": "stream",
     "text": [
      "Analysis for scene_102_frame_1_15642.jpg saved as scene_102_analysis.json\n"
     ]
    },
    {
     "name": "stderr",
     "output_type": "stream",
     "text": []
    },
    {
     "name": "stdout",
     "output_type": "stream",
     "text": [
      "Analysis for scene_105_frame_1_15883.jpg saved as scene_105_analysis.json\n"
     ]
    },
    {
     "name": "stderr",
     "output_type": "stream",
     "text": []
    },
    {
     "name": "stdout",
     "output_type": "stream",
     "text": [
      "Analysis for scene_101_frame_1_15473.jpg saved as scene_101_analysis.json\n",
      "Analysis for scene_104_frame_1_15814.jpg saved as scene_104_analysis.json\n"
     ]
    },
    {
     "name": "stderr",
     "output_type": "stream",
     "text": []
    },
    {
     "name": "stdout",
     "output_type": "stream",
     "text": [
      "Analysis for scene_107_frame_1_16137.jpg saved as scene_107_analysis.json\n"
     ]
    },
    {
     "name": "stderr",
     "output_type": "stream",
     "text": []
    },
    {
     "name": "stdout",
     "output_type": "stream",
     "text": [
      "Analysis for scene_110_frame_1_16534.jpg saved as scene_110_analysis.json\n"
     ]
    },
    {
     "name": "stderr",
     "output_type": "stream",
     "text": []
    },
    {
     "name": "stdout",
     "output_type": "stream",
     "text": [
      "Analysis for scene_109_frame_1_16504.jpg saved as scene_109_analysis.json\n"
     ]
    },
    {
     "name": "stderr",
     "output_type": "stream",
     "text": []
    },
    {
     "name": "stdout",
     "output_type": "stream",
     "text": [
      "Analysis for scene_108_frame_1_16412.jpg saved as scene_108_analysis.json\n"
     ]
    },
    {
     "name": "stderr",
     "output_type": "stream",
     "text": []
    },
    {
     "name": "stdout",
     "output_type": "stream",
     "text": [
      "Analysis for scene_106_frame_1_15970.jpg saved as scene_106_analysis.json\n"
     ]
    },
    {
     "name": "stderr",
     "output_type": "stream",
     "text": []
    },
    {
     "name": "stdout",
     "output_type": "stream",
     "text": [
      "Analysis for scene_112_frame_1_16743.jpg saved as scene_112_analysis.json\n"
     ]
    },
    {
     "name": "stderr",
     "output_type": "stream",
     "text": []
    },
    {
     "name": "stdout",
     "output_type": "stream",
     "text": [
      "Analysis for scene_111_frame_1_16695.jpg saved as scene_111_analysis.json\n"
     ]
    },
    {
     "name": "stderr",
     "output_type": "stream",
     "text": []
    },
    {
     "name": "stdout",
     "output_type": "stream",
     "text": [
      "Analysis for scene_113_frame_1_16932.jpg saved as scene_113_analysis.json\n"
     ]
    },
    {
     "name": "stderr",
     "output_type": "stream",
     "text": []
    },
    {
     "name": "stdout",
     "output_type": "stream",
     "text": [
      "Analysis for scene_114_frame_1_17077.jpg saved as scene_114_analysis.json\n"
     ]
    },
    {
     "name": "stderr",
     "output_type": "stream",
     "text": []
    },
    {
     "name": "stdout",
     "output_type": "stream",
     "text": [
      "Analysis for scene_116_frame_1_17290.jpg saved as scene_116_analysis.json\n"
     ]
    },
    {
     "name": "stderr",
     "output_type": "stream",
     "text": []
    },
    {
     "name": "stdout",
     "output_type": "stream",
     "text": [
      "Analysis for scene_115_frame_1_17229.jpg saved as scene_115_analysis.json\n"
     ]
    },
    {
     "name": "stderr",
     "output_type": "stream",
     "text": []
    },
    {
     "name": "stdout",
     "output_type": "stream",
     "text": [
      "Analysis for scene_117_frame_1_17510.jpg saved as scene_117_analysis.json\n",
      "Analysis for scene_118_frame_1_17564.jpg saved as scene_118_analysis.json\n"
     ]
    },
    {
     "name": "stderr",
     "output_type": "stream",
     "text": []
    },
    {
     "name": "stdout",
     "output_type": "stream",
     "text": [
      "Analysis for scene_119_frame_1_17863.jpg saved as scene_119_analysis.json\n",
      "Rate limit hit, retrying in 1 seconds...\n"
     ]
    },
    {
     "name": "stderr",
     "output_type": "stream",
     "text": []
    },
    {
     "name": "stdout",
     "output_type": "stream",
     "text": [
      "Analysis for scene_120_frame_1_17943.jpg saved as scene_120_analysis.json\n"
     ]
    },
    {
     "name": "stderr",
     "output_type": "stream",
     "text": []
    },
    {
     "name": "stdout",
     "output_type": "stream",
     "text": [
      "Analysis for scene_123_frame_1_18544.jpg saved as scene_123_analysis.json\n"
     ]
    },
    {
     "name": "stderr",
     "output_type": "stream",
     "text": []
    },
    {
     "name": "stdout",
     "output_type": "stream",
     "text": [
      "Analysis for scene_124_frame_1_18827.jpg saved as scene_124_analysis.json\n",
      "Analysis for scene_122_frame_1_18402.jpg saved as scene_122_analysis.json\n",
      "Analysis for scene_121_frame_1_18145.jpg saved as scene_121_analysis.json\n"
     ]
    },
    {
     "name": "stderr",
     "output_type": "stream",
     "text": []
    },
    {
     "name": "stdout",
     "output_type": "stream",
     "text": [
      "Analysis for scene_125_frame_1_19124.jpg saved as scene_125_analysis.json\n"
     ]
    },
    {
     "name": "stderr",
     "output_type": "stream",
     "text": []
    },
    {
     "name": "stdout",
     "output_type": "stream",
     "text": [
      "Analysis for scene_129_frame_1_19667.jpg saved as scene_129_analysis.json\n"
     ]
    },
    {
     "name": "stderr",
     "output_type": "stream",
     "text": []
    },
    {
     "name": "stdout",
     "output_type": "stream",
     "text": [
      "Analysis for scene_128_frame_1_19372.jpg saved as scene_128_analysis.json\n"
     ]
    },
    {
     "name": "stderr",
     "output_type": "stream",
     "text": []
    },
    {
     "name": "stdout",
     "output_type": "stream",
     "text": [
      "Analysis for scene_127_frame_1_19284.jpg saved as scene_127_analysis.json\n",
      "Analysis for scene_130_frame_1_19716.jpg saved as scene_130_analysis.json\n"
     ]
    },
    {
     "name": "stderr",
     "output_type": "stream",
     "text": []
    },
    {
     "name": "stdout",
     "output_type": "stream",
     "text": [
      "Analysis for scene_131_frame_1_19858.jpg saved as scene_131_analysis.json\n"
     ]
    },
    {
     "name": "stderr",
     "output_type": "stream",
     "text": []
    },
    {
     "name": "stdout",
     "output_type": "stream",
     "text": [
      "Analysis for scene_126_frame_1_19155.jpg saved as scene_126_analysis.json\n"
     ]
    },
    {
     "name": "stderr",
     "output_type": "stream",
     "text": []
    },
    {
     "name": "stdout",
     "output_type": "stream",
     "text": [
      "Analysis for scene_133_frame_1_20337.jpg saved as scene_133_analysis.json\n"
     ]
    },
    {
     "name": "stderr",
     "output_type": "stream",
     "text": []
    },
    {
     "name": "stdout",
     "output_type": "stream",
     "text": [
      "Analysis for scene_134_frame_1_20459.jpg saved as scene_134_analysis.json\n"
     ]
    },
    {
     "name": "stderr",
     "output_type": "stream",
     "text": []
    },
    {
     "name": "stdout",
     "output_type": "stream",
     "text": [
      "Analysis for scene_132_frame_1_20258.jpg saved as scene_132_analysis.json\n"
     ]
    },
    {
     "name": "stderr",
     "output_type": "stream",
     "text": []
    },
    {
     "name": "stdout",
     "output_type": "stream",
     "text": [
      "Analysis for scene_137_frame_1_21073.jpg saved as scene_137_analysis.json\n",
      "Analysis for scene_136_frame_1_20912.jpg saved as scene_136_analysis.json\n"
     ]
    },
    {
     "name": "stderr",
     "output_type": "stream",
     "text": []
    },
    {
     "name": "stdout",
     "output_type": "stream",
     "text": [
      "Analysis for scene_135_frame_1_20725.jpg saved as scene_135_analysis.json\n"
     ]
    },
    {
     "name": "stderr",
     "output_type": "stream",
     "text": []
    },
    {
     "name": "stdout",
     "output_type": "stream",
     "text": [
      "Analysis for scene_138_frame_1_21444.jpg saved as scene_138_analysis.json\n"
     ]
    },
    {
     "name": "stderr",
     "output_type": "stream",
     "text": []
    },
    {
     "name": "stdout",
     "output_type": "stream",
     "text": [
      "Analysis for scene_141_frame_1_22175.jpg saved as scene_141_analysis.json\n",
      "Analysis for scene_139_frame_1_21620.jpg saved as scene_139_analysis.json\n",
      "Analysis for scene_140_frame_1_21861.jpg saved as scene_140_analysis.json\n",
      "Analysis for scene_142_frame_1_22247.jpg saved as scene_142_analysis.json\n"
     ]
    },
    {
     "name": "stderr",
     "output_type": "stream",
     "text": []
    },
    {
     "name": "stdout",
     "output_type": "stream",
     "text": [
      "Analysis for scene_144_frame_1_22304.jpg saved as scene_144_analysis.json\n"
     ]
    },
    {
     "name": "stderr",
     "output_type": "stream",
     "text": []
    },
    {
     "name": "stdout",
     "output_type": "stream",
     "text": [
      "Analysis for scene_145_frame_1_22391.jpg saved as scene_145_analysis.json\n",
      "Analysis for scene_143_frame_1_22275.jpg saved as scene_143_analysis.json\n",
      "Analysis for scene_147_frame_1_22488.jpg saved as scene_147_analysis.json\n",
      "Analysis for scene_146_frame_1_22417.jpg saved as scene_146_analysis.json\n"
     ]
    },
    {
     "name": "stderr",
     "output_type": "stream",
     "text": []
    },
    {
     "name": "stdout",
     "output_type": "stream",
     "text": [
      "Analysis for scene_149_frame_1_22725.jpg saved as scene_149_analysis.json\n"
     ]
    },
    {
     "name": "stderr",
     "output_type": "stream",
     "text": []
    },
    {
     "name": "stdout",
     "output_type": "stream",
     "text": [
      "Analysis for scene_150_frame_1_22768.jpg saved as scene_150_analysis.json\n"
     ]
    },
    {
     "name": "stderr",
     "output_type": "stream",
     "text": []
    },
    {
     "name": "stdout",
     "output_type": "stream",
     "text": [
      "Analysis for scene_151_frame_1_22789.jpg saved as scene_151_analysis.json\n"
     ]
    },
    {
     "name": "stderr",
     "output_type": "stream",
     "text": []
    },
    {
     "name": "stdout",
     "output_type": "stream",
     "text": [
      "Analysis for scene_148_frame_1_22681.jpg saved as scene_148_analysis.json\n"
     ]
    },
    {
     "name": "stderr",
     "output_type": "stream",
     "text": []
    },
    {
     "name": "stdout",
     "output_type": "stream",
     "text": [
      "Analysis for scene_152_frame_1_23245.jpg saved as scene_152_analysis.json\n"
     ]
    },
    {
     "name": "stderr",
     "output_type": "stream",
     "text": []
    },
    {
     "name": "stdout",
     "output_type": "stream",
     "text": [
      "Analysis for scene_153_frame_1_23275.jpg saved as scene_153_analysis.json\n",
      "Rate limit hit, retrying in 1 seconds...\n",
      "Rate limit hit, retrying in 1 seconds...\n"
     ]
    },
    {
     "name": "stderr",
     "output_type": "stream",
     "text": []
    },
    {
     "name": "stdout",
     "output_type": "stream",
     "text": [
      "Analysis for scene_154_frame_1_23447.jpg saved as scene_154_analysis.json\n"
     ]
    },
    {
     "name": "stderr",
     "output_type": "stream",
     "text": []
    },
    {
     "name": "stdout",
     "output_type": "stream",
     "text": [
      "Analysis for scene_155_frame_1_23820.jpg saved as scene_155_analysis.json\n"
     ]
    },
    {
     "name": "stderr",
     "output_type": "stream",
     "text": []
    },
    {
     "name": "stdout",
     "output_type": "stream",
     "text": [
      "Analysis for scene_156_frame_1_23972.jpg saved as scene_156_analysis.json\n"
     ]
    },
    {
     "name": "stderr",
     "output_type": "stream",
     "text": []
    },
    {
     "name": "stdout",
     "output_type": "stream",
     "text": [
      "Analysis for scene_158_frame_1_24231.jpg saved as scene_158_analysis.json\n"
     ]
    },
    {
     "name": "stderr",
     "output_type": "stream",
     "text": []
    },
    {
     "name": "stdout",
     "output_type": "stream",
     "text": [
      "Analysis for scene_157_frame_1_24081.jpg saved as scene_157_analysis.json\n"
     ]
    },
    {
     "name": "stderr",
     "output_type": "stream",
     "text": []
    },
    {
     "name": "stdout",
     "output_type": "stream",
     "text": [
      "Analysis for scene_159_frame_1_24320.jpg saved as scene_159_analysis.json\n"
     ]
    },
    {
     "name": "stderr",
     "output_type": "stream",
     "text": []
    },
    {
     "name": "stdout",
     "output_type": "stream",
     "text": [
      "Analysis for scene_160_frame_1_24525.jpg saved as scene_160_analysis.json\n"
     ]
    },
    {
     "name": "stderr",
     "output_type": "stream",
     "text": []
    },
    {
     "name": "stdout",
     "output_type": "stream",
     "text": [
      "Analysis for scene_163_frame_1_25165.jpg saved as scene_163_analysis.json\n"
     ]
    },
    {
     "name": "stderr",
     "output_type": "stream",
     "text": []
    },
    {
     "name": "stdout",
     "output_type": "stream",
     "text": [
      "Analysis for scene_162_frame_1_24810.jpg saved as scene_162_analysis.json\n"
     ]
    },
    {
     "name": "stderr",
     "output_type": "stream",
     "text": []
    },
    {
     "name": "stdout",
     "output_type": "stream",
     "text": [
      "Analysis for scene_161_frame_1_24732.jpg saved as scene_161_analysis.json\n"
     ]
    },
    {
     "name": "stderr",
     "output_type": "stream",
     "text": []
    },
    {
     "name": "stdout",
     "output_type": "stream",
     "text": [
      "Analysis for scene_164_frame_1_25219.jpg saved as scene_164_analysis.json\n"
     ]
    },
    {
     "name": "stderr",
     "output_type": "stream",
     "text": []
    },
    {
     "name": "stdout",
     "output_type": "stream",
     "text": [
      "Analysis for scene_166_frame_1_25375.jpg saved as scene_166_analysis.json\n"
     ]
    },
    {
     "name": "stderr",
     "output_type": "stream",
     "text": []
    },
    {
     "name": "stdout",
     "output_type": "stream",
     "text": [
      "Analysis for scene_167_frame_1_25420.jpg saved as scene_167_analysis.json\n"
     ]
    },
    {
     "name": "stderr",
     "output_type": "stream",
     "text": []
    },
    {
     "name": "stdout",
     "output_type": "stream",
     "text": [
      "Analysis for scene_168_frame_1_25455.jpg saved as scene_168_analysis.json\n"
     ]
    },
    {
     "name": "stderr",
     "output_type": "stream",
     "text": []
    },
    {
     "name": "stdout",
     "output_type": "stream",
     "text": [
      "Analysis for scene_169_frame_1_25553.jpg saved as scene_169_analysis.json\n"
     ]
    },
    {
     "name": "stderr",
     "output_type": "stream",
     "text": []
    },
    {
     "name": "stdout",
     "output_type": "stream",
     "text": [
      "Analysis for scene_165_frame_1_25286.jpg saved as scene_165_analysis.json\n"
     ]
    },
    {
     "name": "stderr",
     "output_type": "stream",
     "text": []
    },
    {
     "name": "stdout",
     "output_type": "stream",
     "text": [
      "Analysis for scene_170_frame_1_26428.jpg saved as scene_170_analysis.json\n"
     ]
    },
    {
     "name": "stderr",
     "output_type": "stream",
     "text": []
    },
    {
     "name": "stdout",
     "output_type": "stream",
     "text": [
      "Analysis for scene_171_frame_1_26683.jpg saved as scene_171_analysis.json\n"
     ]
    },
    {
     "name": "stderr",
     "output_type": "stream",
     "text": []
    },
    {
     "name": "stdout",
     "output_type": "stream",
     "text": [
      "Analysis for scene_172_frame_1_26784.jpg saved as scene_172_analysis.json\n"
     ]
    },
    {
     "name": "stderr",
     "output_type": "stream",
     "text": []
    },
    {
     "name": "stdout",
     "output_type": "stream",
     "text": [
      "Analysis for scene_173_frame_1_26840.jpg saved as scene_173_analysis.json\n"
     ]
    },
    {
     "name": "stderr",
     "output_type": "stream",
     "text": []
    },
    {
     "name": "stdout",
     "output_type": "stream",
     "text": [
      "Error decoding JSON from OpenAI response: Expecting ',' delimiter: line 87 column 19 (char 2973)\n",
      "Skipping scene_174_frame_1_27348.jpg due to invalid OpenAI response.\n"
     ]
    },
    {
     "name": "stderr",
     "output_type": "stream",
     "text": []
    },
    {
     "name": "stdout",
     "output_type": "stream",
     "text": [
      "Analysis for scene_175_frame_1_27529.jpg saved as scene_175_analysis.json\n"
     ]
    },
    {
     "name": "stderr",
     "output_type": "stream",
     "text": []
    },
    {
     "name": "stdout",
     "output_type": "stream",
     "text": [
      "Analysis for scene_177_frame_1_27640.jpg saved as scene_177_analysis.json\n"
     ]
    },
    {
     "name": "stderr",
     "output_type": "stream",
     "text": []
    },
    {
     "name": "stdout",
     "output_type": "stream",
     "text": [
      "Analysis for scene_176_frame_1_27573.jpg saved as scene_176_analysis.json\n",
      "Analysis for scene_179_frame_1_28340.jpg saved as scene_179_analysis.json\n"
     ]
    },
    {
     "name": "stderr",
     "output_type": "stream",
     "text": []
    },
    {
     "name": "stdout",
     "output_type": "stream",
     "text": [
      "Analysis for scene_178_frame_1_27805.jpg saved as scene_178_analysis.json\n"
     ]
    },
    {
     "name": "stderr",
     "output_type": "stream",
     "text": []
    },
    {
     "name": "stdout",
     "output_type": "stream",
     "text": [
      "Analysis for scene_181_frame_1_28417.jpg saved as scene_181_analysis.json\n"
     ]
    },
    {
     "name": "stderr",
     "output_type": "stream",
     "text": []
    },
    {
     "name": "stdout",
     "output_type": "stream",
     "text": [
      "Analysis for scene_180_frame_1_28383.jpg saved as scene_180_analysis.json\n"
     ]
    },
    {
     "name": "stderr",
     "output_type": "stream",
     "text": []
    },
    {
     "name": "stdout",
     "output_type": "stream",
     "text": [
      "Analysis for scene_182_frame_1_28566.jpg saved as scene_182_analysis.json\n"
     ]
    },
    {
     "name": "stderr",
     "output_type": "stream",
     "text": []
    },
    {
     "name": "stdout",
     "output_type": "stream",
     "text": [
      "Analysis for scene_184_frame_1_28676.jpg saved as scene_184_analysis.json\n"
     ]
    },
    {
     "name": "stderr",
     "output_type": "stream",
     "text": []
    },
    {
     "name": "stdout",
     "output_type": "stream",
     "text": [
      "Analysis for scene_185_frame_1_28753.jpg saved as scene_185_analysis.json\n"
     ]
    },
    {
     "name": "stderr",
     "output_type": "stream",
     "text": []
    },
    {
     "name": "stdout",
     "output_type": "stream",
     "text": [
      "Analysis for scene_183_frame_1_28620.jpg saved as scene_183_analysis.json\n"
     ]
    },
    {
     "name": "stderr",
     "output_type": "stream",
     "text": []
    },
    {
     "name": "stdout",
     "output_type": "stream",
     "text": [
      "Analysis for scene_187_frame_1_29663.jpg saved as scene_187_analysis.json\n"
     ]
    },
    {
     "name": "stderr",
     "output_type": "stream",
     "text": []
    },
    {
     "name": "stdout",
     "output_type": "stream",
     "text": [
      "Analysis for scene_186_frame_1_29120.jpg saved as scene_186_analysis.json\n"
     ]
    },
    {
     "name": "stderr",
     "output_type": "stream",
     "text": []
    },
    {
     "name": "stdout",
     "output_type": "stream",
     "text": [
      "Analysis for scene_188_frame_1_29708.jpg saved as scene_188_analysis.json\n"
     ]
    },
    {
     "name": "stderr",
     "output_type": "stream",
     "text": []
    },
    {
     "name": "stdout",
     "output_type": "stream",
     "text": [
      "Analysis for scene_189_frame_1_30015.jpg saved as scene_189_analysis.json\n"
     ]
    },
    {
     "name": "stderr",
     "output_type": "stream",
     "text": []
    },
    {
     "name": "stdout",
     "output_type": "stream",
     "text": [
      "Analysis for scene_191_frame_1_30179.jpg saved as scene_191_analysis.json\n"
     ]
    },
    {
     "name": "stderr",
     "output_type": "stream",
     "text": []
    },
    {
     "name": "stdout",
     "output_type": "stream",
     "text": [
      "Analysis for scene_190_frame_1_30070.jpg saved as scene_190_analysis.json\n",
      "Analysis for scene_192_frame_1_30289.jpg saved as scene_192_analysis.json\n"
     ]
    },
    {
     "name": "stderr",
     "output_type": "stream",
     "text": []
    },
    {
     "name": "stdout",
     "output_type": "stream",
     "text": [
      "Analysis for scene_194_frame_1_30859.jpg saved as scene_194_analysis.json\n"
     ]
    },
    {
     "name": "stderr",
     "output_type": "stream",
     "text": []
    },
    {
     "name": "stdout",
     "output_type": "stream",
     "text": [
      "Error decoding JSON from OpenAI response: Unterminated string starting at: line 86 column 26 (char 2952)\n",
      "Skipping scene_193_frame_1_30403.jpg due to invalid OpenAI response.\n"
     ]
    },
    {
     "name": "stderr",
     "output_type": "stream",
     "text": []
    },
    {
     "name": "stdout",
     "output_type": "stream",
     "text": [
      "Analysis for scene_199_frame_1_32054.jpg saved as scene_199_analysis.json\n"
     ]
    },
    {
     "name": "stderr",
     "output_type": "stream",
     "text": []
    },
    {
     "name": "stdout",
     "output_type": "stream",
     "text": [
      "Analysis for scene_195_frame_1_31197.jpg saved as scene_195_analysis.json\n"
     ]
    },
    {
     "name": "stderr",
     "output_type": "stream",
     "text": []
    },
    {
     "name": "stdout",
     "output_type": "stream",
     "text": [
      "Analysis for scene_198_frame_1_32023.jpg saved as scene_198_analysis.json\n"
     ]
    },
    {
     "name": "stderr",
     "output_type": "stream",
     "text": []
    },
    {
     "name": "stdout",
     "output_type": "stream",
     "text": [
      "Analysis for scene_197_frame_1_31699.jpg saved as scene_197_analysis.json\n"
     ]
    },
    {
     "name": "stderr",
     "output_type": "stream",
     "text": []
    },
    {
     "name": "stdout",
     "output_type": "stream",
     "text": [
      "Error decoding JSON from OpenAI response: Expecting value: line 91 column 40 (char 2893)\n",
      "Skipping scene_196_frame_1_31433.jpg due to invalid OpenAI response.\n"
     ]
    },
    {
     "name": "stderr",
     "output_type": "stream",
     "text": []
    },
    {
     "name": "stdout",
     "output_type": "stream",
     "text": [
      "Analysis for scene_200_frame_1_32219.jpg saved as scene_200_analysis.json\n"
     ]
    },
    {
     "name": "stderr",
     "output_type": "stream",
     "text": []
    },
    {
     "name": "stdout",
     "output_type": "stream",
     "text": [
      "Analysis for scene_201_frame_1_32323.jpg saved as scene_201_analysis.json\n"
     ]
    },
    {
     "name": "stderr",
     "output_type": "stream",
     "text": []
    },
    {
     "name": "stdout",
     "output_type": "stream",
     "text": [
      "Error decoding JSON from OpenAI response: Unterminated string starting at: line 90 column 11 (char 2881)\n",
      "Skipping scene_204_frame_1_32540.jpg due to invalid OpenAI response.\n"
     ]
    },
    {
     "name": "stderr",
     "output_type": "stream",
     "text": []
    },
    {
     "name": "stdout",
     "output_type": "stream",
     "text": [
      "Analysis for scene_205_frame_1_32666.jpg saved as scene_205_analysis.json\n",
      "Analysis for scene_203_frame_1_32473.jpg saved as scene_203_analysis.json\n",
      "Analysis for scene_202_frame_1_32389.jpg saved as scene_202_analysis.json\n"
     ]
    },
    {
     "name": "stderr",
     "output_type": "stream",
     "text": []
    },
    {
     "name": "stdout",
     "output_type": "stream",
     "text": [
      "Analysis for scene_208_frame_1_33696.jpg saved as scene_208_analysis.json\n"
     ]
    },
    {
     "name": "stderr",
     "output_type": "stream",
     "text": []
    },
    {
     "name": "stdout",
     "output_type": "stream",
     "text": [
      "Analysis for scene_209_frame_1_33744.jpg saved as scene_209_analysis.json\n"
     ]
    },
    {
     "name": "stderr",
     "output_type": "stream",
     "text": []
    },
    {
     "name": "stdout",
     "output_type": "stream",
     "text": [
      "Error decoding JSON from OpenAI response: Expecting property name enclosed in double quotes: line 87 column 125 (char 3022)\n",
      "Skipping scene_206_frame_1_32916.jpg due to invalid OpenAI response.\n"
     ]
    },
    {
     "name": "stderr",
     "output_type": "stream",
     "text": [
      "Processing Scenes: 100%|██████████| 209/209 [10:36<00:00,  3.04s/scene]\n",
      "Processing Videos:  50%|█████     | 1/2 [12:31<12:31, 751.80s/video]ERROR:pyscenedetect:VideoManager is deprecated and will be removed.\n",
      "INFO:pyscenedetect:Loaded 1 video, framerate: 25.000 FPS, resolution: 640 x 360\n",
      "INFO:pyscenedetect:Downscale factor set to 2, effective resolution: 320 x 180\n",
      "INFO:pyscenedetect:Detecting scenes...\n"
     ]
    },
    {
     "name": "stdout",
     "output_type": "stream",
     "text": [
      "Analysis for scene_207_frame_1_33648.jpg saved as scene_207_analysis.json\n",
      "Finished processing video: Duck_And_Goose.mkv\n",
      "Processing video 2/2: Bananas_in_pyjamas.mp4\n"
     ]
    },
    {
     "name": "stderr",
     "output_type": "stream",
     "text": [
      "INFO:root:Detected 159 scenes:\n",
      "INFO:root:Scene 1: Start 00:00:00.000 / Frame 0, End 00:00:08.360 / Frame 209\n",
      "INFO:root:Scene 2: Start 00:00:08.360 / Frame 209, End 00:00:19.320 / Frame 483\n",
      "INFO:root:Scene 3: Start 00:00:19.320 / Frame 483, End 00:00:24.040 / Frame 601\n",
      "INFO:root:Scene 4: Start 00:00:24.040 / Frame 601, End 00:00:24.800 / Frame 620\n",
      "INFO:root:Scene 5: Start 00:00:24.800 / Frame 620, End 00:00:26.600 / Frame 665\n",
      "INFO:root:Scene 6: Start 00:00:26.600 / Frame 665, End 00:00:28.600 / Frame 715\n",
      "INFO:root:Scene 7: Start 00:00:28.600 / Frame 715, End 00:00:29.960 / Frame 749\n",
      "INFO:root:Scene 8: Start 00:00:29.960 / Frame 749, End 00:00:31.880 / Frame 797\n",
      "INFO:root:Scene 9: Start 00:00:31.880 / Frame 797, End 00:00:35.240 / Frame 881\n",
      "INFO:root:Scene 10: Start 00:00:35.240 / Frame 881, End 00:00:37.920 / Frame 948\n",
      "INFO:root:Scene 11: Start 00:00:37.920 / Frame 948, End 00:00:42.320 / Frame 1058\n",
      "INFO:root:Scene 12: Start 00:00:42.320 / Frame 1058, End 00:00:42.960 / Frame 1074\n",
      "INFO:root:Scene 13: Start 00:00:42.960 / Frame 1074, End 00:00:50.040 / Frame 1251\n",
      "INFO:root:Scene 14: Start 00:00:50.040 / Frame 1251, End 00:00:54.480 / Frame 1362\n",
      "INFO:root:Scene 15: Start 00:00:54.480 / Frame 1362, End 00:00:58.400 / Frame 1460\n",
      "INFO:root:Scene 16: Start 00:00:58.400 / Frame 1460, End 00:01:08.560 / Frame 1714\n",
      "INFO:root:Scene 17: Start 00:01:08.560 / Frame 1714, End 00:01:10.480 / Frame 1762\n",
      "INFO:root:Scene 18: Start 00:01:10.480 / Frame 1762, End 00:01:14.520 / Frame 1863\n",
      "INFO:root:Scene 19: Start 00:01:14.520 / Frame 1863, End 00:01:18.040 / Frame 1951\n",
      "INFO:root:Scene 20: Start 00:01:18.040 / Frame 1951, End 00:01:21.960 / Frame 2049\n",
      "INFO:root:Scene 21: Start 00:01:21.960 / Frame 2049, End 00:01:28.400 / Frame 2210\n",
      "INFO:root:Scene 22: Start 00:01:28.400 / Frame 2210, End 00:01:34.480 / Frame 2362\n",
      "INFO:root:Scene 23: Start 00:01:34.480 / Frame 2362, End 00:01:39.880 / Frame 2497\n",
      "INFO:root:Scene 24: Start 00:01:39.880 / Frame 2497, End 00:01:41.520 / Frame 2538\n",
      "INFO:root:Scene 25: Start 00:01:41.520 / Frame 2538, End 00:01:48.280 / Frame 2707\n",
      "INFO:root:Scene 26: Start 00:01:48.280 / Frame 2707, End 00:01:51.480 / Frame 2787\n",
      "INFO:root:Scene 27: Start 00:01:51.480 / Frame 2787, End 00:01:58.000 / Frame 2950\n",
      "INFO:root:Scene 28: Start 00:01:58.000 / Frame 2950, End 00:02:01.640 / Frame 3041\n",
      "INFO:root:Scene 29: Start 00:02:01.640 / Frame 3041, End 00:02:08.440 / Frame 3211\n",
      "INFO:root:Scene 30: Start 00:02:08.440 / Frame 3211, End 00:02:10.560 / Frame 3264\n",
      "INFO:root:Scene 31: Start 00:02:10.560 / Frame 3264, End 00:02:16.840 / Frame 3421\n",
      "INFO:root:Scene 32: Start 00:02:16.840 / Frame 3421, End 00:02:20.360 / Frame 3509\n",
      "INFO:root:Scene 33: Start 00:02:20.360 / Frame 3509, End 00:02:23.520 / Frame 3588\n",
      "INFO:root:Scene 34: Start 00:02:23.520 / Frame 3588, End 00:02:28.280 / Frame 3707\n",
      "INFO:root:Scene 35: Start 00:02:28.280 / Frame 3707, End 00:02:34.120 / Frame 3853\n",
      "INFO:root:Scene 36: Start 00:02:34.120 / Frame 3853, End 00:02:37.640 / Frame 3941\n",
      "INFO:root:Scene 37: Start 00:02:37.640 / Frame 3941, End 00:02:40.280 / Frame 4007\n",
      "INFO:root:Scene 38: Start 00:02:40.280 / Frame 4007, End 00:02:47.560 / Frame 4189\n",
      "INFO:root:Scene 39: Start 00:02:47.560 / Frame 4189, End 00:02:50.080 / Frame 4252\n",
      "INFO:root:Scene 40: Start 00:02:50.080 / Frame 4252, End 00:02:55.240 / Frame 4381\n",
      "INFO:root:Scene 41: Start 00:02:55.240 / Frame 4381, End 00:02:59.200 / Frame 4480\n",
      "INFO:root:Scene 42: Start 00:02:59.200 / Frame 4480, End 00:03:01.080 / Frame 4527\n",
      "INFO:root:Scene 43: Start 00:03:01.080 / Frame 4527, End 00:03:03.680 / Frame 4592\n",
      "INFO:root:Scene 44: Start 00:03:03.680 / Frame 4592, End 00:03:05.360 / Frame 4634\n",
      "INFO:root:Scene 45: Start 00:03:05.360 / Frame 4634, End 00:03:06.800 / Frame 4670\n",
      "INFO:root:Scene 46: Start 00:03:06.800 / Frame 4670, End 00:03:09.760 / Frame 4744\n",
      "INFO:root:Scene 47: Start 00:03:09.760 / Frame 4744, End 00:03:11.280 / Frame 4782\n",
      "INFO:root:Scene 48: Start 00:03:11.280 / Frame 4782, End 00:03:12.880 / Frame 4822\n",
      "INFO:root:Scene 49: Start 00:03:12.880 / Frame 4822, End 00:03:14.640 / Frame 4866\n",
      "INFO:root:Scene 50: Start 00:03:14.640 / Frame 4866, End 00:03:18.520 / Frame 4963\n",
      "INFO:root:Scene 51: Start 00:03:18.520 / Frame 4963, End 00:03:29.560 / Frame 5239\n",
      "INFO:root:Scene 52: Start 00:03:29.560 / Frame 5239, End 00:03:31.640 / Frame 5291\n",
      "INFO:root:Scene 53: Start 00:03:31.640 / Frame 5291, End 00:03:33.760 / Frame 5344\n",
      "INFO:root:Scene 54: Start 00:03:33.760 / Frame 5344, End 00:03:35.360 / Frame 5384\n",
      "INFO:root:Scene 55: Start 00:03:35.360 / Frame 5384, End 00:03:41.440 / Frame 5536\n",
      "INFO:root:Scene 56: Start 00:03:41.440 / Frame 5536, End 00:03:42.840 / Frame 5571\n",
      "INFO:root:Scene 57: Start 00:03:42.840 / Frame 5571, End 00:03:44.880 / Frame 5622\n",
      "INFO:root:Scene 58: Start 00:03:44.880 / Frame 5622, End 00:03:50.080 / Frame 5752\n",
      "INFO:root:Scene 59: Start 00:03:50.080 / Frame 5752, End 00:03:52.080 / Frame 5802\n",
      "INFO:root:Scene 60: Start 00:03:52.080 / Frame 5802, End 00:03:57.000 / Frame 5925\n",
      "INFO:root:Scene 61: Start 00:03:57.000 / Frame 5925, End 00:04:04.120 / Frame 6103\n",
      "INFO:root:Scene 62: Start 00:04:04.120 / Frame 6103, End 00:04:06.880 / Frame 6172\n",
      "INFO:root:Scene 63: Start 00:04:06.880 / Frame 6172, End 00:04:08.840 / Frame 6221\n",
      "INFO:root:Scene 64: Start 00:04:08.840 / Frame 6221, End 00:04:12.880 / Frame 6322\n",
      "INFO:root:Scene 65: Start 00:04:12.880 / Frame 6322, End 00:04:16.360 / Frame 6409\n",
      "INFO:root:Scene 66: Start 00:04:16.360 / Frame 6409, End 00:04:19.000 / Frame 6475\n",
      "INFO:root:Scene 67: Start 00:04:19.000 / Frame 6475, End 00:04:23.040 / Frame 6576\n",
      "INFO:root:Scene 68: Start 00:04:23.040 / Frame 6576, End 00:04:25.440 / Frame 6636\n",
      "INFO:root:Scene 69: Start 00:04:25.440 / Frame 6636, End 00:04:31.120 / Frame 6778\n",
      "INFO:root:Scene 70: Start 00:04:31.120 / Frame 6778, End 00:04:37.880 / Frame 6947\n",
      "INFO:root:Scene 71: Start 00:04:37.880 / Frame 6947, End 00:04:41.880 / Frame 7047\n",
      "INFO:root:Scene 72: Start 00:04:41.880 / Frame 7047, End 00:04:45.240 / Frame 7131\n",
      "INFO:root:Scene 73: Start 00:04:45.240 / Frame 7131, End 00:04:49.640 / Frame 7241\n",
      "INFO:root:Scene 74: Start 00:04:49.640 / Frame 7241, End 00:04:54.840 / Frame 7371\n",
      "INFO:root:Scene 75: Start 00:04:54.840 / Frame 7371, End 00:04:58.240 / Frame 7456\n",
      "INFO:root:Scene 76: Start 00:04:58.240 / Frame 7456, End 00:05:00.600 / Frame 7515\n",
      "INFO:root:Scene 77: Start 00:05:00.600 / Frame 7515, End 00:05:16.600 / Frame 7915\n",
      "INFO:root:Scene 78: Start 00:05:16.600 / Frame 7915, End 00:05:24.520 / Frame 8113\n",
      "INFO:root:Scene 79: Start 00:05:24.520 / Frame 8113, End 00:05:26.360 / Frame 8159\n",
      "INFO:root:Scene 80: Start 00:05:26.360 / Frame 8159, End 00:05:34.880 / Frame 8372\n",
      "INFO:root:Scene 81: Start 00:05:34.880 / Frame 8372, End 00:05:44.920 / Frame 8623\n",
      "INFO:root:Scene 82: Start 00:05:44.920 / Frame 8623, End 00:05:46.040 / Frame 8651\n",
      "INFO:root:Scene 83: Start 00:05:46.040 / Frame 8651, End 00:05:47.800 / Frame 8695\n",
      "INFO:root:Scene 84: Start 00:05:47.800 / Frame 8695, End 00:05:51.840 / Frame 8796\n",
      "INFO:root:Scene 85: Start 00:05:51.840 / Frame 8796, End 00:05:53.880 / Frame 8847\n",
      "INFO:root:Scene 86: Start 00:05:53.880 / Frame 8847, End 00:05:57.000 / Frame 8925\n",
      "INFO:root:Scene 87: Start 00:05:57.000 / Frame 8925, End 00:05:59.200 / Frame 8980\n",
      "INFO:root:Scene 88: Start 00:05:59.200 / Frame 8980, End 00:06:01.880 / Frame 9047\n",
      "INFO:root:Scene 89: Start 00:06:01.880 / Frame 9047, End 00:06:10.520 / Frame 9263\n",
      "INFO:root:Scene 90: Start 00:06:10.520 / Frame 9263, End 00:06:11.680 / Frame 9292\n",
      "INFO:root:Scene 91: Start 00:06:11.680 / Frame 9292, End 00:06:19.600 / Frame 9490\n",
      "INFO:root:Scene 92: Start 00:06:19.600 / Frame 9490, End 00:06:22.760 / Frame 9569\n",
      "INFO:root:Scene 93: Start 00:06:22.760 / Frame 9569, End 00:06:28.000 / Frame 9700\n",
      "INFO:root:Scene 94: Start 00:06:28.000 / Frame 9700, End 00:06:30.640 / Frame 9766\n",
      "INFO:root:Scene 95: Start 00:06:30.640 / Frame 9766, End 00:06:40.280 / Frame 10007\n",
      "INFO:root:Scene 96: Start 00:06:40.280 / Frame 10007, End 00:06:43.400 / Frame 10085\n",
      "INFO:root:Scene 97: Start 00:06:43.400 / Frame 10085, End 00:06:52.440 / Frame 10311\n",
      "INFO:root:Scene 98: Start 00:06:52.440 / Frame 10311, End 00:06:55.560 / Frame 10389\n",
      "INFO:root:Scene 99: Start 00:06:55.560 / Frame 10389, End 00:06:56.360 / Frame 10409\n",
      "INFO:root:Scene 100: Start 00:06:56.360 / Frame 10409, End 00:06:58.680 / Frame 10467\n",
      "INFO:root:Scene 101: Start 00:06:58.680 / Frame 10467, End 00:07:00.720 / Frame 10518\n",
      "INFO:root:Scene 102: Start 00:07:00.720 / Frame 10518, End 00:07:02.240 / Frame 10556\n",
      "INFO:root:Scene 103: Start 00:07:02.240 / Frame 10556, End 00:07:07.040 / Frame 10676\n",
      "INFO:root:Scene 104: Start 00:07:07.040 / Frame 10676, End 00:07:09.720 / Frame 10743\n",
      "INFO:root:Scene 105: Start 00:07:09.720 / Frame 10743, End 00:07:12.040 / Frame 10801\n",
      "INFO:root:Scene 106: Start 00:07:12.040 / Frame 10801, End 00:07:21.680 / Frame 11042\n",
      "INFO:root:Scene 107: Start 00:07:21.680 / Frame 11042, End 00:07:25.080 / Frame 11127\n",
      "INFO:root:Scene 108: Start 00:07:25.080 / Frame 11127, End 00:07:29.200 / Frame 11230\n",
      "INFO:root:Scene 109: Start 00:07:29.200 / Frame 11230, End 00:07:36.840 / Frame 11421\n",
      "INFO:root:Scene 110: Start 00:07:36.840 / Frame 11421, End 00:07:39.840 / Frame 11496\n",
      "INFO:root:Scene 111: Start 00:07:39.840 / Frame 11496, End 00:07:46.720 / Frame 11668\n",
      "INFO:root:Scene 112: Start 00:07:46.720 / Frame 11668, End 00:07:49.480 / Frame 11737\n",
      "INFO:root:Scene 113: Start 00:07:49.480 / Frame 11737, End 00:07:55.400 / Frame 11885\n",
      "INFO:root:Scene 114: Start 00:07:55.400 / Frame 11885, End 00:08:13.640 / Frame 12341\n",
      "INFO:root:Scene 115: Start 00:08:13.640 / Frame 12341, End 00:08:16.960 / Frame 12424\n",
      "INFO:root:Scene 116: Start 00:08:16.960 / Frame 12424, End 00:08:21.880 / Frame 12547\n",
      "INFO:root:Scene 117: Start 00:08:21.880 / Frame 12547, End 00:08:24.840 / Frame 12621\n",
      "INFO:root:Scene 118: Start 00:08:24.840 / Frame 12621, End 00:08:36.600 / Frame 12915\n",
      "INFO:root:Scene 119: Start 00:08:36.600 / Frame 12915, End 00:08:38.240 / Frame 12956\n",
      "INFO:root:Scene 120: Start 00:08:38.240 / Frame 12956, End 00:08:41.640 / Frame 13041\n",
      "INFO:root:Scene 121: Start 00:08:41.640 / Frame 13041, End 00:08:46.240 / Frame 13156\n",
      "INFO:root:Scene 122: Start 00:08:46.240 / Frame 13156, End 00:08:52.960 / Frame 13324\n",
      "INFO:root:Scene 123: Start 00:08:52.960 / Frame 13324, End 00:08:58.840 / Frame 13471\n",
      "INFO:root:Scene 124: Start 00:08:58.840 / Frame 13471, End 00:09:03.960 / Frame 13599\n",
      "INFO:root:Scene 125: Start 00:09:03.960 / Frame 13599, End 00:09:05.000 / Frame 13625\n",
      "INFO:root:Scene 126: Start 00:09:05.000 / Frame 13625, End 00:09:08.240 / Frame 13706\n",
      "INFO:root:Scene 127: Start 00:09:08.240 / Frame 13706, End 00:09:11.520 / Frame 13788\n",
      "INFO:root:Scene 128: Start 00:09:11.520 / Frame 13788, End 00:09:21.000 / Frame 14025\n",
      "INFO:root:Scene 129: Start 00:09:21.000 / Frame 14025, End 00:09:23.280 / Frame 14082\n",
      "INFO:root:Scene 130: Start 00:09:23.280 / Frame 14082, End 00:09:26.440 / Frame 14161\n",
      "INFO:root:Scene 131: Start 00:09:26.440 / Frame 14161, End 00:09:27.960 / Frame 14199\n",
      "INFO:root:Scene 132: Start 00:09:27.960 / Frame 14199, End 00:09:37.160 / Frame 14429\n",
      "INFO:root:Scene 133: Start 00:09:37.160 / Frame 14429, End 00:09:40.680 / Frame 14517\n",
      "INFO:root:Scene 134: Start 00:09:40.680 / Frame 14517, End 00:09:43.400 / Frame 14585\n",
      "INFO:root:Scene 135: Start 00:09:43.400 / Frame 14585, End 00:09:48.840 / Frame 14721\n",
      "INFO:root:Scene 136: Start 00:09:48.840 / Frame 14721, End 00:09:49.800 / Frame 14745\n",
      "INFO:root:Scene 137: Start 00:09:49.800 / Frame 14745, End 00:09:56.920 / Frame 14923\n",
      "INFO:root:Scene 138: Start 00:09:56.920 / Frame 14923, End 00:09:58.840 / Frame 14971\n",
      "INFO:root:Scene 139: Start 00:09:58.840 / Frame 14971, End 00:10:01.880 / Frame 15047\n",
      "INFO:root:Scene 140: Start 00:10:01.880 / Frame 15047, End 00:10:03.120 / Frame 15078\n",
      "INFO:root:Scene 141: Start 00:10:03.120 / Frame 15078, End 00:10:05.240 / Frame 15131\n",
      "INFO:root:Scene 142: Start 00:10:05.240 / Frame 15131, End 00:10:09.760 / Frame 15244\n",
      "INFO:root:Scene 143: Start 00:10:09.760 / Frame 15244, End 00:10:15.600 / Frame 15390\n",
      "INFO:root:Scene 144: Start 00:10:15.600 / Frame 15390, End 00:10:22.240 / Frame 15556\n",
      "INFO:root:Scene 145: Start 00:10:22.240 / Frame 15556, End 00:10:30.800 / Frame 15770\n",
      "INFO:root:Scene 146: Start 00:10:30.800 / Frame 15770, End 00:10:33.840 / Frame 15846\n",
      "INFO:root:Scene 147: Start 00:10:33.840 / Frame 15846, End 00:10:42.600 / Frame 16065\n",
      "INFO:root:Scene 148: Start 00:10:42.600 / Frame 16065, End 00:10:44.240 / Frame 16106\n",
      "INFO:root:Scene 149: Start 00:10:44.240 / Frame 16106, End 00:10:46.440 / Frame 16161\n",
      "INFO:root:Scene 150: Start 00:10:46.440 / Frame 16161, End 00:10:47.160 / Frame 16179\n",
      "INFO:root:Scene 151: Start 00:10:47.160 / Frame 16179, End 00:10:52.320 / Frame 16308\n",
      "INFO:root:Scene 152: Start 00:10:52.320 / Frame 16308, End 00:10:53.600 / Frame 16340\n",
      "INFO:root:Scene 153: Start 00:10:53.600 / Frame 16340, End 00:10:54.960 / Frame 16374\n",
      "INFO:root:Scene 154: Start 00:10:54.960 / Frame 16374, End 00:10:56.240 / Frame 16406\n",
      "INFO:root:Scene 155: Start 00:10:56.240 / Frame 16406, End 00:11:02.360 / Frame 16559\n",
      "INFO:root:Scene 156: Start 00:11:02.360 / Frame 16559, End 00:11:06.960 / Frame 16674\n",
      "INFO:root:Scene 157: Start 00:11:06.960 / Frame 16674, End 00:11:08.800 / Frame 16720\n",
      "INFO:root:Scene 158: Start 00:11:08.800 / Frame 16720, End 00:11:20.000 / Frame 17000\n",
      "INFO:root:Scene 159: Start 00:11:20.000 / Frame 17000, End 00:11:20.360 / Frame 17009\n",
      "ERROR:root:Failed to extract frame 104: generator already executing\n",
      "ERROR:root:Failed to extract frame 209: generator already executing\n",
      "ERROR:root:Failed to extract frame 346: generator already executing\n",
      "ERROR:root:Failed to extract frame 483: generator already executing\n",
      "ERROR:root:Failed to extract frame 542: generator already executing\n",
      "ERROR:root:Failed to extract frame 601: generator already executing\n",
      "ERROR:root:Failed to extract frame 610: generator already executing\n",
      "ERROR:root:Failed to extract frame 620: generator already executing\n",
      "ERROR:root:Failed to extract frame 642: generator already executing\n",
      "ERROR:root:Failed to extract frame 665: generator already executing\n",
      "ERROR:root:Failed to extract frame 690: generator already executing\n",
      "ERROR:root:Failed to extract frame 715: generator already executing\n",
      "ERROR:root:Failed to extract frame 732: generator already executing\n",
      "ERROR:root:Failed to extract frame 749: generator already executing\n",
      "ERROR:root:Failed to extract frame 773: generator already executing\n",
      "ERROR:root:Failed to extract frame 797: generator already executing\n",
      "ERROR:root:Failed to extract frame 839: generator already executing\n",
      "ERROR:root:Failed to extract frame 881: generator already executing\n",
      "ERROR:root:Failed to extract frame 914: generator already executing\n",
      "ERROR:root:Failed to extract frame 948: generator already executing\n",
      "ERROR:root:Failed to extract frame 1003: generator already executing\n",
      "ERROR:root:Failed to extract frame 1058: generator already executing\n",
      "ERROR:root:Failed to extract frame 1066: generator already executing\n",
      "ERROR:root:Failed to extract frame 1074: generator already executing\n",
      "ERROR:root:Failed to extract frame 1162: generator already executing\n",
      "ERROR:root:Failed to extract frame 1251: generator already executing\n",
      "ERROR:root:Failed to extract frame 1306: generator already executing\n",
      "ERROR:root:Failed to extract frame 1362: generator already executing\n",
      "ERROR:root:Failed to extract frame 1411: generator already executing\n",
      "ERROR:root:Failed to extract frame 1460: generator already executing\n",
      "ERROR:root:Failed to extract frame 1587: generator already executing\n",
      "ERROR:root:Failed to extract frame 1714: generator already executing\n",
      "ERROR:root:Failed to extract frame 1738: generator already executing\n",
      "ERROR:root:Failed to extract frame 1762: generator already executing\n",
      "ERROR:root:Failed to extract frame 1812: generator already executing\n",
      "ERROR:root:Failed to extract frame 1863: generator already executing\n",
      "ERROR:root:Failed to extract frame 1907: generator already executing\n",
      "ERROR:root:Failed to extract frame 1951: generator already executing\n",
      "ERROR:root:Failed to extract frame 2000: generator already executing\n",
      "ERROR:root:Failed to extract frame 2049: generator already executing\n",
      "ERROR:root:Failed to extract frame 2129: generator already executing\n",
      "ERROR:root:Failed to extract frame 2210: generator already executing\n",
      "ERROR:root:Failed to extract frame 2286: generator already executing\n",
      "ERROR:root:Failed to extract frame 2362: generator already executing\n",
      "ERROR:root:Failed to extract frame 2429: generator already executing\n",
      "ERROR:root:Failed to extract frame 2497: generator already executing\n",
      "ERROR:root:Failed to extract frame 2517: generator already executing\n",
      "ERROR:root:Failed to extract frame 2538: generator already executing\n",
      "ERROR:root:Failed to extract frame 2622: generator already executing\n",
      "ERROR:root:Failed to extract frame 2707: generator already executing\n",
      "ERROR:root:Failed to extract frame 2747: generator already executing\n",
      "ERROR:root:Failed to extract frame 2787: generator already executing\n",
      "ERROR:root:Failed to extract frame 2868: generator already executing\n",
      "ERROR:root:Failed to extract frame 2950: generator already executing\n",
      "ERROR:root:Failed to extract frame 2995: generator already executing\n",
      "ERROR:root:Failed to extract frame 3041: generator already executing\n",
      "ERROR:root:Failed to extract frame 3126: generator already executing\n",
      "ERROR:root:Failed to extract frame 3211: generator already executing\n",
      "ERROR:root:Failed to extract frame 3237: generator already executing\n",
      "ERROR:root:Failed to extract frame 3264: generator already executing\n",
      "ERROR:root:Failed to extract frame 3342: generator already executing\n",
      "ERROR:root:Failed to extract frame 3421: generator already executing\n",
      "ERROR:root:Failed to extract frame 3465: generator already executing\n",
      "ERROR:root:Failed to extract frame 3509: generator already executing\n",
      "ERROR:root:Failed to extract frame 3548: generator already executing\n",
      "ERROR:root:Failed to extract frame 3588: generator already executing\n",
      "ERROR:root:Failed to extract frame 3647: generator already executing\n",
      "ERROR:root:Failed to extract frame 3707: generator already executing\n",
      "ERROR:root:Failed to extract frame 3780: generator already executing\n",
      "ERROR:root:Failed to extract frame 3853: generator already executing\n",
      "ERROR:root:Failed to extract frame 3897: generator already executing\n",
      "ERROR:root:Failed to extract frame 3941: generator already executing\n",
      "ERROR:root:Failed to extract frame 3974: generator already executing\n",
      "ERROR:root:Failed to extract frame 4007: generator already executing\n",
      "ERROR:root:Failed to extract frame 4098: generator already executing\n",
      "ERROR:root:Failed to extract frame 4189: generator already executing\n",
      "ERROR:root:Failed to extract frame 4220: generator already executing\n",
      "ERROR:root:Failed to extract frame 4252: generator already executing\n",
      "ERROR:root:Failed to extract frame 4316: generator already executing\n",
      "ERROR:root:Failed to extract frame 4381: generator already executing\n",
      "ERROR:root:Failed to extract frame 4430: generator already executing\n",
      "ERROR:root:Failed to extract frame 4480: generator already executing\n",
      "ERROR:root:Failed to extract frame 4503: generator already executing\n",
      "ERROR:root:Failed to extract frame 4527: generator already executing\n",
      "ERROR:root:Failed to extract frame 4559: generator already executing\n",
      "ERROR:root:Failed to extract frame 4592: generator already executing\n",
      "ERROR:root:Failed to extract frame 4613: generator already executing\n",
      "ERROR:root:Failed to extract frame 4634: generator already executing\n",
      "ERROR:root:Failed to extract frame 4652: generator already executing\n",
      "ERROR:root:Failed to extract frame 4670: generator already executing\n",
      "ERROR:root:Failed to extract frame 4707: generator already executing\n",
      "ERROR:root:Failed to extract frame 4744: generator already executing\n",
      "ERROR:root:Failed to extract frame 4763: generator already executing\n",
      "ERROR:root:Failed to extract frame 4782: generator already executing\n",
      "ERROR:root:Failed to extract frame 4802: generator already executing\n",
      "ERROR:root:Failed to extract frame 4822: generator already executing\n",
      "ERROR:root:Failed to extract frame 4844: generator already executing\n",
      "ERROR:root:Failed to extract frame 4866: generator already executing\n",
      "ERROR:root:Failed to extract frame 4914: generator already executing\n",
      "ERROR:root:Failed to extract frame 4963: generator already executing\n",
      "ERROR:root:Failed to extract frame 5101: generator already executing\n",
      "ERROR:root:Failed to extract frame 5239: generator already executing\n",
      "ERROR:root:Failed to extract frame 5265: generator already executing\n",
      "ERROR:root:Failed to extract frame 5291: generator already executing\n",
      "ERROR:root:Failed to extract frame 5317: generator already executing\n",
      "ERROR:root:Failed to extract frame 5344: generator already executing\n",
      "ERROR:root:Failed to extract frame 5364: generator already executing\n",
      "ERROR:root:Failed to extract frame 5384: generator already executing\n",
      "ERROR:root:Failed to extract frame 5460: generator already executing\n",
      "ERROR:root:Failed to extract frame 5536: generator already executing\n",
      "ERROR:root:Failed to extract frame 5553: generator already executing\n",
      "ERROR:root:Failed to extract frame 5571: generator already executing\n",
      "ERROR:root:Failed to extract frame 5596: generator already executing\n",
      "ERROR:root:Failed to extract frame 5622: generator already executing\n",
      "ERROR:root:Failed to extract frame 5687: generator already executing\n",
      "ERROR:root:Failed to extract frame 5752: generator already executing\n",
      "ERROR:root:Failed to extract frame 5777: generator already executing\n",
      "ERROR:root:Failed to extract frame 5802: generator already executing\n",
      "ERROR:root:Failed to extract frame 5863: generator already executing\n",
      "ERROR:root:Failed to extract frame 5925: generator already executing\n",
      "ERROR:root:Failed to extract frame 6014: generator already executing\n",
      "ERROR:root:Failed to extract frame 6103: generator already executing\n",
      "ERROR:root:Failed to extract frame 6137: generator already executing\n",
      "ERROR:root:Failed to extract frame 6172: generator already executing\n",
      "ERROR:root:Failed to extract frame 6196: generator already executing\n",
      "ERROR:root:Failed to extract frame 6221: generator already executing\n",
      "ERROR:root:Failed to extract frame 6271: generator already executing\n",
      "ERROR:root:Failed to extract frame 6322: generator already executing\n",
      "ERROR:root:Failed to extract frame 6365: generator already executing\n",
      "ERROR:root:Failed to extract frame 6409: generator already executing\n",
      "ERROR:root:Failed to extract frame 6442: generator already executing\n",
      "ERROR:root:Failed to extract frame 6475: generator already executing\n",
      "ERROR:root:Failed to extract frame 6525: generator already executing\n",
      "ERROR:root:Failed to extract frame 6576: generator already executing\n",
      "ERROR:root:Failed to extract frame 6606: generator already executing\n",
      "ERROR:root:Failed to extract frame 6636: generator already executing\n",
      "ERROR:root:Failed to extract frame 6707: generator already executing\n",
      "ERROR:root:Failed to extract frame 6778: generator already executing\n",
      "ERROR:root:Failed to extract frame 6862: generator already executing\n",
      "ERROR:root:Failed to extract frame 6947: generator already executing\n",
      "ERROR:root:Failed to extract frame 6997: generator already executing\n",
      "ERROR:root:Failed to extract frame 7047: generator already executing\n",
      "ERROR:root:Failed to extract frame 7089: generator already executing\n",
      "ERROR:root:Failed to extract frame 7131: generator already executing\n",
      "ERROR:root:Failed to extract frame 7186: generator already executing\n",
      "ERROR:root:Failed to extract frame 7241: generator already executing\n",
      "ERROR:root:Failed to extract frame 7306: generator already executing\n",
      "ERROR:root:Failed to extract frame 7371: generator already executing\n",
      "ERROR:root:Failed to extract frame 7413: generator already executing\n",
      "ERROR:root:Failed to extract frame 7456: generator already executing\n",
      "ERROR:root:Failed to extract frame 7485: generator already executing\n",
      "ERROR:root:Failed to extract frame 7515: generator already executing\n",
      "ERROR:root:Failed to extract frame 7715: generator already executing\n",
      "ERROR:root:Failed to extract frame 7915: generator already executing\n",
      "ERROR:root:Failed to extract frame 8014: generator already executing\n",
      "ERROR:root:Failed to extract frame 8113: generator already executing\n",
      "ERROR:root:Failed to extract frame 8136: generator already executing\n",
      "ERROR:root:Failed to extract frame 8159: generator already executing\n",
      "ERROR:root:Failed to extract frame 8265: generator already executing\n",
      "ERROR:root:Failed to extract frame 8372: generator already executing\n",
      "ERROR:root:Failed to extract frame 8497: generator already executing\n",
      "ERROR:root:Failed to extract frame 8623: generator already executing\n",
      "ERROR:root:Failed to extract frame 8637: generator already executing\n",
      "ERROR:root:Failed to extract frame 8651: generator already executing\n",
      "ERROR:root:Failed to extract frame 8673: generator already executing\n",
      "ERROR:root:Failed to extract frame 8695: generator already executing\n",
      "ERROR:root:Failed to extract frame 8745: generator already executing\n",
      "ERROR:root:Failed to extract frame 8796: generator already executing\n",
      "ERROR:root:Failed to extract frame 8821: generator already executing\n",
      "ERROR:root:Failed to extract frame 8847: generator already executing\n",
      "ERROR:root:Failed to extract frame 8886: generator already executing\n",
      "ERROR:root:Failed to extract frame 8925: generator already executing\n",
      "ERROR:root:Failed to extract frame 8952: generator already executing\n",
      "ERROR:root:Failed to extract frame 8980: generator already executing\n",
      "ERROR:root:Failed to extract frame 9013: generator already executing\n",
      "ERROR:root:Failed to extract frame 9047: generator already executing\n",
      "ERROR:root:Failed to extract frame 9155: generator already executing\n",
      "ERROR:root:Failed to extract frame 9263: generator already executing\n",
      "ERROR:root:Failed to extract frame 9277: generator already executing\n",
      "ERROR:root:Failed to extract frame 9292: generator already executing\n",
      "ERROR:root:Failed to extract frame 9391: generator already executing\n",
      "ERROR:root:Failed to extract frame 9490: generator already executing\n",
      "ERROR:root:Failed to extract frame 9529: generator already executing\n",
      "ERROR:root:Failed to extract frame 9569: generator already executing\n",
      "ERROR:root:Failed to extract frame 9634: generator already executing\n",
      "ERROR:root:Failed to extract frame 9700: generator already executing\n",
      "ERROR:root:Failed to extract frame 9733: generator already executing\n",
      "ERROR:root:Failed to extract frame 9766: generator already executing\n",
      "ERROR:root:Failed to extract frame 9886: generator already executing\n",
      "ERROR:root:Failed to extract frame 10007: generator already executing\n",
      "ERROR:root:Failed to extract frame 10046: generator already executing\n",
      "ERROR:root:Failed to extract frame 10085: generator already executing\n",
      "ERROR:root:Failed to extract frame 10198: generator already executing\n",
      "ERROR:root:Failed to extract frame 10311: generator already executing\n",
      "ERROR:root:Failed to extract frame 10350: generator already executing\n",
      "ERROR:root:Failed to extract frame 10389: generator already executing\n",
      "ERROR:root:Failed to extract frame 10399: generator already executing\n",
      "ERROR:root:Failed to extract frame 10409: generator already executing\n",
      "ERROR:root:Failed to extract frame 10438: generator already executing\n",
      "ERROR:root:Failed to extract frame 10467: generator already executing\n",
      "ERROR:root:Failed to extract frame 10492: generator already executing\n",
      "ERROR:root:Failed to extract frame 10518: generator already executing\n",
      "ERROR:root:Failed to extract frame 10537: generator already executing\n",
      "ERROR:root:Failed to extract frame 10556: generator already executing\n",
      "ERROR:root:Failed to extract frame 10616: generator already executing\n",
      "ERROR:root:Failed to extract frame 10676: generator already executing\n",
      "ERROR:root:Failed to extract frame 10709: generator already executing\n",
      "ERROR:root:Failed to extract frame 10743: generator already executing\n",
      "ERROR:root:Failed to extract frame 10772: generator already executing\n",
      "ERROR:root:Failed to extract frame 10801: generator already executing\n",
      "ERROR:root:Failed to extract frame 10921: generator already executing\n",
      "ERROR:root:Failed to extract frame 11042: generator already executing\n",
      "ERROR:root:Failed to extract frame 11084: generator already executing\n",
      "ERROR:root:Failed to extract frame 11127: generator already executing\n",
      "ERROR:root:Failed to extract frame 11178: generator already executing\n",
      "ERROR:root:Failed to extract frame 11230: generator already executing\n",
      "ERROR:root:Failed to extract frame 11325: generator already executing\n",
      "ERROR:root:Failed to extract frame 11421: generator already executing\n",
      "ERROR:root:Failed to extract frame 11458: generator already executing\n",
      "ERROR:root:Failed to extract frame 11496: generator already executing\n",
      "ERROR:root:Failed to extract frame 11582: generator already executing\n",
      "ERROR:root:Failed to extract frame 11668: generator already executing\n",
      "ERROR:root:Failed to extract frame 11702: generator already executing\n",
      "ERROR:root:Failed to extract frame 11737: generator already executing\n",
      "ERROR:root:Failed to extract frame 11811: generator already executing\n",
      "ERROR:root:Failed to extract frame 11885: generator already executing\n",
      "ERROR:root:Failed to extract frame 12113: generator already executing\n",
      "ERROR:root:Failed to extract frame 12341: generator already executing\n",
      "ERROR:root:Failed to extract frame 12382: generator already executing\n",
      "ERROR:root:Failed to extract frame 12424: generator already executing\n",
      "ERROR:root:Failed to extract frame 12485: generator already executing\n",
      "ERROR:root:Failed to extract frame 12547: generator already executing\n",
      "ERROR:root:Failed to extract frame 12584: generator already executing\n",
      "ERROR:root:Failed to extract frame 12621: generator already executing\n",
      "ERROR:root:Failed to extract frame 12768: generator already executing\n",
      "ERROR:root:Failed to extract frame 12915: generator already executing\n",
      "ERROR:root:Failed to extract frame 12935: generator already executing\n",
      "ERROR:root:Failed to extract frame 12956: generator already executing\n",
      "ERROR:root:Failed to extract frame 12998: generator already executing\n",
      "ERROR:root:Failed to extract frame 13041: generator already executing\n",
      "ERROR:root:Failed to extract frame 13098: generator already executing\n",
      "ERROR:root:Failed to extract frame 13156: generator already executing\n",
      "ERROR:root:Failed to extract frame 13240: generator already executing\n",
      "ERROR:root:Failed to extract frame 13324: generator already executing\n",
      "ERROR:root:Failed to extract frame 13397: generator already executing\n",
      "ERROR:root:Failed to extract frame 13471: generator already executing\n",
      "ERROR:root:Failed to extract frame 13535: generator already executing\n",
      "ERROR:root:Failed to extract frame 13599: generator already executing\n",
      "ERROR:root:Failed to extract frame 13612: generator already executing\n",
      "ERROR:root:Failed to extract frame 13625: generator already executing\n",
      "ERROR:root:Failed to extract frame 13665: generator already executing\n",
      "ERROR:root:Failed to extract frame 13706: generator already executing\n",
      "ERROR:root:Failed to extract frame 13747: generator already executing\n",
      "ERROR:root:Failed to extract frame 13788: generator already executing\n",
      "ERROR:root:Failed to extract frame 13906: generator already executing\n",
      "ERROR:root:Failed to extract frame 14025: generator already executing\n",
      "ERROR:root:Failed to extract frame 14053: generator already executing\n",
      "ERROR:root:Failed to extract frame 14082: generator already executing\n",
      "ERROR:root:Failed to extract frame 14121: generator already executing\n",
      "ERROR:root:Failed to extract frame 14161: generator already executing\n",
      "ERROR:root:Failed to extract frame 14180: generator already executing\n",
      "ERROR:root:Failed to extract frame 14199: generator already executing\n",
      "ERROR:root:Failed to extract frame 14314: generator already executing\n",
      "ERROR:root:Failed to extract frame 14429: generator already executing\n",
      "ERROR:root:Failed to extract frame 14473: generator already executing\n",
      "ERROR:root:Failed to extract frame 14517: generator already executing\n",
      "ERROR:root:Failed to extract frame 14551: generator already executing\n",
      "ERROR:root:Failed to extract frame 14585: generator already executing\n",
      "ERROR:root:Failed to extract frame 14653: generator already executing\n",
      "ERROR:root:Failed to extract frame 14721: generator already executing\n",
      "ERROR:root:Failed to extract frame 14733: generator already executing\n",
      "ERROR:root:Failed to extract frame 14745: generator already executing\n",
      "ERROR:root:Failed to extract frame 14834: generator already executing\n",
      "ERROR:root:Failed to extract frame 14923: generator already executing\n",
      "ERROR:root:Failed to extract frame 14947: generator already executing\n",
      "ERROR:root:Failed to extract frame 14971: generator already executing\n",
      "ERROR:root:Failed to extract frame 15009: generator already executing\n",
      "ERROR:root:Failed to extract frame 15047: generator already executing\n",
      "ERROR:root:Failed to extract frame 15062: generator already executing\n",
      "ERROR:root:Failed to extract frame 15078: generator already executing\n",
      "ERROR:root:Failed to extract frame 15104: generator already executing\n",
      "ERROR:root:Failed to extract frame 15131: generator already executing\n",
      "ERROR:root:Failed to extract frame 15187: generator already executing\n",
      "ERROR:root:Failed to extract frame 15244: generator already executing\n",
      "ERROR:root:Failed to extract frame 15317: generator already executing\n",
      "ERROR:root:Failed to extract frame 15390: generator already executing\n",
      "ERROR:root:Failed to extract frame 15473: generator already executing\n",
      "ERROR:root:Failed to extract frame 15556: generator already executing\n",
      "ERROR:root:Failed to extract frame 15663: generator already executing\n",
      "ERROR:root:Failed to extract frame 15770: generator already executing\n",
      "ERROR:root:Failed to extract frame 15808: generator already executing\n",
      "ERROR:root:Failed to extract frame 15846: generator already executing\n",
      "ERROR:root:Failed to extract frame 15955: generator already executing\n",
      "ERROR:root:Failed to extract frame 16065: generator already executing\n",
      "ERROR:root:Failed to extract frame 16085: generator already executing\n",
      "ERROR:root:Failed to extract frame 16106: generator already executing\n",
      "ERROR:root:Failed to extract frame 16133: generator already executing\n",
      "ERROR:root:Failed to extract frame 16161: generator already executing\n",
      "ERROR:root:Failed to extract frame 16170: generator already executing\n",
      "ERROR:root:Failed to extract frame 16179: generator already executing\n",
      "ERROR:root:Failed to extract frame 16243: generator already executing\n",
      "ERROR:root:Failed to extract frame 16308: generator already executing\n",
      "ERROR:root:Failed to extract frame 16324: generator already executing\n",
      "ERROR:root:Failed to extract frame 16340: generator already executing\n",
      "ERROR:root:Failed to extract frame 16357: generator already executing\n",
      "ERROR:root:Failed to extract frame 16374: generator already executing\n",
      "ERROR:root:Failed to extract frame 16390: generator already executing\n",
      "ERROR:root:Failed to extract frame 16406: generator already executing\n",
      "ERROR:root:Failed to extract frame 16482: generator already executing\n",
      "ERROR:root:Failed to extract frame 16559: generator already executing\n",
      "ERROR:root:Failed to extract frame 16616: generator already executing\n",
      "ERROR:root:Failed to extract frame 16674: generator already executing\n",
      "ERROR:root:Failed to extract frame 16697: generator already executing\n",
      "ERROR:root:Failed to extract frame 16720: generator already executing\n",
      "ERROR:root:Failed to extract frame 16860: generator already executing\n",
      "ERROR:root:Failed to extract frame 17000: generator already executing\n",
      "ERROR:root:Failed to extract frame 17004: generator already executing\n",
      "ERROR:root:Failed to extract frame 17009: generator already executing\n"
     ]
    },
    {
     "name": "stdout",
     "output_type": "stream",
     "text": [
      "Analysis for scene_3_frame_1_483.jpg saved as scene_3_analysis.json\n"
     ]
    },
    {
     "name": "stderr",
     "output_type": "stream",
     "text": []
    },
    {
     "name": "stdout",
     "output_type": "stream",
     "text": [
      "Analysis for scene_2_frame_1_209.jpg saved as scene_2_analysis.json\n"
     ]
    },
    {
     "name": "stderr",
     "output_type": "stream",
     "text": []
    },
    {
     "name": "stdout",
     "output_type": "stream",
     "text": [
      "Analysis for scene_4_frame_1_601.jpg saved as scene_4_analysis.json\n"
     ]
    },
    {
     "name": "stderr",
     "output_type": "stream",
     "text": []
    },
    {
     "name": "stdout",
     "output_type": "stream",
     "text": [
      "Analysis for scene_5_frame_1_620.jpg saved as scene_5_analysis.json\n"
     ]
    },
    {
     "name": "stderr",
     "output_type": "stream",
     "text": []
    },
    {
     "name": "stdout",
     "output_type": "stream",
     "text": [
      "Analysis for scene_1_frame_1_0.jpg saved as scene_1_analysis.json\n"
     ]
    },
    {
     "name": "stderr",
     "output_type": "stream",
     "text": []
    },
    {
     "name": "stdout",
     "output_type": "stream",
     "text": [
      "Analysis for scene_6_frame_1_665.jpg saved as scene_6_analysis.json\n"
     ]
    },
    {
     "name": "stderr",
     "output_type": "stream",
     "text": []
    },
    {
     "name": "stdout",
     "output_type": "stream",
     "text": [
      "Analysis for scene_7_frame_1_715.jpg saved as scene_7_analysis.json\n",
      "Analysis for scene_8_frame_1_749.jpg saved as scene_8_analysis.json\n"
     ]
    },
    {
     "name": "stderr",
     "output_type": "stream",
     "text": []
    },
    {
     "name": "stdout",
     "output_type": "stream",
     "text": [
      "Analysis for scene_9_frame_1_797.jpg saved as scene_9_analysis.json\n"
     ]
    },
    {
     "name": "stderr",
     "output_type": "stream",
     "text": []
    },
    {
     "name": "stdout",
     "output_type": "stream",
     "text": [
      "Analysis for scene_10_frame_1_881.jpg saved as scene_10_analysis.json\n"
     ]
    },
    {
     "name": "stderr",
     "output_type": "stream",
     "text": []
    },
    {
     "name": "stdout",
     "output_type": "stream",
     "text": [
      "Analysis for scene_13_frame_1_1074.jpg saved as scene_13_analysis.json\n"
     ]
    },
    {
     "name": "stderr",
     "output_type": "stream",
     "text": []
    },
    {
     "name": "stdout",
     "output_type": "stream",
     "text": [
      "Analysis for scene_11_frame_1_948.jpg saved as scene_11_analysis.json\n"
     ]
    },
    {
     "name": "stderr",
     "output_type": "stream",
     "text": []
    },
    {
     "name": "stdout",
     "output_type": "stream",
     "text": [
      "Analysis for scene_12_frame_1_1058.jpg saved as scene_12_analysis.json\n"
     ]
    },
    {
     "name": "stderr",
     "output_type": "stream",
     "text": []
    },
    {
     "name": "stdout",
     "output_type": "stream",
     "text": [
      "Analysis for scene_14_frame_1_1251.jpg saved as scene_14_analysis.json\n"
     ]
    },
    {
     "name": "stderr",
     "output_type": "stream",
     "text": []
    },
    {
     "name": "stdout",
     "output_type": "stream",
     "text": [
      "Analysis for scene_15_frame_1_1362.jpg saved as scene_15_analysis.json\n"
     ]
    },
    {
     "name": "stderr",
     "output_type": "stream",
     "text": []
    },
    {
     "name": "stdout",
     "output_type": "stream",
     "text": [
      "Analysis for scene_16_frame_1_1460.jpg saved as scene_16_analysis.json\n"
     ]
    },
    {
     "name": "stderr",
     "output_type": "stream",
     "text": []
    },
    {
     "name": "stdout",
     "output_type": "stream",
     "text": [
      "Analysis for scene_17_frame_1_1714.jpg saved as scene_17_analysis.json\n"
     ]
    },
    {
     "name": "stderr",
     "output_type": "stream",
     "text": []
    },
    {
     "name": "stdout",
     "output_type": "stream",
     "text": [
      "Analysis for scene_18_frame_1_1762.jpg saved as scene_18_analysis.json\n"
     ]
    },
    {
     "name": "stderr",
     "output_type": "stream",
     "text": []
    },
    {
     "name": "stdout",
     "output_type": "stream",
     "text": [
      "Analysis for scene_19_frame_1_1863.jpg saved as scene_19_analysis.json\n"
     ]
    },
    {
     "name": "stderr",
     "output_type": "stream",
     "text": []
    },
    {
     "name": "stdout",
     "output_type": "stream",
     "text": [
      "Analysis for scene_20_frame_1_1951.jpg saved as scene_20_analysis.json\n"
     ]
    },
    {
     "name": "stderr",
     "output_type": "stream",
     "text": []
    },
    {
     "name": "stdout",
     "output_type": "stream",
     "text": [
      "Analysis for scene_22_frame_1_2210.jpg saved as scene_22_analysis.json\n"
     ]
    },
    {
     "name": "stderr",
     "output_type": "stream",
     "text": []
    },
    {
     "name": "stdout",
     "output_type": "stream",
     "text": [
      "Analysis for scene_24_frame_1_2497.jpg saved as scene_24_analysis.json\n"
     ]
    },
    {
     "name": "stderr",
     "output_type": "stream",
     "text": []
    },
    {
     "name": "stdout",
     "output_type": "stream",
     "text": [
      "Analysis for scene_23_frame_1_2362.jpg saved as scene_23_analysis.json\n"
     ]
    },
    {
     "name": "stderr",
     "output_type": "stream",
     "text": []
    },
    {
     "name": "stdout",
     "output_type": "stream",
     "text": [
      "Analysis for scene_21_frame_1_2049.jpg saved as scene_21_analysis.json\n"
     ]
    },
    {
     "name": "stderr",
     "output_type": "stream",
     "text": []
    },
    {
     "name": "stdout",
     "output_type": "stream",
     "text": [
      "Analysis for scene_25_frame_1_2538.jpg saved as scene_25_analysis.json\n"
     ]
    },
    {
     "name": "stderr",
     "output_type": "stream",
     "text": []
    },
    {
     "name": "stdout",
     "output_type": "stream",
     "text": [
      "Analysis for scene_26_frame_1_2707.jpg saved as scene_26_analysis.json\n"
     ]
    },
    {
     "name": "stderr",
     "output_type": "stream",
     "text": []
    },
    {
     "name": "stdout",
     "output_type": "stream",
     "text": [
      "Analysis for scene_28_frame_1_2950.jpg saved as scene_28_analysis.json\n"
     ]
    },
    {
     "name": "stderr",
     "output_type": "stream",
     "text": []
    },
    {
     "name": "stdout",
     "output_type": "stream",
     "text": [
      "Analysis for scene_27_frame_1_2787.jpg saved as scene_27_analysis.json\n"
     ]
    },
    {
     "name": "stderr",
     "output_type": "stream",
     "text": []
    },
    {
     "name": "stdout",
     "output_type": "stream",
     "text": [
      "Analysis for scene_29_frame_1_3041.jpg saved as scene_29_analysis.json\n"
     ]
    },
    {
     "name": "stderr",
     "output_type": "stream",
     "text": []
    },
    {
     "name": "stdout",
     "output_type": "stream",
     "text": [
      "Analysis for scene_30_frame_1_3211.jpg saved as scene_30_analysis.json\n"
     ]
    },
    {
     "name": "stderr",
     "output_type": "stream",
     "text": []
    },
    {
     "name": "stdout",
     "output_type": "stream",
     "text": [
      "Analysis for scene_31_frame_1_3264.jpg saved as scene_31_analysis.json\n"
     ]
    },
    {
     "name": "stderr",
     "output_type": "stream",
     "text": []
    },
    {
     "name": "stdout",
     "output_type": "stream",
     "text": [
      "Analysis for scene_33_frame_1_3509.jpg saved as scene_33_analysis.json\n"
     ]
    },
    {
     "name": "stderr",
     "output_type": "stream",
     "text": []
    },
    {
     "name": "stdout",
     "output_type": "stream",
     "text": [
      "Analysis for scene_32_frame_1_3421.jpg saved as scene_32_analysis.json\n"
     ]
    },
    {
     "name": "stderr",
     "output_type": "stream",
     "text": []
    },
    {
     "name": "stdout",
     "output_type": "stream",
     "text": [
      "Analysis for scene_34_frame_1_3588.jpg saved as scene_34_analysis.json\n"
     ]
    },
    {
     "name": "stderr",
     "output_type": "stream",
     "text": []
    },
    {
     "name": "stdout",
     "output_type": "stream",
     "text": [
      "Analysis for scene_35_frame_1_3707.jpg saved as scene_35_analysis.json\n"
     ]
    },
    {
     "name": "stderr",
     "output_type": "stream",
     "text": []
    },
    {
     "name": "stdout",
     "output_type": "stream",
     "text": [
      "Analysis for scene_36_frame_1_3853.jpg saved as scene_36_analysis.json\n"
     ]
    },
    {
     "name": "stderr",
     "output_type": "stream",
     "text": []
    },
    {
     "name": "stdout",
     "output_type": "stream",
     "text": [
      "Analysis for scene_37_frame_1_3941.jpg saved as scene_37_analysis.json\n"
     ]
    },
    {
     "name": "stderr",
     "output_type": "stream",
     "text": []
    },
    {
     "name": "stdout",
     "output_type": "stream",
     "text": [
      "Analysis for scene_39_frame_1_4189.jpg saved as scene_39_analysis.json\n"
     ]
    },
    {
     "name": "stderr",
     "output_type": "stream",
     "text": []
    },
    {
     "name": "stdout",
     "output_type": "stream",
     "text": [
      "Analysis for scene_40_frame_1_4252.jpg saved as scene_40_analysis.json\n"
     ]
    },
    {
     "name": "stderr",
     "output_type": "stream",
     "text": []
    },
    {
     "name": "stdout",
     "output_type": "stream",
     "text": [
      "Analysis for scene_38_frame_1_4007.jpg saved as scene_38_analysis.json\n"
     ]
    },
    {
     "name": "stderr",
     "output_type": "stream",
     "text": []
    },
    {
     "name": "stdout",
     "output_type": "stream",
     "text": [
      "Analysis for scene_41_frame_1_4381.jpg saved as scene_41_analysis.json\n"
     ]
    },
    {
     "name": "stderr",
     "output_type": "stream",
     "text": []
    },
    {
     "name": "stdout",
     "output_type": "stream",
     "text": [
      "Analysis for scene_42_frame_1_4480.jpg saved as scene_42_analysis.json\n"
     ]
    },
    {
     "name": "stderr",
     "output_type": "stream",
     "text": []
    },
    {
     "name": "stdout",
     "output_type": "stream",
     "text": [
      "Analysis for scene_43_frame_1_4527.jpg saved as scene_43_analysis.json\n"
     ]
    },
    {
     "name": "stderr",
     "output_type": "stream",
     "text": []
    },
    {
     "name": "stdout",
     "output_type": "stream",
     "text": [
      "Analysis for scene_44_frame_1_4592.jpg saved as scene_44_analysis.json\n"
     ]
    },
    {
     "name": "stderr",
     "output_type": "stream",
     "text": []
    },
    {
     "name": "stdout",
     "output_type": "stream",
     "text": [
      "Analysis for scene_45_frame_1_4634.jpg saved as scene_45_analysis.json\n"
     ]
    },
    {
     "name": "stderr",
     "output_type": "stream",
     "text": []
    },
    {
     "name": "stdout",
     "output_type": "stream",
     "text": [
      "Analysis for scene_46_frame_1_4670.jpg saved as scene_46_analysis.json\n"
     ]
    },
    {
     "name": "stderr",
     "output_type": "stream",
     "text": []
    },
    {
     "name": "stdout",
     "output_type": "stream",
     "text": [
      "Analysis for scene_47_frame_1_4744.jpg saved as scene_47_analysis.json\n"
     ]
    },
    {
     "name": "stderr",
     "output_type": "stream",
     "text": []
    },
    {
     "name": "stdout",
     "output_type": "stream",
     "text": [
      "Analysis for scene_49_frame_1_4822.jpg saved as scene_49_analysis.json\n"
     ]
    },
    {
     "name": "stderr",
     "output_type": "stream",
     "text": []
    },
    {
     "name": "stdout",
     "output_type": "stream",
     "text": [
      "Analysis for scene_50_frame_1_4866.jpg saved as scene_50_analysis.json\n"
     ]
    },
    {
     "name": "stderr",
     "output_type": "stream",
     "text": []
    },
    {
     "name": "stdout",
     "output_type": "stream",
     "text": [
      "Analysis for scene_48_frame_1_4782.jpg saved as scene_48_analysis.json\n"
     ]
    },
    {
     "name": "stderr",
     "output_type": "stream",
     "text": []
    },
    {
     "name": "stdout",
     "output_type": "stream",
     "text": [
      "Analysis for scene_51_frame_1_4963.jpg saved as scene_51_analysis.json\n"
     ]
    },
    {
     "name": "stderr",
     "output_type": "stream",
     "text": []
    },
    {
     "name": "stdout",
     "output_type": "stream",
     "text": [
      "Analysis for scene_54_frame_1_5344.jpg saved as scene_54_analysis.json\n"
     ]
    },
    {
     "name": "stderr",
     "output_type": "stream",
     "text": []
    },
    {
     "name": "stdout",
     "output_type": "stream",
     "text": [
      "Analysis for scene_53_frame_1_5291.jpg saved as scene_53_analysis.json\n"
     ]
    },
    {
     "name": "stderr",
     "output_type": "stream",
     "text": []
    },
    {
     "name": "stdout",
     "output_type": "stream",
     "text": [
      "Analysis for scene_55_frame_1_5384.jpg saved as scene_55_analysis.json\n",
      "Rate limit hit, retrying in 1 seconds...\n"
     ]
    },
    {
     "name": "stderr",
     "output_type": "stream",
     "text": []
    },
    {
     "name": "stdout",
     "output_type": "stream",
     "text": [
      "Analysis for scene_52_frame_1_5239.jpg saved as scene_52_analysis.json\n"
     ]
    },
    {
     "name": "stderr",
     "output_type": "stream",
     "text": []
    },
    {
     "name": "stdout",
     "output_type": "stream",
     "text": [
      "Analysis for scene_56_frame_1_5536.jpg saved as scene_56_analysis.json\n"
     ]
    },
    {
     "name": "stderr",
     "output_type": "stream",
     "text": []
    },
    {
     "name": "stdout",
     "output_type": "stream",
     "text": [
      "Analysis for scene_57_frame_1_5571.jpg saved as scene_57_analysis.json\n"
     ]
    },
    {
     "name": "stderr",
     "output_type": "stream",
     "text": []
    },
    {
     "name": "stdout",
     "output_type": "stream",
     "text": [
      "Analysis for scene_59_frame_1_5752.jpg saved as scene_59_analysis.json\n"
     ]
    },
    {
     "name": "stderr",
     "output_type": "stream",
     "text": []
    },
    {
     "name": "stdout",
     "output_type": "stream",
     "text": [
      "Analysis for scene_58_frame_1_5622.jpg saved as scene_58_analysis.json\n"
     ]
    },
    {
     "name": "stderr",
     "output_type": "stream",
     "text": []
    },
    {
     "name": "stdout",
     "output_type": "stream",
     "text": [
      "Analysis for scene_60_frame_1_5802.jpg saved as scene_60_analysis.json\n"
     ]
    },
    {
     "name": "stderr",
     "output_type": "stream",
     "text": []
    },
    {
     "name": "stdout",
     "output_type": "stream",
     "text": [
      "Analysis for scene_62_frame_1_6103.jpg saved as scene_62_analysis.json\n"
     ]
    },
    {
     "name": "stderr",
     "output_type": "stream",
     "text": []
    },
    {
     "name": "stdout",
     "output_type": "stream",
     "text": [
      "Analysis for scene_63_frame_1_6172.jpg saved as scene_63_analysis.json\n"
     ]
    },
    {
     "name": "stderr",
     "output_type": "stream",
     "text": []
    },
    {
     "name": "stdout",
     "output_type": "stream",
     "text": [
      "Analysis for scene_61_frame_1_5925.jpg saved as scene_61_analysis.json\n"
     ]
    },
    {
     "name": "stderr",
     "output_type": "stream",
     "text": []
    },
    {
     "name": "stdout",
     "output_type": "stream",
     "text": [
      "Analysis for scene_64_frame_1_6221.jpg saved as scene_64_analysis.json\n"
     ]
    },
    {
     "name": "stderr",
     "output_type": "stream",
     "text": []
    },
    {
     "name": "stdout",
     "output_type": "stream",
     "text": [
      "Analysis for scene_65_frame_1_6322.jpg saved as scene_65_analysis.json\n"
     ]
    },
    {
     "name": "stderr",
     "output_type": "stream",
     "text": []
    },
    {
     "name": "stdout",
     "output_type": "stream",
     "text": [
      "Analysis for scene_66_frame_1_6409.jpg saved as scene_66_analysis.json\n"
     ]
    },
    {
     "name": "stderr",
     "output_type": "stream",
     "text": []
    },
    {
     "name": "stdout",
     "output_type": "stream",
     "text": [
      "Analysis for scene_67_frame_1_6475.jpg saved as scene_67_analysis.json\n"
     ]
    },
    {
     "name": "stderr",
     "output_type": "stream",
     "text": []
    },
    {
     "name": "stdout",
     "output_type": "stream",
     "text": [
      "Analysis for scene_68_frame_1_6576.jpg saved as scene_68_analysis.json\n"
     ]
    },
    {
     "name": "stderr",
     "output_type": "stream",
     "text": []
    },
    {
     "name": "stdout",
     "output_type": "stream",
     "text": [
      "Analysis for scene_72_frame_1_7047.jpg saved as scene_72_analysis.json\n"
     ]
    },
    {
     "name": "stderr",
     "output_type": "stream",
     "text": []
    },
    {
     "name": "stdout",
     "output_type": "stream",
     "text": [
      "Analysis for scene_70_frame_1_6778.jpg saved as scene_70_analysis.json\n"
     ]
    },
    {
     "name": "stderr",
     "output_type": "stream",
     "text": []
    },
    {
     "name": "stdout",
     "output_type": "stream",
     "text": [
      "Analysis for scene_73_frame_1_7131.jpg saved as scene_73_analysis.json\n",
      "Analysis for scene_71_frame_1_6947.jpg saved as scene_71_analysis.json\n"
     ]
    },
    {
     "name": "stderr",
     "output_type": "stream",
     "text": []
    },
    {
     "name": "stdout",
     "output_type": "stream",
     "text": [
      "Error decoding JSON from OpenAI response: Expecting ',' delimiter: line 90 column 34 (char 2910)\n",
      "Skipping scene_69_frame_1_6636.jpg due to invalid OpenAI response.\n"
     ]
    },
    {
     "name": "stderr",
     "output_type": "stream",
     "text": []
    },
    {
     "name": "stdout",
     "output_type": "stream",
     "text": [
      "Analysis for scene_76_frame_1_7456.jpg saved as scene_76_analysis.json\n"
     ]
    },
    {
     "name": "stderr",
     "output_type": "stream",
     "text": []
    },
    {
     "name": "stdout",
     "output_type": "stream",
     "text": [
      "Analysis for scene_75_frame_1_7371.jpg saved as scene_75_analysis.json\n"
     ]
    },
    {
     "name": "stderr",
     "output_type": "stream",
     "text": []
    },
    {
     "name": "stdout",
     "output_type": "stream",
     "text": [
      "Error decoding JSON from OpenAI response: Unterminated string starting at: line 84 column 19 (char 2983)\n",
      "Skipping scene_74_frame_1_7241.jpg due to invalid OpenAI response.\n"
     ]
    },
    {
     "name": "stderr",
     "output_type": "stream",
     "text": []
    },
    {
     "name": "stdout",
     "output_type": "stream",
     "text": [
      "Analysis for scene_77_frame_1_7515.jpg saved as scene_77_analysis.json\n"
     ]
    },
    {
     "name": "stderr",
     "output_type": "stream",
     "text": []
    },
    {
     "name": "stdout",
     "output_type": "stream",
     "text": [
      "Analysis for scene_79_frame_1_8113.jpg saved as scene_79_analysis.json\n"
     ]
    },
    {
     "name": "stderr",
     "output_type": "stream",
     "text": []
    },
    {
     "name": "stdout",
     "output_type": "stream",
     "text": [
      "Analysis for scene_82_frame_1_8623.jpg saved as scene_82_analysis.json\n"
     ]
    },
    {
     "name": "stderr",
     "output_type": "stream",
     "text": []
    },
    {
     "name": "stdout",
     "output_type": "stream",
     "text": [
      "Analysis for scene_78_frame_1_7915.jpg saved as scene_78_analysis.json\n"
     ]
    },
    {
     "name": "stderr",
     "output_type": "stream",
     "text": []
    },
    {
     "name": "stdout",
     "output_type": "stream",
     "text": [
      "Analysis for scene_81_frame_1_8372.jpg saved as scene_81_analysis.json\n"
     ]
    },
    {
     "name": "stderr",
     "output_type": "stream",
     "text": []
    },
    {
     "name": "stdout",
     "output_type": "stream",
     "text": [
      "Analysis for scene_80_frame_1_8159.jpg saved as scene_80_analysis.json\n"
     ]
    },
    {
     "name": "stderr",
     "output_type": "stream",
     "text": []
    },
    {
     "name": "stdout",
     "output_type": "stream",
     "text": [
      "Analysis for scene_84_frame_1_8695.jpg saved as scene_84_analysis.json\n"
     ]
    },
    {
     "name": "stderr",
     "output_type": "stream",
     "text": []
    },
    {
     "name": "stdout",
     "output_type": "stream",
     "text": [
      "Analysis for scene_83_frame_1_8651.jpg saved as scene_83_analysis.json\n"
     ]
    },
    {
     "name": "stderr",
     "output_type": "stream",
     "text": []
    },
    {
     "name": "stdout",
     "output_type": "stream",
     "text": [
      "Analysis for scene_86_frame_1_8847.jpg saved as scene_86_analysis.json\n"
     ]
    },
    {
     "name": "stderr",
     "output_type": "stream",
     "text": []
    },
    {
     "name": "stdout",
     "output_type": "stream",
     "text": [
      "Analysis for scene_85_frame_1_8796.jpg saved as scene_85_analysis.json\n",
      "Analysis for scene_87_frame_1_8925.jpg saved as scene_87_analysis.json\n"
     ]
    },
    {
     "name": "stderr",
     "output_type": "stream",
     "text": []
    },
    {
     "name": "stdout",
     "output_type": "stream",
     "text": [
      "Analysis for scene_88_frame_1_8980.jpg saved as scene_88_analysis.json\n"
     ]
    },
    {
     "name": "stderr",
     "output_type": "stream",
     "text": []
    },
    {
     "name": "stdout",
     "output_type": "stream",
     "text": [
      "Analysis for scene_91_frame_1_9292.jpg saved as scene_91_analysis.json\n"
     ]
    },
    {
     "name": "stderr",
     "output_type": "stream",
     "text": []
    },
    {
     "name": "stdout",
     "output_type": "stream",
     "text": [
      "Analysis for scene_89_frame_1_9047.jpg saved as scene_89_analysis.json\n"
     ]
    },
    {
     "name": "stderr",
     "output_type": "stream",
     "text": []
    },
    {
     "name": "stdout",
     "output_type": "stream",
     "text": [
      "Analysis for scene_90_frame_1_9263.jpg saved as scene_90_analysis.json\n"
     ]
    },
    {
     "name": "stderr",
     "output_type": "stream",
     "text": []
    },
    {
     "name": "stdout",
     "output_type": "stream",
     "text": [
      "Analysis for scene_92_frame_1_9490.jpg saved as scene_92_analysis.json\n"
     ]
    },
    {
     "name": "stderr",
     "output_type": "stream",
     "text": []
    },
    {
     "name": "stdout",
     "output_type": "stream",
     "text": [
      "Rate limit hit, retrying in 1 seconds...\n",
      "Rate limit hit, retrying in 1 seconds...\n",
      "Analysis for scene_93_frame_1_9569.jpg saved as scene_93_analysis.json\n",
      "Rate limit hit, retrying in 2 seconds...\n"
     ]
    },
    {
     "name": "stderr",
     "output_type": "stream",
     "text": []
    },
    {
     "name": "stdout",
     "output_type": "stream",
     "text": [
      "Analysis for scene_94_frame_1_9700.jpg saved as scene_94_analysis.json\n"
     ]
    },
    {
     "name": "stderr",
     "output_type": "stream",
     "text": []
    },
    {
     "name": "stdout",
     "output_type": "stream",
     "text": [
      "Analysis for scene_96_frame_1_10007.jpg saved as scene_96_analysis.json\n",
      "Rate limit hit, retrying in 1 seconds...\n"
     ]
    },
    {
     "name": "stderr",
     "output_type": "stream",
     "text": []
    },
    {
     "name": "stdout",
     "output_type": "stream",
     "text": [
      "Analysis for scene_98_frame_1_10311.jpg saved as scene_98_analysis.json\n"
     ]
    },
    {
     "name": "stderr",
     "output_type": "stream",
     "text": []
    },
    {
     "name": "stdout",
     "output_type": "stream",
     "text": [
      "Analysis for scene_99_frame_1_10389.jpg saved as scene_99_analysis.json\n"
     ]
    },
    {
     "name": "stderr",
     "output_type": "stream",
     "text": []
    },
    {
     "name": "stdout",
     "output_type": "stream",
     "text": [
      "Analysis for scene_97_frame_1_10085.jpg saved as scene_97_analysis.json\n"
     ]
    },
    {
     "name": "stderr",
     "output_type": "stream",
     "text": []
    },
    {
     "name": "stdout",
     "output_type": "stream",
     "text": [
      "Analysis for scene_95_frame_1_9766.jpg saved as scene_95_analysis.json\n"
     ]
    },
    {
     "name": "stderr",
     "output_type": "stream",
     "text": []
    },
    {
     "name": "stdout",
     "output_type": "stream",
     "text": [
      "Analysis for scene_101_frame_1_10467.jpg saved as scene_101_analysis.json\n"
     ]
    },
    {
     "name": "stderr",
     "output_type": "stream",
     "text": []
    },
    {
     "name": "stdout",
     "output_type": "stream",
     "text": [
      "Analysis for scene_100_frame_1_10409.jpg saved as scene_100_analysis.json\n"
     ]
    },
    {
     "name": "stderr",
     "output_type": "stream",
     "text": []
    },
    {
     "name": "stdout",
     "output_type": "stream",
     "text": [
      "Analysis for scene_104_frame_1_10676.jpg saved as scene_104_analysis.json\n"
     ]
    },
    {
     "name": "stderr",
     "output_type": "stream",
     "text": []
    },
    {
     "name": "stdout",
     "output_type": "stream",
     "text": [
      "Analysis for scene_103_frame_1_10556.jpg saved as scene_103_analysis.json\n"
     ]
    },
    {
     "name": "stderr",
     "output_type": "stream",
     "text": []
    },
    {
     "name": "stdout",
     "output_type": "stream",
     "text": [
      "Analysis for scene_102_frame_1_10518.jpg saved as scene_102_analysis.json\n"
     ]
    },
    {
     "name": "stderr",
     "output_type": "stream",
     "text": []
    },
    {
     "name": "stdout",
     "output_type": "stream",
     "text": [
      "Analysis for scene_107_frame_1_11042.jpg saved as scene_107_analysis.json\n"
     ]
    },
    {
     "name": "stderr",
     "output_type": "stream",
     "text": []
    },
    {
     "name": "stdout",
     "output_type": "stream",
     "text": [
      "Error decoding JSON from OpenAI response: Expecting value: line 89 column 18 (char 2924)\n",
      "Skipping scene_105_frame_1_10743.jpg due to invalid OpenAI response.\n",
      "Analysis for scene_106_frame_1_10801.jpg saved as scene_106_analysis.json\n"
     ]
    },
    {
     "name": "stderr",
     "output_type": "stream",
     "text": []
    },
    {
     "name": "stdout",
     "output_type": "stream",
     "text": [
      "Analysis for scene_108_frame_1_11127.jpg saved as scene_108_analysis.json\n"
     ]
    },
    {
     "name": "stderr",
     "output_type": "stream",
     "text": []
    },
    {
     "name": "stdout",
     "output_type": "stream",
     "text": [
      "Analysis for scene_109_frame_1_11230.jpg saved as scene_109_analysis.json\n"
     ]
    },
    {
     "name": "stderr",
     "output_type": "stream",
     "text": []
    },
    {
     "name": "stdout",
     "output_type": "stream",
     "text": [
      "Analysis for scene_110_frame_1_11421.jpg saved as scene_110_analysis.json\n"
     ]
    },
    {
     "name": "stderr",
     "output_type": "stream",
     "text": []
    },
    {
     "name": "stdout",
     "output_type": "stream",
     "text": [
      "Analysis for scene_115_frame_1_12341.jpg saved as scene_115_analysis.json\n"
     ]
    },
    {
     "name": "stderr",
     "output_type": "stream",
     "text": []
    },
    {
     "name": "stdout",
     "output_type": "stream",
     "text": [
      "Error decoding JSON from OpenAI response: Expecting value: line 89 column 31 (char 3644)\n",
      "Skipping scene_111_frame_1_11496.jpg due to invalid OpenAI response.\n"
     ]
    },
    {
     "name": "stderr",
     "output_type": "stream",
     "text": []
    },
    {
     "name": "stdout",
     "output_type": "stream",
     "text": [
      "Analysis for scene_112_frame_1_11668.jpg saved as scene_112_analysis.json\n"
     ]
    },
    {
     "name": "stderr",
     "output_type": "stream",
     "text": []
    },
    {
     "name": "stdout",
     "output_type": "stream",
     "text": [
      "Analysis for scene_113_frame_1_11737.jpg saved as scene_113_analysis.json\n"
     ]
    },
    {
     "name": "stderr",
     "output_type": "stream",
     "text": []
    },
    {
     "name": "stdout",
     "output_type": "stream",
     "text": [
      "Error decoding JSON from OpenAI response: Unterminated string starting at: line 86 column 43 (char 3645)\n",
      "Skipping scene_114_frame_1_11885.jpg due to invalid OpenAI response.\n"
     ]
    },
    {
     "name": "stderr",
     "output_type": "stream",
     "text": []
    },
    {
     "name": "stdout",
     "output_type": "stream",
     "text": [
      "Analysis for scene_117_frame_1_12547.jpg saved as scene_117_analysis.json\n"
     ]
    },
    {
     "name": "stderr",
     "output_type": "stream",
     "text": []
    },
    {
     "name": "stdout",
     "output_type": "stream",
     "text": [
      "Error decoding JSON from OpenAI response: Expecting value: line 85 column 32 (char 2936)\n",
      "Skipping scene_116_frame_1_12424.jpg due to invalid OpenAI response.\n"
     ]
    },
    {
     "name": "stderr",
     "output_type": "stream",
     "text": []
    },
    {
     "name": "stdout",
     "output_type": "stream",
     "text": [
      "Analysis for scene_119_frame_1_12915.jpg saved as scene_119_analysis.json\n"
     ]
    },
    {
     "name": "stderr",
     "output_type": "stream",
     "text": []
    },
    {
     "name": "stdout",
     "output_type": "stream",
     "text": [
      "Analysis for scene_118_frame_1_12621.jpg saved as scene_118_analysis.json\n"
     ]
    },
    {
     "name": "stderr",
     "output_type": "stream",
     "text": []
    },
    {
     "name": "stdout",
     "output_type": "stream",
     "text": [
      "Analysis for scene_120_frame_1_12956.jpg saved as scene_120_analysis.json\n"
     ]
    },
    {
     "name": "stderr",
     "output_type": "stream",
     "text": []
    },
    {
     "name": "stdout",
     "output_type": "stream",
     "text": [
      "Analysis for scene_121_frame_1_13041.jpg saved as scene_121_analysis.json\n"
     ]
    },
    {
     "name": "stderr",
     "output_type": "stream",
     "text": []
    },
    {
     "name": "stdout",
     "output_type": "stream",
     "text": [
      "Analysis for scene_124_frame_1_13471.jpg saved as scene_124_analysis.json\n"
     ]
    },
    {
     "name": "stderr",
     "output_type": "stream",
     "text": []
    },
    {
     "name": "stdout",
     "output_type": "stream",
     "text": [
      "Analysis for scene_123_frame_1_13324.jpg saved as scene_123_analysis.json\n"
     ]
    },
    {
     "name": "stderr",
     "output_type": "stream",
     "text": []
    },
    {
     "name": "stdout",
     "output_type": "stream",
     "text": [
      "Analysis for scene_122_frame_1_13156.jpg saved as scene_122_analysis.json\n"
     ]
    },
    {
     "name": "stderr",
     "output_type": "stream",
     "text": []
    },
    {
     "name": "stdout",
     "output_type": "stream",
     "text": [
      "Analysis for scene_125_frame_1_13599.jpg saved as scene_125_analysis.json\n"
     ]
    },
    {
     "name": "stderr",
     "output_type": "stream",
     "text": []
    },
    {
     "name": "stdout",
     "output_type": "stream",
     "text": [
      "Analysis for scene_128_frame_1_13788.jpg saved as scene_128_analysis.json\n"
     ]
    },
    {
     "name": "stderr",
     "output_type": "stream",
     "text": []
    },
    {
     "name": "stdout",
     "output_type": "stream",
     "text": [
      "Analysis for scene_127_frame_1_13706.jpg saved as scene_127_analysis.json\n"
     ]
    },
    {
     "name": "stderr",
     "output_type": "stream",
     "text": []
    },
    {
     "name": "stdout",
     "output_type": "stream",
     "text": [
      "Analysis for scene_130_frame_1_14082.jpg saved as scene_130_analysis.json\n"
     ]
    },
    {
     "name": "stderr",
     "output_type": "stream",
     "text": []
    },
    {
     "name": "stdout",
     "output_type": "stream",
     "text": [
      "Analysis for scene_126_frame_1_13625.jpg saved as scene_126_analysis.json\n"
     ]
    },
    {
     "name": "stderr",
     "output_type": "stream",
     "text": []
    },
    {
     "name": "stdout",
     "output_type": "stream",
     "text": [
      "Analysis for scene_129_frame_1_14025.jpg saved as scene_129_analysis.json\n"
     ]
    },
    {
     "name": "stderr",
     "output_type": "stream",
     "text": []
    },
    {
     "name": "stdout",
     "output_type": "stream",
     "text": [
      "Analysis for scene_131_frame_1_14161.jpg saved as scene_131_analysis.json\n"
     ]
    },
    {
     "name": "stderr",
     "output_type": "stream",
     "text": []
    },
    {
     "name": "stdout",
     "output_type": "stream",
     "text": [
      "Analysis for scene_133_frame_1_14429.jpg saved as scene_133_analysis.json\n"
     ]
    },
    {
     "name": "stderr",
     "output_type": "stream",
     "text": []
    },
    {
     "name": "stdout",
     "output_type": "stream",
     "text": [
      "Analysis for scene_135_frame_1_14585.jpg saved as scene_135_analysis.json\n"
     ]
    },
    {
     "name": "stderr",
     "output_type": "stream",
     "text": []
    },
    {
     "name": "stdout",
     "output_type": "stream",
     "text": [
      "Analysis for scene_132_frame_1_14199.jpg saved as scene_132_analysis.json\n",
      "Analysis for scene_134_frame_1_14517.jpg saved as scene_134_analysis.json\n"
     ]
    },
    {
     "name": "stderr",
     "output_type": "stream",
     "text": []
    },
    {
     "name": "stdout",
     "output_type": "stream",
     "text": [
      "Analysis for scene_136_frame_1_14721.jpg saved as scene_136_analysis.json\n"
     ]
    },
    {
     "name": "stderr",
     "output_type": "stream",
     "text": []
    },
    {
     "name": "stdout",
     "output_type": "stream",
     "text": [
      "Analysis for scene_139_frame_1_14971.jpg saved as scene_139_analysis.json\n"
     ]
    },
    {
     "name": "stderr",
     "output_type": "stream",
     "text": []
    },
    {
     "name": "stdout",
     "output_type": "stream",
     "text": [
      "Analysis for scene_137_frame_1_14745.jpg saved as scene_137_analysis.json\n"
     ]
    },
    {
     "name": "stderr",
     "output_type": "stream",
     "text": []
    },
    {
     "name": "stdout",
     "output_type": "stream",
     "text": [
      "Analysis for scene_140_frame_1_15047.jpg saved as scene_140_analysis.json\n"
     ]
    },
    {
     "name": "stderr",
     "output_type": "stream",
     "text": []
    },
    {
     "name": "stdout",
     "output_type": "stream",
     "text": [
      "Analysis for scene_141_frame_1_15078.jpg saved as scene_141_analysis.json\n"
     ]
    },
    {
     "name": "stderr",
     "output_type": "stream",
     "text": []
    },
    {
     "name": "stdout",
     "output_type": "stream",
     "text": [
      "Analysis for scene_138_frame_1_14923.jpg saved as scene_138_analysis.json\n"
     ]
    },
    {
     "name": "stderr",
     "output_type": "stream",
     "text": []
    },
    {
     "name": "stdout",
     "output_type": "stream",
     "text": [
      "Analysis for scene_143_frame_1_15244.jpg saved as scene_143_analysis.json\n"
     ]
    },
    {
     "name": "stderr",
     "output_type": "stream",
     "text": []
    },
    {
     "name": "stdout",
     "output_type": "stream",
     "text": [
      "Analysis for scene_142_frame_1_15131.jpg saved as scene_142_analysis.json\n"
     ]
    },
    {
     "name": "stderr",
     "output_type": "stream",
     "text": []
    },
    {
     "name": "stdout",
     "output_type": "stream",
     "text": [
      "Analysis for scene_145_frame_1_15556.jpg saved as scene_145_analysis.json\n"
     ]
    },
    {
     "name": "stderr",
     "output_type": "stream",
     "text": []
    },
    {
     "name": "stdout",
     "output_type": "stream",
     "text": [
      "Analysis for scene_144_frame_1_15390.jpg saved as scene_144_analysis.json\n"
     ]
    },
    {
     "name": "stderr",
     "output_type": "stream",
     "text": []
    },
    {
     "name": "stdout",
     "output_type": "stream",
     "text": [
      "Analysis for scene_146_frame_1_15770.jpg saved as scene_146_analysis.json\n"
     ]
    },
    {
     "name": "stderr",
     "output_type": "stream",
     "text": []
    },
    {
     "name": "stdout",
     "output_type": "stream",
     "text": [
      "Analysis for scene_148_frame_1_16065.jpg saved as scene_148_analysis.json\n"
     ]
    },
    {
     "name": "stderr",
     "output_type": "stream",
     "text": []
    },
    {
     "name": "stdout",
     "output_type": "stream",
     "text": [
      "Error decoding JSON from OpenAI response: Unterminated string starting at: line 87 column 26 (char 2862)\n",
      "Skipping scene_147_frame_1_15846.jpg due to invalid OpenAI response.\n"
     ]
    },
    {
     "name": "stderr",
     "output_type": "stream",
     "text": []
    },
    {
     "name": "stdout",
     "output_type": "stream",
     "text": [
      "Analysis for scene_151_frame_1_16179.jpg saved as scene_151_analysis.json\n"
     ]
    },
    {
     "name": "stderr",
     "output_type": "stream",
     "text": []
    },
    {
     "name": "stdout",
     "output_type": "stream",
     "text": [
      "Analysis for scene_149_frame_1_16106.jpg saved as scene_149_analysis.json\n"
     ]
    },
    {
     "name": "stderr",
     "output_type": "stream",
     "text": []
    },
    {
     "name": "stdout",
     "output_type": "stream",
     "text": [
      "Analysis for scene_153_frame_1_16340.jpg saved as scene_153_analysis.json\n",
      "Analysis for scene_150_frame_1_16161.jpg saved as scene_150_analysis.json\n"
     ]
    },
    {
     "name": "stderr",
     "output_type": "stream",
     "text": []
    },
    {
     "name": "stdout",
     "output_type": "stream",
     "text": [
      "Analysis for scene_152_frame_1_16308.jpg saved as scene_152_analysis.json\n"
     ]
    },
    {
     "name": "stderr",
     "output_type": "stream",
     "text": []
    },
    {
     "name": "stdout",
     "output_type": "stream",
     "text": [
      "Analysis for scene_156_frame_1_16559.jpg saved as scene_156_analysis.json\n"
     ]
    },
    {
     "name": "stderr",
     "output_type": "stream",
     "text": []
    },
    {
     "name": "stdout",
     "output_type": "stream",
     "text": [
      "Analysis for scene_155_frame_1_16406.jpg saved as scene_155_analysis.json\n"
     ]
    },
    {
     "name": "stderr",
     "output_type": "stream",
     "text": []
    },
    {
     "name": "stdout",
     "output_type": "stream",
     "text": [
      "Analysis for scene_157_frame_1_16674.jpg saved as scene_157_analysis.json\n"
     ]
    },
    {
     "name": "stderr",
     "output_type": "stream",
     "text": []
    },
    {
     "name": "stdout",
     "output_type": "stream",
     "text": [
      "Analysis for scene_154_frame_1_16374.jpg saved as scene_154_analysis.json\n"
     ]
    },
    {
     "name": "stderr",
     "output_type": "stream",
     "text": []
    },
    {
     "name": "stdout",
     "output_type": "stream",
     "text": [
      "Analysis for scene_159_frame_1_17000.jpg saved as scene_159_analysis.json\n"
     ]
    },
    {
     "name": "stderr",
     "output_type": "stream",
     "text": [
      "Processing Scenes: 100%|██████████| 159/159 [05:13<00:00,  1.97s/scene]\n",
      "Processing Videos: 100%|██████████| 2/2 [18:14<00:00, 547.18s/video]"
     ]
    },
    {
     "name": "stdout",
     "output_type": "stream",
     "text": [
      "Error decoding JSON from OpenAI response: Expecting property name enclosed in double quotes: line 44 column 5 (char 1285)\n",
      "Skipping scene_158_frame_1_16720.jpg due to invalid OpenAI response.\n",
      "Finished processing video: Bananas_in_pyjamas.mp4\n"
     ]
    },
    {
     "name": "stderr",
     "output_type": "stream",
     "text": [
      "\n"
     ]
    }
   ],
   "source": [
    "import os\n",
    "import base64\n",
    "import aiohttp\n",
    "import asyncio\n",
    "import json\n",
    "from PIL import Image\n",
    "import numpy as np\n",
    "import colorsys\n",
    "import aiofiles\n",
    "import nest_asyncio\n",
    "from tqdm.asyncio import tqdm\n",
    "\n",
    "# Apply nest_asyncio to handle the running event loop\n",
    "nest_asyncio.apply()\n",
    "\n",
    "# Concurrency limit\n",
    "semaphore = asyncio.Semaphore(5)\n",
    "\n",
    "# Function to encode the image asynchronously\n",
    "async def encode_image(image_path):\n",
    "    async with aiofiles.open(image_path, \"rb\") as image_file:\n",
    "        content = await image_file.read()\n",
    "        return base64.b64encode(content).decode('utf-8')\n",
    "\n",
    "# Function to determine the specific primary or special color category\n",
    "def get_color_category(color):\n",
    "    r, g, b = [x / 255.0 for x in color]\n",
    "    h, l, s = colorsys.rgb_to_hls(r, g, b)\n",
    "\n",
    "    primary_hues = {\n",
    "        \"red\": (0.0, 0.1),  \n",
    "        \"yellow\": (0.1, 0.18),\n",
    "        \"green\": (0.25, 0.4),\n",
    "        \"blue\": (0.55, 0.75),\n",
    "    }\n",
    "\n",
    "    for color_name, hue_range in primary_hues.items():\n",
    "        if hue_range[0] <= h <= hue_range[1]:\n",
    "            return color_name\n",
    "\n",
    "    if (l >= 0.9 and s <= 0.1):\n",
    "        return \"white\"\n",
    "    if (l <= 0.1 and s <= 0.1):\n",
    "        return \"black\"\n",
    "\n",
    "    return \"non-primary\"\n",
    "\n",
    "# Function to analyze image colors and return as a dictionary\n",
    "def analyze_image_colors(image_path):\n",
    "    image = Image.open(image_path)\n",
    "    image = image.convert('RGB')\n",
    "    data = np.array(image)\n",
    "\n",
    "    unique_colors, counts = np.unique(data.reshape(-1, data.shape[2]), axis=0, return_counts=True)\n",
    "    total_pixels = int(counts.sum())\n",
    "\n",
    "    color_counts = {\n",
    "        \"Red\": 0,\n",
    "        \"Yellow\": 0,\n",
    "        \"Green\": 0,\n",
    "        \"Blue\": 0,\n",
    "        \"White\": 0,\n",
    "        \"Black\": 0,\n",
    "        \"Non-primary\": 0\n",
    "    }\n",
    "\n",
    "    for color, count in zip(unique_colors, counts):\n",
    "        category = get_color_category(tuple(color))\n",
    "        color_counts[category.capitalize()] += int(count)\n",
    "\n",
    "    color_percentages = {color: (count / total_pixels) * 100 for color, count in color_counts.items()}\n",
    "    primary_total = color_counts[\"Red\"] + color_counts[\"Yellow\"] + color_counts[\"Blue\"]\n",
    "    color_dominance = \"Primary colors\" if primary_total > color_counts[\"Non-primary\"] else \"Non-primary colors\"\n",
    "\n",
    "    color_analysis_result = {\n",
    "        \"Color Analysis\": {\n",
    "            \"Colors Found\": {\n",
    "                color: {\n",
    "                    \"Pixel Count\": count,\n",
    "                    \"Percentage\": f\"{color_percentages[color]:.2f}%\"\n",
    "                } for color, count in color_counts.items()\n",
    "            },\n",
    "            \"Dominance\": color_dominance\n",
    "        }\n",
    "    }\n",
    "    \n",
    "    return color_analysis_result\n",
    "\n",
    "# Asynchronous function to send the image to OpenAI API with retries\n",
    "# Asynchronous function to send the image to OpenAI API with retries\n",
    "async def send_image_to_openai(image_path, base64_image, retries=3):\n",
    "    api_key = os.getenv(\"OPENAI_API_KEY\")\n",
    "    headers = {\n",
    "        \"Content-Type\": \"application/json\",\n",
    "        \"Authorization\": f\"Bearer {api_key}\"\n",
    "    }\n",
    "\n",
    "    # Payload containing your specific prompt\n",
    "    payload = {\n",
    "        \"model\": \"gpt-4o-mini\",\n",
    "        \"messages\": [\n",
    "            {\n",
    "                \"role\": \"user\",\n",
    "                \"content\": [\n",
    "                    {\n",
    "                        \"type\": \"text\",\n",
    "                        \"text\": \"\"\"\n",
    "                        Analyze the following image and provide a detailed description in the format of JSON only. Ensure the output is strictly in JSON format without any additional text or code block formatting. The JSON should include the following standardized labels:\n",
    "\n",
    "                        1. **Image Analysis**: The root dictionary containing all analysis data.\n",
    "                        \n",
    "                        2. **Suitability**:\n",
    "                            - \"Nudity\": Boolean indicating the presence of nudity.\n",
    "                            - \"Obscene Gestures\": Boolean indicating the presence of obscene gestures.\n",
    "                            - \"Alcohol\": Boolean indicating the presence of alcohol.\n",
    "                            - \"Drugs\": Boolean indicating the presence of drugs.\n",
    "                            - \"Addictions\": Boolean indicating the presence of addictions.\n",
    "\n",
    "                        3. **Objects**:\n",
    "                            - \"Total Objects Identified\": Integer representing the total number of objects identified.\n",
    "                            - \"Average Features Per Object\": Float representing the average number of features per object.\n",
    "                            - \"Objects Details\": Dictionary containing details of each object, where each object is labeled as \"Object_1\", \"Object_2\", etc., with the following structure:\n",
    "                                - \"Name\": The name of the object.\n",
    "                                - \"Color\": The color of the object.\n",
    "                                - \"Features\": List of features of the object.\n",
    "                                - \"Total Features\": Integer representing the number of features for the object.\n",
    "\n",
    "                        4. **Place**:\n",
    "                            - \"Certainty\": String indicating the certainty level of the identified place.\n",
    "                            - \"Fantasy/Adventurous Place\": Boolean (0-1) indicating whether the place is classified as a fantasy/adventurous place or not.\n",
    "                            - \"Explanation\": Detailed explanation of why the place is classified as fantasy/adventurous or not. Fantasy places are those that do not exist in reality, and adventurous places are defined as those involving clear statements of traveling to space or another country.\n",
    "\n",
    "                        5. **Characters**:\n",
    "                            - \"Total Characters Identified\": Integer representing the total number of characters identified.\n",
    "                            - \"Average Features Per Character\": Float representing the average number of features per character.\n",
    "                            - \"Character Details\": Dictionary containing details of each character, where each character is labeled as \"Character_1\", \"Character_2\", etc., with the following structure:\n",
    "                                - \"Name\": The name of the character, if identifiable, or \"Unknown\" otherwise.\n",
    "                                - \"Human or Non-Human\": 0-1 output indicating if the character appears human (1) or non-human (0). Anthropomorphized characters are not considered humans.\n",
    "                                - \"Physical Features\": List of physical features of the character.\n",
    "                                - \"Explanation\": Explanation for why the character is classified as human or non-human, and why these physical features are inferred.\n",
    "                                - \"Age\": Expected age range of the character (a single number).\n",
    "                            **Note**: If the \"character\" consists of only a part of a body (such as a hand, leg, or face without enough distinguishing features to identify it as a complete character), do not count it as a \"character.\"\n",
    "\n",
    "                        Ensure that the structure of the JSON output strictly adheres to these standardized labels.\n",
    "                        \"\"\"\n",
    "                    },\n",
    "                    {\n",
    "                        \"type\": \"image_url\",\n",
    "                        \"image_url\": {\n",
    "                            \"url\": f\"data:image/png;base64,{base64_image}\"\n",
    "                        }\n",
    "                    }\n",
    "                ]\n",
    "            }\n",
    "        ],\n",
    "        \"max_tokens\": 750\n",
    "    }\n",
    "\n",
    "    for attempt in range(retries):\n",
    "        async with aiohttp.ClientSession() as session:\n",
    "            async with session.post(\"https://api.openai.com/v1/chat/completions\", headers=headers, json=payload) as response:\n",
    "                if response.status == 429:\n",
    "                    # Rate limit hit, wait and retry\n",
    "                    wait_time = 2 ** attempt\n",
    "                    print(f\"Rate limit hit, retrying in {wait_time} seconds...\")\n",
    "                    await asyncio.sleep(wait_time)\n",
    "                    continue\n",
    "                elif response.status == 200:\n",
    "                    content = await response.json()\n",
    "\n",
    "                    # Safely check if 'choices' exists and if the content is JSON formatted\n",
    "                    if 'choices' in content:\n",
    "                        message_content = content['choices'][0].get('message', {}).get('content', '').strip()\n",
    "                        try:\n",
    "                            # Try to parse the JSON content\n",
    "                            content_dict = json.loads(message_content)\n",
    "                            return content_dict\n",
    "                        except json.JSONDecodeError as e:\n",
    "                            print(f\"Error decoding JSON from OpenAI response: {e}\")\n",
    "                            return None\n",
    "                    else:\n",
    "                        print(\"Unexpected response format from OpenAI API.\")\n",
    "                        return None\n",
    "                else:\n",
    "                    print(f\"Request failed with status code: {response.status}\")\n",
    "                    return None\n",
    "    return None  # Return None after all retries\n",
    "\n",
    "\n",
    "# Asynchronous function to process scenes from the folder with progress bar\n",
    "async def process_scenes_output(output_dir, json_output_dir):\n",
    "    # Create the output directory for JSON files if it doesn't exist\n",
    "    os.makedirs(json_output_dir, exist_ok=True)\n",
    "\n",
    "    # List all the files in the output directory that end with '.jpg'\n",
    "    scenes = sorted([f for f in os.listdir(output_dir) if f.endswith('.jpg')], key=extract_scene_number)\n",
    "\n",
    "    # Progress bar for scenes\n",
    "    with tqdm(total=len(scenes), desc=\"Processing Scenes\", unit=\"scene\") as pbar:\n",
    "        tasks = []\n",
    "        for i, scene in enumerate(scenes):\n",
    "            tasks.append(process_single_scene(i, scene, output_dir, json_output_dir, pbar))\n",
    "\n",
    "        # Run all tasks concurrently\n",
    "        await asyncio.gather(*tasks)\n",
    "\n",
    "# Asynchronous function to process a single scene with concurrency control\n",
    "async def process_single_scene(i, scene, output_dir, json_output_dir, pbar):\n",
    "    async with semaphore:  # Limit concurrent execution\n",
    "        scene_path = os.path.join(output_dir, scene)\n",
    "\n",
    "        # Encode image in base64\n",
    "        base64_image = await encode_image(scene_path)\n",
    "\n",
    "        # Perform color analysis\n",
    "        color_analysis_result = analyze_image_colors(scene_path)\n",
    "\n",
    "        # Send image to OpenAI for further analysis\n",
    "        openai_response = await send_image_to_openai(scene_path, base64_image)\n",
    "\n",
    "        # Check if openai_response is valid (not None or empty)\n",
    "        if not openai_response:\n",
    "            print(f\"Skipping {scene} due to invalid OpenAI response.\")\n",
    "            pbar.update(1)\n",
    "            return\n",
    "\n",
    "        # Combine both results, and include the reference to the image file\n",
    "        final_output = {\n",
    "            \"Image File\": scene,\n",
    "            \"Image Analysis\": {\n",
    "                **color_analysis_result[\"Color Analysis\"],\n",
    "                **openai_response.get(\"Image Analysis\", {})\n",
    "            }\n",
    "        }\n",
    "\n",
    "        # Save the final output to a JSON file in the specified folder\n",
    "        output_filename = f'scene_{i + 1}_analysis.json'\n",
    "        output_path = os.path.join(json_output_dir, output_filename)\n",
    "\n",
    "        async with aiofiles.open(output_path, 'w') as json_file:\n",
    "            await json_file.write(json.dumps(final_output, indent=4))\n",
    "\n",
    "        pbar.update(1)\n",
    "        print(f\"Analysis for {scene} saved as {output_filename}\")\n",
    "\n",
    "# Helper function to extract scene numbers from filenames\n",
    "def extract_scene_number(filename):\n",
    "    match = re.search(r'\\d+', filename)\n",
    "    return int(match.group()) if match else -1\n",
    "\n",
    "# Main function to process videos and analyze images with progress bar\n",
    "def process_videos_in_directory(directory_path, output_base_dir):\n",
    "    # Get all video files in the directory\n",
    "    video_files = [f for f in os.listdir(directory_path) if f.endswith(('.mp4', '.avi', '.mkv'))]\n",
    "\n",
    "    if not video_files:\n",
    "        print(\"No video files found in the directory.\")\n",
    "        return\n",
    "\n",
    "    # Progress bar for videos\n",
    "    with tqdm(total=len(video_files), desc=\"Processing Videos\", unit=\"video\") as pbar:\n",
    "        for i, video_file in enumerate(video_files):\n",
    "            video_path = os.path.join(directory_path, video_file)\n",
    "            video_name = os.path.splitext(video_file)[0]\n",
    "            \n",
    "            # Create a folder named after the video inside the output_base_dir\n",
    "            video_output_dir = os.path.join(output_base_dir, video_name)\n",
    "            scenes_output_dir = os.path.join(video_output_dir, 'scenes_output')\n",
    "            json_output_dir = os.path.join(video_output_dir, 'json_output')\n",
    "\n",
    "            os.makedirs(scenes_output_dir, exist_ok=True)\n",
    "\n",
    "            print(f\"Processing video {i + 1}/{len(video_files)}: {video_file}\")\n",
    "            \n",
    "            # Analyze the video and extract scenes\n",
    "            scenes = analyze_video(video_path)\n",
    "            extract_frames_imageio(video_path, scenes, scenes_output_dir)\n",
    "\n",
    "            # Analyze all scenes and save the JSON output\n",
    "            asyncio.run(process_scenes_output(scenes_output_dir, json_output_dir))\n",
    "\n",
    "            print(f\"Finished processing video: {video_file}\")\n",
    "            pbar.update(1)\n",
    "\n",
    "# Main script execution\n",
    "video_directory = '/Users/santiagowon/Dropbox/Santiago/01. Maestria/Tesis/02_Video_DB'\n",
    "output_base_directory = '/Users/santiagowon/Dropbox/Santiago/01. Maestria/Tesis/11_Project_Analysed_DB'\n",
    "\n",
    "# Process all videos in the directory\n",
    "process_videos_in_directory(video_directory, output_base_directory)\n",
    "\n",
    "print(\"FINISHED PROCESSING ALL VIDEOS.\")\n"
   ]
  },
  {
   "cell_type": "code",
   "execution_count": null,
   "metadata": {},
   "outputs": [],
   "source": []
  }
 ],
 "metadata": {
  "kernelspec": {
   "display_name": "10_Project",
   "language": "python",
   "name": "python3"
  },
  "language_info": {
   "codemirror_mode": {
    "name": "ipython",
    "version": 3
   },
   "file_extension": ".py",
   "mimetype": "text/x-python",
   "name": "python",
   "nbconvert_exporter": "python",
   "pygments_lexer": "ipython3",
   "version": "3.11.4"
  }
 },
 "nbformat": 4,
 "nbformat_minor": 2
}
