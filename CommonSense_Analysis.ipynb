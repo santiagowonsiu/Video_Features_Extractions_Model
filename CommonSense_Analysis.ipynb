{
 "cells": [
  {
   "cell_type": "code",
   "execution_count": 3,
   "metadata": {},
   "outputs": [
    {
     "name": "stdout",
     "output_type": "stream",
     "text": [
      "Report successfully exported to /Users/santiagowon/Dropbox/Santiago/01. Maestria/Tesis/01_Scrapping_List/age_rating_summary.csv\n"
     ]
    }
   ],
   "source": [
    "import json\n",
    "from collections import defaultdict\n",
    "import pandas as pd\n",
    "\n",
    "# Load the JSON data from the given path\n",
    "file_path = '/Users/santiagowon/Dropbox/Santiago/01. Maestria/Tesis/01_Scrapping_List/detailed_reviews_with_ratings.json'\n",
    "\n",
    "with open(file_path, 'r') as f:\n",
    "    data = json.load(f)\n",
    "\n",
    "# Initialize a dictionary to store the data by age group, label, and rating\n",
    "age_label_summary = defaultdict(lambda: defaultdict(lambda: defaultdict(list)))\n",
    "\n",
    "# Process each show and group descriptions by label and rating for all age groups\n",
    "for show in data:\n",
    "    age_rating = show['age_rating']  # e.g., 'age 6+'\n",
    "    \n",
    "    for detail in show['details']:\n",
    "        label = detail['label']\n",
    "        rating = detail['rating']\n",
    "        description = detail['description']\n",
    "        \n",
    "        # Group descriptions by label and rating for each age group\n",
    "        age_label_summary[age_rating][label][rating].append(description)\n",
    "\n",
    "# Prepare the data for CSV export\n",
    "report_data = []\n",
    "\n",
    "for age_rating, labels in age_label_summary.items():\n",
    "    for label, ratings in labels.items():\n",
    "        for rating, descriptions in ratings.items():\n",
    "            report_data.append({\n",
    "                'Age Rating': age_rating,\n",
    "                'Label': label,\n",
    "                'Rating': rating,\n",
    "                'Number of Descriptions': len(descriptions),\n",
    "                'Descriptions': \"; \".join(descriptions)  # Joining descriptions for readability\n",
    "            })\n",
    "\n",
    "# Convert the data to a pandas DataFrame\n",
    "df_report = pd.DataFrame(report_data)\n",
    "\n",
    "# Export the DataFrame to a CSV file\n",
    "output_path = '/Users/santiagowon/Dropbox/Santiago/01. Maestria/Tesis/01_Scrapping_List/age_rating_summary.csv'\n",
    "df_report.to_csv(output_path, index=False)\n",
    "\n",
    "print(f\"Report successfully exported to {output_path}\")\n"
   ]
  },
  {
   "cell_type": "code",
   "execution_count": null,
   "metadata": {},
   "outputs": [],
   "source": []
  }
 ],
 "metadata": {
  "kernelspec": {
   "display_name": "10_Project",
   "language": "python",
   "name": "python3"
  },
  "language_info": {
   "codemirror_mode": {
    "name": "ipython",
    "version": 3
   },
   "file_extension": ".py",
   "mimetype": "text/x-python",
   "name": "python",
   "nbconvert_exporter": "python",
   "pygments_lexer": "ipython3",
   "version": "3.11.4"
  }
 },
 "nbformat": 4,
 "nbformat_minor": 2
}
